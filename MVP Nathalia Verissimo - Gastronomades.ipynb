{
 "cells": [
  {
   "cell_type": "markdown",
   "metadata": {
    "application/vnd.databricks.v1+cell": {
     "cellMetadata": {
      "byteLimit": 2048000,
      "rowLimit": 10000
     },
     "inputWidgets": {},
     "nuid": "5f323315-8823-43ba-8569-bb7844b6a333",
     "showTitle": false,
     "tableResultSettingsMap": {},
     "title": ""
    }
   },
   "source": [
    "# 1. Introdução\n",
    "Esta seção tem como objetivo preparar e organizar o ambiente em que o MVP será construído, isto é, definir as bibliotecas necessárias, eventuais funções que precisem ser construídas e estruturar o ambiente onde os dados serão armazenados."
   ]
  },
  {
   "cell_type": "markdown",
   "metadata": {
    "application/vnd.databricks.v1+cell": {
     "cellMetadata": {
      "byteLimit": 2048000,
      "rowLimit": 10000
     },
     "inputWidgets": {},
     "nuid": "98ac368a-c68b-42fd-87de-d90dedf9b1d9",
     "showTitle": false,
     "tableResultSettingsMap": {},
     "title": ""
    }
   },
   "source": [
    "## 1.1 Bibliotecas"
   ]
  },
  {
   "cell_type": "code",
   "execution_count": 0,
   "metadata": {
    "application/vnd.databricks.v1+cell": {
     "cellMetadata": {
      "byteLimit": 2048000,
      "rowLimit": 10000
     },
     "inputWidgets": {},
     "nuid": "ce52aaf1-12d2-4da8-8983-545eab2e4e4d",
     "showTitle": false,
     "tableResultSettingsMap": {},
     "title": ""
    }
   },
   "outputs": [],
   "source": [
    "# Bibliotecas utilizadas ao longo do trabalho\n",
    "\n",
    "import pandas as pd\n",
    "import glob\n",
    "import os\n",
    "\n",
    "from pyspark.sql.functions import lit #sql functions"
   ]
  },
  {
   "cell_type": "markdown",
   "metadata": {
    "application/vnd.databricks.v1+cell": {
     "cellMetadata": {
      "byteLimit": 2048000,
      "rowLimit": 10000
     },
     "inputWidgets": {},
     "nuid": "af75f355-b4dc-4eb9-9e07-8cf92e7d7f7d",
     "showTitle": false,
     "tableResultSettingsMap": {},
     "title": ""
    }
   },
   "source": [
    "## 1.2 Funções"
   ]
  },
  {
   "cell_type": "code",
   "execution_count": 0,
   "metadata": {
    "application/vnd.databricks.v1+cell": {
     "cellMetadata": {
      "byteLimit": 2048000,
      "rowLimit": 10000
     },
     "inputWidgets": {},
     "nuid": "6691ff6c-e3c9-4f81-8210-b30c511ba4f1",
     "showTitle": false,
     "tableResultSettingsMap": {},
     "title": ""
    }
   },
   "outputs": [],
   "source": [
    "# Funções utilizadas ao longo do trabalho\n",
    "\n"
   ]
  },
  {
   "cell_type": "markdown",
   "metadata": {
    "application/vnd.databricks.v1+cell": {
     "cellMetadata": {
      "byteLimit": 2048000,
      "rowLimit": 10000
     },
     "inputWidgets": {},
     "nuid": "93f00664-a852-4a56-a1ef-652da649ee9b",
     "showTitle": false,
     "tableResultSettingsMap": {},
     "title": ""
    }
   },
   "source": [
    "\n",
    "Significado das funções em pyspark:\n",
    "\n",
    "- LIT: permite adicionar valores constantes a um dataframe. É útil quando precisamos adicionar uma coluna fixa a um dataframe."
   ]
  },
  {
   "cell_type": "markdown",
   "metadata": {
    "application/vnd.databricks.v1+cell": {
     "cellMetadata": {
      "byteLimit": 2048000,
      "rowLimit": 10000
     },
     "inputWidgets": {},
     "nuid": "706ebdd0-c9ff-4dc9-9c1a-575d83c503b1",
     "showTitle": false,
     "tableResultSettingsMap": {},
     "title": ""
    }
   },
   "source": [
    "## 1.3 Preparação do ambiente\n",
    "Neste MVP, pretendo simular um ambiente com arquitetura em camadas, sendo elas:\n",
    "\n",
    "- Stage: armazenamento dos dados brutos (camada obrigatória)\n",
    "- Intermediate: armazenamento de dados parcialmente tratados e eventualmente relacionados (camada opcional)\n",
    "- Data Warehouse: armazenamento de dados em modelagem Star Schema (camada obrigatória)"
   ]
  },
  {
   "cell_type": "code",
   "execution_count": 0,
   "metadata": {
    "application/vnd.databricks.v1+cell": {
     "cellMetadata": {
      "byteLimit": 2048000,
      "implicitDf": true,
      "rowLimit": 10000
     },
     "inputWidgets": {},
     "nuid": "4ba2397d-c46b-4899-a8c3-0ce343401624",
     "showTitle": false,
     "tableResultSettingsMap": {},
     "title": ""
    }
   },
   "outputs": [
    {
     "output_type": "display_data",
     "data": {
      "text/html": [
       "<style scoped>\n",
       "  .table-result-container {\n",
       "    max-height: 300px;\n",
       "    overflow: auto;\n",
       "  }\n",
       "  table, th, td {\n",
       "    border: 1px solid black;\n",
       "    border-collapse: collapse;\n",
       "  }\n",
       "  th, td {\n",
       "    padding: 5px;\n",
       "  }\n",
       "  th {\n",
       "    text-align: left;\n",
       "  }\n",
       "</style><div class='table-result-container'><table class='table-result'><thead style='background-color: white'><tr><th>databaseName</th></tr></thead><tbody><tr><td>datawarehouse</td></tr><tr><td>default</td></tr><tr><td>intermediate</td></tr><tr><td>stage</td></tr></tbody></table></div>"
      ]
     },
     "metadata": {
      "application/vnd.databricks.v1+output": {
       "addedWidgets": {},
       "aggData": [],
       "aggError": "",
       "aggOverflow": false,
       "aggSchema": [],
       "aggSeriesLimitReached": false,
       "aggType": "",
       "arguments": {},
       "columnCustomDisplayInfos": {},
       "data": [
        [
         "datawarehouse"
        ],
        [
         "default"
        ],
        [
         "intermediate"
        ],
        [
         "stage"
        ]
       ],
       "datasetInfos": [],
       "dbfsResultPath": null,
       "isJsonSchema": true,
       "metadata": {},
       "overflow": false,
       "plotOptions": {
        "customPlotOptions": {},
        "displayType": "table",
        "pivotAggregation": null,
        "pivotColumns": null,
        "xColumns": null,
        "yColumns": null
       },
       "removedWidgets": [],
       "schema": [
        {
         "metadata": "{}",
         "name": "databaseName",
         "type": "\"string\""
        }
       ],
       "type": "table"
      }
     },
     "output_type": "display_data"
    }
   ],
   "source": [
    "%sql\n",
    "-- Criação das camadas da arquitetura\n",
    "\n",
    "create database if not exists stage;          -- ambiente para armazenar os dados brutos\n",
    "create database if not exists intermediate;   -- ambiente para armazenar os dados parcialmente tratados\n",
    "create database if not exists datawarehouse;  -- ambiente para armazenar os dados modelados entre fatos e dimensões\n",
    "\n",
    "show databases;"
   ]
  },
  {
   "cell_type": "code",
   "execution_count": 0,
   "metadata": {
    "application/vnd.databricks.v1+cell": {
     "cellMetadata": {
      "byteLimit": 2048000,
      "implicitDf": true,
      "rowLimit": 10000
     },
     "inputWidgets": {},
     "nuid": "8f04e98a-ee67-4c2f-ae5e-746dd051fece",
     "showTitle": false,
     "tableResultSettingsMap": {},
     "title": ""
    }
   },
   "outputs": [
    {
     "output_type": "display_data",
     "data": {
      "text/html": [
       "<style scoped>\n",
       "  .table-result-container {\n",
       "    max-height: 300px;\n",
       "    overflow: auto;\n",
       "  }\n",
       "  table, th, td {\n",
       "    border: 1px solid black;\n",
       "    border-collapse: collapse;\n",
       "  }\n",
       "  th, td {\n",
       "    padding: 5px;\n",
       "  }\n",
       "  th {\n",
       "    text-align: left;\n",
       "  }\n",
       "</style><div class='table-result-container'><table class='table-result'><thead style='background-color: white'><tr><th>database</th><th>tableName</th><th>isTemporary</th></tr></thead><tbody><tr><td></td><td>vw_gastronomades_data_history</td><td>true</td></tr><tr><td></td><td>vw_youtube_202211</td><td>true</td></tr><tr><td></td><td>vw_youtube_202212</td><td>true</td></tr><tr><td></td><td>vw_youtube_202301</td><td>true</td></tr><tr><td></td><td>vw_youtube_202302</td><td>true</td></tr><tr><td></td><td>vw_youtube_202303</td><td>true</td></tr><tr><td></td><td>vw_youtube_202304</td><td>true</td></tr><tr><td></td><td>vw_youtube_202305</td><td>true</td></tr><tr><td></td><td>vw_youtube_202306</td><td>true</td></tr><tr><td></td><td>vw_youtube_202307</td><td>true</td></tr><tr><td></td><td>vw_youtube_202308</td><td>true</td></tr><tr><td></td><td>vw_youtube_202309</td><td>true</td></tr><tr><td></td><td>vw_youtube_202310</td><td>true</td></tr><tr><td></td><td>vw_youtube_202311</td><td>true</td></tr><tr><td></td><td>vw_youtube_202312</td><td>true</td></tr><tr><td></td><td>vw_youtube_202401</td><td>true</td></tr><tr><td></td><td>vw_youtube_202402</td><td>true</td></tr><tr><td></td><td>vw_youtube_202403</td><td>true</td></tr><tr><td></td><td>vw_youtube_202404</td><td>true</td></tr><tr><td></td><td>vw_youtube_202405</td><td>true</td></tr><tr><td></td><td>vw_youtube_202406</td><td>true</td></tr><tr><td></td><td>vw_youtube_202407</td><td>true</td></tr><tr><td></td><td>vw_youtube_202408</td><td>true</td></tr><tr><td></td><td>vw_youtube_202409</td><td>true</td></tr><tr><td></td><td>vw_youtube_202410</td><td>true</td></tr><tr><td></td><td>vw_youtube_202411</td><td>true</td></tr><tr><td></td><td>vw_youtube_202412</td><td>true</td></tr><tr><td></td><td>vw_youtube_202501</td><td>true</td></tr><tr><td></td><td>vw_youtube_202502</td><td>true</td></tr><tr><td></td><td>vw_youtube_202503</td><td>true</td></tr><tr><td></td><td>vw_youtube_202504</td><td>true</td></tr></tbody></table></div>"
      ]
     },
     "metadata": {
      "application/vnd.databricks.v1+output": {
       "addedWidgets": {},
       "aggData": [],
       "aggError": "",
       "aggOverflow": false,
       "aggSchema": [],
       "aggSeriesLimitReached": false,
       "aggType": "",
       "arguments": {},
       "columnCustomDisplayInfos": {},
       "data": [
        [
         "",
         "vw_gastronomades_data_history",
         true
        ],
        [
         "",
         "vw_youtube_202211",
         true
        ],
        [
         "",
         "vw_youtube_202212",
         true
        ],
        [
         "",
         "vw_youtube_202301",
         true
        ],
        [
         "",
         "vw_youtube_202302",
         true
        ],
        [
         "",
         "vw_youtube_202303",
         true
        ],
        [
         "",
         "vw_youtube_202304",
         true
        ],
        [
         "",
         "vw_youtube_202305",
         true
        ],
        [
         "",
         "vw_youtube_202306",
         true
        ],
        [
         "",
         "vw_youtube_202307",
         true
        ],
        [
         "",
         "vw_youtube_202308",
         true
        ],
        [
         "",
         "vw_youtube_202309",
         true
        ],
        [
         "",
         "vw_youtube_202310",
         true
        ],
        [
         "",
         "vw_youtube_202311",
         true
        ],
        [
         "",
         "vw_youtube_202312",
         true
        ],
        [
         "",
         "vw_youtube_202401",
         true
        ],
        [
         "",
         "vw_youtube_202402",
         true
        ],
        [
         "",
         "vw_youtube_202403",
         true
        ],
        [
         "",
         "vw_youtube_202404",
         true
        ],
        [
         "",
         "vw_youtube_202405",
         true
        ],
        [
         "",
         "vw_youtube_202406",
         true
        ],
        [
         "",
         "vw_youtube_202407",
         true
        ],
        [
         "",
         "vw_youtube_202408",
         true
        ],
        [
         "",
         "vw_youtube_202409",
         true
        ],
        [
         "",
         "vw_youtube_202410",
         true
        ],
        [
         "",
         "vw_youtube_202411",
         true
        ],
        [
         "",
         "vw_youtube_202412",
         true
        ],
        [
         "",
         "vw_youtube_202501",
         true
        ],
        [
         "",
         "vw_youtube_202502",
         true
        ],
        [
         "",
         "vw_youtube_202503",
         true
        ],
        [
         "",
         "vw_youtube_202504",
         true
        ]
       ],
       "datasetInfos": [],
       "dbfsResultPath": null,
       "isJsonSchema": true,
       "metadata": {},
       "overflow": false,
       "plotOptions": {
        "customPlotOptions": {},
        "displayType": "table",
        "pivotAggregation": null,
        "pivotColumns": null,
        "xColumns": null,
        "yColumns": null
       },
       "removedWidgets": [],
       "schema": [
        {
         "metadata": "{}",
         "name": "database",
         "type": "\"string\""
        },
        {
         "metadata": "{}",
         "name": "tableName",
         "type": "\"string\""
        },
        {
         "metadata": "{}",
         "name": "isTemporary",
         "type": "\"boolean\""
        }
       ],
       "type": "table"
      }
     },
     "output_type": "display_data"
    }
   ],
   "source": [
    "%sql\n",
    "-- Exibição das tabelas nas camadas criadas\n",
    "\n",
    "-- show tables in stage;\n",
    "-- show tables in intermediate;\n",
    "show tables in datawarehouse;\n"
   ]
  },
  {
   "cell_type": "markdown",
   "metadata": {
    "application/vnd.databricks.v1+cell": {
     "cellMetadata": {
      "byteLimit": 2048000,
      "rowLimit": 10000
     },
     "inputWidgets": {},
     "nuid": "c947395a-c885-4372-a039-06c8f66fd015",
     "showTitle": false,
     "tableResultSettingsMap": {},
     "title": ""
    }
   },
   "source": [
    "# 2. Contextualização do problema\n",
    "Nesta seção, faremos a contextualização do problema que desejamos resolver com este MVP, bem como seu objetivo e eventuais perguntas de interesse que gostaríamos de responder."
   ]
  },
  {
   "cell_type": "markdown",
   "metadata": {
    "application/vnd.databricks.v1+cell": {
     "cellMetadata": {
      "byteLimit": 2048000,
      "rowLimit": 10000
     },
     "inputWidgets": {},
     "nuid": "bfded7fc-90c4-4268-aea8-13ae54cd37bc",
     "showTitle": false,
     "tableResultSettingsMap": {},
     "title": ""
    }
   },
   "source": [
    "\n",
    "## 2.1 Objetivo\n",
    "\n",
    "Este MVP tem como objetivo realizar uma análise histórica dos dados do **Gastronomades**, um dos meus canais do YouTube, a fim de compreender o desempenho do canal através de métricas disponibilizadas pelo próprio **YouTube Analytics**, que é a ferramenta oficial da plataforma para monitoramento de dados.\n",
    "\n",
    "O propósito é que consigamos obter insights sobre o crescimento do canal, o impacto dos vídeos e a efetividade das estratégias de conteúdo aplicadas em **outubro de 2024**.\n",
    "\n",
    "Em setembro de 2024, tomamos a decisão de **excluir um vídeo** que acreditávamos estar distorcendo as métricas por se tratar de um conteúdo muito diferente do que normalmente criamos para o canal. Além disso, **aprimoramos a qualidade dos vídeos**, tanto na roteirização quanto no estilo de edição, incluindo melhorias na estrutura das _thumbnails_, transições mais refinadas, padronização de _placeholders_, escolha consistente de fontes e letras, além da criação de uma paleta de cores específica para fortalecer a identidade visual do canal.\n",
    "\n",
    "Portanto, este MVP também busca avaliar se essas mudanças **impactaram positivamente o nosso canal**, analisando se os vídeos publicados após esse período apresentaram melhores resultados em comparação aos anteriores."
   ]
  },
  {
   "cell_type": "markdown",
   "metadata": {
    "application/vnd.databricks.v1+cell": {
     "cellMetadata": {
      "byteLimit": 2048000,
      "rowLimit": 10000
     },
     "inputWidgets": {},
     "nuid": "1db636dc-1614-4086-99da-aec27e4f48d0",
     "showTitle": false,
     "tableResultSettingsMap": {},
     "title": ""
    }
   },
   "source": [
    "## 2.2 Perguntas de interesse\n",
    "\n",
    "A análise dos dados do **Gastronomades** será guiada pelas seguintes perguntas:\n",
    "\n",
    "#### 🎥 Vídeos  \n",
    "- Quantos vídeos o canal possui atualmente?  \n",
    "- Quantos vídeos do tipo \"short\" o canal possui atalmente?\n",
    "- Quantos vídeos de longa duração o canal possui atalmente?\n",
    "- Quantos vídeos foram postados por período (exceto hoje)?  \n",
    "- Qual o tempo médio de visualização por vídeo atualmente?  \n",
    "- Qual o tempo médio de visualização por período?  \n",
    "- Quais vídeos têm o maior tempo de retenção?  \n",
    "\n",
    "#### 📋 Playlists  \n",
    "- Quantas playlists o canal possui atualmente?  \n",
    "- Quais playlists possuem mais vídeos?  \n",
    "- Existe alguma relação entre a organização dos vídeos em playlists e o número de visualizações?  \n",
    "\n",
    "#### 👥 Inscritos  \n",
    "- Qual o número de inscritos do canal por período?  \n",
    "- Qual vídeo gerou o maior número de inscritos até o momento?  \n",
    "- Houve aumento na taxa de inscritos após a exclusão do vídeo e a implementação das novas estratégias?  \n",
    "\n",
    "### 👍 Curtidas  \n",
    "- Qual o número médio de likes por vídeo?  \n",
    "- Qual a taxa média de likes por vídeo?  \n",
    "- Qual vídeo possui a maior taxa média de likes?  \n",
    "- A melhoria na qualidade e identidade visual dos vídeos impactou no número de curtidas?  \n",
    "\n",
    "#### 👀 Impressões e Cliques  \n",
    "- Qual o número de impressões por período?  \n",
    "- Qual o número médio de impressões por vídeo?  \n",
    "- Quais vídeos têm tido maior número de impressões?  \n",
    "- Qual a taxa de cliques (_CTR - Click Through Rate_) por período?  \n",
    "- Qual é a taxa média de cliques por vídeo?  \n",
    "- Quais vídeos têm tido a maior taxa de cliques?  \n",
    "- A mudança no design das _thumbnails_ impactou a taxa de cliques?  \n",
    "\n",
    "#### 💰 Receita  \n",
    "- Qual a receita do canal por período?  \n",
    "- Qual vídeo gerou a maior fonte de receita no período?  \n",
    "- Qual a receita média por vídeo do canal?  \n",
    "- Qual é a RPM (Receita por cada 1000 visualizações) média do canal?  \n",
    "- Quais vídeos têm tido maior RPM?  \n",
    "- Houve aumento na receita após a exclusão do vídeo e a adoção das novas estratégias?  \n",
    "\n",
    "#### ⏳ Tempo de visualização  \n",
    "- Qual o tempo médio de visualização por vídeo atualmente?  \n",
    "- Qual o tempo médio de visualização por período?  \n",
    "- Quais vídeos têm tido maior tempo de visualização atualmente?  \n",
    "- Houve impacto na retenção de público com as novas estratégias?  \n",
    "\n",
    "### 📆 Períodos de análise  \n",
    "Os dados serão analisados considerando diferentes recortes temporais para entender melhor a evolução do canal:  \n",
    "- Hoje  \n",
    "- Mês anterior \n",
    "- Últimos 3 meses  \n",
    "- Todo o período de dados disponível  \n"
   ]
  },
  {
   "cell_type": "markdown",
   "metadata": {
    "application/vnd.databricks.v1+cell": {
     "cellMetadata": {
      "byteLimit": 2048000,
      "rowLimit": 10000
     },
     "inputWidgets": {},
     "nuid": "a2ef3c33-ddfa-4d53-a632-62ea188622ab",
     "showTitle": false,
     "tableResultSettingsMap": {},
     "title": ""
    }
   },
   "source": [
    "## 2.3 Obtenção dos Dados  \n",
    "\n",
    "Para este MVP, os dados foram extraídos manualmente do **YouTube Analytics** em formato **CSV**. Esse método foi escolhido devido à sua praticidade e rapidez na obtenção das informações necessárias para a análise.  \n",
    "\n",
    "Entretanto, o objetivo futuro é evoluir este projeto para que os dados sejam consumidos diretamente da **API do YouTube**, permitindo assim uma integração automatizada e em tempo real, o que possibilitará análises mais dinâmicas e atualizadas de forma contínua.  \n",
    "\n",
    "Foram extraídos dados desde a criação do canal, isto é, entre novembro de 2022 e março de 2025, no entanto, para esta primeira versão consideraremos apenas o período dos últimos 12 meses fechados."
   ]
  },
  {
   "cell_type": "markdown",
   "metadata": {
    "application/vnd.databricks.v1+cell": {
     "cellMetadata": {
      "byteLimit": 2048000,
      "rowLimit": 10000
     },
     "inputWidgets": {},
     "nuid": "3bf0365a-de61-4f02-be1e-150d695a6a21",
     "showTitle": false,
     "tableResultSettingsMap": {},
     "title": ""
    }
   },
   "source": [
    "# 3. ETL dos dados\n",
    "Esta seção tem como objetivo preparar e organizar o ambiente em que o MVP será construído, isto é, definir as bibliotecas necessárias, eventuais funções que precisem ser construídas e estruturar o ambiente onde os dados serão armazenados."
   ]
  },
  {
   "cell_type": "markdown",
   "metadata": {
    "application/vnd.databricks.v1+cell": {
     "cellMetadata": {
      "byteLimit": 2048000,
      "rowLimit": 10000
     },
     "inputWidgets": {},
     "nuid": "0654278d-1a74-4117-b161-1e87be15f57b",
     "showTitle": false,
     "tableResultSettingsMap": {},
     "title": ""
    }
   },
   "source": [
    "### 3.1 DBFS\n",
    "Aqui, faremos a validação dos diretórios do DataBricks File System (DBFS) a fim de inspecionar eventuais duplicidades de arquivos."
   ]
  },
  {
   "cell_type": "code",
   "execution_count": 0,
   "metadata": {
    "application/vnd.databricks.v1+cell": {
     "cellMetadata": {
      "byteLimit": 2048000,
      "rowLimit": 10000
     },
     "inputWidgets": {},
     "nuid": "61930db5-5cc9-4a79-a343-48a43d20ec80",
     "showTitle": false,
     "tableResultSettingsMap": {},
     "title": ""
    }
   },
   "outputs": [
    {
     "output_type": "stream",
     "name": "stdout",
     "output_type": "stream",
     "text": [
      "Out[1]: True"
     ]
    }
   ],
   "source": [
    "# DataBricks File System\n",
    "\n",
    "# Lista conteúdo de diretórios\n",
    "#dbutils.fs.ls('/')                                                 #lista o conteúdo do diretório raiz do DBFS\n",
    "#dbutils.fs.ls('/FileStore')                                         #lista o conteúdo do diretório FileStore\n",
    "\n",
    "# Exclui um diretório e seu conteúdo (recursivamente)\n",
    "#dbutils.fs.rm('dbfs:/FileStore/shared_uploads/', recurse=True)    #deleta os arquivos do diretório em questão\n",
    "dbutils.fs.rm('/FileStore/puc_rio/mvp_engenharia_de_dados/202504_kpis.csv', recurse=False)    #excluir um arquivo específico\n",
    "dbutils.fs.rm('/FileStore/puc_rio/mvp_engenharia_de_dados/202504_kpis-1.csv', recurse=False)    #excluir um arquivo específico\n",
    "dbutils.fs.rm('/FileStore/puc_rio/mvp_engenharia_de_dados/202504_kpis-2.csv', recurse=False)    #excluir um arquivo específico\n",
    "dbutils.fs.rm('/FileStore/puc_rio/mvp_engenharia_de_dados/202503_kpis.csv', recurse=False)    #excluir um arquivo específico\n",
    "\n"
   ]
  },
  {
   "cell_type": "code",
   "execution_count": 0,
   "metadata": {
    "application/vnd.databricks.v1+cell": {
     "cellMetadata": {
      "byteLimit": 2048000,
      "rowLimit": 10000
     },
     "inputWidgets": {},
     "nuid": "f0862d22-f6be-4cbd-a0f7-d75cccfe5879",
     "showTitle": false,
     "tableResultSettingsMap": {},
     "title": ""
    }
   },
   "outputs": [],
   "source": [
    "# DataBricks File System\n",
    "\n",
    "# Remove todos os arquivos do diretório\n",
    "\n",
    "files = dbutils.fs.ls(\"dbfs:/FileStore/puc_rio/mvp_engenharia_de_dados/\")\n",
    "\n",
    "for file in files:\n",
    "    if file.name.endswith(\".csv\"):\n",
    "        dbutils.fs.rm(file.path)\n"
   ]
  },
  {
   "cell_type": "code",
   "execution_count": 0,
   "metadata": {
    "application/vnd.databricks.v1+cell": {
     "cellMetadata": {
      "byteLimit": 2048000,
      "rowLimit": 10000
     },
     "inputWidgets": {},
     "nuid": "9c4cd5d9-e74b-4ec8-aeec-77b24eb62833",
     "showTitle": false,
     "tableResultSettingsMap": {},
     "title": ""
    }
   },
   "outputs": [
    {
     "output_type": "stream",
     "name": "stdout",
     "output_type": "stream",
     "text": [
      "Out[3]: [FileInfo(path='dbfs:/FileStore/puc_rio/mvp_engenharia_de_dados/', name='mvp_engenharia_de_dados/', size=0, modificationTime=0)]"
     ]
    }
   ],
   "source": [
    "#checa \n",
    "\n",
    "#dbutils.fs.ls('/FileStore')  \n",
    "dbutils.fs.ls('/FileStore/puc_rio') "
   ]
  },
  {
   "cell_type": "markdown",
   "metadata": {
    "application/vnd.databricks.v1+cell": {
     "cellMetadata": {
      "byteLimit": 2048000,
      "rowLimit": 10000
     },
     "inputWidgets": {},
     "nuid": "8f076178-1af4-4665-a819-c05102a1944f",
     "showTitle": false,
     "tableResultSettingsMap": {},
     "title": ""
    }
   },
   "source": [
    "### 3.2 Input\n",
    "Como mencionado anteriormente, os dados foram extraídos manualmente do YouTube Analytics em formato CSV. Dessa forma, após realizarmos o armazenamento dos arquivos mensais no DBFS, faremos a leitura de cada um deles para posterior armazenamento em dataframes via Spark. Uma vez que os dados tenham sido materializados, criaremos views temporárias para cada um dos arquivos a fim de conseguirmos manipulá-los em SQL. \n"
   ]
  },
  {
   "cell_type": "code",
   "execution_count": 0,
   "metadata": {
    "application/vnd.databricks.v1+cell": {
     "cellMetadata": {
      "byteLimit": 2048000,
      "rowLimit": 10000
     },
     "inputWidgets": {},
     "nuid": "e3798143-3c3d-4af6-a428-96853d35d7c2",
     "showTitle": false,
     "tableResultSettingsMap": {},
     "title": ""
    }
   },
   "outputs": [],
   "source": [
    "# Armazena o conteúdo dos arquivos csv em dataframes via Spark\n",
    "\n",
    "#2022\n",
    "youtube_202211 = spark.read.format(\"csv\").option(\"header\", \"true\").load(\"dbfs:/FileStore/puc_rio/mvp_engenharia_de_dados/202211_kpis.csv\")\n",
    "youtube_202212 = spark.read.format(\"csv\").option(\"header\", \"true\").load(\"dbfs:/FileStore/puc_rio/mvp_engenharia_de_dados/202212_kpis.csv\")\n",
    "\n",
    "#2023\n",
    "youtube_202301 = spark.read.format(\"csv\").option(\"header\", \"true\").load(\"dbfs:/FileStore/puc_rio/mvp_engenharia_de_dados/202301_kpis.csv\")\n",
    "youtube_202302 = spark.read.format(\"csv\").option(\"header\", \"true\").load(\"dbfs:/FileStore/puc_rio/mvp_engenharia_de_dados/202302_kpis.csv\")\n",
    "youtube_202303 = spark.read.format(\"csv\").option(\"header\", \"true\").load(\"dbfs:/FileStore/puc_rio/mvp_engenharia_de_dados/202303_kpis.csv\")\n",
    "youtube_202304 = spark.read.format(\"csv\").option(\"header\", \"true\").load(\"dbfs:/FileStore/puc_rio/mvp_engenharia_de_dados/202304_kpis.csv\")\n",
    "youtube_202305 = spark.read.format(\"csv\").option(\"header\", \"true\").load(\"dbfs:/FileStore/puc_rio/mvp_engenharia_de_dados/202305_kpis.csv\")\n",
    "youtube_202306 = spark.read.format(\"csv\").option(\"header\", \"true\").load(\"dbfs:/FileStore/puc_rio/mvp_engenharia_de_dados/202306_kpis.csv\")\n",
    "youtube_202307 = spark.read.format(\"csv\").option(\"header\", \"true\").load(\"dbfs:/FileStore/puc_rio/mvp_engenharia_de_dados/202307_kpis.csv\")\n",
    "youtube_202308 = spark.read.format(\"csv\").option(\"header\", \"true\").load(\"dbfs:/FileStore/puc_rio/mvp_engenharia_de_dados/202308_kpis.csv\")\n",
    "youtube_202309 = spark.read.format(\"csv\").option(\"header\", \"true\").load(\"dbfs:/FileStore/puc_rio/mvp_engenharia_de_dados/202309_kpis.csv\")\n",
    "youtube_202310 = spark.read.format(\"csv\").option(\"header\", \"true\").load(\"dbfs:/FileStore/puc_rio/mvp_engenharia_de_dados/202310_kpis.csv\")\n",
    "youtube_202311 = spark.read.format(\"csv\").option(\"header\", \"true\").load(\"dbfs:/FileStore/puc_rio/mvp_engenharia_de_dados/202311_kpis.csv\")\n",
    "youtube_202312 = spark.read.format(\"csv\").option(\"header\", \"true\").load(\"dbfs:/FileStore/puc_rio/mvp_engenharia_de_dados/202312_kpis.csv\")\n",
    "\n",
    "#2024\n",
    "youtube_202401 = spark.read.format(\"csv\").option(\"header\", \"true\").load(\"dbfs:/FileStore/puc_rio/mvp_engenharia_de_dados/202401_kpis.csv\")\n",
    "youtube_202402 = spark.read.format(\"csv\").option(\"header\", \"true\").load(\"dbfs:/FileStore/puc_rio/mvp_engenharia_de_dados/202402_kpis.csv\")\n",
    "youtube_202403 = spark.read.format(\"csv\").option(\"header\", \"true\").load(\"dbfs:/FileStore/puc_rio/mvp_engenharia_de_dados/202403_kpis.csv\")\n",
    "youtube_202404 = spark.read.format(\"csv\").option(\"header\", \"true\").load(\"dbfs:/FileStore/puc_rio/mvp_engenharia_de_dados/202404_kpis.csv\")\n",
    "youtube_202405 = spark.read.format(\"csv\").option(\"header\", \"true\").load(\"dbfs:/FileStore/puc_rio/mvp_engenharia_de_dados/202405_kpis.csv\")\n",
    "youtube_202406 = spark.read.format(\"csv\").option(\"header\", \"true\").load(\"dbfs:/FileStore/puc_rio/mvp_engenharia_de_dados/202406_kpis.csv\")\n",
    "youtube_202407 = spark.read.format(\"csv\").option(\"header\", \"true\").load(\"dbfs:/FileStore/puc_rio/mvp_engenharia_de_dados/202407_kpis.csv\")\n",
    "youtube_202408 = spark.read.format(\"csv\").option(\"header\", \"true\").load(\"dbfs:/FileStore/puc_rio/mvp_engenharia_de_dados/202408_kpis.csv\")\n",
    "youtube_202409 = spark.read.format(\"csv\").option(\"header\", \"true\").load(\"dbfs:/FileStore/puc_rio/mvp_engenharia_de_dados/202409_kpis.csv\")\n",
    "youtube_202410 = spark.read.format(\"csv\").option(\"header\", \"true\").load(\"dbfs:/FileStore/puc_rio/mvp_engenharia_de_dados/202410_kpis.csv\")\n",
    "youtube_202411 = spark.read.format(\"csv\").option(\"header\", \"true\").load(\"dbfs:/FileStore/puc_rio/mvp_engenharia_de_dados/202411_kpis.csv\")\n",
    "youtube_202412 = spark.read.format(\"csv\").option(\"header\", \"true\").load(\"dbfs:/FileStore/puc_rio/mvp_engenharia_de_dados/202412_kpis.csv\")\n",
    "\n",
    "#2025\n",
    "youtube_202501 = spark.read.format(\"csv\").option(\"header\", \"true\").load(\"dbfs:/FileStore/puc_rio/mvp_engenharia_de_dados/202501_kpis.csv\")\n",
    "youtube_202502 = spark.read.format(\"csv\").option(\"header\", \"true\").load(\"dbfs:/FileStore/puc_rio/mvp_engenharia_de_dados/202502_kpis.csv\")\n",
    "youtube_202503 = spark.read.format(\"csv\").option(\"header\", \"true\").load(\"dbfs:/FileStore/puc_rio/mvp_engenharia_de_dados/202503_kpis.csv\")\n",
    "youtube_202504 = spark.read.format(\"csv\").option(\"header\", \"true\").load(\"dbfs:/FileStore/puc_rio/mvp_engenharia_de_dados/202504_kpis.csv\")\n",
    "\n",
    "#Hoje\n"
   ]
  },
  {
   "cell_type": "code",
   "execution_count": 0,
   "metadata": {
    "application/vnd.databricks.v1+cell": {
     "cellMetadata": {
      "byteLimit": 2048000,
      "rowLimit": 10000
     },
     "inputWidgets": {},
     "nuid": "911211dd-51ee-4ca3-9dd0-fb80807accb7",
     "showTitle": false,
     "tableResultSettingsMap": {},
     "title": ""
    }
   },
   "outputs": [],
   "source": [
    "# Prepara os dados para serem tratados em SQL\n",
    "# No DataBricks, para rodar queries em SQL é necessário que os dados sejam tabelas registradas no metastore OU uma view temporária\n",
    "\n",
    "# Constrói views temporárias para posteriormente armazená-las na camada stage\n",
    "\n",
    "#2022\n",
    "youtube_202211.createOrReplaceTempView(\"vw_youtube_202211\")\n",
    "youtube_202212.createOrReplaceTempView(\"vw_youtube_202212\")\n",
    "\n",
    "#2023\n",
    "youtube_202301.createOrReplaceTempView(\"vw_youtube_202301\")\n",
    "youtube_202302.createOrReplaceTempView(\"vw_youtube_202302\")\n",
    "youtube_202303.createOrReplaceTempView(\"vw_youtube_202303\")\n",
    "youtube_202304.createOrReplaceTempView(\"vw_youtube_202304\")\n",
    "youtube_202305.createOrReplaceTempView(\"vw_youtube_202305\")\n",
    "youtube_202306.createOrReplaceTempView(\"vw_youtube_202306\")\n",
    "youtube_202307.createOrReplaceTempView(\"vw_youtube_202307\")\n",
    "youtube_202308.createOrReplaceTempView(\"vw_youtube_202308\")\n",
    "youtube_202309.createOrReplaceTempView(\"vw_youtube_202309\")\n",
    "youtube_202310.createOrReplaceTempView(\"vw_youtube_202310\")\n",
    "youtube_202311.createOrReplaceTempView(\"vw_youtube_202311\")\n",
    "youtube_202312.createOrReplaceTempView(\"vw_youtube_202312\")\n",
    "\n",
    "#2024\n",
    "youtube_202401.createOrReplaceTempView(\"vw_youtube_202401\")\n",
    "youtube_202402.createOrReplaceTempView(\"vw_youtube_202402\")\n",
    "youtube_202403.createOrReplaceTempView(\"vw_youtube_202403\")\n",
    "youtube_202404.createOrReplaceTempView(\"vw_youtube_202404\")\n",
    "youtube_202405.createOrReplaceTempView(\"vw_youtube_202405\")\n",
    "youtube_202406.createOrReplaceTempView(\"vw_youtube_202406\")\n",
    "youtube_202407.createOrReplaceTempView(\"vw_youtube_202407\")\n",
    "youtube_202408.createOrReplaceTempView(\"vw_youtube_202408\")\n",
    "youtube_202409.createOrReplaceTempView(\"vw_youtube_202409\")\n",
    "youtube_202410.createOrReplaceTempView(\"vw_youtube_202410\")\n",
    "youtube_202411.createOrReplaceTempView(\"vw_youtube_202411\")\n",
    "youtube_202412.createOrReplaceTempView(\"vw_youtube_202412\")\n",
    "\n",
    "#2025\n",
    "youtube_202501.createOrReplaceTempView(\"vw_youtube_202501\")\n",
    "youtube_202502.createOrReplaceTempView(\"vw_youtube_202502\")\n",
    "youtube_202503.createOrReplaceTempView(\"vw_youtube_202503\")\n",
    "youtube_202504.createOrReplaceTempView(\"vw_youtube_202504\")"
   ]
  },
  {
   "cell_type": "markdown",
   "metadata": {
    "application/vnd.databricks.v1+cell": {
     "cellMetadata": {
      "byteLimit": 2048000,
      "rowLimit": 10000
     },
     "inputWidgets": {},
     "nuid": "a9e250ec-ce03-426e-9d5f-7be8770cee11",
     "showTitle": false,
     "tableResultSettingsMap": {},
     "title": ""
    }
   },
   "source": [
    "### 3.3 Manipulação e transformação\n",
    "Para que possamos simplificar o processo de manipulação e modelagem dos dados brutos, faremos a consolidação dos dados mensais em uma única view temporária. Além disso, também faremos algumas tratativas, como padronização dos nomes dos atributos e eventuais limpezas de dados."
   ]
  },
  {
   "cell_type": "code",
   "execution_count": 0,
   "metadata": {
    "application/vnd.databricks.v1+cell": {
     "cellMetadata": {
      "byteLimit": 2048000,
      "implicitDf": true,
      "rowLimit": 10000
     },
     "inputWidgets": {},
     "nuid": "d1a55d4b-0d2d-4a9d-b056-1f427f94ef04",
     "showTitle": false,
     "tableResultSettingsMap": {},
     "title": ""
    }
   },
   "outputs": [
    {
     "output_type": "display_data",
     "data": {
      "text/html": [
       "<style scoped>\n",
       "  .table-result-container {\n",
       "    max-height: 300px;\n",
       "    overflow: auto;\n",
       "  }\n",
       "  table, th, td {\n",
       "    border: 1px solid black;\n",
       "    border-collapse: collapse;\n",
       "  }\n",
       "  th, td {\n",
       "    padding: 5px;\n",
       "  }\n",
       "  th {\n",
       "    text-align: left;\n",
       "  }\n",
       "</style><div class='table-result-container'><table class='table-result'><thead style='background-color: white'><tr><th>reference_date</th><th>Conteúdo</th><th>Título do vídeo</th><th>Horário de publicação do vídeo</th><th>Duração</th><th>Estimativa de reproduções monetizadas</th><th>Cliques por elemento da tela final mostrado (%)</th><th>Cliques no elemento da tela final</th><th>Elementos da tela final exibidos</th><th>Cliques por card mostrado (%)</th><th>Cards mostrados</th><th>Comentários adicionados</th><th>Inscrições perdidas</th><th>Compartilhamentos</th><th>\"\"\"Gostei\"\" (vs. \"\"Não gostei\"\") (%)\"</th><th>CPM (USD)</th><th>RPM (USD)</th><th>Porcentagem visualizada média (%)</th><th>Duração média da visualização</th><th>Visualizações</th><th>Tempo de exibição (horas)</th><th>Inscritos</th><th>Receita estimada (USD)</th><th>Impressões</th><th>Taxa de cliques de impressões (%)</th></tr></thead><tbody><tr><td>2022-11-01</td><td>Total</td><td>null</td><td>null</td><td>null</td><td>0</td><td>0.77</td><td>2</td><td>260</td><td>0</td><td>0</td><td>5</td><td>6</td><td>20</td><td>98.77</td><td>0</td><td>0</td><td>20.36</td><td>0:04:52</td><td>3187</td><td>259.1579</td><td>41</td><td>0</td><td>49050</td><td>4.4</td></tr><tr><td>2022-11-01</td><td>K9vEMqU5ryE</td><td>LAVANDÁRIO PEDRA AZUL - ES</td><td>Nov 15, 2022</td><td>497</td><td>null</td><td>12.5</td><td>1</td><td>8</td><td>null</td><td>0</td><td>3</td><td>0</td><td>0</td><td>100</td><td>null</td><td>null</td><td>21.05</td><td>0:01:44</td><td>55</td><td>1.5986</td><td>2</td><td>null</td><td>588</td><td>5.1</td></tr><tr><td>2022-11-01</td><td>xKyysw_ic0c</td><td>ARRAIAL DO CABO - ROTEIRO COMPLETO DE 02 DIAS</td><td>Nov 5, 2022</td><td>1455</td><td>null</td><td>0.4</td><td>1</td><td>252</td><td>null</td><td>0</td><td>2</td><td>3</td><td>20</td><td>98.63</td><td>null</td><td>null</td><td>20.32</td><td>0:04:55</td><td>3131</td><td>257.1505</td><td>31</td><td>null</td><td>48460</td><td>4.39</td></tr></tbody></table></div>"
      ]
     },
     "metadata": {
      "application/vnd.databricks.v1+output": {
       "addedWidgets": {},
       "aggData": [],
       "aggError": "",
       "aggOverflow": false,
       "aggSchema": [],
       "aggSeriesLimitReached": false,
       "aggType": "",
       "arguments": {},
       "columnCustomDisplayInfos": {},
       "data": [
        [
         "2022-11-01",
         "Total",
         null,
         null,
         null,
         "0",
         "0.77",
         "2",
         "260",
         "0",
         "0",
         "5",
         "6",
         "20",
         "98.77",
         "0",
         "0",
         "20.36",
         "0:04:52",
         "3187",
         "259.1579",
         "41",
         "0",
         "49050",
         "4.4"
        ],
        [
         "2022-11-01",
         "K9vEMqU5ryE",
         "LAVANDÁRIO PEDRA AZUL - ES",
         "Nov 15, 2022",
         "497",
         null,
         "12.5",
         "1",
         "8",
         null,
         "0",
         "3",
         "0",
         "0",
         "100",
         null,
         null,
         "21.05",
         "0:01:44",
         "55",
         "1.5986",
         "2",
         null,
         "588",
         "5.1"
        ],
        [
         "2022-11-01",
         "xKyysw_ic0c",
         "ARRAIAL DO CABO - ROTEIRO COMPLETO DE 02 DIAS",
         "Nov 5, 2022",
         "1455",
         null,
         "0.4",
         "1",
         "252",
         null,
         "0",
         "2",
         "3",
         "20",
         "98.63",
         null,
         null,
         "20.32",
         "0:04:55",
         "3131",
         "257.1505",
         "31",
         null,
         "48460",
         "4.39"
        ]
       ],
       "datasetInfos": [],
       "dbfsResultPath": null,
       "isJsonSchema": true,
       "metadata": {},
       "overflow": false,
       "plotOptions": {
        "customPlotOptions": {},
        "displayType": "table",
        "pivotAggregation": null,
        "pivotColumns": null,
        "xColumns": null,
        "yColumns": null
       },
       "removedWidgets": [],
       "schema": [
        {
         "metadata": "{}",
         "name": "reference_date",
         "type": "\"string\""
        },
        {
         "metadata": "{}",
         "name": "Conteúdo",
         "type": "\"string\""
        },
        {
         "metadata": "{}",
         "name": "Título do vídeo",
         "type": "\"string\""
        },
        {
         "metadata": "{}",
         "name": "Horário de publicação do vídeo",
         "type": "\"string\""
        },
        {
         "metadata": "{}",
         "name": "Duração",
         "type": "\"string\""
        },
        {
         "metadata": "{}",
         "name": "Estimativa de reproduções monetizadas",
         "type": "\"string\""
        },
        {
         "metadata": "{}",
         "name": "Cliques por elemento da tela final mostrado (%)",
         "type": "\"string\""
        },
        {
         "metadata": "{}",
         "name": "Cliques no elemento da tela final",
         "type": "\"string\""
        },
        {
         "metadata": "{}",
         "name": "Elementos da tela final exibidos",
         "type": "\"string\""
        },
        {
         "metadata": "{}",
         "name": "Cliques por card mostrado (%)",
         "type": "\"string\""
        },
        {
         "metadata": "{}",
         "name": "Cards mostrados",
         "type": "\"string\""
        },
        {
         "metadata": "{}",
         "name": "Comentários adicionados",
         "type": "\"string\""
        },
        {
         "metadata": "{}",
         "name": "Inscrições perdidas",
         "type": "\"string\""
        },
        {
         "metadata": "{}",
         "name": "Compartilhamentos",
         "type": "\"string\""
        },
        {
         "metadata": "{}",
         "name": "\"\"\"Gostei\"\" (vs. \"\"Não gostei\"\") (%)\"",
         "type": "\"string\""
        },
        {
         "metadata": "{}",
         "name": "CPM (USD)",
         "type": "\"string\""
        },
        {
         "metadata": "{}",
         "name": "RPM (USD)",
         "type": "\"string\""
        },
        {
         "metadata": "{}",
         "name": "Porcentagem visualizada média (%)",
         "type": "\"string\""
        },
        {
         "metadata": "{}",
         "name": "Duração média da visualização",
         "type": "\"string\""
        },
        {
         "metadata": "{}",
         "name": "Visualizações",
         "type": "\"string\""
        },
        {
         "metadata": "{}",
         "name": "Tempo de exibição (horas)",
         "type": "\"string\""
        },
        {
         "metadata": "{}",
         "name": "Inscritos",
         "type": "\"string\""
        },
        {
         "metadata": "{}",
         "name": "Receita estimada (USD)",
         "type": "\"string\""
        },
        {
         "metadata": "{}",
         "name": "Impressões",
         "type": "\"string\""
        },
        {
         "metadata": "{}",
         "name": "Taxa de cliques de impressões (%)",
         "type": "\"string\""
        }
       ],
       "type": "table"
      }
     },
     "output_type": "display_data"
    }
   ],
   "source": [
    "%sql\n",
    "-- ETL\n",
    "-- Inclui a coluna de mês de referência nas views e as unifica os dados mensais em uma única view temporária\n",
    "\n",
    "create or replace temporary view vw_gastronomades_data_history as (\n",
    "\n",
    "-- 202211\n",
    "select \n",
    "  '2022-11-01' as reference_date\n",
    ", yt202211.* \n",
    "from vw_youtube_202211 as yt202211\n",
    "\n",
    "union all \n",
    "\n",
    "-- 202212\n",
    "select \n",
    "  '2022-12-01' as reference_date\n",
    ", yt202212.* \n",
    "from vw_youtube_202212 as yt202212  \n",
    "\n",
    "union all  \n",
    "\n",
    "-- 202301\n",
    "select \n",
    "  '2023-01-01' as reference_date\n",
    ", yt202301.* \n",
    "from vw_youtube_202301 as yt202301\n",
    "\n",
    "union all\n",
    "\n",
    "-- 202302\n",
    "select \n",
    "  '2023-02-01' as reference_date\n",
    ", yt202302.* \n",
    "from vw_youtube_202302 as yt202302\n",
    "\n",
    "union all\n",
    "\n",
    "-- 202303\n",
    "select \n",
    "  '2023-03-01' as reference_date\n",
    ", yt202303.* \n",
    "from vw_youtube_202303 as yt202303\n",
    "\n",
    "union all\n",
    "\n",
    "-- 202304\n",
    "select \n",
    "  '2023-04-01' as reference_date\n",
    ", yt202304.* \n",
    "from vw_youtube_202304 as yt202304\n",
    "\n",
    "union all\n",
    "\n",
    "-- 202305\n",
    "select \n",
    "  '2023-05-01' as reference_date\n",
    ", yt202305.* \n",
    "from vw_youtube_202305 as yt202305\n",
    "\n",
    "union all \n",
    "\n",
    "-- 202306\n",
    "select \n",
    "  '2023-06-01' as reference_date\n",
    ", yt202306.* \n",
    "from vw_youtube_202306 as yt202306\n",
    "\n",
    "union all \n",
    "\n",
    "-- 202307\n",
    "select \n",
    "  '2023-07-01' as reference_date\n",
    ", yt202307.* \n",
    "from vw_youtube_202307 as yt202307\n",
    "\n",
    "union all \n",
    "\n",
    "-- 202308\n",
    "select \n",
    "  '2023-08-01' as reference_date\n",
    ", yt202308.* \n",
    "from vw_youtube_202308 as yt202308\n",
    "\n",
    "union all \n",
    "\n",
    "-- 202309\n",
    "select \n",
    "  '2023-09-01' as reference_date\n",
    ", yt202309.* \n",
    "from vw_youtube_202309 as yt202309\n",
    "\n",
    "union all \n",
    "\n",
    "-- 202310\n",
    "select \n",
    "  '2023-10-01' as reference_date\n",
    ", yt202310.* \n",
    "from vw_youtube_202310 as yt202310\n",
    "\n",
    "union all \n",
    "\n",
    "-- 202311\n",
    "select \n",
    "  '2023-11-01' as reference_date\n",
    ", yt202311.* \n",
    "from vw_youtube_202311 as yt202311\n",
    "\n",
    "union all \n",
    "\n",
    "-- 202312\n",
    "select \n",
    "  '2023-12-01' as reference_date\n",
    ", yt202312.* \n",
    "from vw_youtube_202312 as yt202312  \n",
    "\n",
    "union all\n",
    "\n",
    "-- 202401\n",
    "select \n",
    "  '2024-01-01' as reference_date\n",
    ", yt202401.* \n",
    "from vw_youtube_202401 as yt202401\n",
    "\n",
    "union all\n",
    "\n",
    "-- 202402\n",
    "select \n",
    "  '2024-02-01' as reference_date\n",
    ", yt202402.* \n",
    "from vw_youtube_202402 as yt202402\n",
    "\n",
    "union all\n",
    "\n",
    "-- 202403\n",
    "select \n",
    "  '2024-03-01' as reference_date\n",
    ", yt202403.* \n",
    "from vw_youtube_202403 as yt202403\n",
    "\n",
    "union all\n",
    "\n",
    "-- 202404\n",
    "select \n",
    "  '2024-04-01' as reference_date\n",
    ", yt202404.* \n",
    "from vw_youtube_202404 as yt202404\n",
    "\n",
    "union all\n",
    "\n",
    "-- 202405\n",
    "select \n",
    "  '2024-05-01' as reference_date\n",
    ", yt202405.* \n",
    "from vw_youtube_202405 as yt202405\n",
    "\n",
    "union all \n",
    "\n",
    "-- 202406\n",
    "select \n",
    "  '2024-06-01' as reference_date\n",
    ", yt202406.* \n",
    "from vw_youtube_202406 as yt202406\n",
    "\n",
    "union all \n",
    "\n",
    "-- 202407\n",
    "select \n",
    "  '2024-07-01' as reference_date\n",
    ", yt202407.* \n",
    "from vw_youtube_202407 as yt202407\n",
    "\n",
    "union all \n",
    "\n",
    "-- 202408\n",
    "select \n",
    "  '2024-08-01' as reference_date\n",
    ", yt202408.* \n",
    "from vw_youtube_202408 as yt202408\n",
    "\n",
    "union all \n",
    "\n",
    "-- 202409\n",
    "select \n",
    "  '2024-09-01' as reference_date\n",
    ", yt202409.* \n",
    "from vw_youtube_202409 as yt202409\n",
    "\n",
    "union all \n",
    "\n",
    "-- 202410\n",
    "select \n",
    "  '2024-10-01' as reference_date\n",
    ", yt202410.* \n",
    "from vw_youtube_202410 as yt202410\n",
    "\n",
    "union all \n",
    "\n",
    "-- 202411\n",
    "select \n",
    "  '2024-11-01' as reference_date\n",
    ", yt202411.* \n",
    "from vw_youtube_202411 as yt202411\n",
    "\n",
    "union all \n",
    "\n",
    "-- 202412\n",
    "select \n",
    "  '2024-12-01' as reference_date\n",
    ", yt202412.* \n",
    "from vw_youtube_202412 as yt202412\n",
    "\n",
    "union all \n",
    "\n",
    "-- 202501\n",
    "select \n",
    "  '2025-01-01' as reference_date\n",
    ", yt202501.* \n",
    "from vw_youtube_202501 as yt202501\n",
    "\n",
    "union all\n",
    "\n",
    "-- 202502\n",
    "select \n",
    "  '2025-02-01' as reference_date\n",
    ", yt202502.* \n",
    "from vw_youtube_202502 as yt202502\n",
    "\n",
    "union all\n",
    "\n",
    "-- 202503\n",
    "select \n",
    "  '2025-03-01' as reference_date\n",
    ", yt202503.* \n",
    "from vw_youtube_202503 as yt202503\n",
    "\n",
    "\n",
    "union all\n",
    "\n",
    "-- 202504\n",
    "select \n",
    "  '2025-04-01' as reference_date\n",
    ", yt202504.* \n",
    "from vw_youtube_202504 as yt202504\n",
    "\n",
    "\n",
    ");\n",
    "\n",
    "-- Leitura da view unificada\n",
    "select\n",
    "*\n",
    "from vw_gastronomades_data_history\n",
    "limit 3;"
   ]
  },
  {
   "cell_type": "code",
   "execution_count": 0,
   "metadata": {
    "application/vnd.databricks.v1+cell": {
     "cellMetadata": {
      "byteLimit": 2048000,
      "implicitDf": true,
      "rowLimit": 10000
     },
     "inputWidgets": {},
     "nuid": "e9a6cc4e-7980-42b3-a339-2edf8acf8d23",
     "showTitle": false,
     "tableResultSettingsMap": {},
     "title": ""
    }
   },
   "outputs": [
    {
     "output_type": "display_data",
     "data": {
      "text/html": [
       "<style scoped>\n",
       "  .table-result-container {\n",
       "    max-height: 300px;\n",
       "    overflow: auto;\n",
       "  }\n",
       "  table, th, td {\n",
       "    border: 1px solid black;\n",
       "    border-collapse: collapse;\n",
       "  }\n",
       "  th, td {\n",
       "    padding: 5px;\n",
       "  }\n",
       "  th {\n",
       "    text-align: left;\n",
       "  }\n",
       "</style><div class='table-result-container'><table class='table-result'><thead style='background-color: white'><tr><th>reference_date</th><th>content_id</th><th>content_title</th><th>content_publish_date</th><th>content_duration</th><th>estimated_revenue</th><th>estimated_monetized_playbacks</th><th>cost_per_thousand_impressions</th><th>revenue_per_thousand_views</th><th>impressions</th><th>views</th><th>click_through_rate</th><th>avg_duration_view_rate</th><th>watch_time</th><th>avg_view_rate</th><th>gained_subscribers</th><th>lost_subscribers</th><th>shares</th><th>added_comments</th><th>like_rate</th><th>shown_cards</th><th>card_click_rate</th><th>end_screen_elements_shown</th><th>end_screen_clicks</th><th>end_screen_click_rate</th></tr></thead><tbody><tr><td>2023-11-01</td><td>H5km-VuXwYc</td><td>Onde se HOSPEDAR na ORLA BARDOT | Roteiros de Charme em Búzios</td><td>Sep 5, 2023</td><td>675</td><td>0.287</td><td>64</td><td>4.509</td><td>2.929</td><td>477</td><td>98</td><td>16.77</td><td>0:03:42</td><td>6.068</td><td>33.02</td><td>3</td><td>0</td><td>1</td><td>1</td><td>100</td><td>0</td><td>null</td><td>25</td><td>1</td><td>4</td></tr><tr><td>2024-05-01</td><td>H5km-VuXwYc</td><td>Onde se HOSPEDAR na ORLA BARDOT | Roteiros de Charme em Búzios</td><td>Sep 5, 2023</td><td>675</td><td>0.147</td><td>53</td><td>3.036</td><td>2.1</td><td>481</td><td>70</td><td>10.81</td><td>0:03:26</td><td>4.0081</td><td>30.54</td><td>0</td><td>0</td><td>2</td><td>0</td><td>80</td><td>0</td><td>null</td><td>27</td><td>0</td><td>0</td></tr><tr><td>2024-07-01</td><td>H5km-VuXwYc</td><td>Onde se HOSPEDAR na ORLA BARDOT | Roteiros de Charme em Búzios</td><td>Sep 5, 2023</td><td>675</td><td>0.144</td><td>47</td><td>3.165</td><td>2.149</td><td>430</td><td>67</td><td>9.3</td><td>0:03:25</td><td>3.8277</td><td>30.47</td><td>0</td><td>0</td><td>1</td><td>0</td><td>100</td><td>0</td><td>null</td><td>18</td><td>0</td><td>0</td></tr><tr><td>2024-11-01</td><td>H5km-VuXwYc</td><td>Onde se HOSPEDAR na ORLA BARDOT | Roteiros de Charme em Búzios</td><td>Sep 5, 2023</td><td>675</td><td>0.193</td><td>86</td><td>2.031</td><td>1.664</td><td>533</td><td>116</td><td>15.57</td><td>0:03:55</td><td>7.5756</td><td>34.83</td><td>1</td><td>0</td><td>3</td><td>0</td><td>100</td><td>0</td><td>null</td><td>44</td><td>2</td><td>4.55</td></tr><tr><td>2025-03-01</td><td>H5km-VuXwYc</td><td>Onde se HOSPEDAR na ORLA BARDOT | Roteiros de Charme em Búzios</td><td>Sep 5, 2023</td><td>675</td><td>0.225</td><td>48</td><td>3.779</td><td>2.744</td><td>483</td><td>82</td><td>10.14</td><td>0:03:00</td><td>4.1068</td><td>26.71</td><td>0</td><td>0</td><td>1</td><td>0</td><td>100</td><td>0</td><td>null</td><td>18</td><td>0</td><td>0</td></tr></tbody></table></div>"
      ]
     },
     "metadata": {
      "application/vnd.databricks.v1+output": {
       "addedWidgets": {},
       "aggData": [],
       "aggError": "",
       "aggOverflow": false,
       "aggSchema": [],
       "aggSeriesLimitReached": false,
       "aggType": "",
       "arguments": {},
       "columnCustomDisplayInfos": {},
       "data": [
        [
         "2023-11-01",
         "H5km-VuXwYc",
         "Onde se HOSPEDAR na ORLA BARDOT | Roteiros de Charme em Búzios",
         "Sep 5, 2023",
         "675",
         "0.287",
         "64",
         "4.509",
         "2.929",
         "477",
         "98",
         "16.77",
         "0:03:42",
         "6.068",
         "33.02",
         "3",
         "0",
         "1",
         "1",
         "100",
         "0",
         null,
         "25",
         "1",
         "4"
        ],
        [
         "2024-05-01",
         "H5km-VuXwYc",
         "Onde se HOSPEDAR na ORLA BARDOT | Roteiros de Charme em Búzios",
         "Sep 5, 2023",
         "675",
         "0.147",
         "53",
         "3.036",
         "2.1",
         "481",
         "70",
         "10.81",
         "0:03:26",
         "4.0081",
         "30.54",
         "0",
         "0",
         "2",
         "0",
         "80",
         "0",
         null,
         "27",
         "0",
         "0"
        ],
        [
         "2024-07-01",
         "H5km-VuXwYc",
         "Onde se HOSPEDAR na ORLA BARDOT | Roteiros de Charme em Búzios",
         "Sep 5, 2023",
         "675",
         "0.144",
         "47",
         "3.165",
         "2.149",
         "430",
         "67",
         "9.3",
         "0:03:25",
         "3.8277",
         "30.47",
         "0",
         "0",
         "1",
         "0",
         "100",
         "0",
         null,
         "18",
         "0",
         "0"
        ],
        [
         "2024-11-01",
         "H5km-VuXwYc",
         "Onde se HOSPEDAR na ORLA BARDOT | Roteiros de Charme em Búzios",
         "Sep 5, 2023",
         "675",
         "0.193",
         "86",
         "2.031",
         "1.664",
         "533",
         "116",
         "15.57",
         "0:03:55",
         "7.5756",
         "34.83",
         "1",
         "0",
         "3",
         "0",
         "100",
         "0",
         null,
         "44",
         "2",
         "4.55"
        ],
        [
         "2025-03-01",
         "H5km-VuXwYc",
         "Onde se HOSPEDAR na ORLA BARDOT | Roteiros de Charme em Búzios",
         "Sep 5, 2023",
         "675",
         "0.225",
         "48",
         "3.779",
         "2.744",
         "483",
         "82",
         "10.14",
         "0:03:00",
         "4.1068",
         "26.71",
         "0",
         "0",
         "1",
         "0",
         "100",
         "0",
         null,
         "18",
         "0",
         "0"
        ]
       ],
       "datasetInfos": [],
       "dbfsResultPath": null,
       "isJsonSchema": true,
       "metadata": {},
       "overflow": false,
       "plotOptions": {
        "customPlotOptions": {},
        "displayType": "table",
        "pivotAggregation": null,
        "pivotColumns": null,
        "xColumns": null,
        "yColumns": null
       },
       "removedWidgets": [],
       "schema": [
        {
         "metadata": "{}",
         "name": "reference_date",
         "type": "\"string\""
        },
        {
         "metadata": "{}",
         "name": "content_id",
         "type": "\"string\""
        },
        {
         "metadata": "{}",
         "name": "content_title",
         "type": "\"string\""
        },
        {
         "metadata": "{}",
         "name": "content_publish_date",
         "type": "\"string\""
        },
        {
         "metadata": "{}",
         "name": "content_duration",
         "type": "\"string\""
        },
        {
         "metadata": "{}",
         "name": "estimated_revenue",
         "type": "\"string\""
        },
        {
         "metadata": "{}",
         "name": "estimated_monetized_playbacks",
         "type": "\"string\""
        },
        {
         "metadata": "{}",
         "name": "cost_per_thousand_impressions",
         "type": "\"string\""
        },
        {
         "metadata": "{}",
         "name": "revenue_per_thousand_views",
         "type": "\"string\""
        },
        {
         "metadata": "{}",
         "name": "impressions",
         "type": "\"string\""
        },
        {
         "metadata": "{}",
         "name": "views",
         "type": "\"string\""
        },
        {
         "metadata": "{}",
         "name": "click_through_rate",
         "type": "\"string\""
        },
        {
         "metadata": "{}",
         "name": "avg_duration_view_rate",
         "type": "\"string\""
        },
        {
         "metadata": "{}",
         "name": "watch_time",
         "type": "\"string\""
        },
        {
         "metadata": "{}",
         "name": "avg_view_rate",
         "type": "\"string\""
        },
        {
         "metadata": "{}",
         "name": "gained_subscribers",
         "type": "\"string\""
        },
        {
         "metadata": "{}",
         "name": "lost_subscribers",
         "type": "\"string\""
        },
        {
         "metadata": "{}",
         "name": "shares",
         "type": "\"string\""
        },
        {
         "metadata": "{}",
         "name": "added_comments",
         "type": "\"string\""
        },
        {
         "metadata": "{}",
         "name": "like_rate",
         "type": "\"string\""
        },
        {
         "metadata": "{}",
         "name": "shown_cards",
         "type": "\"string\""
        },
        {
         "metadata": "{}",
         "name": "card_click_rate",
         "type": "\"string\""
        },
        {
         "metadata": "{}",
         "name": "end_screen_elements_shown",
         "type": "\"string\""
        },
        {
         "metadata": "{}",
         "name": "end_screen_clicks",
         "type": "\"string\""
        },
        {
         "metadata": "{}",
         "name": "end_screen_click_rate",
         "type": "\"string\""
        }
       ],
       "type": "table"
      }
     },
     "output_type": "display_data"
    }
   ],
   "source": [
    "%sql\n",
    "-- ETL\n",
    "-- Padroniza a nomenclatura das colnas da base agregada e carrega o resultado da query como uma tabela na camada stage\n",
    "\n",
    "\n",
    "-- Exclui a tabela, caso exista\n",
    "drop table if exists stage.stg__gastronomades_data_history;\n",
    "\n",
    "\n",
    "-- Cria a tabela de dados brutos na camada stage\n",
    "create or replace table stage.stg__gastronomades_data_history as (\n",
    "\n",
    "select\n",
    "  gdh.reference_date                                      as reference_date\n",
    "--\n",
    ", gdh.`Conteúdo`                                          as content_id                         -- content\n",
    ", gdh.`Título do vídeo`                                   as content_title                      -- content\n",
    ", gdh.`Horário de publicação do vídeo`                    as content_publish_date               -- content\n",
    ", gdh.`Duração`                                           as content_duration                   -- content\n",
    "--\n",
    ", gdh.`Receita estimada (USD)`                            as estimated_revenue                  -- revenue\n",
    ", gdh.`Estimativa de reproduções monetizadas`             as estimated_monetized_playbacks      -- revenue\n",
    ", gdh.`CPM (USD)`                                         as cost_per_thousand_impressions      -- revenue\n",
    ", gdh.`RPM (USD)`                                         as revenue_per_thousand_views         -- revenue\n",
    "--\n",
    ", gdh.`Impressões`                                        as impressions                        -- view\n",
    ", gdh.`Visualizações`                                     as views                              -- view\n",
    ", gdh.`Taxa de cliques de impressões (%)`                 as click_through_rate                 -- view \n",
    ", gdh.`Duração média da visualização`                     as avg_duration_view_rate             -- view\n",
    ", gdh.`Tempo de exibição (horas)`                         as watch_time                         -- view\n",
    ", gdh.`Porcentagem visualizada média (%)`                 as avg_view_rate                      -- view\n",
    "--\n",
    ", gdh.`Inscritos`                                         as gained_subscribers                 -- engagement\n",
    ", gdh.`Inscrições perdidas`                               as lost_subscribers                   -- engagement\n",
    ", gdh.`Compartilhamentos`                                 as shares                             -- engagement\n",
    ", gdh.`Comentários adicionados`                           as added_comments                     -- engagement\n",
    ", gdh.`\"\"\"Gostei\"\" (vs. \"\"Não gostei\"\") (%)\"`             as like_rate                          -- engagement\n",
    ", gdh.`Cards mostrados`                                   as shown_cards\n",
    "--\n",
    ", gdh.`Cliques por card mostrado (%)`                     as card_click_rate                    -- engagement\n",
    ", gdh.`Elementos da tela final exibidos`                  as end_screen_elements_shown          -- engagement\n",
    ", gdh.`Cliques no elemento da tela final`                 as end_screen_clicks                  -- engagement\n",
    ", gdh.`Cliques por elemento da tela final mostrado (%)`   as end_screen_click_rate              -- engagement\n",
    "from vw_gastronomades_data_history as gdh\n",
    "where 1=1\n",
    "and gdh.`Conteúdo` <> 'Total' -- remove linhas totalizadoras\n",
    "\n",
    ");\n",
    "\n",
    "-- Visualiza os dados na tabela criada\n",
    "select \n",
    "*\n",
    "from stage.stg__gastronomades_data_history\n",
    "order by \n",
    "  content_publish_date desc \n",
    "limit 5;"
   ]
  },
  {
   "cell_type": "markdown",
   "metadata": {
    "application/vnd.databricks.v1+cell": {
     "cellMetadata": {
      "byteLimit": 2048000,
      "rowLimit": 10000
     },
     "inputWidgets": {},
     "nuid": "1109f249-d3d8-4c6c-88fd-601ecd7ddc35",
     "showTitle": false,
     "tableResultSettingsMap": {},
     "title": ""
    }
   },
   "source": [
    "### 3.4 Inspeção dos dados\n",
    "Nesta etapa, faremos a inspeção de cada um dos atributos. A ideia é que consigamos descobrir e entender as características individuais de cada um deles, bem como formato, range, integridade, constraints, entre outras. Algumas informações obtidas nesta etapa serão utilizadas para enriquecer o catálogo de dados na próxima seção. \n"
   ]
  },
  {
   "cell_type": "code",
   "execution_count": 0,
   "metadata": {
    "application/vnd.databricks.v1+cell": {
     "cellMetadata": {
      "byteLimit": 2048000,
      "implicitDf": true,
      "rowLimit": 10000
     },
     "inputWidgets": {},
     "nuid": "3506ab97-2089-48aa-9274-2c143914569b",
     "showTitle": false,
     "tableResultSettingsMap": {},
     "title": ""
    }
   },
   "outputs": [
    {
     "output_type": "display_data",
     "data": {
      "text/html": [
       "<style scoped>\n",
       "  .table-result-container {\n",
       "    max-height: 300px;\n",
       "    overflow: auto;\n",
       "  }\n",
       "  table, th, td {\n",
       "    border: 1px solid black;\n",
       "    border-collapse: collapse;\n",
       "  }\n",
       "  th, td {\n",
       "    padding: 5px;\n",
       "  }\n",
       "  th {\n",
       "    text-align: left;\n",
       "  }\n",
       "</style><div class='table-result-container'><table class='table-result'><thead style='background-color: white'><tr><th>col_name</th><th>data_type</th><th>comment</th></tr></thead><tbody><tr><td>reference_date</td><td>string</td><td>null</td></tr><tr><td>content_id</td><td>string</td><td>null</td></tr><tr><td>content_title</td><td>string</td><td>null</td></tr><tr><td>content_publish_date</td><td>string</td><td>null</td></tr><tr><td>content_duration</td><td>string</td><td>null</td></tr><tr><td>estimated_revenue</td><td>string</td><td>null</td></tr><tr><td>estimated_monetized_playbacks</td><td>string</td><td>null</td></tr><tr><td>cost_per_thousand_impressions</td><td>string</td><td>null</td></tr><tr><td>revenue_per_thousand_views</td><td>string</td><td>null</td></tr><tr><td>impressions</td><td>string</td><td>null</td></tr><tr><td>views</td><td>string</td><td>null</td></tr><tr><td>click_through_rate</td><td>string</td><td>null</td></tr><tr><td>avg_duration_view_rate</td><td>string</td><td>null</td></tr><tr><td>watch_time</td><td>string</td><td>null</td></tr><tr><td>avg_view_rate</td><td>string</td><td>null</td></tr><tr><td>gained_subscribers</td><td>string</td><td>null</td></tr><tr><td>lost_subscribers</td><td>string</td><td>null</td></tr><tr><td>shares</td><td>string</td><td>null</td></tr><tr><td>added_comments</td><td>string</td><td>null</td></tr><tr><td>like_rate</td><td>string</td><td>null</td></tr><tr><td>shown_cards</td><td>string</td><td>null</td></tr><tr><td>card_click_rate</td><td>string</td><td>null</td></tr><tr><td>end_screen_elements_shown</td><td>string</td><td>null</td></tr><tr><td>end_screen_clicks</td><td>string</td><td>null</td></tr><tr><td>end_screen_click_rate</td><td>string</td><td>null</td></tr></tbody></table></div>"
      ]
     },
     "metadata": {
      "application/vnd.databricks.v1+output": {
       "addedWidgets": {},
       "aggData": [],
       "aggError": "",
       "aggOverflow": false,
       "aggSchema": [],
       "aggSeriesLimitReached": false,
       "aggType": "",
       "arguments": {},
       "columnCustomDisplayInfos": {},
       "data": [
        [
         "reference_date",
         "string",
         null
        ],
        [
         "content_id",
         "string",
         null
        ],
        [
         "content_title",
         "string",
         null
        ],
        [
         "content_publish_date",
         "string",
         null
        ],
        [
         "content_duration",
         "string",
         null
        ],
        [
         "estimated_revenue",
         "string",
         null
        ],
        [
         "estimated_monetized_playbacks",
         "string",
         null
        ],
        [
         "cost_per_thousand_impressions",
         "string",
         null
        ],
        [
         "revenue_per_thousand_views",
         "string",
         null
        ],
        [
         "impressions",
         "string",
         null
        ],
        [
         "views",
         "string",
         null
        ],
        [
         "click_through_rate",
         "string",
         null
        ],
        [
         "avg_duration_view_rate",
         "string",
         null
        ],
        [
         "watch_time",
         "string",
         null
        ],
        [
         "avg_view_rate",
         "string",
         null
        ],
        [
         "gained_subscribers",
         "string",
         null
        ],
        [
         "lost_subscribers",
         "string",
         null
        ],
        [
         "shares",
         "string",
         null
        ],
        [
         "added_comments",
         "string",
         null
        ],
        [
         "like_rate",
         "string",
         null
        ],
        [
         "shown_cards",
         "string",
         null
        ],
        [
         "card_click_rate",
         "string",
         null
        ],
        [
         "end_screen_elements_shown",
         "string",
         null
        ],
        [
         "end_screen_clicks",
         "string",
         null
        ],
        [
         "end_screen_click_rate",
         "string",
         null
        ]
       ],
       "datasetInfos": [],
       "dbfsResultPath": null,
       "isJsonSchema": true,
       "metadata": {},
       "overflow": false,
       "plotOptions": {
        "customPlotOptions": {},
        "displayType": "table",
        "pivotAggregation": null,
        "pivotColumns": null,
        "xColumns": null,
        "yColumns": null
       },
       "removedWidgets": [],
       "schema": [
        {
         "metadata": "{\"comment\":\"name of the column\"}",
         "name": "col_name",
         "type": "\"string\""
        },
        {
         "metadata": "{\"comment\":\"data type of the column\"}",
         "name": "data_type",
         "type": "\"string\""
        },
        {
         "metadata": "{\"comment\":\"comment of the column\"}",
         "name": "comment",
         "type": "\"string\""
        }
       ],
       "type": "table"
      }
     },
     "output_type": "display_data"
    }
   ],
   "source": [
    "%sql\n",
    "\n",
    "-- Verifica os tipos de dados na origem\n",
    "\n",
    "describe stage.stg__gastronomades_data_history;"
   ]
  },
  {
   "cell_type": "code",
   "execution_count": 0,
   "metadata": {
    "application/vnd.databricks.v1+cell": {
     "cellMetadata": {
      "byteLimit": 2048000,
      "implicitDf": true,
      "rowLimit": 10000
     },
     "inputWidgets": {},
     "nuid": "0023514b-f50a-4e1b-827b-5f24b8919e75",
     "showTitle": false,
     "tableResultSettingsMap": {},
     "title": ""
    }
   },
   "outputs": [
    {
     "output_type": "display_data",
     "data": {
      "text/html": [
       "<style scoped>\n",
       "  .ansiout {\n",
       "    display: block;\n",
       "    unicode-bidi: embed;\n",
       "    white-space: pre-wrap;\n",
       "    word-wrap: break-word;\n",
       "    word-break: break-all;\n",
       "    font-family: \"Menlo\", \"Monaco\", \"Consolas\", \"Ubuntu Mono\", \"Source Code Pro\", monospace;\n",
       "    font-size: 13px;\n",
       "    color: #555;\n",
       "    margin-left: 4px;\n",
       "    line-height: 19px;\n",
       "  }\n",
       "</style>"
      ]
     },
     "metadata": {
      "application/vnd.databricks.v1+output": {
       "arguments": {},
       "data": "",
       "errorSummary": "Command skipped",
       "errorTraceType": "html",
       "metadata": {},
       "type": "ipynbError"
      }
     },
     "output_type": "display_data"
    }
   ],
   "source": [
    "%sql\n",
    "\n",
    "-- ETL\n",
    "-- Inspeção geral dos registros\n",
    "\n",
    "-- Inspeção 1: Contagem total\n",
    "select \n",
    "  count(*)                            as row_count       -- count de registros\n",
    ", count(distinct gdh.content_id)      as content_count   -- count de conteúdos\n",
    ", count(distinct gdh.reference_date)  as period_count    -- count de periodos\n",
    "from stage.stg__gastronomades_data_history as gdh;\n",
    "\n",
    "\n",
    "-- Inspeção 2: Contagem por período\n",
    "select \n",
    "  gdh.reference_date                  as period\n",
    ", count(*)                            as row_count       -- count de registros\n",
    ", count(distinct gdh.content_id)      as content_count   -- count de conteúdos\n",
    "from stage.stg__gastronomades_data_history as gdh\n",
    "group by \n",
    "  gdh.reference_date\n",
    "order by\n",
    "  gdh.reference_date;"
   ]
  },
  {
   "cell_type": "code",
   "execution_count": 0,
   "metadata": {
    "application/vnd.databricks.v1+cell": {
     "cellMetadata": {
      "byteLimit": 2048000,
      "implicitDf": true,
      "rowLimit": 10000
     },
     "inputWidgets": {},
     "nuid": "183a271d-2897-411f-9bd8-240744ec54ea",
     "showTitle": false,
     "tableResultSettingsMap": {},
     "title": ""
    }
   },
   "outputs": [
    {
     "output_type": "display_data",
     "data": {
      "text/html": [
       "<style scoped>\n",
       "  .ansiout {\n",
       "    display: block;\n",
       "    unicode-bidi: embed;\n",
       "    white-space: pre-wrap;\n",
       "    word-wrap: break-word;\n",
       "    word-break: break-all;\n",
       "    font-family: \"Menlo\", \"Monaco\", \"Consolas\", \"Ubuntu Mono\", \"Source Code Pro\", monospace;\n",
       "    font-size: 13px;\n",
       "    color: #555;\n",
       "    margin-left: 4px;\n",
       "    line-height: 19px;\n",
       "  }\n",
       "</style>"
      ]
     },
     "metadata": {
      "application/vnd.databricks.v1+output": {
       "arguments": {},
       "data": "",
       "errorSummary": "Command skipped",
       "errorTraceType": "html",
       "metadata": {},
       "type": "ipynbError"
      }
     },
     "output_type": "display_data"
    }
   ],
   "source": [
    "%sql\n",
    "\n",
    "-- Validação do atributo `Conteúdo` (content_id) e `Título do vídeo` (content_title)\n",
    "\n",
    "\n",
    "-- Contagem de NULLs (se resultado = vazio, então nenhum NULL)\n",
    "select\n",
    "count(*)\n",
    "from stage.stg__gastronomades_data_history as gdh\n",
    "where 1=1\n",
    "and (gdh.content_id is null or gdh.content_title is null);"
   ]
  },
  {
   "cell_type": "code",
   "execution_count": 0,
   "metadata": {
    "application/vnd.databricks.v1+cell": {
     "cellMetadata": {
      "byteLimit": 2048000,
      "implicitDf": true,
      "rowLimit": 10000
     },
     "inputWidgets": {},
     "nuid": "f32a322f-d539-4759-8167-6397350a6582",
     "showTitle": false,
     "tableResultSettingsMap": {},
     "title": ""
    }
   },
   "outputs": [
    {
     "output_type": "display_data",
     "data": {
      "text/html": [
       "<style scoped>\n",
       "  .ansiout {\n",
       "    display: block;\n",
       "    unicode-bidi: embed;\n",
       "    white-space: pre-wrap;\n",
       "    word-wrap: break-word;\n",
       "    word-break: break-all;\n",
       "    font-family: \"Menlo\", \"Monaco\", \"Consolas\", \"Ubuntu Mono\", \"Source Code Pro\", monospace;\n",
       "    font-size: 13px;\n",
       "    color: #555;\n",
       "    margin-left: 4px;\n",
       "    line-height: 19px;\n",
       "  }\n",
       "</style>"
      ]
     },
     "metadata": {
      "application/vnd.databricks.v1+output": {
       "arguments": {},
       "data": "",
       "errorSummary": "Command skipped",
       "errorTraceType": "html",
       "metadata": {},
       "type": "ipynbError"
      }
     },
     "output_type": "display_data"
    }
   ],
   "source": [
    "%sql\n",
    "\n",
    "-- Validação do atributo `Conteúdo` (content_id) e `Título do vídeo` (content_title)\n",
    "\n",
    "\n",
    "-- Contagem de NULLs (se resultado = vazio, então nenhum NULL)\n",
    "select\n",
    "count(*)\n",
    "from stage.stg__gastronomades_data_history as gdh\n",
    "where 1=1\n",
    "and (gdh.content_id is null or gdh.content_title is null);\n",
    "\n",
    "\n",
    "-- Contagem de duplicatas (se resultado = vazio, então nenhuma duplicidade)\n",
    "select\n",
    "  gdh.reference_date\n",
    ", gdh.content_id  \n",
    ", count(gdh.content_id)\n",
    "from stage.stg__gastronomades_data_history as gdh\n",
    "group by \n",
    "  gdh.reference_date\n",
    ", gdh.content_id  \n",
    "having count(gdh.content_id) > 1;\n",
    "\n",
    "\n",
    "-- Contagem de títulos por conteúdo (se resultado = vazio, então nenhum conteúdo com mais de um título)\n",
    "select\n",
    "  gdh.content_id \n",
    ", count(distinct gdh.content_title) as title_count   \n",
    "from stage.stg__gastronomades_data_history as gdh\n",
    "group by \n",
    "  gdh.content_id \n",
    "having \n",
    "  count(distinct gdh.content_title) > 1; "
   ]
  },
  {
   "cell_type": "code",
   "execution_count": 0,
   "metadata": {
    "application/vnd.databricks.v1+cell": {
     "cellMetadata": {
      "byteLimit": 2048000,
      "implicitDf": true,
      "rowLimit": 10000
     },
     "inputWidgets": {},
     "nuid": "06d250d3-3ad0-492f-8acb-2268b0e60a44",
     "showTitle": false,
     "tableResultSettingsMap": {},
     "title": ""
    }
   },
   "outputs": [
    {
     "output_type": "display_data",
     "data": {
      "text/html": [
       "<style scoped>\n",
       "  .ansiout {\n",
       "    display: block;\n",
       "    unicode-bidi: embed;\n",
       "    white-space: pre-wrap;\n",
       "    word-wrap: break-word;\n",
       "    word-break: break-all;\n",
       "    font-family: \"Menlo\", \"Monaco\", \"Consolas\", \"Ubuntu Mono\", \"Source Code Pro\", monospace;\n",
       "    font-size: 13px;\n",
       "    color: #555;\n",
       "    margin-left: 4px;\n",
       "    line-height: 19px;\n",
       "  }\n",
       "</style>"
      ]
     },
     "metadata": {
      "application/vnd.databricks.v1+output": {
       "arguments": {},
       "data": "",
       "errorSummary": "Command skipped",
       "errorTraceType": "html",
       "metadata": {},
       "type": "ipynbError"
      }
     },
     "output_type": "display_data"
    }
   ],
   "source": [
    "%sql\n",
    "\n",
    "-- Validação do atributo `Horário de publicação do vídeo` (content_publish_date)\n",
    "\n",
    "\n",
    "-- Contagem de NULLs (se resultado = vazio, então nenhum NULL)\n",
    "select\n",
    "count(*)\n",
    "from stage.stg__gastronomades_data_history as gdh\n",
    "where 1=1\n",
    "and gdh.content_publish_date is null;\n",
    "\n",
    "\n",
    "-- Mínimo e Máximo (atributo tipo data)\n",
    "select\n",
    "  min(to_date(from_unixtime(unix_timestamp(gdh.content_publish_date, 'MMM d, yyyy'))))  as content_publish_date_min\n",
    ", max(to_date(from_unixtime(unix_timestamp(gdh.content_publish_date, 'MMM d, yyyy'))))  as content_publish_date_max\n",
    "from stage.stg__gastronomades_data_history as gdh\n"
   ]
  },
  {
   "cell_type": "code",
   "execution_count": 0,
   "metadata": {
    "application/vnd.databricks.v1+cell": {
     "cellMetadata": {
      "byteLimit": 2048000,
      "implicitDf": true,
      "rowLimit": 10000
     },
     "inputWidgets": {},
     "nuid": "c6a24116-14b3-4338-b350-c18cb93e7ed9",
     "showTitle": false,
     "tableResultSettingsMap": {},
     "title": ""
    }
   },
   "outputs": [
    {
     "output_type": "display_data",
     "data": {
      "text/html": [
       "<style scoped>\n",
       "  .ansiout {\n",
       "    display: block;\n",
       "    unicode-bidi: embed;\n",
       "    white-space: pre-wrap;\n",
       "    word-wrap: break-word;\n",
       "    word-break: break-all;\n",
       "    font-family: \"Menlo\", \"Monaco\", \"Consolas\", \"Ubuntu Mono\", \"Source Code Pro\", monospace;\n",
       "    font-size: 13px;\n",
       "    color: #555;\n",
       "    margin-left: 4px;\n",
       "    line-height: 19px;\n",
       "  }\n",
       "</style>"
      ]
     },
     "metadata": {
      "application/vnd.databricks.v1+output": {
       "arguments": {},
       "data": "",
       "errorSummary": "Command skipped",
       "errorTraceType": "html",
       "metadata": {},
       "type": "ipynbError"
      }
     },
     "output_type": "display_data"
    }
   ],
   "source": [
    "%sql\n",
    "\n",
    "-- Validação do atributo `Duração` (content_duration)\n",
    "\n",
    "\n",
    "-- Contagem de NULLs (se resultado = vazio, então nenhum NULL)\n",
    "select\n",
    "count(*)\n",
    "from stage.stg__gastronomades_data_history as gdh\n",
    "where 1=1\n",
    "and gdh.content_duration is null;\n",
    "\n",
    "\n",
    "-- Mínimo e Máximo (atributo tipo int)\n",
    "select\n",
    "  min(cast(gdh.content_duration as int)) as content_duration_min\n",
    ", max(cast(gdh.content_duration as int)) as content_duration_max\n",
    "from stage.stg__gastronomades_data_history as gdh\n"
   ]
  },
  {
   "cell_type": "code",
   "execution_count": 0,
   "metadata": {
    "application/vnd.databricks.v1+cell": {
     "cellMetadata": {
      "byteLimit": 2048000,
      "implicitDf": true,
      "rowLimit": 10000
     },
     "inputWidgets": {},
     "nuid": "413597cb-cd6b-4b89-82e2-385cc370377b",
     "showTitle": false,
     "tableResultSettingsMap": {},
     "title": ""
    }
   },
   "outputs": [
    {
     "output_type": "display_data",
     "data": {
      "text/html": [
       "<style scoped>\n",
       "  .ansiout {\n",
       "    display: block;\n",
       "    unicode-bidi: embed;\n",
       "    white-space: pre-wrap;\n",
       "    word-wrap: break-word;\n",
       "    word-break: break-all;\n",
       "    font-family: \"Menlo\", \"Monaco\", \"Consolas\", \"Ubuntu Mono\", \"Source Code Pro\", monospace;\n",
       "    font-size: 13px;\n",
       "    color: #555;\n",
       "    margin-left: 4px;\n",
       "    line-height: 19px;\n",
       "  }\n",
       "</style>"
      ]
     },
     "metadata": {
      "application/vnd.databricks.v1+output": {
       "arguments": {},
       "data": "",
       "errorSummary": "Command skipped",
       "errorTraceType": "html",
       "metadata": {},
       "type": "ipynbError"
      }
     },
     "output_type": "display_data"
    }
   ],
   "source": [
    "%sql\n",
    "\n",
    "-- Validação do atributo `Receita estimada (BRL)` (estimated_revenue)\n",
    "\n",
    "\n",
    "-- Contagem de NULLs (se resultado = vazio, então nenhum NULL)\n",
    "select\n",
    "count(*)\n",
    "from stage.stg__gastronomades_data_history as gdh\n",
    "where 1=1\n",
    "and gdh.estimated_revenue is null;\n",
    "\n",
    "\n",
    "-- Mínimo e Máximo (atributo tipo int)\n",
    "select\n",
    "  min(cast(gdh.estimated_revenue as float)) as estimated_revenue_min\n",
    ", max(cast(gdh.estimated_revenue as float)) as estimated_revenue_max\n",
    "from stage.stg__gastronomades_data_history as gdh;\n"
   ]
  },
  {
   "cell_type": "code",
   "execution_count": 0,
   "metadata": {
    "application/vnd.databricks.v1+cell": {
     "cellMetadata": {
      "byteLimit": 2048000,
      "implicitDf": true,
      "rowLimit": 10000
     },
     "inputWidgets": {},
     "nuid": "0bd0fca8-80e3-45b0-8043-0da78471aaf7",
     "showTitle": false,
     "tableResultSettingsMap": {},
     "title": ""
    }
   },
   "outputs": [
    {
     "output_type": "display_data",
     "data": {
      "text/html": [
       "<style scoped>\n",
       "  .ansiout {\n",
       "    display: block;\n",
       "    unicode-bidi: embed;\n",
       "    white-space: pre-wrap;\n",
       "    word-wrap: break-word;\n",
       "    word-break: break-all;\n",
       "    font-family: \"Menlo\", \"Monaco\", \"Consolas\", \"Ubuntu Mono\", \"Source Code Pro\", monospace;\n",
       "    font-size: 13px;\n",
       "    color: #555;\n",
       "    margin-left: 4px;\n",
       "    line-height: 19px;\n",
       "  }\n",
       "</style>"
      ]
     },
     "metadata": {
      "application/vnd.databricks.v1+output": {
       "arguments": {},
       "data": "",
       "errorSummary": "Command skipped",
       "errorTraceType": "html",
       "metadata": {},
       "type": "ipynbError"
      }
     },
     "output_type": "display_data"
    }
   ],
   "source": [
    "%sql\n",
    "\n",
    "-- Validação do atributo `Estimativa de reproduções monetizadas` (estimated_monetized_playbacks)\n",
    "\n",
    "\n",
    "-- Contagem de NULLs (se resultado = vazio, então nenhum NULL)\n",
    "select\n",
    "count(*)\n",
    "from stage.stg__gastronomades_data_history as gdh\n",
    "where 1=1\n",
    "and gdh.estimated_monetized_playbacks is null;\n",
    "\n",
    "\n",
    "-- Mínimo e Máximo (atributo tipo int)\n",
    "select\n",
    "  min(cast(gdh.estimated_monetized_playbacks as int)) as estimated_monetized_playbacks_min\n",
    ", max(cast(gdh.estimated_monetized_playbacks as int)) as eestimated_monetized_playbacks_max\n",
    "from stage.stg__gastronomades_data_history as gdh;\n"
   ]
  },
  {
   "cell_type": "code",
   "execution_count": 0,
   "metadata": {
    "application/vnd.databricks.v1+cell": {
     "cellMetadata": {
      "byteLimit": 2048000,
      "implicitDf": true,
      "rowLimit": 10000
     },
     "inputWidgets": {},
     "nuid": "21d29200-4814-4493-beee-2ed75b163ba9",
     "showTitle": false,
     "tableResultSettingsMap": {},
     "title": ""
    }
   },
   "outputs": [
    {
     "output_type": "display_data",
     "data": {
      "text/html": [
       "<style scoped>\n",
       "  .ansiout {\n",
       "    display: block;\n",
       "    unicode-bidi: embed;\n",
       "    white-space: pre-wrap;\n",
       "    word-wrap: break-word;\n",
       "    word-break: break-all;\n",
       "    font-family: \"Menlo\", \"Monaco\", \"Consolas\", \"Ubuntu Mono\", \"Source Code Pro\", monospace;\n",
       "    font-size: 13px;\n",
       "    color: #555;\n",
       "    margin-left: 4px;\n",
       "    line-height: 19px;\n",
       "  }\n",
       "</style>"
      ]
     },
     "metadata": {
      "application/vnd.databricks.v1+output": {
       "arguments": {},
       "data": "",
       "errorSummary": "Command skipped",
       "errorTraceType": "html",
       "metadata": {},
       "type": "ipynbError"
      }
     },
     "output_type": "display_data"
    }
   ],
   "source": [
    "%sql\n",
    "\n",
    "-- Validação do atributo `CPM (BRL)` (cost_per_thousand_impressions)\n",
    "\n",
    "\n",
    "-- Contagem de NULLs (se resultado = vazio, então nenhum NULL)\n",
    "select\n",
    "count(*)\n",
    "from stage.stg__gastronomades_data_history as gdh\n",
    "where 1=1\n",
    "and gdh.cost_per_thousand_impressions is null;\n",
    "\n",
    "\n",
    "\n",
    "-- Mínimo e Máximo (atributo tipo float)\n",
    "select\n",
    "  min(cast(gdh.cost_per_thousand_impressions as float)) as cost_per_thousand_impressions_min\n",
    ", max(cast(gdh.cost_per_thousand_impressions as float)) as cost_per_thousand_impressions_max\n",
    "from stage.stg__gastronomades_data_history as gdh;\n",
    "\n",
    "\n",
    "\n",
    "-- Identificação do registro com valor máximo\n",
    "select \n",
    "*\n",
    "from stage.stg__gastronomades_data_history as gdh\n",
    "where 1=1\n",
    "and cast(gdh.cost_per_thousand_impressions as float) = (\n",
    "  \n",
    "  select max(cast(gdh.cost_per_thousand_impressions as float)) from stage.stg__gastronomades_data_history as gdh\n",
    "  \n",
    ");"
   ]
  },
  {
   "cell_type": "code",
   "execution_count": 0,
   "metadata": {
    "application/vnd.databricks.v1+cell": {
     "cellMetadata": {
      "byteLimit": 2048000,
      "implicitDf": true,
      "rowLimit": 10000
     },
     "inputWidgets": {},
     "nuid": "f2d240d6-a2ef-4afe-8b51-bb9c8762b1fb",
     "showTitle": false,
     "tableResultSettingsMap": {},
     "title": ""
    }
   },
   "outputs": [
    {
     "output_type": "display_data",
     "data": {
      "text/html": [
       "<style scoped>\n",
       "  .ansiout {\n",
       "    display: block;\n",
       "    unicode-bidi: embed;\n",
       "    white-space: pre-wrap;\n",
       "    word-wrap: break-word;\n",
       "    word-break: break-all;\n",
       "    font-family: \"Menlo\", \"Monaco\", \"Consolas\", \"Ubuntu Mono\", \"Source Code Pro\", monospace;\n",
       "    font-size: 13px;\n",
       "    color: #555;\n",
       "    margin-left: 4px;\n",
       "    line-height: 19px;\n",
       "  }\n",
       "</style>"
      ]
     },
     "metadata": {
      "application/vnd.databricks.v1+output": {
       "arguments": {},
       "data": "",
       "errorSummary": "Command skipped",
       "errorTraceType": "html",
       "metadata": {},
       "type": "ipynbError"
      }
     },
     "output_type": "display_data"
    }
   ],
   "source": [
    "%sql\n",
    "\n",
    "-- Validação do atributo `RPM (BRL)` (revenue_per_thousand_impressions)\n",
    "\n",
    "\n",
    "-- Contagem de NULLs (se resultado = vazio, então nenhum NULL)\n",
    "select\n",
    "count(*)\n",
    "from stage.stg__gastronomades_data_history as gdh\n",
    "where 1=1\n",
    "and gdh.revenue_per_thousand_views is null;\n",
    "\n",
    "\n",
    "\n",
    "-- Mínimo e Máximo (atributo tipo float)\n",
    "select\n",
    "  min(cast(gdh.revenue_per_thousand_views as float)) as revenue_per_thousand_views_min\n",
    ", max(cast(gdh.revenue_per_thousand_views as float)) as revenue_per_thousand_views_max\n",
    "from stage.stg__gastronomades_data_history as gdh;\n",
    "\n",
    "\n",
    "\n",
    "-- Identificação do registro com valor máximo\n",
    "select \n",
    "*\n",
    "from stage.stg__gastronomades_data_history as gdh\n",
    "where 1=1\n",
    "and cast(gdh.revenue_per_thousand_views as float) = (\n",
    "  \n",
    "  select max(cast(gdh.revenue_per_thousand_views as float)) from stage.stg__gastronomades_data_history as gdh\n",
    "  \n",
    ");"
   ]
  },
  {
   "cell_type": "code",
   "execution_count": 0,
   "metadata": {
    "application/vnd.databricks.v1+cell": {
     "cellMetadata": {
      "byteLimit": 2048000,
      "implicitDf": true,
      "rowLimit": 10000
     },
     "inputWidgets": {},
     "nuid": "1da52f0e-a1eb-4ee9-8875-9cae81b197e5",
     "showTitle": false,
     "tableResultSettingsMap": {},
     "title": ""
    }
   },
   "outputs": [
    {
     "output_type": "display_data",
     "data": {
      "text/html": [
       "<style scoped>\n",
       "  .ansiout {\n",
       "    display: block;\n",
       "    unicode-bidi: embed;\n",
       "    white-space: pre-wrap;\n",
       "    word-wrap: break-word;\n",
       "    word-break: break-all;\n",
       "    font-family: \"Menlo\", \"Monaco\", \"Consolas\", \"Ubuntu Mono\", \"Source Code Pro\", monospace;\n",
       "    font-size: 13px;\n",
       "    color: #555;\n",
       "    margin-left: 4px;\n",
       "    line-height: 19px;\n",
       "  }\n",
       "</style>"
      ]
     },
     "metadata": {
      "application/vnd.databricks.v1+output": {
       "arguments": {},
       "data": "",
       "errorSummary": "Command skipped",
       "errorTraceType": "html",
       "metadata": {},
       "type": "ipynbError"
      }
     },
     "output_type": "display_data"
    }
   ],
   "source": [
    "%sql\n",
    "\n",
    "-- Validação do atributo `Impressões` (impressions)\n",
    "\n",
    "\n",
    "-- Contagem de NULLs (se resultado = vazio, então nenhum NULL)\n",
    "select\n",
    "count(*)\n",
    "from stage.stg__gastronomades_data_history as gdh\n",
    "where 1=1\n",
    "and gdh.impressions is null;\n",
    "\n",
    "\n",
    "-- Mínimo e Máximo (atributo tipo float)\n",
    "select\n",
    "  min(cast(gdh.impressions as int)) as min\n",
    ", max(cast(gdh.impressions as int)) as max\n",
    "from stage.stg__gastronomades_data_history as gdh;\n",
    "\n",
    "\n",
    "\n",
    "-- Identificação do registro com valor máximo\n",
    "select \n",
    "*\n",
    "from stage.stg__gastronomades_data_history as gdh\n",
    "where 1=1\n",
    "and cast(gdh.impressions as int) = (\n",
    "  \n",
    "  select max(cast(gdh.impressions as int)) from stage.stg__gastronomades_data_history as gdh\n",
    "  \n",
    ");\n"
   ]
  },
  {
   "cell_type": "code",
   "execution_count": 0,
   "metadata": {
    "application/vnd.databricks.v1+cell": {
     "cellMetadata": {
      "byteLimit": 2048000,
      "implicitDf": true,
      "rowLimit": 10000
     },
     "inputWidgets": {},
     "nuid": "fb1dcb10-9fcd-4bf9-bf23-dfb7a9d21b11",
     "showTitle": false,
     "tableResultSettingsMap": {},
     "title": ""
    }
   },
   "outputs": [
    {
     "output_type": "display_data",
     "data": {
      "text/html": [
       "<style scoped>\n",
       "  .ansiout {\n",
       "    display: block;\n",
       "    unicode-bidi: embed;\n",
       "    white-space: pre-wrap;\n",
       "    word-wrap: break-word;\n",
       "    word-break: break-all;\n",
       "    font-family: \"Menlo\", \"Monaco\", \"Consolas\", \"Ubuntu Mono\", \"Source Code Pro\", monospace;\n",
       "    font-size: 13px;\n",
       "    color: #555;\n",
       "    margin-left: 4px;\n",
       "    line-height: 19px;\n",
       "  }\n",
       "</style>"
      ]
     },
     "metadata": {
      "application/vnd.databricks.v1+output": {
       "arguments": {},
       "data": "",
       "errorSummary": "Command skipped",
       "errorTraceType": "html",
       "metadata": {},
       "type": "ipynbError"
      }
     },
     "output_type": "display_data"
    }
   ],
   "source": [
    "%sql\n",
    "\n",
    "-- Validação do atributo `Visualizações` (views)\n",
    "\n",
    "\n",
    "-- Contagem de NULLs (se resultado = vazio, então nenhum NULL)\n",
    "select\n",
    "count(*)\n",
    "from stage.stg__gastronomades_data_history as gdh\n",
    "where 1=1\n",
    "and gdh.views is null;\n",
    "\n",
    "\n",
    "\n",
    "-- Mínimo e Máximo (atributo tipo int)\n",
    "select\n",
    "  min(cast(gdh.views as int)) as min\n",
    ", max(cast(gdh.views as int)) as max\n",
    "from stage.stg__gastronomades_data_history as gdh;\n",
    "\n",
    "\n",
    "\n",
    "-- Identificação do registro com valor máximo\n",
    "select \n",
    "*\n",
    "from stage.stg__gastronomades_data_history as gdh\n",
    "where 1=1\n",
    "and cast(gdh.views as int) = (\n",
    "  \n",
    "  select max(cast(gdh.views as int)) from stage.stg__gastronomades_data_history as gdh\n",
    "  \n",
    ");\n",
    "\n"
   ]
  },
  {
   "cell_type": "code",
   "execution_count": 0,
   "metadata": {
    "application/vnd.databricks.v1+cell": {
     "cellMetadata": {
      "byteLimit": 2048000,
      "implicitDf": true,
      "rowLimit": 10000
     },
     "inputWidgets": {},
     "nuid": "46978aa9-9705-4b45-8f4d-a1e8e4740725",
     "showTitle": false,
     "tableResultSettingsMap": {},
     "title": ""
    }
   },
   "outputs": [
    {
     "output_type": "display_data",
     "data": {
      "text/html": [
       "<style scoped>\n",
       "  .ansiout {\n",
       "    display: block;\n",
       "    unicode-bidi: embed;\n",
       "    white-space: pre-wrap;\n",
       "    word-wrap: break-word;\n",
       "    word-break: break-all;\n",
       "    font-family: \"Menlo\", \"Monaco\", \"Consolas\", \"Ubuntu Mono\", \"Source Code Pro\", monospace;\n",
       "    font-size: 13px;\n",
       "    color: #555;\n",
       "    margin-left: 4px;\n",
       "    line-height: 19px;\n",
       "  }\n",
       "</style>"
      ]
     },
     "metadata": {
      "application/vnd.databricks.v1+output": {
       "arguments": {},
       "data": "",
       "errorSummary": "Command skipped",
       "errorTraceType": "html",
       "metadata": {},
       "type": "ipynbError"
      }
     },
     "output_type": "display_data"
    }
   ],
   "source": [
    "%sql\n",
    "\n",
    "-- Validação do atributo `Taxa de cliques de impressões (%)` (click_through_rate)\n",
    "\n",
    "\n",
    "-- Contagem de NULLs (se resultado = vazio, então nenhum NULL)\n",
    "select\n",
    "count(*)\n",
    "from stage.stg__gastronomades_data_history as gdh\n",
    "where 1=1\n",
    "and gdh.click_through_rate is null;\n",
    "\n",
    "\n",
    "\n",
    "-- Mínimo e Máximo (atributo tipo float)\n",
    "select\n",
    "  min(cast(gdh.click_through_rate as float)) as min\n",
    ", max(cast(gdh.click_through_rate as float)) as max\n",
    "from stage.stg__gastronomades_data_history as gdh;\n",
    "\n",
    "\n",
    "\n",
    "-- Identificação do registro com valor máximo\n",
    "select \n",
    "*\n",
    "from stage.stg__gastronomades_data_history as gdh\n",
    "where 1=1\n",
    "and cast(gdh.click_through_rate as float) = (\n",
    "  \n",
    "  select max(cast(gdh.click_through_rate as float)) from stage.stg__gastronomades_data_history as gdh\n",
    "  \n",
    ");\n"
   ]
  },
  {
   "cell_type": "code",
   "execution_count": 0,
   "metadata": {
    "application/vnd.databricks.v1+cell": {
     "cellMetadata": {
      "byteLimit": 2048000,
      "implicitDf": true,
      "rowLimit": 10000
     },
     "inputWidgets": {},
     "nuid": "c5fbba80-6df4-4a98-a164-4011239a6b91",
     "showTitle": false,
     "tableResultSettingsMap": {},
     "title": ""
    }
   },
   "outputs": [
    {
     "output_type": "display_data",
     "data": {
      "text/html": [
       "<style scoped>\n",
       "  .ansiout {\n",
       "    display: block;\n",
       "    unicode-bidi: embed;\n",
       "    white-space: pre-wrap;\n",
       "    word-wrap: break-word;\n",
       "    word-break: break-all;\n",
       "    font-family: \"Menlo\", \"Monaco\", \"Consolas\", \"Ubuntu Mono\", \"Source Code Pro\", monospace;\n",
       "    font-size: 13px;\n",
       "    color: #555;\n",
       "    margin-left: 4px;\n",
       "    line-height: 19px;\n",
       "  }\n",
       "</style>"
      ]
     },
     "metadata": {
      "application/vnd.databricks.v1+output": {
       "arguments": {},
       "data": "",
       "errorSummary": "Command skipped",
       "errorTraceType": "html",
       "metadata": {},
       "type": "ipynbError"
      }
     },
     "output_type": "display_data"
    }
   ],
   "source": [
    "%sql\n",
    "\n",
    "-- Validação do atributo `Duração média da visualização)` (avg_duration_view_rate)\n",
    "\n",
    "\n",
    "-- Contagem de NULLs (se resultado = vazio, então nenhum NULL)\n",
    "select\n",
    "count(*)\n",
    "from stage.stg__gastronomades_data_history as gdh\n",
    "where 1=1\n",
    "and gdh.avg_duration_view_rate is null;\n",
    "\n",
    "\n",
    "\n",
    "-- Mínimo e Máximo (atributo tipo string)\n",
    "select\n",
    "  min(gdh.avg_duration_view_rate) as min\n",
    ", max(avg_duration_view_rate) as max\n",
    "from stage.stg__gastronomades_data_history as gdh;\n",
    "\n",
    "\n",
    "\n",
    "-- Identificação do registro com valor máximo\n",
    "select \n",
    "*\n",
    "from stage.stg__gastronomades_data_history as gdh\n",
    "where 1=1\n",
    "and gdh.avg_duration_view_rate = (\n",
    "  \n",
    "  select max(gdh.avg_duration_view_rate) from stage.stg__gastronomades_data_history as gdh\n",
    "  \n",
    ");\n",
    "\n",
    "\n"
   ]
  },
  {
   "cell_type": "code",
   "execution_count": 0,
   "metadata": {
    "application/vnd.databricks.v1+cell": {
     "cellMetadata": {
      "byteLimit": 2048000,
      "implicitDf": true,
      "rowLimit": 10000
     },
     "inputWidgets": {},
     "nuid": "99fa82ae-25da-4348-8940-7f192623ae7a",
     "showTitle": false,
     "tableResultSettingsMap": {},
     "title": ""
    }
   },
   "outputs": [
    {
     "output_type": "display_data",
     "data": {
      "text/html": [
       "<style scoped>\n",
       "  .ansiout {\n",
       "    display: block;\n",
       "    unicode-bidi: embed;\n",
       "    white-space: pre-wrap;\n",
       "    word-wrap: break-word;\n",
       "    word-break: break-all;\n",
       "    font-family: \"Menlo\", \"Monaco\", \"Consolas\", \"Ubuntu Mono\", \"Source Code Pro\", monospace;\n",
       "    font-size: 13px;\n",
       "    color: #555;\n",
       "    margin-left: 4px;\n",
       "    line-height: 19px;\n",
       "  }\n",
       "</style>"
      ]
     },
     "metadata": {
      "application/vnd.databricks.v1+output": {
       "arguments": {},
       "data": "",
       "errorSummary": "Command skipped",
       "errorTraceType": "html",
       "metadata": {},
       "type": "ipynbError"
      }
     },
     "output_type": "display_data"
    }
   ],
   "source": [
    "%sql\n",
    "\n",
    "-- Validação do atributo `Tempo de exibição (horas)` (watch_time)\n",
    "\n",
    "\n",
    "-- Contagem de NULLs (se resultado = vazio, então nenhum NULL)\n",
    "select\n",
    "count(*)\n",
    "from stage.stg__gastronomades_data_history as gdh\n",
    "where 1=1\n",
    "and gdh.watch_time is null;\n",
    "\n",
    "\n",
    "\n",
    "-- Mínimo e Máximo (atributo tipo int)\n",
    "select\n",
    "  min(cast(gdh.watch_time as float)) as min\n",
    ", max(cast(gdh.watch_time as float)) as max\n",
    "from stage.stg__gastronomades_data_history as gdh;\n",
    "\n",
    "\n",
    "\n",
    "-- Identificação do registro com valor máximo\n",
    "select \n",
    "*\n",
    "from stage.stg__gastronomades_data_history as gdh\n",
    "where 1=1\n",
    "and cast(gdh.watch_time as float) = (\n",
    "  \n",
    "  select max(cast(gdh.watch_time as float)) from stage.stg__gastronomades_data_history as gdh\n",
    "  \n",
    ");"
   ]
  },
  {
   "cell_type": "code",
   "execution_count": 0,
   "metadata": {
    "application/vnd.databricks.v1+cell": {
     "cellMetadata": {
      "byteLimit": 2048000,
      "implicitDf": true,
      "rowLimit": 10000
     },
     "inputWidgets": {},
     "nuid": "133b6e1d-4a15-4129-97e9-345d516d8f65",
     "showTitle": false,
     "tableResultSettingsMap": {},
     "title": ""
    }
   },
   "outputs": [
    {
     "output_type": "display_data",
     "data": {
      "text/html": [
       "<style scoped>\n",
       "  .ansiout {\n",
       "    display: block;\n",
       "    unicode-bidi: embed;\n",
       "    white-space: pre-wrap;\n",
       "    word-wrap: break-word;\n",
       "    word-break: break-all;\n",
       "    font-family: \"Menlo\", \"Monaco\", \"Consolas\", \"Ubuntu Mono\", \"Source Code Pro\", monospace;\n",
       "    font-size: 13px;\n",
       "    color: #555;\n",
       "    margin-left: 4px;\n",
       "    line-height: 19px;\n",
       "  }\n",
       "</style>"
      ]
     },
     "metadata": {
      "application/vnd.databricks.v1+output": {
       "arguments": {},
       "data": "",
       "errorSummary": "Command skipped",
       "errorTraceType": "html",
       "metadata": {},
       "type": "ipynbError"
      }
     },
     "output_type": "display_data"
    }
   ],
   "source": [
    "%sql\n",
    "\n",
    "-- Validação do atributo `Porcentagem visualizada média (%)` (avg_view_rate)\n",
    "\n",
    "\n",
    "-- Contagem de NULLs (se resultado = vazio, então nenhum NULL)\n",
    "select\n",
    "count(*)\n",
    "from stage.stg__gastronomades_data_history as gdh\n",
    "where 1=1\n",
    "and gdh.avg_view_rate is null;\n",
    "\n",
    "\n",
    "-- Mínimo e Máximo (atributo tipo int)\n",
    "select\n",
    "  min(cast(gdh.avg_view_rate as float)) as min\n",
    ", max(cast(gdh.avg_view_rate as float)) as max\n",
    "from stage.stg__gastronomades_data_history as gdh;\n",
    "\n",
    "\n",
    "\n",
    "\n",
    "-- Identificação do registro com valor máximo\n",
    "select \n",
    "*\n",
    "from stage.stg__gastronomades_data_history as gdh\n",
    "where 1=1\n",
    "and cast(gdh.avg_view_rate as float) = (\n",
    "  \n",
    "  select max(cast(gdh.avg_view_rate as float)) from stage.stg__gastronomades_data_history as gdh\n",
    "  \n",
    ");\n",
    "\n"
   ]
  },
  {
   "cell_type": "code",
   "execution_count": 0,
   "metadata": {
    "application/vnd.databricks.v1+cell": {
     "cellMetadata": {
      "byteLimit": 2048000,
      "implicitDf": true,
      "rowLimit": 10000
     },
     "inputWidgets": {},
     "nuid": "c52665d1-c689-480e-a28c-91364eb2eb25",
     "showTitle": false,
     "tableResultSettingsMap": {},
     "title": ""
    }
   },
   "outputs": [
    {
     "output_type": "display_data",
     "data": {
      "text/html": [
       "<style scoped>\n",
       "  .ansiout {\n",
       "    display: block;\n",
       "    unicode-bidi: embed;\n",
       "    white-space: pre-wrap;\n",
       "    word-wrap: break-word;\n",
       "    word-break: break-all;\n",
       "    font-family: \"Menlo\", \"Monaco\", \"Consolas\", \"Ubuntu Mono\", \"Source Code Pro\", monospace;\n",
       "    font-size: 13px;\n",
       "    color: #555;\n",
       "    margin-left: 4px;\n",
       "    line-height: 19px;\n",
       "  }\n",
       "</style>"
      ]
     },
     "metadata": {
      "application/vnd.databricks.v1+output": {
       "arguments": {},
       "data": "",
       "errorSummary": "Command skipped",
       "errorTraceType": "html",
       "metadata": {},
       "type": "ipynbError"
      }
     },
     "output_type": "display_data"
    }
   ],
   "source": [
    "%sql\n",
    "\n",
    "-- Validação do atributo `Inscritos` (gained_subscribers)\n",
    "\n",
    "\n",
    "-- Contagem de NULLs (se resultado = vazio, então nenhum NULL)\n",
    "select\n",
    "count(*)\n",
    "from stage.stg__gastronomades_data_history as gdh\n",
    "where 1=1\n",
    "and gdh.gained_subscribers is null;\n",
    "\n",
    "\n",
    "\n",
    "-- Mínimo e Máximo (atributo tipo int)\n",
    "select\n",
    "  min(cast(gdh.gained_subscribers as int)) as min\n",
    ", max(cast(gdh.gained_subscribers as int)) as max\n",
    "from stage.stg__gastronomades_data_history as gdh;\n",
    "\n",
    "\n",
    "-- Identificação do registro com valor máximo\n",
    "select \n",
    "*\n",
    "from stage.stg__gastronomades_data_history as gdh\n",
    "where 1=1\n",
    "and cast(gdh.gained_subscribers as int) = (\n",
    "  \n",
    "  select max(cast(gdh.gained_subscribers as int)) from stage.stg__gastronomades_data_history as gdh\n",
    "  \n",
    ");"
   ]
  },
  {
   "cell_type": "code",
   "execution_count": 0,
   "metadata": {
    "application/vnd.databricks.v1+cell": {
     "cellMetadata": {
      "byteLimit": 2048000,
      "implicitDf": true,
      "rowLimit": 10000
     },
     "inputWidgets": {},
     "nuid": "5b57ac5b-e524-44f4-acae-0363f13d4ed7",
     "showTitle": false,
     "tableResultSettingsMap": {},
     "title": ""
    }
   },
   "outputs": [
    {
     "output_type": "display_data",
     "data": {
      "text/html": [
       "<style scoped>\n",
       "  .ansiout {\n",
       "    display: block;\n",
       "    unicode-bidi: embed;\n",
       "    white-space: pre-wrap;\n",
       "    word-wrap: break-word;\n",
       "    word-break: break-all;\n",
       "    font-family: \"Menlo\", \"Monaco\", \"Consolas\", \"Ubuntu Mono\", \"Source Code Pro\", monospace;\n",
       "    font-size: 13px;\n",
       "    color: #555;\n",
       "    margin-left: 4px;\n",
       "    line-height: 19px;\n",
       "  }\n",
       "</style>"
      ]
     },
     "metadata": {
      "application/vnd.databricks.v1+output": {
       "arguments": {},
       "data": "",
       "errorSummary": "Command skipped",
       "errorTraceType": "html",
       "metadata": {},
       "type": "ipynbError"
      }
     },
     "output_type": "display_data"
    }
   ],
   "source": [
    "%sql\n",
    "\n",
    "-- Validação do atributo `Inscrições perdidas` (lost_subscribers)\n",
    "\n",
    "\n",
    "-- Contagem de NULLs (se resultado = vazio, então nenhum NULL)\n",
    "select\n",
    "count(*)\n",
    "from stage.stg__gastronomades_data_history as gdh\n",
    "where 1=1\n",
    "and gdh.lost_subscribers is null;\n",
    "\n",
    "\n",
    "-- Mínimo e Máximo (atributo tipo int)\n",
    "select\n",
    "  min(cast(gdh.lost_subscribers as int)) as min\n",
    ", max(cast(gdh.lost_subscribers as int)) as max\n",
    "from stage.stg__gastronomades_data_history as gdh;\n",
    "\n",
    "\n",
    "-- Identificação do registro com valor máximo\n",
    "select \n",
    "*\n",
    "from stage.stg__gastronomades_data_history as gdh\n",
    "where 1=1\n",
    "and cast(gdh.lost_subscribers as int) = (\n",
    "  \n",
    "  select max(cast(gdh.lost_subscribers as int)) from stage.stg__gastronomades_data_history as gdh\n",
    "  \n",
    ");"
   ]
  },
  {
   "cell_type": "code",
   "execution_count": 0,
   "metadata": {
    "application/vnd.databricks.v1+cell": {
     "cellMetadata": {
      "byteLimit": 2048000,
      "implicitDf": true,
      "rowLimit": 10000
     },
     "inputWidgets": {},
     "nuid": "09b919b3-1f0b-477b-b3a3-d6b90ec91ed6",
     "showTitle": false,
     "tableResultSettingsMap": {},
     "title": ""
    }
   },
   "outputs": [
    {
     "output_type": "display_data",
     "data": {
      "text/html": [
       "<style scoped>\n",
       "  .ansiout {\n",
       "    display: block;\n",
       "    unicode-bidi: embed;\n",
       "    white-space: pre-wrap;\n",
       "    word-wrap: break-word;\n",
       "    word-break: break-all;\n",
       "    font-family: \"Menlo\", \"Monaco\", \"Consolas\", \"Ubuntu Mono\", \"Source Code Pro\", monospace;\n",
       "    font-size: 13px;\n",
       "    color: #555;\n",
       "    margin-left: 4px;\n",
       "    line-height: 19px;\n",
       "  }\n",
       "</style>"
      ]
     },
     "metadata": {
      "application/vnd.databricks.v1+output": {
       "arguments": {},
       "data": "",
       "errorSummary": "Command skipped",
       "errorTraceType": "html",
       "metadata": {},
       "type": "ipynbError"
      }
     },
     "output_type": "display_data"
    }
   ],
   "source": [
    "%sql\n",
    "\n",
    "-- Validação do atributo `Compartilhamentos` (shares)\n",
    "\n",
    "\n",
    "-- Contagem de NULLs (se resultado = vazio, então nenhum NULL)\n",
    "select\n",
    "count(*)\n",
    "from stage.stg__gastronomades_data_history as gdh\n",
    "where 1=1\n",
    "and gdh.shares is null;\n",
    "\n",
    "\n",
    "-- Mínimo e Máximo (atributo tipo int)\n",
    "select\n",
    "  min(cast(gdh.shares as int)) as min\n",
    ", max(cast(gdh.shares as int)) as max\n",
    "from stage.stg__gastronomades_data_history as gdh;\n",
    "\n",
    "\n",
    "-- Identificação do registro com valor máximo\n",
    "select \n",
    "*\n",
    "from stage.stg__gastronomades_data_history as gdh\n",
    "where 1=1\n",
    "and cast(gdh.shares as int) = (\n",
    "  \n",
    "  select max(cast(gdh.shares as int)) from stage.stg__gastronomades_data_history as gdh\n",
    "  \n",
    ");\n"
   ]
  },
  {
   "cell_type": "code",
   "execution_count": 0,
   "metadata": {
    "application/vnd.databricks.v1+cell": {
     "cellMetadata": {
      "byteLimit": 2048000,
      "implicitDf": true,
      "rowLimit": 10000
     },
     "inputWidgets": {},
     "nuid": "b94cd796-10b8-4c76-a313-55ade189364c",
     "showTitle": false,
     "tableResultSettingsMap": {},
     "title": ""
    }
   },
   "outputs": [
    {
     "output_type": "display_data",
     "data": {
      "text/html": [
       "<style scoped>\n",
       "  .ansiout {\n",
       "    display: block;\n",
       "    unicode-bidi: embed;\n",
       "    white-space: pre-wrap;\n",
       "    word-wrap: break-word;\n",
       "    word-break: break-all;\n",
       "    font-family: \"Menlo\", \"Monaco\", \"Consolas\", \"Ubuntu Mono\", \"Source Code Pro\", monospace;\n",
       "    font-size: 13px;\n",
       "    color: #555;\n",
       "    margin-left: 4px;\n",
       "    line-height: 19px;\n",
       "  }\n",
       "</style>"
      ]
     },
     "metadata": {
      "application/vnd.databricks.v1+output": {
       "arguments": {},
       "data": "",
       "errorSummary": "Command skipped",
       "errorTraceType": "html",
       "metadata": {},
       "type": "ipynbError"
      }
     },
     "output_type": "display_data"
    }
   ],
   "source": [
    "%sql\n",
    "\n",
    "-- Validação do atributo `Comentários adicionados` (added_comments)\n",
    "\n",
    "\n",
    "-- Contagem de NULLs (se resultado = vazio, então nenhum NULL)\n",
    "select\n",
    "count(*)\n",
    "from stage.stg__gastronomades_data_history as gdh\n",
    "where 1=1\n",
    "and gdh.added_comments is null;\n",
    "\n",
    "\n",
    "-- Mínimo e Máximo (atributo tipo int)\n",
    "select\n",
    "  min(cast(gdh.added_comments as int)) as min\n",
    ", max(cast(gdh.added_comments as int)) as max\n",
    "from stage.stg__gastronomades_data_history as gdh;\n",
    "\n",
    "\n",
    "\n",
    "-- Identificação do registro com valor máximo\n",
    "select \n",
    "*\n",
    "from stage.stg__gastronomades_data_history as gdh\n",
    "where 1=1\n",
    "and cast(gdh.added_comments as int) = (\n",
    "  \n",
    "  select max(cast(gdh.added_comments as int)) from stage.stg__gastronomades_data_history as gdh\n",
    "  \n",
    ");\n",
    "\n"
   ]
  },
  {
   "cell_type": "code",
   "execution_count": 0,
   "metadata": {
    "application/vnd.databricks.v1+cell": {
     "cellMetadata": {
      "byteLimit": 2048000,
      "implicitDf": true,
      "rowLimit": 10000
     },
     "inputWidgets": {},
     "nuid": "f8367368-8b36-49b1-92d1-9d7335f9409b",
     "showTitle": false,
     "tableResultSettingsMap": {},
     "title": ""
    }
   },
   "outputs": [
    {
     "output_type": "display_data",
     "data": {
      "text/html": [
       "<style scoped>\n",
       "  .ansiout {\n",
       "    display: block;\n",
       "    unicode-bidi: embed;\n",
       "    white-space: pre-wrap;\n",
       "    word-wrap: break-word;\n",
       "    word-break: break-all;\n",
       "    font-family: \"Menlo\", \"Monaco\", \"Consolas\", \"Ubuntu Mono\", \"Source Code Pro\", monospace;\n",
       "    font-size: 13px;\n",
       "    color: #555;\n",
       "    margin-left: 4px;\n",
       "    line-height: 19px;\n",
       "  }\n",
       "</style>"
      ]
     },
     "metadata": {
      "application/vnd.databricks.v1+output": {
       "arguments": {},
       "data": "",
       "errorSummary": "Command skipped",
       "errorTraceType": "html",
       "metadata": {},
       "type": "ipynbError"
      }
     },
     "output_type": "display_data"
    }
   ],
   "source": [
    "%sql\n",
    "-- Validação do atributo `\"\"\"Gostei\"\" (vs. \"\"Não gostei\"\") (%)\"` (like_rate)\n",
    "\n",
    "\n",
    "-- Contagem de NULLs (se resultado = vazio, então nenhum NULL)\n",
    "select\n",
    "count(*)\n",
    "from stage.stg__gastronomades_data_history as gdh\n",
    "where 1=1\n",
    "and gdh.like_rate is null;\n",
    "\n",
    "\n",
    "-- Mínimo e Máximo (atributo tipo int)\n",
    "select\n",
    "  min(cast(gdh.like_rate as float)) as min\n",
    ", max(cast(gdh.like_rate as float)) as max\n",
    "from stage.stg__gastronomades_data_history as gdh;\n",
    "\n",
    "\n",
    "-- Identificação do registro com valor máximo\n",
    "select \n",
    "*\n",
    "from stage.stg__gastronomades_data_history as gdh\n",
    "where 1=1\n",
    "and cast(gdh.like_rate as float) = (\n",
    "  \n",
    "  select max(cast(gdh.like_rate as float)) from stage.stg__gastronomades_data_history as gdh\n",
    "  \n",
    ");"
   ]
  },
  {
   "cell_type": "code",
   "execution_count": 0,
   "metadata": {
    "application/vnd.databricks.v1+cell": {
     "cellMetadata": {
      "byteLimit": 2048000,
      "implicitDf": true,
      "rowLimit": 10000
     },
     "inputWidgets": {},
     "nuid": "6a5edddb-acbb-4c35-acfe-90da688ecf85",
     "showTitle": false,
     "tableResultSettingsMap": {},
     "title": ""
    }
   },
   "outputs": [
    {
     "output_type": "display_data",
     "data": {
      "text/html": [
       "<style scoped>\n",
       "  .ansiout {\n",
       "    display: block;\n",
       "    unicode-bidi: embed;\n",
       "    white-space: pre-wrap;\n",
       "    word-wrap: break-word;\n",
       "    word-break: break-all;\n",
       "    font-family: \"Menlo\", \"Monaco\", \"Consolas\", \"Ubuntu Mono\", \"Source Code Pro\", monospace;\n",
       "    font-size: 13px;\n",
       "    color: #555;\n",
       "    margin-left: 4px;\n",
       "    line-height: 19px;\n",
       "  }\n",
       "</style>"
      ]
     },
     "metadata": {
      "application/vnd.databricks.v1+output": {
       "arguments": {},
       "data": "",
       "errorSummary": "Command skipped",
       "errorTraceType": "html",
       "metadata": {},
       "type": "ipynbError"
      }
     },
     "output_type": "display_data"
    }
   ],
   "source": [
    "%sql\n",
    "\n",
    "-- Validação do atributo `Cards mostrados` (shown_cards)\n",
    "\n",
    "\n",
    "-- Contagem de NULLs (se resultado = vazio, então nenhum NULL)\n",
    "select\n",
    "count(*)\n",
    "from stage.stg__gastronomades_data_history as gdh\n",
    "where 1=1\n",
    "and gdh.shown_cards is null;\n",
    "\n",
    "\n",
    "-- Mínimo e Máximo (atributo tipo int)\n",
    "select\n",
    "  min(cast(gdh.shown_cards as int)) as min\n",
    ", max(cast(gdh.shown_cards as int)) as max\n",
    "from stage.stg__gastronomades_data_history as gdh;\n",
    "\n",
    "\n",
    "-- Identificação do registro com valor máximo\n",
    "select \n",
    "*\n",
    "from stage.stg__gastronomades_data_history as gdh\n",
    "where 1=1\n",
    "and cast(gdh.shown_cards as int) = (\n",
    "  \n",
    "  select max(cast(gdh.shown_cards as int)) from stage.stg__gastronomades_data_history as gdh\n",
    "  \n",
    ");"
   ]
  },
  {
   "cell_type": "code",
   "execution_count": 0,
   "metadata": {
    "application/vnd.databricks.v1+cell": {
     "cellMetadata": {
      "byteLimit": 2048000,
      "implicitDf": true,
      "rowLimit": 10000
     },
     "inputWidgets": {},
     "nuid": "4aaf2144-0479-4912-811d-23a9d3482a73",
     "showTitle": false,
     "tableResultSettingsMap": {},
     "title": ""
    }
   },
   "outputs": [
    {
     "output_type": "display_data",
     "data": {
      "text/html": [
       "<style scoped>\n",
       "  .ansiout {\n",
       "    display: block;\n",
       "    unicode-bidi: embed;\n",
       "    white-space: pre-wrap;\n",
       "    word-wrap: break-word;\n",
       "    word-break: break-all;\n",
       "    font-family: \"Menlo\", \"Monaco\", \"Consolas\", \"Ubuntu Mono\", \"Source Code Pro\", monospace;\n",
       "    font-size: 13px;\n",
       "    color: #555;\n",
       "    margin-left: 4px;\n",
       "    line-height: 19px;\n",
       "  }\n",
       "</style>"
      ]
     },
     "metadata": {
      "application/vnd.databricks.v1+output": {
       "arguments": {},
       "data": "",
       "errorSummary": "Command skipped",
       "errorTraceType": "html",
       "metadata": {},
       "type": "ipynbError"
      }
     },
     "output_type": "display_data"
    }
   ],
   "source": [
    "%sql\n",
    "-- Validação do atributo `Cliques por card mostrado (%)` (card_click_rate)\n",
    "\n",
    "\n",
    "-- Contagem de NULLs (se resultado = vazio, então nenhum NULL)\n",
    "select\n",
    "count(*)\n",
    "from stage.stg__gastronomades_data_history as gdh\n",
    "where 1=1\n",
    "and gdh.card_click_rate is null;\n",
    "\n",
    "\n",
    "-- Mínimo e Máximo (atributo tipo int)\n",
    "select\n",
    "  min(cast(gdh.card_click_rate as float)) as min\n",
    ", max(cast(gdh.card_click_rate as float)) as max\n",
    "from stage.stg__gastronomades_data_history as gdh;\n",
    "\n",
    "\n",
    "-- Identificação do registro com valor máximo\n",
    "select \n",
    "*\n",
    "from stage.stg__gastronomades_data_history as gdh\n",
    "where 1=1\n",
    "and cast(gdh.card_click_rate as float) = (\n",
    "  \n",
    "  select max(cast(gdh.card_click_rate as float)) from stage.stg__gastronomades_data_history as gdh\n",
    "  \n",
    ");\n",
    "\n"
   ]
  },
  {
   "cell_type": "code",
   "execution_count": 0,
   "metadata": {
    "application/vnd.databricks.v1+cell": {
     "cellMetadata": {
      "byteLimit": 2048000,
      "implicitDf": true,
      "rowLimit": 10000
     },
     "inputWidgets": {},
     "nuid": "ab7ce648-9556-4d46-a837-179f8339a5b5",
     "showTitle": false,
     "tableResultSettingsMap": {},
     "title": ""
    }
   },
   "outputs": [
    {
     "output_type": "display_data",
     "data": {
      "text/html": [
       "<style scoped>\n",
       "  .ansiout {\n",
       "    display: block;\n",
       "    unicode-bidi: embed;\n",
       "    white-space: pre-wrap;\n",
       "    word-wrap: break-word;\n",
       "    word-break: break-all;\n",
       "    font-family: \"Menlo\", \"Monaco\", \"Consolas\", \"Ubuntu Mono\", \"Source Code Pro\", monospace;\n",
       "    font-size: 13px;\n",
       "    color: #555;\n",
       "    margin-left: 4px;\n",
       "    line-height: 19px;\n",
       "  }\n",
       "</style>"
      ]
     },
     "metadata": {
      "application/vnd.databricks.v1+output": {
       "arguments": {},
       "data": "",
       "errorSummary": "Command skipped",
       "errorTraceType": "html",
       "metadata": {},
       "type": "ipynbError"
      }
     },
     "output_type": "display_data"
    }
   ],
   "source": [
    "%sql\n",
    "-- Validação do atributo `Elementos da tela final exibidos` (end_screen_elements_shown)\n",
    "\n",
    "\n",
    "-- Contagem de NULLs (se resultado = vazio, então nenhum NULL)\n",
    "select\n",
    "count(*)\n",
    "from stage.stg__gastronomades_data_history as gdh\n",
    "where 1=1\n",
    "and gdh.end_screen_elements_shown is null;\n",
    "\n",
    "\n",
    "-- Mínimo e Máximo (atributo tipo int)\n",
    "select\n",
    "  min(cast(gdh.end_screen_elements_shown as int)) as min\n",
    ", max(cast(gdh.end_screen_elements_shown as int)) as max\n",
    "from stage.stg__gastronomades_data_history as gdh;\n",
    "\n",
    "\n",
    "-- Identificação do registro com valor máximo\n",
    "select \n",
    "*\n",
    "from stage.stg__gastronomades_data_history as gdh\n",
    "where 1=1\n",
    "and cast(gdh.end_screen_elements_shown as int) = (\n",
    "  \n",
    "  select max(cast(gdh.end_screen_elements_shown as int)) from stage.stg__gastronomades_data_history as gdh\n",
    "  \n",
    ");"
   ]
  },
  {
   "cell_type": "code",
   "execution_count": 0,
   "metadata": {
    "application/vnd.databricks.v1+cell": {
     "cellMetadata": {
      "byteLimit": 2048000,
      "implicitDf": true,
      "rowLimit": 10000
     },
     "inputWidgets": {},
     "nuid": "c997c94b-997a-4847-b5f7-ec0cddf08e15",
     "showTitle": false,
     "tableResultSettingsMap": {},
     "title": ""
    }
   },
   "outputs": [
    {
     "output_type": "display_data",
     "data": {
      "text/html": [
       "<style scoped>\n",
       "  .ansiout {\n",
       "    display: block;\n",
       "    unicode-bidi: embed;\n",
       "    white-space: pre-wrap;\n",
       "    word-wrap: break-word;\n",
       "    word-break: break-all;\n",
       "    font-family: \"Menlo\", \"Monaco\", \"Consolas\", \"Ubuntu Mono\", \"Source Code Pro\", monospace;\n",
       "    font-size: 13px;\n",
       "    color: #555;\n",
       "    margin-left: 4px;\n",
       "    line-height: 19px;\n",
       "  }\n",
       "</style>"
      ]
     },
     "metadata": {
      "application/vnd.databricks.v1+output": {
       "arguments": {},
       "data": "",
       "errorSummary": "Command skipped",
       "errorTraceType": "html",
       "metadata": {},
       "type": "ipynbError"
      }
     },
     "output_type": "display_data"
    }
   ],
   "source": [
    "%sql\n",
    "-- Validação do atributo `Cliques no elemento da tela final` (end_screen_clicks)\n",
    "\n",
    "\n",
    "-- Contagem de NULLs (se resultado = vazio, então nenhum NULL)\n",
    "select\n",
    "count(*)\n",
    "from stage.stg__gastronomades_data_history as gdh\n",
    "where 1=1\n",
    "and gdh.end_screen_clicks is null;\n",
    "\n",
    "\n",
    "\n",
    "-- Mínimo e Máximo (atributo tipo int)\n",
    "select\n",
    "  min(cast(gdh.end_screen_clicks as int)) as min\n",
    ", max(cast(gdh.end_screen_clicks as int)) as max\n",
    "from stage.stg__gastronomades_data_history as gdh;\n",
    "\n",
    "\n",
    "\n",
    "-- Identificação do registro com valor máximo\n",
    "select \n",
    "*\n",
    "from stage.stg__gastronomades_data_history as gdh\n",
    "where 1=1\n",
    "and cast(gdh.end_screen_clicks as int) = (\n",
    "  \n",
    "  select max(cast(gdh.end_screen_clicks as int)) from stage.stg__gastronomades_data_history as gdh\n",
    "  \n",
    ");\n"
   ]
  },
  {
   "cell_type": "code",
   "execution_count": 0,
   "metadata": {
    "application/vnd.databricks.v1+cell": {
     "cellMetadata": {
      "byteLimit": 2048000,
      "implicitDf": true,
      "rowLimit": 10000
     },
     "inputWidgets": {},
     "nuid": "24f78442-6e2a-4462-b2f6-1772b69ffcd8",
     "showTitle": false,
     "tableResultSettingsMap": {},
     "title": ""
    }
   },
   "outputs": [
    {
     "output_type": "display_data",
     "data": {
      "text/html": [
       "<style scoped>\n",
       "  .ansiout {\n",
       "    display: block;\n",
       "    unicode-bidi: embed;\n",
       "    white-space: pre-wrap;\n",
       "    word-wrap: break-word;\n",
       "    word-break: break-all;\n",
       "    font-family: \"Menlo\", \"Monaco\", \"Consolas\", \"Ubuntu Mono\", \"Source Code Pro\", monospace;\n",
       "    font-size: 13px;\n",
       "    color: #555;\n",
       "    margin-left: 4px;\n",
       "    line-height: 19px;\n",
       "  }\n",
       "</style>"
      ]
     },
     "metadata": {
      "application/vnd.databricks.v1+output": {
       "arguments": {},
       "data": "",
       "errorSummary": "Command skipped",
       "errorTraceType": "html",
       "metadata": {},
       "type": "ipynbError"
      }
     },
     "output_type": "display_data"
    }
   ],
   "source": [
    "%sql\n",
    "-- Validação do atributo `Cliques por elemento da tela final mostrado (%)` (end_screen_click_rate)\n",
    "\n",
    "\n",
    "-- Contagem de NULLs (se resultado = vazio, então nenhum NULL)\n",
    "select\n",
    "count(*)\n",
    "from stage.stg__gastronomades_data_history as gdh\n",
    "where 1=1\n",
    "and gdh.end_screen_click_rate is null;\n",
    "\n",
    "\n",
    "\n",
    "-- Mínimo e Máximo (atributo tipo int)\n",
    "select\n",
    "  min(cast(gdh.end_screen_click_rate as float)) as min\n",
    ", max(cast(gdh.end_screen_click_rate as float)) as max\n",
    "from stage.stg__gastronomades_data_history as gdh;\n",
    "\n",
    "\n",
    "\n",
    "-- Identificação do registro com valor máximo\n",
    "select \n",
    "*\n",
    "from stage.stg__gastronomades_data_history as gdh\n",
    "where 1=1\n",
    "and cast(gdh.end_screen_click_rate as float) = (\n",
    "  \n",
    "  select max(cast(gdh.end_screen_click_rate as float)) from stage.stg__gastronomades_data_history as gdh\n",
    "  \n",
    ");"
   ]
  },
  {
   "cell_type": "markdown",
   "metadata": {
    "application/vnd.databricks.v1+cell": {
     "cellMetadata": {
      "byteLimit": 2048000,
      "rowLimit": 10000
     },
     "inputWidgets": {},
     "nuid": "8b063bd3-56c5-473d-8e1b-c59356070f09",
     "showTitle": false,
     "tableResultSettingsMap": {},
     "title": ""
    }
   },
   "source": [
    "# 4. Modelagem dos dados\n",
    "Nesta seção, faremos a modelagem dos dados a partir da Modelagem Dimensional, embasada na metodologia Star Schema. Dessa forma, além de apresentar as tabelas fato e dimensão que serão construídas no Data Warehouse (DW), também mostraremos o diagrama e o catálogo de dados."
   ]
  },
  {
   "cell_type": "markdown",
   "metadata": {
    "application/vnd.databricks.v1+cell": {
     "cellMetadata": {
      "byteLimit": 2048000,
      "rowLimit": 10000
     },
     "inputWidgets": {},
     "nuid": "91ecb1c8-666d-4881-bd2f-768e6ba9511a",
     "showTitle": false,
     "tableResultSettingsMap": {},
     "title": ""
    }
   },
   "source": [
    "## 4.1 Catálogo de dados\n",
    "O catálogo de dados tem como objetivo consolidar os metadados dos dados que estão sendo utilizados neste MVP, a fim de realizar um mapeamento entre os dados brutos e os dados modelados. \n"
   ]
  },
  {
   "cell_type": "markdown",
   "metadata": {
    "application/vnd.databricks.v1+cell": {
     "cellMetadata": {
      "byteLimit": 2048000,
      "rowLimit": 10000
     },
     "inputWidgets": {},
     "nuid": "a64b0af7-7ae9-4089-8a42-92cb98563a99",
     "showTitle": false,
     "tableResultSettingsMap": {},
     "title": ""
    }
   },
   "source": [
    "**Tabela 1:** Catálogo dos dados\n",
    "\n",
    "| Origem | Tipo Origem | Descrição | Permite NULLs? | Destino (DW) | Tipo Destino | Intervalo |\n",
    "| - | - | - | - | - | - | - |\n",
    "| Conteúdo | string | Identificador único do conteúdo | N | content_id | string | NA |\n",
    "| Título do vídeo | string | Título do conteúdo | N | content_title | string | NA |\n",
    "| Horário de publicação do vídeo | string | Data de publicação do conteúdo | N | content_publish_date | date | 2022-11-05;\t2025-03-10 |\n",
    "| Duração | string | Duração do conteúdo (segundos) | N | content_duration | int | 6; 4.140 |\n",
    "| Receita estimada (BRL) | string | Receita estimada (R$)| S | estimated_revenue | float | 0; 161,49 |\n",
    "| Estimativa de reproduções monetizadas | string | Número de reproduções monetizadas | S | estimated_monetized_playbacks | int | 1; 7.141 |\n",
    "| CPM (BRL) | string | Custo por Mil Impressões | S | cost_per_thousand_impressions | float | 0; 142,83 |\n",
    "| RPM (BRL) | string | Receita por Mil Visualizações | S | revenue_per_thousand_views | float | 0; 1.758 |\n",
    "| Impressões | string | Número de impressões | N | impressions | int | 0; 314.560 |\n",
    "| Visualizações | string | Número de impressões | S | views | int | 0; 17.507 |\n",
    "| Taxa de cliques de impressões (%) | string | Taxa de cliques de impressões (%) | S | click_through_rate | float | 0; 25 |\n",
    "| Duração média da visualização | string | Duração média da visualização | S | avg_duration_view_rate | string | 00:00:00; 00:20:02  |\n",
    "| Tempo de exibição (horas) | string | Tempo de exibição (horas) | S | watch_time | int | 0; 2.945,19  |\n",
    "| Porcentagem visualizada média (%) | string | Taxa média de visualização (%) | S | avg_view_rate | int | 0,09; 639,86 |\n",
    "| Inscritos | string | Número de inscritos obtidos | S | gained_subscribers | int | -1; 219 |\n",
    "| Inscrições perdidas | string | Número de inscritos perdidos | S | lost_subscribers | int | 0; 3 |\n",
    "| Compartilhamentos | string | Número de compartilhamentos | S | shares | int | 0; 115 |\n",
    "| Comentários adicionados | string | Número de comentários | S | added_comments | int | 0; 8 |\n",
    "| \"\"\"Gostei\"\" (vs. \"\"Não gostei\"\") (%)\" | string | Taxa de likes | S | like_rate | float | 0; 150 |\n",
    "| Cards mostrados | string | Número de cards exibidos | S | shown_cards | int | 0; 50 |\n",
    "| Cliques por card mostrado (%) | string | Taxa de cliques em cards (%) | S | card_click_rate | float | 0; 100 |\n",
    "| Elementos da tela final exibidos | string | Número de elementos exibidos na tela final | S | end_screen_elements_shown | int | 0; 4275 |\n",
    "| Cliques no elemento da tela final | string | Número de cliques em elementos exibidos na tela final | S | end_screen_clicks | int | 0; 78 |\n",
    "| Cliques por elemento da tela final mostrado (%) | string | Taxa de cliques em elementos exibidos na tela final (%) | S | end_screen_click_rate | float | 0; 50 |\n"
   ]
  },
  {
   "cell_type": "markdown",
   "metadata": {
    "application/vnd.databricks.v1+cell": {
     "cellMetadata": {
      "byteLimit": 2048000,
      "rowLimit": 10000
     },
     "inputWidgets": {},
     "nuid": "759f8dcd-cda2-43cf-b0c1-04a3a0e2fa9d",
     "showTitle": false,
     "tableResultSettingsMap": {},
     "title": ""
    }
   },
   "source": [
    "## 4.2 Diagrama\n",
    "Os dados serão modelados a partir da Modelagem Dimensional, que é uma abordagem com foco em otimização de consultas e análises em um ambiente de Business Intelligence (BI). Nela, os dados são oranizados em tabelas Fato e Dimensão de acordo com as necessidades de negócio através da metodologia Star Schema. \n",
    "\n",
    "Neste contexto, serão desenvolvidas as seguintes tabelas fato e dimensão:\n",
    "\n",
    "- Dimensão Conteúdo\n",
    "- Dimensão Playlist\n",
    "- Dimensão Calendário\n",
    "- Fato Receita\n",
    "- Fato Visualizações\n",
    "- Fato Engajamento"
   ]
  },
  {
   "cell_type": "markdown",
   "metadata": {
    "application/vnd.databricks.v1+cell": {
     "cellMetadata": {
      "byteLimit": 2048000,
      "rowLimit": 10000
     },
     "inputWidgets": {},
     "nuid": "0f8b9669-7c36-4c97-8a1a-e6169a460d20",
     "showTitle": false,
     "tableResultSettingsMap": {},
     "title": ""
    }
   },
   "source": [
    "colocar o diagrama em imagem"
   ]
  },
  {
   "cell_type": "markdown",
   "metadata": {
    "application/vnd.databricks.v1+cell": {
     "cellMetadata": {
      "byteLimit": 2048000,
      "rowLimit": 10000
     },
     "inputWidgets": {},
     "nuid": "fb16c33d-50d0-4893-830c-6a62781994f6",
     "showTitle": false,
     "tableResultSettingsMap": {},
     "title": ""
    }
   },
   "source": [
    "## 4.3 Data Warehouse (DW)\n",
    "A partir dos dados brutos armazenados na camada Stage, faremos a modelagem dimensional dos dados utilizando a metodologia Star Schema, que tem como objetivo construir as tabelas fato e dimensão de acordo com as necessidades de negócio. "
   ]
  },
  {
   "cell_type": "markdown",
   "metadata": {
    "application/vnd.databricks.v1+cell": {
     "cellMetadata": {
      "byteLimit": 2048000,
      "rowLimit": 10000
     },
     "inputWidgets": {},
     "nuid": "b522d361-2cf4-4a83-96da-6612b9945c3c",
     "showTitle": false,
     "tableResultSettingsMap": {},
     "title": ""
    }
   },
   "source": [
    "### 4.3.1 Preparo do DW\n",
    "Este é um passo simples que consiste em apagar todos os objetos construídos no DataWarehouse para que possamos simular em espécie de carga full das tabelas fato e dimensão."
   ]
  },
  {
   "cell_type": "code",
   "execution_count": 0,
   "metadata": {
    "application/vnd.databricks.v1+cell": {
     "cellMetadata": {
      "byteLimit": 2048000,
      "rowLimit": 10000
     },
     "inputWidgets": {},
     "nuid": "df25df33-ff5e-4b25-83ea-44044475596c",
     "showTitle": false,
     "tableResultSettingsMap": {},
     "title": ""
    }
   },
   "outputs": [],
   "source": [
    "#Exibe os diretórios do DW\n",
    "\n",
    "#display(dbutils.fs.ls(\"dbfs:/user/hive/warehouse/datawarehouse.db/\"))"
   ]
  },
  {
   "cell_type": "code",
   "execution_count": 0,
   "metadata": {
    "application/vnd.databricks.v1+cell": {
     "cellMetadata": {
      "byteLimit": 2048000,
      "rowLimit": 10000
     },
     "inputWidgets": {},
     "nuid": "ac5ee1fa-4ada-41a5-9a45-343e052edf41",
     "showTitle": false,
     "tableResultSettingsMap": {},
     "title": ""
    }
   },
   "outputs": [
    {
     "output_type": "stream",
     "name": "stdout",
     "output_type": "stream",
     "text": [
      "Out[274]: False"
     ]
    }
   ],
   "source": [
    "#Remove os arquivos do DW\n",
    "\n",
    "# tabelas dimensão\n",
    "dbutils.fs.rm(\"dbfs:/user/hive/warehouse/datawarehouse.db/dw__content\", recurse=True)\n",
    "dbutils.fs.rm(\"dbfs:/user/hive/warehouse/datawarehouse.db/dw__calendar\", recurse=True)\n",
    "\n",
    "# tabelas fato\n",
    "dbutils.fs.rm(\"dbfs:/user/hive/warehouse/datawarehouse.db/dw__views\", recurse=True)\n",
    "dbutils.fs.rm(\"dbfs:/user/hive/warehouse/datawarehouse.db/dw__revenue\", recurse=True)\n",
    "dbutils.fs.rm(\"dbfs:/user/hive/warehouse/datawarehouse.db/dw__engagement\", recurse=True)\n"
   ]
  },
  {
   "cell_type": "code",
   "execution_count": 0,
   "metadata": {
    "application/vnd.databricks.v1+cell": {
     "cellMetadata": {
      "byteLimit": 2048000,
      "implicitDf": true,
      "rowLimit": 10000
     },
     "inputWidgets": {},
     "nuid": "be9ffb2d-e62e-4f22-a627-792988b0a379",
     "showTitle": false,
     "tableResultSettingsMap": {},
     "title": ""
    }
   },
   "outputs": [
    {
     "output_type": "display_data",
     "data": {
      "text/html": [
       "<style scoped>\n",
       "  .table-result-container {\n",
       "    max-height: 300px;\n",
       "    overflow: auto;\n",
       "  }\n",
       "  table, th, td {\n",
       "    border: 1px solid black;\n",
       "    border-collapse: collapse;\n",
       "  }\n",
       "  th, td {\n",
       "    padding: 5px;\n",
       "  }\n",
       "  th {\n",
       "    text-align: left;\n",
       "  }\n",
       "</style><div class='table-result-container'><table class='table-result'><thead style='background-color: white'><tr></tr></thead><tbody></tbody></table></div>"
      ]
     },
     "metadata": {
      "application/vnd.databricks.v1+output": {
       "addedWidgets": {},
       "aggData": [],
       "aggError": "",
       "aggOverflow": false,
       "aggSchema": [],
       "aggSeriesLimitReached": false,
       "aggType": "",
       "arguments": {},
       "columnCustomDisplayInfos": {},
       "data": [],
       "datasetInfos": [],
       "dbfsResultPath": null,
       "isJsonSchema": true,
       "metadata": {},
       "overflow": false,
       "plotOptions": {
        "customPlotOptions": {},
        "displayType": "table",
        "pivotAggregation": null,
        "pivotColumns": null,
        "xColumns": null,
        "yColumns": null
       },
       "removedWidgets": [],
       "schema": [],
       "type": "table"
      }
     },
     "output_type": "display_data"
    }
   ],
   "source": [
    "%sql\n",
    "-- Exclui as tabelas para fazer a carga full\n",
    "\n",
    "drop table if exists datawarehouse.dw__content;\n",
    "drop table if exists datawarehouse.dw__calendar;\n",
    "drop table if exists datawarehouse.dw__revenue;\n",
    "drop table if exists datawarehouse.dw__views;"
   ]
  },
  {
   "cell_type": "markdown",
   "metadata": {
    "application/vnd.databricks.v1+cell": {
     "cellMetadata": {
      "byteLimit": 2048000,
      "rowLimit": 10000
     },
     "inputWidgets": {},
     "nuid": "039e0160-da56-492b-a1e3-8e44f0410678",
     "showTitle": false,
     "tableResultSettingsMap": {},
     "title": ""
    }
   },
   "source": [
    "### 4.3.2 Tabelas Fato e Dimensão"
   ]
  },
  {
   "cell_type": "markdown",
   "metadata": {
    "application/vnd.databricks.v1+cell": {
     "cellMetadata": {
      "byteLimit": 2048000,
      "rowLimit": 10000
     },
     "inputWidgets": {},
     "nuid": "2e4020a9-0c20-4c0f-aec1-f331e50a8986",
     "showTitle": false,
     "tableResultSettingsMap": {},
     "title": ""
    }
   },
   "source": [
    "#### Dimensão Conteúdo\n",
    "A Dimensão Conteúdo tem como objetivo consolidar os dados de todos os conteúdos produzimos pelo canal Gastronomades, bem como seus atributos de interesse, como título, tipo, duração, data de publicação, entre outros."
   ]
  },
  {
   "cell_type": "code",
   "execution_count": 0,
   "metadata": {
    "application/vnd.databricks.v1+cell": {
     "cellMetadata": {
      "byteLimit": 2048000,
      "implicitDf": true,
      "rowLimit": 10000
     },
     "inputWidgets": {},
     "nuid": "4d8f2655-7438-4bb0-9639-73514f7a0b5b",
     "showTitle": false,
     "tableResultSettingsMap": {},
     "title": ""
    }
   },
   "outputs": [
    {
     "output_type": "display_data",
     "data": {
      "text/html": [
       "<style scoped>\n",
       "  .table-result-container {\n",
       "    max-height: 300px;\n",
       "    overflow: auto;\n",
       "  }\n",
       "  table, th, td {\n",
       "    border: 1px solid black;\n",
       "    border-collapse: collapse;\n",
       "  }\n",
       "  th, td {\n",
       "    padding: 5px;\n",
       "  }\n",
       "  th {\n",
       "    text-align: left;\n",
       "  }\n",
       "</style><div class='table-result-container'><table class='table-result'><thead style='background-color: white'><tr><th>content_sk</th><th>content_id</th><th>content_title</th><th>content_type</th><th>content_duration_hhmm</th><th>content_duration_class</th><th>content_publish_date</th></tr></thead><tbody><tr><td>1219285056</td><td>o9AVzmOmFRg</td><td>JÁ PENSOU EM VOAR EM ALFREDO CHAVES? 🌄✨ #turismo #viagem</td><td>short</td><td>00:44</td><td><= 3 minutos</td><td>2025-03-27</td></tr><tr><td>-836324732</td><td>qmOkVUeqNLo</td><td>Descubra MARECHAL FLORIANO | Um pedacinho da EUROPA no Espírito Santo</td><td>video</td><td>37:03</td><td>< 35 minutos</td><td>2025-03-23</td></tr><tr><td>1706400944</td><td>tOkjc0-uPA0</td><td>Natureza, chalé e café fresco. Existe combinação melhor? 🏔️✨</td><td>short</td><td>00:10</td><td><= 3 minutos</td><td>2025-03-17</td></tr><tr><td>453492613</td><td>9BEB8A9Y_zE</td><td>HOSPEDAGEM e AGROTURISMO em um só lugar</td><td>short</td><td>01:39</td><td><= 3 minutos</td><td>2025-03-10</td></tr><tr><td>-990530105</td><td>IttVgyWlEls</td><td>RECIFE é o MELHOR destino gastronômico do Brasil</td><td>video</td><td>27:13</td><td>entre 25 e 35 minutos</td><td>2025-03-09</td></tr><tr><td>623782315</td><td>8HeDX_mFG5g</td><td>Pedacinho da EUROPA no ES 🇮🇹🇩🇪</td><td>short</td><td>01:42</td><td><= 3 minutos</td><td>2025-03-05</td></tr><tr><td>-2007547265</td><td>IdS17O6T7kg</td><td>O QUE FAZER em Alfredo Chaves | Descubra a TERRA das CACHOEIRAS</td><td>video</td><td>22:31</td><td>entre 15 e 25 minutos</td><td>2025-02-16</td></tr><tr><td>-1620805251</td><td>t1YiLGtQozc</td><td>CABANA nas Montanhas Capixabas | Onde se HOSPEDAR em Alfredo Chaves</td><td>short</td><td>01:32</td><td><= 3 minutos</td><td>2025-02-12</td></tr><tr><td>-706033252</td><td>itiyi9T_0Sk</td><td>O Que Fazer nas MONTANHAS de ALFREDO CHAVES? | Natureza e Aventuras no ES</td><td>short</td><td>01:20</td><td><= 3 minutos</td><td>2025-02-06</td></tr><tr><td>-65484957</td><td>ggpWPZ9jco0</td><td>Descubra PORTO de GALINHAS | O VILAREJO mais incrível de PERNAMBUCO</td><td>video</td><td>25:49</td><td>entre 25 e 35 minutos</td><td>2025-02-02</td></tr></tbody></table></div>"
      ]
     },
     "metadata": {
      "application/vnd.databricks.v1+output": {
       "addedWidgets": {},
       "aggData": [],
       "aggError": "",
       "aggOverflow": false,
       "aggSchema": [],
       "aggSeriesLimitReached": false,
       "aggType": "",
       "arguments": {},
       "columnCustomDisplayInfos": {},
       "data": [
        [
         1219285056,
         "o9AVzmOmFRg",
         "JÁ PENSOU EM VOAR EM ALFREDO CHAVES? 🌄✨ #turismo #viagem",
         "short",
         "00:44",
         "<= 3 minutos",
         "2025-03-27"
        ],
        [
         -836324732,
         "qmOkVUeqNLo",
         "Descubra MARECHAL FLORIANO | Um pedacinho da EUROPA no Espírito Santo",
         "video",
         "37:03",
         "< 35 minutos",
         "2025-03-23"
        ],
        [
         1706400944,
         "tOkjc0-uPA0",
         "Natureza, chalé e café fresco. Existe combinação melhor? 🏔️✨",
         "short",
         "00:10",
         "<= 3 minutos",
         "2025-03-17"
        ],
        [
         453492613,
         "9BEB8A9Y_zE",
         "HOSPEDAGEM e AGROTURISMO em um só lugar",
         "short",
         "01:39",
         "<= 3 minutos",
         "2025-03-10"
        ],
        [
         -990530105,
         "IttVgyWlEls",
         "RECIFE é o MELHOR destino gastronômico do Brasil",
         "video",
         "27:13",
         "entre 25 e 35 minutos",
         "2025-03-09"
        ],
        [
         623782315,
         "8HeDX_mFG5g",
         "Pedacinho da EUROPA no ES 🇮🇹🇩🇪",
         "short",
         "01:42",
         "<= 3 minutos",
         "2025-03-05"
        ],
        [
         -2007547265,
         "IdS17O6T7kg",
         "O QUE FAZER em Alfredo Chaves | Descubra a TERRA das CACHOEIRAS",
         "video",
         "22:31",
         "entre 15 e 25 minutos",
         "2025-02-16"
        ],
        [
         -1620805251,
         "t1YiLGtQozc",
         "CABANA nas Montanhas Capixabas | Onde se HOSPEDAR em Alfredo Chaves",
         "short",
         "01:32",
         "<= 3 minutos",
         "2025-02-12"
        ],
        [
         -706033252,
         "itiyi9T_0Sk",
         "O Que Fazer nas MONTANHAS de ALFREDO CHAVES? | Natureza e Aventuras no ES",
         "short",
         "01:20",
         "<= 3 minutos",
         "2025-02-06"
        ],
        [
         -65484957,
         "ggpWPZ9jco0",
         "Descubra PORTO de GALINHAS | O VILAREJO mais incrível de PERNAMBUCO",
         "video",
         "25:49",
         "entre 25 e 35 minutos",
         "2025-02-02"
        ]
       ],
       "datasetInfos": [],
       "dbfsResultPath": null,
       "isJsonSchema": true,
       "metadata": {},
       "overflow": false,
       "plotOptions": {
        "customPlotOptions": {},
        "displayType": "table",
        "pivotAggregation": null,
        "pivotColumns": null,
        "xColumns": null,
        "yColumns": null
       },
       "removedWidgets": [],
       "schema": [
        {
         "metadata": "{}",
         "name": "content_sk",
         "type": "\"integer\""
        },
        {
         "metadata": "{}",
         "name": "content_id",
         "type": "\"string\""
        },
        {
         "metadata": "{}",
         "name": "content_title",
         "type": "\"string\""
        },
        {
         "metadata": "{}",
         "name": "content_type",
         "type": "\"string\""
        },
        {
         "metadata": "{}",
         "name": "content_duration_hhmm",
         "type": "\"string\""
        },
        {
         "metadata": "{}",
         "name": "content_duration_class",
         "type": "\"string\""
        },
        {
         "metadata": "{}",
         "name": "content_publish_date",
         "type": "\"string\""
        }
       ],
       "type": "table"
      }
     },
     "output_type": "display_data"
    }
   ],
   "source": [
    "%sql\n",
    "\n",
    "-- Dimensão Conteúdo\n",
    "\n",
    "-- drop\n",
    "drop table if exists datawarehouse.dw__content;\n",
    "\n",
    "-- create\n",
    "create or replace table datawarehouse.dw__content as (\n",
    "\n",
    "select distinct\n",
    "  hash(gdh.content_id) as content_sk\n",
    ", gdh.content_id\n",
    ", gdh.content_title\n",
    ", case \n",
    "    when cast(gdh.content_duration as int) <= 180 then 'short'\n",
    "    when cast(gdh.content_duration as int) > 180  then 'video'\n",
    "  end as content_type\n",
    ", concat(lpad(floor(cast(gdh.content_duration as int) / 60), 2, '0'), ':', lpad(cast(gdh.content_duration as int) % 60, 2, '0')) as content_duration_hhmm\n",
    ", case \n",
    "    when cast(gdh.content_duration as int) <= 180 then '<= 3 minutos'\n",
    "    when cast(gdh.content_duration as int) between 181 and 900 then 'entre 3 e 15 minutos'\n",
    "    when cast(gdh.content_duration as int) between 900 and 1500 then 'entre 15 e 25 minutos'\n",
    "    when cast(gdh.content_duration as int) between 1501 and 2100 then 'entre 25 e 35 minutos'\n",
    "    when cast(gdh.content_duration as int) >= 2101 then '< 35 minutos'\n",
    "  end as content_duration_class\n",
    ", date_format(to_date(gdh.content_publish_date, 'MMM d, yyyy'), 'yyyy-MM-dd') as content_publish_date  \n",
    "from stage.stg__gastronomades_data_history as gdh\n",
    "where 1=1\n",
    "and gdh.content_id is not null\n",
    "--and gdh.content_title = 'O QUE FAZER em Alfredo Chaves | Descubra a TERRA das CACHOEIRAS'\n",
    ");\n",
    "\n",
    "-- view\n",
    "select * from datawarehouse.dw__content as con\n",
    "order by \n",
    "  con.content_publish_date desc\n",
    "limit 10;"
   ]
  },
  {
   "cell_type": "markdown",
   "metadata": {
    "application/vnd.databricks.v1+cell": {
     "cellMetadata": {
      "byteLimit": 2048000,
      "rowLimit": 10000
     },
     "inputWidgets": {},
     "nuid": "35d7a4c3-8b31-4ac3-a469-465bd1503dc9",
     "showTitle": false,
     "tableResultSettingsMap": {},
     "title": ""
    }
   },
   "source": [
    "#### Dimensão Calendário\n",
    "A Dimensão Calendário tem como objetivo dimensionar atributos de data do modelo, isto é, disponibilizar outras informações associadas as datas existentes nas Tabelas Fato, como ano, semestre, mês, semana, entre outros."
   ]
  },
  {
   "cell_type": "code",
   "execution_count": 0,
   "metadata": {
    "application/vnd.databricks.v1+cell": {
     "cellMetadata": {
      "byteLimit": 2048000,
      "implicitDf": true,
      "rowLimit": 10000
     },
     "inputWidgets": {},
     "nuid": "fc9a6598-8b7d-4f94-b379-d05ca7aab138",
     "showTitle": false,
     "tableResultSettingsMap": {},
     "title": ""
    }
   },
   "outputs": [
    {
     "output_type": "display_data",
     "data": {
      "text/html": [
       "<style scoped>\n",
       "  .table-result-container {\n",
       "    max-height: 300px;\n",
       "    overflow: auto;\n",
       "  }\n",
       "  table, th, td {\n",
       "    border: 1px solid black;\n",
       "    border-collapse: collapse;\n",
       "  }\n",
       "  th, td {\n",
       "    padding: 5px;\n",
       "  }\n",
       "  th {\n",
       "    text-align: left;\n",
       "  }\n",
       "</style><div class='table-result-container'><table class='table-result'><thead style='background-color: white'><tr><th>date_sk</th><th>date</th><th>year</th><th>quarter</th><th>year_and_month</th><th>short_year_and_month</th><th>year_and_month_number</th><th>month_number</th><th>month_name</th><th>week_of_year</th><th>day_of_month</th><th>day_of_week</th><th>day_of_week_name</th><th>weekday_or_weekend</th></tr></thead><tbody><tr><td>1347365991</td><td>2022-01-01</td><td>2022</td><td>1</td><td>2022, January</td><td>2022 Jan</td><td>2022, 1</td><td>1</td><td>January</td><td>52</td><td>1</td><td>7, Saturday</td><td>Saturday</td><td>Weekday</td></tr><tr><td>-1572948575</td><td>2022-01-02</td><td>2022</td><td>1</td><td>2022, January</td><td>2022 Jan</td><td>2022, 1</td><td>1</td><td>January</td><td>52</td><td>2</td><td>1, Sunday</td><td>Sunday</td><td>Weekday</td></tr><tr><td>-1539929955</td><td>2022-01-03</td><td>2022</td><td>1</td><td>2022, January</td><td>2022 Jan</td><td>2022, 1</td><td>1</td><td>January</td><td>1</td><td>3</td><td>2, Monday</td><td>Monday</td><td>Weekend</td></tr></tbody></table></div>"
      ]
     },
     "metadata": {
      "application/vnd.databricks.v1+output": {
       "addedWidgets": {},
       "aggData": [],
       "aggError": "",
       "aggOverflow": false,
       "aggSchema": [],
       "aggSeriesLimitReached": false,
       "aggType": "",
       "arguments": {},
       "columnCustomDisplayInfos": {},
       "data": [
        [
         1347365991,
         "2022-01-01",
         2022,
         1,
         "2022, January",
         "2022 Jan",
         "2022, 1",
         1,
         "January",
         52,
         1,
         "7, Saturday",
         "Saturday",
         "Weekday"
        ],
        [
         -1572948575,
         "2022-01-02",
         2022,
         1,
         "2022, January",
         "2022 Jan",
         "2022, 1",
         1,
         "January",
         52,
         2,
         "1, Sunday",
         "Sunday",
         "Weekday"
        ],
        [
         -1539929955,
         "2022-01-03",
         2022,
         1,
         "2022, January",
         "2022 Jan",
         "2022, 1",
         1,
         "January",
         1,
         3,
         "2, Monday",
         "Monday",
         "Weekend"
        ]
       ],
       "datasetInfos": [],
       "dbfsResultPath": null,
       "isJsonSchema": true,
       "metadata": {},
       "overflow": false,
       "plotOptions": {
        "customPlotOptions": {},
        "displayType": "table",
        "pivotAggregation": null,
        "pivotColumns": null,
        "xColumns": null,
        "yColumns": null
       },
       "removedWidgets": [],
       "schema": [
        {
         "metadata": "{}",
         "name": "date_sk",
         "type": "\"integer\""
        },
        {
         "metadata": "{}",
         "name": "date",
         "type": "\"date\""
        },
        {
         "metadata": "{}",
         "name": "year",
         "type": "\"integer\""
        },
        {
         "metadata": "{}",
         "name": "quarter",
         "type": "\"integer\""
        },
        {
         "metadata": "{}",
         "name": "year_and_month",
         "type": "\"string\""
        },
        {
         "metadata": "{}",
         "name": "short_year_and_month",
         "type": "\"string\""
        },
        {
         "metadata": "{}",
         "name": "year_and_month_number",
         "type": "\"string\""
        },
        {
         "metadata": "{}",
         "name": "month_number",
         "type": "\"integer\""
        },
        {
         "metadata": "{}",
         "name": "month_name",
         "type": "\"string\""
        },
        {
         "metadata": "{}",
         "name": "week_of_year",
         "type": "\"integer\""
        },
        {
         "metadata": "{}",
         "name": "day_of_month",
         "type": "\"integer\""
        },
        {
         "metadata": "{}",
         "name": "day_of_week",
         "type": "\"string\""
        },
        {
         "metadata": "{}",
         "name": "day_of_week_name",
         "type": "\"string\""
        },
        {
         "metadata": "{}",
         "name": "weekday_or_weekend",
         "type": "\"string\""
        }
       ],
       "type": "table"
      }
     },
     "output_type": "display_data"
    }
   ],
   "source": [
    "%sql\n",
    "\n",
    "-- Dimensão Calendário\n",
    "\n",
    "-- drop\n",
    "drop table if exists datawarehouse.dw__calendar;\n",
    "\n",
    "-- create\n",
    "create table datawarehouse.dw__calendar as (\n",
    "\n",
    "    -- Tabela temporária: incremento para adicionar à data\n",
    "    with temp__date as (\n",
    "      select \n",
    "        date_add('2022-01-01', idx) as time_id\n",
    "      from (\n",
    "            select explode(\n",
    "                            sequence(\n",
    "                                      0, date_diff(current_date(),'2022-01-01'),1)) as idx\n",
    "          )\n",
    "    )\n",
    "\n",
    "    -- Main\n",
    "    select\n",
    "      hash(cast(dat.time_id as varchar(10)))                                              as date_sk   \n",
    "    , dat.time_id                                                                         as date\n",
    "    , year(dat.time_id)                                                                   as year \n",
    "    , quarter(dat.time_id)                                                                as quarter\n",
    "    , concat( year(dat.time_id), ', ', date_format(dat.time_id,'MMMM'))                   as year_and_month\n",
    "    , concat( year(dat.time_id), ' ', substring(date_format(dat.time_id,'MMMM'),1,3))     as short_year_and_month  \n",
    "    , concat( year(dat.time_id), ', ', month(dat.time_id))                                as year_and_month_number      \n",
    "    , month(dat.time_id)                                                                  as month_number \n",
    "    , date_format(dat.time_id,'MMMM')                                                     as month_name\n",
    "    , weekofyear(dat.time_id)                                                             as week_of_year\n",
    "    , day(dat.time_id)                                                                    as day_of_month\n",
    "    , concat(\n",
    "              dayofweek(dat.time_id)\n",
    "            , ', '\n",
    "            , date_format(dat.time_id, 'EEEE')\n",
    "                                )                                                         as day_of_week\n",
    "    , date_format(dat.time_id, 'EEEE')                                                    as day_of_week_name                            \n",
    "    , case \n",
    "        when dayofweek(dat.time_id) not in (1,7) then 'Weekend'\n",
    "        else 'Weekday'\n",
    "      end                                                                                 as weekday_or_weekend\n",
    "    from temp__date as dat\n",
    "\n",
    ");\n",
    "\n",
    "-- view\n",
    "select * from datawarehouse.dw__calendar\n",
    "limit 3;"
   ]
  },
  {
   "cell_type": "markdown",
   "metadata": {
    "application/vnd.databricks.v1+cell": {
     "cellMetadata": {
      "byteLimit": 2048000,
      "rowLimit": 10000
     },
     "inputWidgets": {},
     "nuid": "bf0c975e-f3d0-4c2f-981d-506ff2008863",
     "showTitle": false,
     "tableResultSettingsMap": {},
     "title": ""
    }
   },
   "source": [
    "#### Fato Receita\n",
    "A Fato Receita tem como objetivo consolidar as métricas de receita e monetização do canal Gastronomades, como estimativa de reproduções monetizadas, receita estimada, o custo que um anunciante paga para cada mil exibições de anúncios no canal e a receita gerada para o criador de conteúdo para cada mil visualizações do canal."
   ]
  },
  {
   "cell_type": "code",
   "execution_count": 0,
   "metadata": {
    "application/vnd.databricks.v1+cell": {
     "cellMetadata": {
      "byteLimit": 2048000,
      "implicitDf": true,
      "rowLimit": 10000
     },
     "inputWidgets": {},
     "nuid": "0caee15d-39b1-45ed-ae78-59be86b824f1",
     "showTitle": false,
     "tableResultSettingsMap": {},
     "title": ""
    }
   },
   "outputs": [
    {
     "output_type": "display_data",
     "data": {
      "text/html": [
       "<style scoped>\n",
       "  .table-result-container {\n",
       "    max-height: 300px;\n",
       "    overflow: auto;\n",
       "  }\n",
       "  table, th, td {\n",
       "    border: 1px solid black;\n",
       "    border-collapse: collapse;\n",
       "  }\n",
       "  th, td {\n",
       "    padding: 5px;\n",
       "  }\n",
       "  th {\n",
       "    text-align: left;\n",
       "  }\n",
       "</style><div class='table-result-container'><table class='table-result'><thead style='background-color: white'><tr><th>revenue_id</th><th>content_sk</th><th>date_sk</th><th>reference_date</th><th>estimated_monetized_playbacks</th><th>estimated_revenue</th><th>cpm</th><th>rpm</th></tr></thead><tbody><tr><td>-1755916171</td><td>-1638235598</td><td>-264187109</td><td>2022-11-01</td><td>null</td><td>null</td><td>null</td><td>null</td></tr><tr><td>782588824</td><td>1421000376</td><td>-264187109</td><td>2022-11-01</td><td>null</td><td>null</td><td>null</td><td>null</td></tr><tr><td>1337947354</td><td>-593308428</td><td>-608804373</td><td>2022-12-01</td><td>null</td><td>null</td><td>null</td><td>null</td></tr></tbody></table></div>"
      ]
     },
     "metadata": {
      "application/vnd.databricks.v1+output": {
       "addedWidgets": {},
       "aggData": [],
       "aggError": "",
       "aggOverflow": false,
       "aggSchema": [],
       "aggSeriesLimitReached": false,
       "aggType": "",
       "arguments": {},
       "columnCustomDisplayInfos": {},
       "data": [
        [
         -1755916171,
         -1638235598,
         -264187109,
         "2022-11-01",
         null,
         null,
         null,
         null
        ],
        [
         782588824,
         1421000376,
         -264187109,
         "2022-11-01",
         null,
         null,
         null,
         null
        ],
        [
         1337947354,
         -593308428,
         -608804373,
         "2022-12-01",
         null,
         null,
         null,
         null
        ]
       ],
       "datasetInfos": [],
       "dbfsResultPath": null,
       "isJsonSchema": true,
       "metadata": {},
       "overflow": false,
       "plotOptions": {
        "customPlotOptions": {},
        "displayType": "table",
        "pivotAggregation": null,
        "pivotColumns": null,
        "xColumns": null,
        "yColumns": null
       },
       "removedWidgets": [],
       "schema": [
        {
         "metadata": "{}",
         "name": "revenue_id",
         "type": "\"integer\""
        },
        {
         "metadata": "{}",
         "name": "content_sk",
         "type": "\"integer\""
        },
        {
         "metadata": "{}",
         "name": "date_sk",
         "type": "\"integer\""
        },
        {
         "metadata": "{}",
         "name": "reference_date",
         "type": "\"string\""
        },
        {
         "metadata": "{}",
         "name": "estimated_monetized_playbacks",
         "type": "\"integer\""
        },
        {
         "metadata": "{}",
         "name": "estimated_revenue",
         "type": "\"decimal(11,4)\""
        },
        {
         "metadata": "{}",
         "name": "cpm",
         "type": "\"decimal(11,4)\""
        },
        {
         "metadata": "{}",
         "name": "rpm",
         "type": "\"decimal(11,4)\""
        }
       ],
       "type": "table"
      }
     },
     "output_type": "display_data"
    }
   ],
   "source": [
    "%sql\n",
    "\n",
    "-- Fato Receita\n",
    "\n",
    "-- drop\n",
    "drop table if exists datawarehouse.dw__revenue;\n",
    "\n",
    "-- create\n",
    "create table datawarehouse.dw__revenue as (\n",
    "\n",
    "    select\n",
    "      hash(concat(gdh.reference_date, 'R', gdh.content_id))                   as revenue_id\n",
    "    , hash(gdh.content_id)                                                    as content_sk\n",
    "    , hash(gdh.reference_date)                                                as date_sk\n",
    "    , gdh.reference_date                                                      as reference_date\n",
    "    , cast(gdh.estimated_monetized_playbacks as int)                          as estimated_monetized_playbacks\n",
    "    , round(cast(gdh.estimated_revenue as decimal(10,4)),4)                   as estimated_revenue\n",
    "    , round(cast(gdh.cost_per_thousand_impressions  as decimal(10,4)),4)      as cpm\n",
    "    , round(cast(gdh.revenue_per_thousand_views  as decimal(10,4)),4)         as rpm\n",
    "    from stage.stg__gastronomades_data_history as gdh\n",
    "\n",
    "\n",
    ");\n",
    "\n",
    "-- view\n",
    "select * from datawarehouse.dw__revenue\n",
    "limit 3;"
   ]
  },
  {
   "cell_type": "markdown",
   "metadata": {
    "application/vnd.databricks.v1+cell": {
     "cellMetadata": {
      "byteLimit": 2048000,
      "rowLimit": 10000
     },
     "inputWidgets": {},
     "nuid": "2a920283-fe99-4efb-909f-41bf24c25791",
     "showTitle": false,
     "tableResultSettingsMap": {},
     "title": ""
    }
   },
   "source": [
    "#### Fato Visualizações\n",
    "A Fato Visualizações tem como objetivo consolidar as métricas de visualizações de conteúdo do canal Gastronomades, como número de impressões, número de visualizações, taxa de cliques, tempo total de visualização e tempo médio de visualização."
   ]
  },
  {
   "cell_type": "code",
   "execution_count": 0,
   "metadata": {
    "application/vnd.databricks.v1+cell": {
     "cellMetadata": {
      "byteLimit": 2048000,
      "implicitDf": true,
      "rowLimit": 10000
     },
     "inputWidgets": {},
     "nuid": "549158bf-de3c-4177-9a6b-e34afc623158",
     "showTitle": false,
     "tableResultSettingsMap": {},
     "title": ""
    }
   },
   "outputs": [
    {
     "output_type": "display_data",
     "data": {
      "text/html": [
       "<style scoped>\n",
       "  .table-result-container {\n",
       "    max-height: 300px;\n",
       "    overflow: auto;\n",
       "  }\n",
       "  table, th, td {\n",
       "    border: 1px solid black;\n",
       "    border-collapse: collapse;\n",
       "  }\n",
       "  th, td {\n",
       "    padding: 5px;\n",
       "  }\n",
       "  th {\n",
       "    text-align: left;\n",
       "  }\n",
       "</style><div class='table-result-container'><table class='table-result'><thead style='background-color: white'><tr><th>view_id</th><th>content_sk</th><th>date_sk</th><th>reference_date</th><th>impressions</th><th>views</th><th>click_through_rate_pct</th><th>total_watch_time</th><th>total_watch_time_hhmm</th><th>avg_view_rate_pct</th><th>avg_duration_view_rate</th></tr></thead><tbody><tr><td>175891426</td><td>-1638235598</td><td>-264187109</td><td>2022-11-01</td><td>588</td><td>55</td><td>5.10</td><td>1.5986</td><td>01:36</td><td>21.05</td><td>0:01:44</td></tr><tr><td>-1699031434</td><td>1421000376</td><td>-264187109</td><td>2022-11-01</td><td>48460</td><td>3131</td><td>4.39</td><td>257.1505</td><td>25:09</td><td>20.32</td><td>0:04:55</td></tr><tr><td>-600190113</td><td>-593308428</td><td>-608804373</td><td>2022-12-01</td><td>9066</td><td>671</td><td>4.99</td><td>56.4100</td><td>56:25</td><td>24.37</td><td>0:05:02</td></tr></tbody></table></div>"
      ]
     },
     "metadata": {
      "application/vnd.databricks.v1+output": {
       "addedWidgets": {},
       "aggData": [],
       "aggError": "",
       "aggOverflow": false,
       "aggSchema": [],
       "aggSeriesLimitReached": false,
       "aggType": "",
       "arguments": {},
       "columnCustomDisplayInfos": {},
       "data": [
        [
         175891426,
         -1638235598,
         -264187109,
         "2022-11-01",
         588,
         55,
         "5.10",
         "1.5986",
         "01:36",
         "21.05",
         "0:01:44"
        ],
        [
         -1699031434,
         1421000376,
         -264187109,
         "2022-11-01",
         48460,
         3131,
         "4.39",
         "257.1505",
         "25:09",
         "20.32",
         "0:04:55"
        ],
        [
         -600190113,
         -593308428,
         -608804373,
         "2022-12-01",
         9066,
         671,
         "4.99",
         "56.4100",
         "56:25",
         "24.37",
         "0:05:02"
        ]
       ],
       "datasetInfos": [],
       "dbfsResultPath": null,
       "isJsonSchema": true,
       "metadata": {},
       "overflow": false,
       "plotOptions": {
        "customPlotOptions": {},
        "displayType": "table",
        "pivotAggregation": null,
        "pivotColumns": null,
        "xColumns": null,
        "yColumns": null
       },
       "removedWidgets": [],
       "schema": [
        {
         "metadata": "{}",
         "name": "view_id",
         "type": "\"integer\""
        },
        {
         "metadata": "{}",
         "name": "content_sk",
         "type": "\"integer\""
        },
        {
         "metadata": "{}",
         "name": "date_sk",
         "type": "\"integer\""
        },
        {
         "metadata": "{}",
         "name": "reference_date",
         "type": "\"string\""
        },
        {
         "metadata": "{}",
         "name": "impressions",
         "type": "\"integer\""
        },
        {
         "metadata": "{}",
         "name": "views",
         "type": "\"integer\""
        },
        {
         "metadata": "{}",
         "name": "click_through_rate_pct",
         "type": "\"decimal(10,2)\""
        },
        {
         "metadata": "{}",
         "name": "total_watch_time",
         "type": "\"decimal(10,4)\""
        },
        {
         "metadata": "{}",
         "name": "total_watch_time_hhmm",
         "type": "\"string\""
        },
        {
         "metadata": "{}",
         "name": "avg_view_rate_pct",
         "type": "\"decimal(10,2)\""
        },
        {
         "metadata": "{}",
         "name": "avg_duration_view_rate",
         "type": "\"string\""
        }
       ],
       "type": "table"
      }
     },
     "output_type": "display_data"
    }
   ],
   "source": [
    "%sql\n",
    "-- Fato Visualizações\n",
    "\n",
    "-- drop\n",
    "drop table if exists datawarehouse.dw__views;\n",
    "\n",
    "-- create\n",
    "create table datawarehouse.dw__views as (\n",
    "\n",
    "    select\n",
    "      hash(concat(gdh.reference_date, 'V', gdh.content_id))                                             as view_id\n",
    "    , hash(gdh.content_id)                                                                              as content_sk\n",
    "    , hash(gdh.reference_date)                                                                          as date_sk\n",
    "    , gdh.reference_date                                                                                as reference_date\n",
    "    , cast(gdh.impressions as int)                                                                      as impressions\n",
    "    , cast(gdh.views as int)                                                                            as views\n",
    "    , cast(gdh.click_through_rate as decimal(10,2))                                                     as click_through_rate_pct --%   \n",
    "    , cast(gdh.watch_time as decimal(10,4))                                                             as total_watch_time\n",
    "    , concat( lpad(floor(gdh.watch_time), 2, '0')\n",
    "              , ':'\n",
    "              , lpad(cast(round((gdh.watch_time - floor(gdh.watch_time)) * 60, 0) as int), 2, '0'))     as total_watch_time_hhmm\n",
    "    , cast(gdh.avg_view_rate as decimal(10,2))                                                          as avg_view_rate_pct -- %\n",
    "    , gdh.avg_duration_view_rate                                                                        as avg_duration_view_rate\n",
    "    from stage.stg__gastronomades_data_history as gdh\n",
    "\n",
    "\n",
    ");\n",
    "\n",
    "-- view\n",
    "select * from datawarehouse.dw__views\n",
    "limit 3;"
   ]
  },
  {
   "cell_type": "markdown",
   "metadata": {
    "application/vnd.databricks.v1+cell": {
     "cellMetadata": {
      "byteLimit": 2048000,
      "rowLimit": 10000
     },
     "inputWidgets": {},
     "nuid": "78517df5-121c-4e09-9fc3-7513827d712f",
     "showTitle": false,
     "tableResultSettingsMap": {},
     "title": ""
    }
   },
   "source": [
    "#### Fato Engajamento\n",
    "A Fato Engajamento tem como objetivo consolidar as métricas de engajamento do canal Gastronomades, como número inscritos ganhados e perdidos, número de compartilhamentos, número de cards exibidos, número de elementos de tela final exibidos e taxa de cliques em cards e elementos de tela final."
   ]
  },
  {
   "cell_type": "code",
   "execution_count": 0,
   "metadata": {
    "application/vnd.databricks.v1+cell": {
     "cellMetadata": {
      "byteLimit": 2048000,
      "implicitDf": true,
      "rowLimit": 10000
     },
     "inputWidgets": {},
     "nuid": "40b74246-acc3-4492-9016-9b124705bd30",
     "showTitle": false,
     "tableResultSettingsMap": {},
     "title": ""
    }
   },
   "outputs": [
    {
     "output_type": "display_data",
     "data": {
      "text/html": [
       "<style scoped>\n",
       "  .table-result-container {\n",
       "    max-height: 300px;\n",
       "    overflow: auto;\n",
       "  }\n",
       "  table, th, td {\n",
       "    border: 1px solid black;\n",
       "    border-collapse: collapse;\n",
       "  }\n",
       "  th, td {\n",
       "    padding: 5px;\n",
       "  }\n",
       "  th {\n",
       "    text-align: left;\n",
       "  }\n",
       "</style><div class='table-result-container'><table class='table-result'><thead style='background-color: white'><tr><th>engagement_id</th><th>content_sk</th><th>date_sk</th><th>reference_date</th><th>gained_subscribers</th><th>lost_subscribers</th><th>like_rate_pct</th><th>shares</th><th>comments</th><th>shown_cards</th><th>end_screen_elements_shown</th><th>shown_cards_click_rate_pct</th><th>end_screen_click_rate_pct</th></tr></thead><tbody><tr><td>-1410781505</td><td>-1638235598</td><td>-264187109</td><td>2022-11-01</td><td>2</td><td>0</td><td>100.00</td><td>0</td><td>3</td><td>0</td><td>8</td><td>null</td><td>12.50</td></tr><tr><td>-64725230</td><td>1421000376</td><td>-264187109</td><td>2022-11-01</td><td>31</td><td>3</td><td>98.63</td><td>20</td><td>2</td><td>0</td><td>252</td><td>null</td><td>0.40</td></tr><tr><td>2080148104</td><td>-593308428</td><td>-608804373</td><td>2022-12-01</td><td>4</td><td>2</td><td>100.00</td><td>6</td><td>3</td><td>0</td><td>130</td><td>null</td><td>5.38</td></tr></tbody></table></div>"
      ]
     },
     "metadata": {
      "application/vnd.databricks.v1+output": {
       "addedWidgets": {},
       "aggData": [],
       "aggError": "",
       "aggOverflow": false,
       "aggSchema": [],
       "aggSeriesLimitReached": false,
       "aggType": "",
       "arguments": {},
       "columnCustomDisplayInfos": {},
       "data": [
        [
         -1410781505,
         -1638235598,
         -264187109,
         "2022-11-01",
         2,
         0,
         "100.00",
         0,
         3,
         0,
         8,
         null,
         "12.50"
        ],
        [
         -64725230,
         1421000376,
         -264187109,
         "2022-11-01",
         31,
         3,
         "98.63",
         20,
         2,
         0,
         252,
         null,
         "0.40"
        ],
        [
         2080148104,
         -593308428,
         -608804373,
         "2022-12-01",
         4,
         2,
         "100.00",
         6,
         3,
         0,
         130,
         null,
         "5.38"
        ]
       ],
       "datasetInfos": [],
       "dbfsResultPath": null,
       "isJsonSchema": true,
       "metadata": {},
       "overflow": false,
       "plotOptions": {
        "customPlotOptions": {},
        "displayType": "table",
        "pivotAggregation": null,
        "pivotColumns": null,
        "xColumns": null,
        "yColumns": null
       },
       "removedWidgets": [],
       "schema": [
        {
         "metadata": "{}",
         "name": "engagement_id",
         "type": "\"integer\""
        },
        {
         "metadata": "{}",
         "name": "content_sk",
         "type": "\"integer\""
        },
        {
         "metadata": "{}",
         "name": "date_sk",
         "type": "\"integer\""
        },
        {
         "metadata": "{}",
         "name": "reference_date",
         "type": "\"string\""
        },
        {
         "metadata": "{}",
         "name": "gained_subscribers",
         "type": "\"integer\""
        },
        {
         "metadata": "{}",
         "name": "lost_subscribers",
         "type": "\"integer\""
        },
        {
         "metadata": "{}",
         "name": "like_rate_pct",
         "type": "\"decimal(10,2)\""
        },
        {
         "metadata": "{}",
         "name": "shares",
         "type": "\"integer\""
        },
        {
         "metadata": "{}",
         "name": "comments",
         "type": "\"integer\""
        },
        {
         "metadata": "{}",
         "name": "shown_cards",
         "type": "\"integer\""
        },
        {
         "metadata": "{}",
         "name": "end_screen_elements_shown",
         "type": "\"integer\""
        },
        {
         "metadata": "{}",
         "name": "shown_cards_click_rate_pct",
         "type": "\"decimal(10,2)\""
        },
        {
         "metadata": "{}",
         "name": "end_screen_click_rate_pct",
         "type": "\"decimal(10,2)\""
        }
       ],
       "type": "table"
      }
     },
     "output_type": "display_data"
    }
   ],
   "source": [
    "%sql\n",
    "-- Fato Engajamento\n",
    "\n",
    "-- drop\n",
    "drop table if exists datawarehouse.dw__engagement;\n",
    "\n",
    "-- create\n",
    "create table datawarehouse.dw__engagement as (\n",
    "\n",
    "    select\n",
    "      hash(concat(gdh.reference_date, 'E', gdh.content_id))          as engagement_id\n",
    "    , hash(gdh.content_id)                                           as content_sk\n",
    "    , hash(gdh.reference_date)                                       as date_sk\n",
    "    , gdh.reference_date                                             as reference_date\n",
    "    , cast(gdh.gained_subscribers as int)                            as gained_subscribers\n",
    "    , cast(gdh.lost_subscribers as int)                              as lost_subscribers  \n",
    "    --, likes\n",
    "    --, dislikes\n",
    "    , cast(gdh.like_rate as decimal(10,2))                           as like_rate_pct -- %\n",
    "    , cast(gdh.shares as int)                                        as shares\n",
    "    , cast(gdh.added_comments as int)                                as comments \n",
    "    , cast(gdh.shown_cards as int)                                   as shown_cards\n",
    "    , cast(gdh.end_screen_elements_shown as int)                     as end_screen_elements_shown\n",
    "    , cast(gdh.card_click_rate as decimal(10,2))                     as shown_cards_click_rate_pct -- %\n",
    "    , cast(gdh.end_screen_click_rate as decimal(10,2))               as end_screen_click_rate_pct -- %\n",
    "    from stage.stg__gastronomades_data_history as gdh\n",
    "\n",
    "\n",
    ");\n",
    "\n",
    "-- view\n",
    "select * from datawarehouse.dw__engagement\n",
    "limit 3;"
   ]
  },
  {
   "cell_type": "markdown",
   "metadata": {
    "application/vnd.databricks.v1+cell": {
     "cellMetadata": {
      "byteLimit": 2048000,
      "rowLimit": 10000
     },
     "inputWidgets": {},
     "nuid": "bc5bbe7f-aeeb-4b25-a613-8cf888c0ce75",
     "showTitle": false,
     "tableResultSettingsMap": {},
     "title": ""
    }
   },
   "source": [
    "# 5. Análise dos dados\n",
    "Esta seção tem como objetivo responder parte das perguntas de interesse levantadas na Seção 2."
   ]
  },
  {
   "cell_type": "markdown",
   "metadata": {
    "application/vnd.databricks.v1+cell": {
     "cellMetadata": {
      "byteLimit": 2048000,
      "rowLimit": 10000
     },
     "inputWidgets": {},
     "nuid": "26088dc5-234d-4dc4-8e26-cf422e3f1046",
     "showTitle": false,
     "tableResultSettingsMap": {},
     "title": ""
    }
   },
   "source": [
    "## 5.1 Big Numbers\n"
   ]
  },
  {
   "cell_type": "code",
   "execution_count": 0,
   "metadata": {
    "application/vnd.databricks.v1+cell": {
     "cellMetadata": {
      "byteLimit": 2048000,
      "implicitDf": true,
      "rowLimit": 10000
     },
     "inputWidgets": {},
     "nuid": "4fecdf01-0e71-49b4-9b01-fcc85a5d08f8",
     "showTitle": false,
     "tableResultSettingsMap": {},
     "title": ""
    }
   },
   "outputs": [
    {
     "output_type": "display_data",
     "data": {
      "text/html": [
       "<style scoped>\n",
       "  .ansiout {\n",
       "    display: block;\n",
       "    unicode-bidi: embed;\n",
       "    white-space: pre-wrap;\n",
       "    word-wrap: break-word;\n",
       "    word-break: break-all;\n",
       "    font-family: \"Menlo\", \"Monaco\", \"Consolas\", \"Ubuntu Mono\", \"Source Code Pro\", monospace;\n",
       "    font-size: 13px;\n",
       "    color: #555;\n",
       "    margin-left: 4px;\n",
       "    line-height: 19px;\n",
       "  }\n",
       "</style>"
      ]
     },
     "metadata": {
      "application/vnd.databricks.v1+output": {
       "arguments": {},
       "data": "",
       "errorSummary": "Command skipped",
       "errorTraceType": "html",
       "metadata": {},
       "type": "ipynbError"
      }
     },
     "output_type": "display_data"
    }
   ],
   "source": [
    "%sql\n",
    "-- Quantos inscritos foram ganhados a partir dos conteúdos?\n",
    "-- Quantos inscritos foram perdidos a partir dos conteúdos?\n",
    "-- Quantos compartilhamentos foram gerados a partir dos conteúdos?\n",
    "-- Quantos cards foram mostrados a partir dos conteúdos?\n",
    "-- Quantos elementos em tela final foram exibidos a partir dos conteúdos?\n",
    "\n",
    "select \n",
    "  sum(eng.gained_subscribers)                             as gained_subscribers\n",
    ", sum(eng.lost_subscribers)                               as lost_subscribers\n",
    ", sum(eng.gained_subscribers)-sum(eng.lost_subscribers)   as subscribers_balance\n",
    ", sum(eng.shares)                                         as shares\n",
    ", sum(eng.shown_cards)                                    as shown_cards\n",
    ", sum(eng.end_screen_elements_shown)                      as end_screen_elements_shown\n",
    ", count(distinct eng.content_sk)                          as content_count\n",
    "from datawarehouse.dw__engagement as eng\n",
    "inner join datawarehouse.dw__content as con on (eng.content_sk = con.content_sk)\n",
    "where 1=1\n",
    "and con.content_type = 'video';"
   ]
  },
  {
   "cell_type": "markdown",
   "metadata": {
    "application/vnd.databricks.v1+cell": {
     "cellMetadata": {
      "byteLimit": 2048000,
      "rowLimit": 10000
     },
     "inputWidgets": {},
     "nuid": "db35a14f-7f2f-4298-bc60-38f8961f97b4",
     "showTitle": false,
     "tableResultSettingsMap": {},
     "title": ""
    }
   },
   "source": [
    "## 5.2 Videos\n"
   ]
  },
  {
   "cell_type": "markdown",
   "metadata": {
    "application/vnd.databricks.v1+cell": {
     "cellMetadata": {},
     "inputWidgets": {},
     "nuid": "f5cc09e4-7093-4434-a485-d9fa0d5abc15",
     "showTitle": false,
     "tableResultSettingsMap": {},
     "title": ""
    }
   },
   "source": [
    "### ENGAJAMENTO"
   ]
  },
  {
   "cell_type": "code",
   "execution_count": 0,
   "metadata": {
    "application/vnd.databricks.v1+cell": {
     "cellMetadata": {
      "byteLimit": 2048000,
      "implicitDf": true,
      "rowLimit": 10000
     },
     "inputWidgets": {},
     "nuid": "6824013a-e840-4a2a-af2b-ea90602947dc",
     "showTitle": false,
     "tableResultSettingsMap": {},
     "title": ""
    }
   },
   "outputs": [
    {
     "output_type": "display_data",
     "data": {
      "text/html": [
       "<style scoped>\n",
       "  .table-result-container {\n",
       "    max-height: 300px;\n",
       "    overflow: auto;\n",
       "  }\n",
       "  table, th, td {\n",
       "    border: 1px solid black;\n",
       "    border-collapse: collapse;\n",
       "  }\n",
       "  th, td {\n",
       "    padding: 5px;\n",
       "  }\n",
       "  th {\n",
       "    text-align: left;\n",
       "  }\n",
       "</style><div class='table-result-container'><table class='table-result'><thead style='background-color: white'><tr><th>short_year_and_month</th><th>year</th><th>month_number</th><th>gained_subscribers</th><th>lost_subscribers</th><th>shares</th><th>shown_cards</th><th>end_screen_elements_shown</th><th>content_count</th></tr></thead><tbody><tr><td>2024 Mar</td><td>2024</td><td>3</td><td>50</td><td>0</td><td>143</td><td>0</td><td>2965</td><td>58</td></tr><tr><td>2024 Apr</td><td>2024</td><td>4</td><td>45</td><td>0</td><td>165</td><td>0</td><td>2968</td><td>59</td></tr><tr><td>2024 May</td><td>2024</td><td>5</td><td>67</td><td>2</td><td>200</td><td>0</td><td>4107</td><td>60</td></tr><tr><td>2024 Jun</td><td>2024</td><td>6</td><td>60</td><td>1</td><td>213</td><td>0</td><td>3671</td><td>62</td></tr><tr><td>2024 Jul</td><td>2024</td><td>7</td><td>73</td><td>2</td><td>302</td><td>54</td><td>5602</td><td>64</td></tr><tr><td>2024 Aug</td><td>2024</td><td>8</td><td>48</td><td>1</td><td>216</td><td>148</td><td>4605</td><td>66</td></tr><tr><td>2024 Sep</td><td>2024</td><td>9</td><td>53</td><td>0</td><td>162</td><td>104</td><td>3959</td><td>64</td></tr><tr><td>2024 Oct</td><td>2024</td><td>10</td><td>43</td><td>1</td><td>174</td><td>108</td><td>3041</td><td>66</td></tr><tr><td>2024 Nov</td><td>2024</td><td>11</td><td>48</td><td>1</td><td>169</td><td>81</td><td>3103</td><td>68</td></tr><tr><td>2024 Dec</td><td>2024</td><td>12</td><td>46</td><td>0</td><td>168</td><td>48</td><td>3086</td><td>68</td></tr><tr><td>2025 Jan</td><td>2025</td><td>1</td><td>85</td><td>1</td><td>244</td><td>102</td><td>4309</td><td>72</td></tr><tr><td>2025 Feb</td><td>2025</td><td>2</td><td>292</td><td>9</td><td>293</td><td>140</td><td>8469</td><td>72</td></tr><tr><td>2025 Mar</td><td>2025</td><td>3</td><td>133</td><td>0</td><td>251</td><td>180</td><td>5216</td><td>76</td></tr><tr><td>2025 Apr</td><td>2025</td><td>4</td><td>10</td><td>0</td><td>18</td><td>17</td><td>479</td><td>76</td></tr></tbody></table></div>"
      ]
     },
     "metadata": {
      "application/vnd.databricks.v1+output": {
       "addedWidgets": {},
       "aggData": [],
       "aggError": "",
       "aggOverflow": false,
       "aggSchema": [],
       "aggSeriesLimitReached": false,
       "aggType": "",
       "arguments": {},
       "columnCustomDisplayInfos": {},
       "data": [
        [
         "2024 Mar",
         2024,
         3,
         50,
         0,
         143,
         0,
         2965,
         58
        ],
        [
         "2024 Apr",
         2024,
         4,
         45,
         0,
         165,
         0,
         2968,
         59
        ],
        [
         "2024 May",
         2024,
         5,
         67,
         2,
         200,
         0,
         4107,
         60
        ],
        [
         "2024 Jun",
         2024,
         6,
         60,
         1,
         213,
         0,
         3671,
         62
        ],
        [
         "2024 Jul",
         2024,
         7,
         73,
         2,
         302,
         54,
         5602,
         64
        ],
        [
         "2024 Aug",
         2024,
         8,
         48,
         1,
         216,
         148,
         4605,
         66
        ],
        [
         "2024 Sep",
         2024,
         9,
         53,
         0,
         162,
         104,
         3959,
         64
        ],
        [
         "2024 Oct",
         2024,
         10,
         43,
         1,
         174,
         108,
         3041,
         66
        ],
        [
         "2024 Nov",
         2024,
         11,
         48,
         1,
         169,
         81,
         3103,
         68
        ],
        [
         "2024 Dec",
         2024,
         12,
         46,
         0,
         168,
         48,
         3086,
         68
        ],
        [
         "2025 Jan",
         2025,
         1,
         85,
         1,
         244,
         102,
         4309,
         72
        ],
        [
         "2025 Feb",
         2025,
         2,
         292,
         9,
         293,
         140,
         8469,
         72
        ],
        [
         "2025 Mar",
         2025,
         3,
         133,
         0,
         251,
         180,
         5216,
         76
        ],
        [
         "2025 Apr",
         2025,
         4,
         10,
         0,
         18,
         17,
         479,
         76
        ]
       ],
       "datasetInfos": [],
       "dbfsResultPath": null,
       "isJsonSchema": true,
       "metadata": {},
       "overflow": false,
       "plotOptions": {
        "customPlotOptions": {},
        "displayType": "table",
        "pivotAggregation": null,
        "pivotColumns": null,
        "xColumns": null,
        "yColumns": null
       },
       "removedWidgets": [],
       "schema": [
        {
         "metadata": "{}",
         "name": "short_year_and_month",
         "type": "\"string\""
        },
        {
         "metadata": "{}",
         "name": "year",
         "type": "\"integer\""
        },
        {
         "metadata": "{}",
         "name": "month_number",
         "type": "\"integer\""
        },
        {
         "metadata": "{}",
         "name": "gained_subscribers",
         "type": "\"long\""
        },
        {
         "metadata": "{}",
         "name": "lost_subscribers",
         "type": "\"long\""
        },
        {
         "metadata": "{}",
         "name": "shares",
         "type": "\"long\""
        },
        {
         "metadata": "{}",
         "name": "shown_cards",
         "type": "\"long\""
        },
        {
         "metadata": "{}",
         "name": "end_screen_elements_shown",
         "type": "\"long\""
        },
        {
         "metadata": "{}",
         "name": "content_count",
         "type": "\"long\""
        }
       ],
       "type": "table"
      }
     },
     "output_type": "display_data"
    },
    {
     "output_type": "display_data",
     "data": {
      "text/plain": [
       "Databricks visualization. Run in Databricks to view."
      ]
     },
     "metadata": {
      "application/vnd.databricks.v1.subcommand+json": {
       "baseErrorDetails": null,
       "bindings": {},
       "collapsed": false,
       "command": "%sql WITH q AS (select\n*\nfrom (\n    select \n      cal.short_year_and_month\n    , cal.year\n    , cal.month_number    \n    , sum(eng.gained_subscribers)           as gained_subscribers\n    , sum(eng.lost_subscribers)             as lost_subscribers\n    , sum(eng.shares)                       as shares\n    , sum(eng.shown_cards)                  as shown_cards\n    , sum(eng.end_screen_elements_shown)    as end_screen_elements_shown\n    , count(distinct eng.content_sk)        as content_count\n    from datawarehouse.dw__engagement     as eng\n    inner join datawarehouse.dw__content  as con on (eng.content_sk = con.content_sk)\n    inner join datawarehouse.dw__calendar as cal on (eng.date_sk = cal.date_sk)\n    where 1=1\n    and con.content_type = 'video'\n    and eng.reference_date >= add_months(trunc(current_date(), 'month'), -13) \n    group by\n      cal.short_year_and_month\n    , cal.year\n    , cal.month_number \n\n) aux\norder by\n  aux.year\n, aux.month_number) SELECT `short_year_and_month`,SUM(`gained_subscribers`) `column_1dbdc407161`,SUM(`lost_subscribers`) `column_1dbdc407165` FROM q GROUP BY `short_year_and_month`",
       "commandTitle": "Inscritos Ganhos vs Perdidos",
       "commandType": "auto",
       "commandVersion": 0,
       "commentThread": [],
       "commentsVisible": false,
       "contentSha256Hex": null,
       "customPlotOptions": {
        "redashChart": [
         {
          "key": "type",
          "value": "CHART"
         },
         {
          "key": "options",
          "value": {
           "alignYAxesAtZero": true,
           "coefficient": 1,
           "columnConfigurationMap": {
            "x": {
             "column": "short_year_and_month",
             "id": "column_1dbdc407158"
            },
            "y": [
             {
              "column": "gained_subscribers",
              "id": "column_1dbdc407161",
              "transform": "SUM"
             },
             {
              "column": "lost_subscribers",
              "id": "column_1dbdc407165",
              "transform": "SUM"
             }
            ]
           },
           "dateTimeFormat": "DD/MM/YYYY HH:mm",
           "direction": {
            "type": "counterclockwise"
           },
           "error_y": {
            "type": "data",
            "visible": true
           },
           "globalSeriesType": "line",
           "hideYAxes": true,
           "isAggregationOn": true,
           "legend": {
            "traceorder": "normal"
           },
           "missingValuesAsZero": true,
           "numberFormat": "0,0.[00000]",
           "percentFormat": "0[.]00%",
           "series": {
            "error_y": {
             "type": "data",
             "visible": true
            },
            "stacking": null
           },
           "seriesOptions": {
            "column_1dbdc407161": {
             "color": "#8CFFB4",
             "name": "Inscritos ganhos",
             "type": "line",
             "yAxis": 0
            },
            "column_1dbdc407165": {
             "color": "#E92828",
             "name": "Inscritos perdidos",
             "type": "line",
             "yAxis": 0
            }
           },
           "showDataLabels": true,
           "sizemode": "diameter",
           "sortX": false,
           "sortY": true,
           "swappedAxes": false,
           "textFormat": "",
           "useAggregationsUi": true,
           "valuesOptions": {},
           "version": 2,
           "xAxis": {
            "labels": {
             "enabled": true
            },
            "title": {
             "text": "Período de referência"
            },
            "type": "-"
           },
           "yAxis": [
            {
             "title": {
              "text": "Nº Inscritos"
             },
             "type": "-"
            },
            {
             "opposite": true,
             "title": {
              "text": null
             },
             "type": "-"
            }
           ]
          }
         }
        ]
       },
       "datasetPreviewNameToCmdIdMap": {},
       "diffDeletes": [],
       "diffInserts": [],
       "displayType": "redashChart",
       "error": null,
       "errorDetails": null,
       "errorSummary": null,
       "errorTraceType": null,
       "finishTime": 0,
       "globalVars": {},
       "guid": "",
       "height": "auto",
       "hideCommandCode": false,
       "hideCommandResult": false,
       "iPythonMetadata": null,
       "inputWidgets": {},
       "isLockedInExamMode": false,
       "latestUser": "a user",
       "latestUserId": null,
       "listResultMetadata": null,
       "metadata": {
        "byteLimit": 2048000,
        "implicitDf": true,
        "rowLimit": 10000
       },
       "nuid": "df074447-853b-419d-b2f9-b99594a3eb38",
       "origId": 0,
       "parentHierarchy": [],
       "pivotAggregation": null,
       "pivotColumns": null,
       "position": 5.9609375,
       "resultDbfsErrorMessage": null,
       "resultDbfsStatus": "INLINED_IN_TREE",
       "results": null,
       "showCommandTitle": false,
       "startTime": 0,
       "state": "input",
       "streamStates": {},
       "subcommandOptions": {
        "queryPlan": {
         "groups": [
          {
           "column": "short_year_and_month",
           "type": "column"
          }
         ],
         "selects": [
          {
           "column": "short_year_and_month",
           "type": "column"
          },
          {
           "alias": "column_1dbdc407161",
           "args": [
            {
             "column": "gained_subscribers",
             "type": "column"
            }
           ],
           "function": "SUM",
           "type": "function"
          },
          {
           "alias": "column_1dbdc407165",
           "args": [
            {
             "column": "lost_subscribers",
             "type": "column"
            }
           ],
           "function": "SUM",
           "type": "function"
          }
         ]
        }
       },
       "submitTime": 0,
       "subtype": "tableResultSubCmd.visualization",
       "tableResultIndex": 0,
       "tableResultSettingsMap": {},
       "useConsistentColors": false,
       "version": "CommandV1",
       "width": "auto",
       "workflows": [],
       "xColumns": null,
       "yColumns": null
      }
     },
     "output_type": "display_data"
    },
    {
     "output_type": "display_data",
     "data": {
      "text/plain": [
       "Databricks visualization. Run in Databricks to view."
      ]
     },
     "metadata": {
      "application/vnd.databricks.v1.subcommand+json": {
       "baseErrorDetails": null,
       "bindings": {},
       "collapsed": false,
       "command": "%sql WITH q AS (select\n*\nfrom (\n    select \n      cal.short_year_and_month\n    , cal.year\n    , cal.month_number    \n    , sum(eng.gained_subscribers)           as gained_subscribers\n    , sum(eng.lost_subscribers)             as lost_subscribers\n    , sum(eng.shares)                       as shares\n    , sum(eng.shown_cards)                  as shown_cards\n    , sum(eng.end_screen_elements_shown)    as end_screen_elements_shown\n    , count(distinct eng.content_sk)        as content_count\n    from datawarehouse.dw__engagement     as eng\n    inner join datawarehouse.dw__content  as con on (eng.content_sk = con.content_sk)\n    inner join datawarehouse.dw__calendar as cal on (eng.date_sk = cal.date_sk)\n    where 1=1\n    and con.content_type = 'video'\n    and eng.reference_date >= add_months(trunc(current_date(), 'month'), -13) \n    group by\n      cal.short_year_and_month\n    , cal.year\n    , cal.month_number \n\n) aux\norder by\n  aux.year\n, aux.month_number) SELECT `short_year_and_month`,SUM(`shares`) `column_1dbdc407193` FROM q GROUP BY `short_year_and_month`",
       "commandTitle": "Compartilhamentos",
       "commandType": "auto",
       "commandVersion": 0,
       "commentThread": [],
       "commentsVisible": false,
       "contentSha256Hex": null,
       "customPlotOptions": {
        "redashChart": [
         {
          "key": "type",
          "value": "CHART"
         },
         {
          "key": "options",
          "value": {
           "alignYAxesAtZero": true,
           "coefficient": 1,
           "columnConfigurationMap": {
            "x": {
             "column": "short_year_and_month",
             "id": "column_1dbdc407191"
            },
            "y": [
             {
              "column": "shares",
              "id": "column_1dbdc407193",
              "transform": "SUM"
             }
            ]
           },
           "dateTimeFormat": "DD/MM/YYYY HH:mm",
           "direction": {
            "type": "counterclockwise"
           },
           "error_y": {
            "type": "data",
            "visible": true
           },
           "globalSeriesType": "area",
           "hideYAxes": true,
           "isAggregationOn": true,
           "legend": {
            "traceorder": "normal"
           },
           "missingValuesAsZero": true,
           "numberFormat": "0,0.[00000]",
           "percentFormat": "0[.]00%",
           "series": {
            "error_y": {
             "type": "data",
             "visible": true
            },
            "stacking": null
           },
           "seriesOptions": {
            "column_1dbdc407193": {
             "color": "#356AFF",
             "type": "area",
             "yAxis": 0
            }
           },
           "showDataLabels": true,
           "sizemode": "diameter",
           "sortX": false,
           "sortY": true,
           "swappedAxes": false,
           "textFormat": "",
           "useAggregationsUi": true,
           "valuesOptions": {},
           "version": 2,
           "xAxis": {
            "labels": {
             "enabled": true
            },
            "title": {
             "text": "Período de referência"
            },
            "type": "-"
           },
           "yAxis": [
            {
             "title": {
              "text": "Nº Compartilhamentos"
             },
             "type": "-"
            },
            {
             "opposite": true,
             "type": "-"
            }
           ]
          }
         }
        ]
       },
       "datasetPreviewNameToCmdIdMap": {},
       "diffDeletes": [],
       "diffInserts": [],
       "displayType": "redashChart",
       "error": null,
       "errorDetails": null,
       "errorSummary": null,
       "errorTraceType": null,
       "finishTime": 0,
       "globalVars": {},
       "guid": "",
       "height": "auto",
       "hideCommandCode": false,
       "hideCommandResult": false,
       "iPythonMetadata": null,
       "inputWidgets": {},
       "isLockedInExamMode": false,
       "latestUser": "a user",
       "latestUserId": null,
       "listResultMetadata": null,
       "metadata": {
        "byteLimit": 2048000,
        "implicitDf": true,
        "rowLimit": 10000
       },
       "nuid": "4115bbc0-c3d6-4864-9c71-36436bc499a2",
       "origId": 0,
       "parentHierarchy": [],
       "pivotAggregation": null,
       "pivotColumns": null,
       "position": 6.9609375,
       "resultDbfsErrorMessage": null,
       "resultDbfsStatus": "INLINED_IN_TREE",
       "results": null,
       "showCommandTitle": false,
       "startTime": 0,
       "state": "input",
       "streamStates": {},
       "subcommandOptions": {
        "queryPlan": {
         "groups": [
          {
           "column": "short_year_and_month",
           "type": "column"
          }
         ],
         "selects": [
          {
           "column": "short_year_and_month",
           "type": "column"
          },
          {
           "alias": "column_1dbdc407193",
           "args": [
            {
             "column": "shares",
             "type": "column"
            }
           ],
           "function": "SUM",
           "type": "function"
          }
         ]
        }
       },
       "submitTime": 0,
       "subtype": "tableResultSubCmd.visualization",
       "tableResultIndex": 0,
       "tableResultSettingsMap": {},
       "useConsistentColors": false,
       "version": "CommandV1",
       "width": "auto",
       "workflows": [],
       "xColumns": null,
       "yColumns": null
      }
     },
     "output_type": "display_data"
    },
    {
     "output_type": "display_data",
     "data": {
      "text/plain": [
       "Databricks visualization. Run in Databricks to view."
      ]
     },
     "metadata": {
      "application/vnd.databricks.v1.subcommand+json": {
       "baseErrorDetails": null,
       "bindings": {},
       "collapsed": false,
       "command": "%sql WITH q AS (select\n*\nfrom (\n    select \n      cal.short_year_and_month\n    , cal.year\n    , cal.month_number    \n    , sum(eng.gained_subscribers)           as gained_subscribers\n    , sum(eng.lost_subscribers)             as lost_subscribers\n    , sum(eng.shares)                       as shares\n    , sum(eng.shown_cards)                  as shown_cards\n    , sum(eng.end_screen_elements_shown)    as end_screen_elements_shown\n    , count(distinct eng.content_sk)        as content_count\n    from datawarehouse.dw__engagement     as eng\n    inner join datawarehouse.dw__content  as con on (eng.content_sk = con.content_sk)\n    inner join datawarehouse.dw__calendar as cal on (eng.date_sk = cal.date_sk)\n    where 1=1\n    and con.content_type = 'video'\n    and eng.reference_date >= add_months(trunc(current_date(), 'month'), -13) \n    group by\n      cal.short_year_and_month\n    , cal.year\n    , cal.month_number \n\n) aux\norder by\n  aux.year\n, aux.month_number) SELECT `short_year_and_month`,SUM(`shown_cards`) `column_1dbdc407215` FROM q GROUP BY `short_year_and_month`",
       "commandTitle": "Cards mostrados",
       "commandType": "auto",
       "commandVersion": 0,
       "commentThread": [],
       "commentsVisible": false,
       "contentSha256Hex": null,
       "customPlotOptions": {
        "redashChart": [
         {
          "key": "type",
          "value": "CHART"
         },
         {
          "key": "options",
          "value": {
           "alignYAxesAtZero": true,
           "coefficient": 1,
           "columnConfigurationMap": {
            "x": {
             "column": "short_year_and_month",
             "id": "column_1dbdc407213"
            },
            "y": [
             {
              "column": "shown_cards",
              "id": "column_1dbdc407215",
              "transform": "SUM"
             }
            ]
           },
           "dateTimeFormat": "DD/MM/YYYY HH:mm",
           "direction": {
            "type": "counterclockwise"
           },
           "error_y": {
            "type": "data",
            "visible": true
           },
           "globalSeriesType": "area",
           "hideYAxes": true,
           "isAggregationOn": true,
           "legend": {
            "traceorder": "normal"
           },
           "missingValuesAsZero": true,
           "numberFormat": "0,0.[00000]",
           "percentFormat": "0[.]00%",
           "series": {
            "error_y": {
             "type": "data",
             "visible": true
            },
            "stacking": null
           },
           "seriesOptions": {
            "column_1dbdc407215": {
             "color": "#FB8D3D",
             "type": "area",
             "yAxis": 0
            }
           },
           "showDataLabels": true,
           "sizemode": "diameter",
           "sortX": false,
           "sortY": true,
           "swappedAxes": false,
           "textFormat": "",
           "useAggregationsUi": true,
           "valuesOptions": {},
           "version": 2,
           "xAxis": {
            "labels": {
             "enabled": true
            },
            "title": {
             "text": "Período de referência"
            },
            "type": "-"
           },
           "yAxis": [
            {
             "title": {
              "text": " "
             },
             "type": "-"
            },
            {
             "opposite": true,
             "type": "-"
            }
           ]
          }
         }
        ]
       },
       "datasetPreviewNameToCmdIdMap": {},
       "diffDeletes": [],
       "diffInserts": [],
       "displayType": "redashChart",
       "error": null,
       "errorDetails": null,
       "errorSummary": null,
       "errorTraceType": null,
       "finishTime": 0,
       "globalVars": {},
       "guid": "",
       "height": "auto",
       "hideCommandCode": false,
       "hideCommandResult": false,
       "iPythonMetadata": null,
       "inputWidgets": {},
       "isLockedInExamMode": false,
       "latestUser": "a user",
       "latestUserId": null,
       "listResultMetadata": null,
       "metadata": {
        "byteLimit": 2048000,
        "implicitDf": true,
        "rowLimit": 10000
       },
       "nuid": "a6e405bf-cd01-4362-98d5-1b6e533b2f34",
       "origId": 0,
       "parentHierarchy": [],
       "pivotAggregation": null,
       "pivotColumns": null,
       "position": 7.9609375,
       "resultDbfsErrorMessage": null,
       "resultDbfsStatus": "INLINED_IN_TREE",
       "results": null,
       "showCommandTitle": false,
       "startTime": 0,
       "state": "input",
       "streamStates": {},
       "subcommandOptions": {
        "queryPlan": {
         "groups": [
          {
           "column": "short_year_and_month",
           "type": "column"
          }
         ],
         "selects": [
          {
           "column": "short_year_and_month",
           "type": "column"
          },
          {
           "alias": "column_1dbdc407215",
           "args": [
            {
             "column": "shown_cards",
             "type": "column"
            }
           ],
           "function": "SUM",
           "type": "function"
          }
         ]
        }
       },
       "submitTime": 0,
       "subtype": "tableResultSubCmd.visualization",
       "tableResultIndex": 0,
       "tableResultSettingsMap": {},
       "useConsistentColors": false,
       "version": "CommandV1",
       "width": "auto",
       "workflows": [],
       "xColumns": null,
       "yColumns": null
      }
     },
     "output_type": "display_data"
    }
   ],
   "source": [
    "%sql\n",
    "\n",
    "-- Quantos inscritos foram ganhados a partir dos conteúdos de longa duração nos últimos 12 meses?\n",
    "-- Quantos inscritos foram perdidos a partir dos conteúdos de longa duração nos últimos 12 meses?\n",
    "-- Quantos compartilhamentos foram gerados a partir dos conteúdos de longa duração nos últimos 12 meses?\n",
    "-- Quantos cards foram mostrados a partir dos conteúdos de longa duração nos últimos 12 meses?\n",
    "-- Quantos elementos em tela final foram exibidos a partir dos conteúdos de longa duração nos últimos 12 meses?\n",
    "\n",
    "select\n",
    "*\n",
    "from (\n",
    "    select \n",
    "      cal.short_year_and_month\n",
    "    , cal.year\n",
    "    , cal.month_number    \n",
    "    , sum(eng.gained_subscribers)           as gained_subscribers\n",
    "    , sum(eng.lost_subscribers)             as lost_subscribers\n",
    "    , sum(eng.shares)                       as shares\n",
    "    , sum(eng.shown_cards)                  as shown_cards\n",
    "    , sum(eng.end_screen_elements_shown)    as end_screen_elements_shown\n",
    "    , count(distinct eng.content_sk)        as content_count\n",
    "    from datawarehouse.dw__engagement     as eng\n",
    "    inner join datawarehouse.dw__content  as con on (eng.content_sk = con.content_sk)\n",
    "    inner join datawarehouse.dw__calendar as cal on (eng.date_sk = cal.date_sk)\n",
    "    where 1=1\n",
    "    and con.content_type = 'video'\n",
    "    and eng.reference_date >= add_months(trunc(current_date(), 'month'), -13) -- últimos 12 meses fechados\n",
    "    group by\n",
    "      cal.short_year_and_month\n",
    "    , cal.year\n",
    "    , cal.month_number \n",
    "\n",
    ") aux\n",
    "order by\n",
    "  aux.year\n",
    ", aux.month_number \n",
    ";"
   ]
  },
  {
   "cell_type": "code",
   "execution_count": 0,
   "metadata": {
    "application/vnd.databricks.v1+cell": {
     "cellMetadata": {
      "byteLimit": 2048000,
      "implicitDf": true,
      "rowLimit": 10000
     },
     "inputWidgets": {},
     "nuid": "c8baec29-9155-4952-b060-058c884822b4",
     "showTitle": false,
     "tableResultSettingsMap": {},
     "title": ""
    }
   },
   "outputs": [
    {
     "output_type": "display_data",
     "data": {
      "text/html": [
       "<style scoped>\n",
       "  .table-result-container {\n",
       "    max-height: 300px;\n",
       "    overflow: auto;\n",
       "  }\n",
       "  table, th, td {\n",
       "    border: 1px solid black;\n",
       "    border-collapse: collapse;\n",
       "  }\n",
       "  th, td {\n",
       "    padding: 5px;\n",
       "  }\n",
       "  th {\n",
       "    text-align: left;\n",
       "  }\n",
       "</style><div class='table-result-container'><table class='table-result'><thead style='background-color: white'><tr><th>content_title</th><th>subscribers_balance_rank</th><th>subscribers_balance</th><th>gained_subscribers</th><th>lost_subscribers</th></tr></thead><tbody><tr><td>O melhor da GASTRONOMIA CURITIBANA | Onde COMER e BEBER em Curitiba</td><td>1</td><td>277</td><td>281</td><td>4</td></tr><tr><td>VISITAMOS A MENOR PRAIA DE NUDISMO DO BRASIL 😱</td><td>2</td><td>105</td><td>108</td><td>3</td></tr><tr><td>Conheça as MONTANHAS de GUARAPARI | O MELHOR da Rota da Ferradura</td><td>3</td><td>59</td><td>60</td><td>1</td></tr><tr><td>O que fazer em Milagres | O MELHOR da Rota Ecológica dos MILAGRES</td><td>4</td><td>56</td><td>56</td><td>0</td></tr><tr><td>O que fazer em SANTA TERESA | O MELHOR do Circuito Caravaggio</td><td>5</td><td>43</td><td>43</td><td>0</td></tr><tr><td>O que fazer nas MONTANHAS CAPIXABAS | Roteiro de 2 dias em Pedra Azul</td><td>6</td><td>38</td><td>38</td><td>0</td></tr><tr><td>Roteiro de 3 dias em MARAGOGI no ALAGOAS | Caribe Brasileiro</td><td>7</td><td>37</td><td>38</td><td>1</td></tr><tr><td>A MELHOR pousada de Arraial do Cabo | Onde se hospedar no Caribe Brasileiro</td><td>8</td><td>34</td><td>34</td><td>0</td></tr><tr><td>O que fazer em Arraial do Cabo | Quadriciclo no CARIBE BRASILEIRO</td><td>9</td><td>24</td><td>24</td><td>0</td></tr><tr><td>O MELHOR Parque de Trampolim de São Paulo | Impulso Park</td><td>9</td><td>24</td><td>25</td><td>1</td></tr><tr><td>ONDE comer em CUSCO | Melhores restaurantes na PLAZA DE ARMAS</td><td>10</td><td>23</td><td>23</td><td>0</td></tr><tr><td>O que fazer em VITÓRIA ES | Roteiro na Praia da Curva da Jurema</td><td>10</td><td>23</td><td>23</td><td>0</td></tr></tbody></table></div>"
      ]
     },
     "metadata": {
      "application/vnd.databricks.v1+output": {
       "addedWidgets": {},
       "aggData": [],
       "aggError": "",
       "aggOverflow": false,
       "aggSchema": [],
       "aggSeriesLimitReached": false,
       "aggType": "",
       "arguments": {},
       "columnCustomDisplayInfos": {},
       "data": [
        [
         "O melhor da GASTRONOMIA CURITIBANA | Onde COMER e BEBER em Curitiba",
         1,
         277,
         281,
         4
        ],
        [
         "VISITAMOS A MENOR PRAIA DE NUDISMO DO BRASIL 😱",
         2,
         105,
         108,
         3
        ],
        [
         "Conheça as MONTANHAS de GUARAPARI | O MELHOR da Rota da Ferradura",
         3,
         59,
         60,
         1
        ],
        [
         "O que fazer em Milagres | O MELHOR da Rota Ecológica dos MILAGRES",
         4,
         56,
         56,
         0
        ],
        [
         "O que fazer em SANTA TERESA | O MELHOR do Circuito Caravaggio",
         5,
         43,
         43,
         0
        ],
        [
         "O que fazer nas MONTANHAS CAPIXABAS | Roteiro de 2 dias em Pedra Azul",
         6,
         38,
         38,
         0
        ],
        [
         "Roteiro de 3 dias em MARAGOGI no ALAGOAS | Caribe Brasileiro",
         7,
         37,
         38,
         1
        ],
        [
         "A MELHOR pousada de Arraial do Cabo | Onde se hospedar no Caribe Brasileiro",
         8,
         34,
         34,
         0
        ],
        [
         "O que fazer em Arraial do Cabo | Quadriciclo no CARIBE BRASILEIRO",
         9,
         24,
         24,
         0
        ],
        [
         "O MELHOR Parque de Trampolim de São Paulo | Impulso Park",
         9,
         24,
         25,
         1
        ],
        [
         "ONDE comer em CUSCO | Melhores restaurantes na PLAZA DE ARMAS",
         10,
         23,
         23,
         0
        ],
        [
         "O que fazer em VITÓRIA ES | Roteiro na Praia da Curva da Jurema",
         10,
         23,
         23,
         0
        ]
       ],
       "datasetInfos": [],
       "dbfsResultPath": null,
       "isJsonSchema": true,
       "metadata": {},
       "overflow": false,
       "plotOptions": {
        "customPlotOptions": {},
        "displayType": "table",
        "pivotAggregation": null,
        "pivotColumns": null,
        "xColumns": null,
        "yColumns": null
       },
       "removedWidgets": [],
       "schema": [
        {
         "metadata": "{}",
         "name": "content_title",
         "type": "\"string\""
        },
        {
         "metadata": "{}",
         "name": "subscribers_balance_rank",
         "type": "\"integer\""
        },
        {
         "metadata": "{}",
         "name": "subscribers_balance",
         "type": "\"long\""
        },
        {
         "metadata": "{}",
         "name": "gained_subscribers",
         "type": "\"long\""
        },
        {
         "metadata": "{}",
         "name": "lost_subscribers",
         "type": "\"long\""
        }
       ],
       "type": "table"
      }
     },
     "output_type": "display_data"
    },
    {
     "output_type": "display_data",
     "data": {
      "text/plain": [
       "Databricks visualization. Run in Databricks to view."
      ]
     },
     "metadata": {
      "application/vnd.databricks.v1.subcommand+json": {
       "baseErrorDetails": null,
       "bindings": {},
       "collapsed": false,
       "command": "%sql WITH q AS (select\n*\nfrom (\n    select \n      con.content_title                                                   as content_title\n    , dense_rank() over (order by sum(eng.gained_subscribers) desc)       as gained_subscribers_rank      \n    , sum(eng.gained_subscribers)                                         as gained_subscribers\n    , sum(eng.lost_subscribers)                                           as lost_subscribers\n    from datawarehouse.dw__engagement     as eng\n    inner join datawarehouse.dw__content  as con on (eng.content_sk = con.content_sk)\n    inner join datawarehouse.dw__calendar as cal on (eng.date_sk = cal.date_sk)\n    where 1=1\n    and con.content_type = 'video'\n    and eng.reference_date >= add_months(trunc(current_date(), 'month'), -13) \n    group by\n      con.content_title\n\n) aux\nwhere 1=1\nand aux.gained_subscribers_rank <=10\nand aux.gained_subscribers > 0\norder by\n  aux.gained_subscribers_rank \nlimit 15) SELECT `content_title`,SUM(`gained_subscribers`) `column_1dbdc407182` FROM q GROUP BY `content_title`",
       "commandTitle": "Top Videos + Saldo Inscritos",
       "commandType": "auto",
       "commandVersion": 0,
       "commentThread": [],
       "commentsVisible": false,
       "contentSha256Hex": null,
       "customPlotOptions": {
        "redashChart": [
         {
          "key": "type",
          "value": "CHART"
         },
         {
          "key": "options",
          "value": {
           "alignYAxesAtZero": true,
           "coefficient": 1,
           "columnConfigurationMap": {
            "x": {
             "column": "content_title",
             "id": "column_1dbdc407180"
            },
            "y": [
             {
              "column": "gained_subscribers",
              "id": "column_1dbdc407182",
              "transform": "SUM"
             }
            ]
           },
           "dateTimeFormat": "DD/MM/YYYY HH:mm",
           "direction": {
            "type": "counterclockwise"
           },
           "error_y": {
            "type": "data",
            "visible": true
           },
           "globalSeriesType": "line",
           "hideYAxes": false,
           "isAggregationOn": true,
           "legend": {
            "traceorder": "normal"
           },
           "missingValuesAsZero": true,
           "numberFormat": "0,0.[00000]",
           "percentFormat": "0[.]00%",
           "series": {
            "error_y": {
             "type": "data",
             "visible": true
            },
            "stacking": null
           },
           "seriesOptions": {
            "column_1dbdc407182": {
             "color": "#8CFFB4",
             "type": "line",
             "yAxis": 0
            }
           },
           "showDataLabels": true,
           "sizemode": "diameter",
           "sortX": false,
           "sortY": true,
           "swappedAxes": true,
           "textFormat": "",
           "useAggregationsUi": true,
           "valuesOptions": {},
           "version": 2,
           "xAxis": {
            "labels": {
             "enabled": true
            },
            "title": {
             "text": " "
            },
            "type": "-"
           },
           "yAxis": [
            {
             "title": {
              "text": "Saldo Inscritos"
             },
             "type": "-"
            },
            {
             "opposite": true,
             "type": "-"
            }
           ]
          }
         }
        ]
       },
       "datasetPreviewNameToCmdIdMap": {},
       "diffDeletes": [],
       "diffInserts": [],
       "displayType": "redashChart",
       "error": null,
       "errorDetails": null,
       "errorSummary": null,
       "errorTraceType": null,
       "finishTime": 0,
       "globalVars": {},
       "guid": "",
       "height": "auto",
       "hideCommandCode": false,
       "hideCommandResult": false,
       "iPythonMetadata": null,
       "inputWidgets": {},
       "isLockedInExamMode": false,
       "latestUser": "a user",
       "latestUserId": null,
       "listResultMetadata": null,
       "metadata": {
        "byteLimit": 2048000,
        "implicitDf": true,
        "rowLimit": 10000
       },
       "nuid": "f5714129-560b-4207-99f8-da045a0bebca",
       "origId": 0,
       "parentHierarchy": [],
       "pivotAggregation": null,
       "pivotColumns": null,
       "position": 5.966796875,
       "resultDbfsErrorMessage": null,
       "resultDbfsStatus": "INLINED_IN_TREE",
       "results": null,
       "showCommandTitle": false,
       "startTime": 0,
       "state": "input",
       "streamStates": {},
       "subcommandOptions": {
        "queryPlan": {
         "groups": [
          {
           "column": "content_title",
           "type": "column"
          }
         ],
         "selects": [
          {
           "column": "content_title",
           "type": "column"
          },
          {
           "alias": "column_1dbdc407182",
           "args": [
            {
             "column": "gained_subscribers",
             "type": "column"
            }
           ],
           "function": "SUM",
           "type": "function"
          }
         ]
        }
       },
       "submitTime": 0,
       "subtype": "tableResultSubCmd.visualization",
       "tableResultIndex": 0,
       "tableResultSettingsMap": {},
       "useConsistentColors": false,
       "version": "CommandV1",
       "width": "auto",
       "workflows": [],
       "xColumns": null,
       "yColumns": null
      }
     },
     "output_type": "display_data"
    }
   ],
   "source": [
    "%sql\n",
    "-- Top videos de longa duração que geraram mais incritos nos últimos 12 meses\n",
    "\n",
    "\n",
    "select\n",
    "*\n",
    "from (\n",
    "    select \n",
    "      con.content_title                                                                             as content_title\n",
    "    , dense_rank() over (order by (sum(eng.gained_subscribers)-sum(eng.lost_subscribers)) desc)     as subscribers_balance_rank  \n",
    "    , sum(eng.gained_subscribers)-sum(eng.lost_subscribers)                                         as subscribers_balance    \n",
    "    , sum(eng.gained_subscribers)                                                                   as gained_subscribers\n",
    "    , sum(eng.lost_subscribers)                                                                     as lost_subscribers\n",
    "    from datawarehouse.dw__engagement     as eng\n",
    "    inner join datawarehouse.dw__content  as con on (eng.content_sk = con.content_sk)\n",
    "    inner join datawarehouse.dw__calendar as cal on (eng.date_sk = cal.date_sk)\n",
    "    where 1=1\n",
    "    and con.content_type = 'video'\n",
    "    and eng.reference_date >= add_months(trunc(current_date(), 'month'), -13) -- últimos 12 meses fechados\n",
    "    group by\n",
    "      con.content_title\n",
    "\n",
    ") aux\n",
    "where 1=1\n",
    "and aux.subscribers_balance_rank <=10\n",
    "and aux.subscribers_balance_rank > 0\n",
    "order by\n",
    "  aux.subscribers_balance_rank \n",
    "limit 15  \n",
    ";"
   ]
  },
  {
   "cell_type": "code",
   "execution_count": 0,
   "metadata": {
    "application/vnd.databricks.v1+cell": {
     "cellMetadata": {
      "byteLimit": 2048000,
      "implicitDf": true,
      "rowLimit": 10000
     },
     "inputWidgets": {},
     "nuid": "62406df3-a5c4-40c3-9c7e-abbc7d98fc14",
     "showTitle": false,
     "tableResultSettingsMap": {},
     "title": ""
    }
   },
   "outputs": [
    {
     "output_type": "display_data",
     "data": {
      "text/html": [
       "<style scoped>\n",
       "  .table-result-container {\n",
       "    max-height: 300px;\n",
       "    overflow: auto;\n",
       "  }\n",
       "  table, th, td {\n",
       "    border: 1px solid black;\n",
       "    border-collapse: collapse;\n",
       "  }\n",
       "  th, td {\n",
       "    padding: 5px;\n",
       "  }\n",
       "  th {\n",
       "    text-align: left;\n",
       "  }\n",
       "</style><div class='table-result-container'><table class='table-result'><thead style='background-color: white'><tr><th>content_title</th><th>shares_rank</th><th>shares</th></tr></thead><tbody><tr><td>Conheça as MONTANHAS de GUARAPARI | O MELHOR da Rota da Ferradura</td><td>1</td><td>434</td></tr><tr><td>O que fazer em SANTA TERESA | O MELHOR do Circuito Caravaggio</td><td>2</td><td>193</td></tr><tr><td>O melhor da GASTRONOMIA CURITIBANA | Onde COMER e BEBER em Curitiba</td><td>3</td><td>167</td></tr><tr><td>O que fazer no Circuito Caravaggio | O MELHOR de Santa Teresa</td><td>4</td><td>151</td></tr><tr><td>O MELHOR Parque de Trampolim de São Paulo | Impulso Park</td><td>5</td><td>131</td></tr><tr><td>Praia escondida em Guarapari | Descubra o Parque Morro da PESCARIA</td><td>6</td><td>115</td></tr><tr><td>O que fazer em VITÓRIA ES | Roteiro na Praia da Curva da Jurema</td><td>7</td><td>111</td></tr><tr><td>O que fazer nas MONTANHAS CAPIXABAS | Roteiro de 2 dias em Pedra Azul</td><td>8</td><td>102</td></tr><tr><td>O que fazer em Arraial do Cabo | Quadriciclo no CARIBE BRASILEIRO</td><td>9</td><td>82</td></tr><tr><td>FESTA do MORANGO em Pedra Azul | Agroturismo nas Montanhas Capixabas</td><td>10</td><td>64</td></tr></tbody></table></div>"
      ]
     },
     "metadata": {
      "application/vnd.databricks.v1+output": {
       "addedWidgets": {},
       "aggData": [],
       "aggError": "",
       "aggOverflow": false,
       "aggSchema": [],
       "aggSeriesLimitReached": false,
       "aggType": "",
       "arguments": {},
       "columnCustomDisplayInfos": {},
       "data": [
        [
         "Conheça as MONTANHAS de GUARAPARI | O MELHOR da Rota da Ferradura",
         1,
         434
        ],
        [
         "O que fazer em SANTA TERESA | O MELHOR do Circuito Caravaggio",
         2,
         193
        ],
        [
         "O melhor da GASTRONOMIA CURITIBANA | Onde COMER e BEBER em Curitiba",
         3,
         167
        ],
        [
         "O que fazer no Circuito Caravaggio | O MELHOR de Santa Teresa",
         4,
         151
        ],
        [
         "O MELHOR Parque de Trampolim de São Paulo | Impulso Park",
         5,
         131
        ],
        [
         "Praia escondida em Guarapari | Descubra o Parque Morro da PESCARIA",
         6,
         115
        ],
        [
         "O que fazer em VITÓRIA ES | Roteiro na Praia da Curva da Jurema",
         7,
         111
        ],
        [
         "O que fazer nas MONTANHAS CAPIXABAS | Roteiro de 2 dias em Pedra Azul",
         8,
         102
        ],
        [
         "O que fazer em Arraial do Cabo | Quadriciclo no CARIBE BRASILEIRO",
         9,
         82
        ],
        [
         "FESTA do MORANGO em Pedra Azul | Agroturismo nas Montanhas Capixabas",
         10,
         64
        ]
       ],
       "datasetInfos": [],
       "dbfsResultPath": null,
       "isJsonSchema": true,
       "metadata": {},
       "overflow": false,
       "plotOptions": {
        "customPlotOptions": {},
        "displayType": "table",
        "pivotAggregation": null,
        "pivotColumns": null,
        "xColumns": null,
        "yColumns": null
       },
       "removedWidgets": [],
       "schema": [
        {
         "metadata": "{}",
         "name": "content_title",
         "type": "\"string\""
        },
        {
         "metadata": "{}",
         "name": "shares_rank",
         "type": "\"integer\""
        },
        {
         "metadata": "{}",
         "name": "shares",
         "type": "\"long\""
        }
       ],
       "type": "table"
      }
     },
     "output_type": "display_data"
    },
    {
     "output_type": "display_data",
     "data": {
      "text/plain": [
       "Databricks visualization. Run in Databricks to view."
      ]
     },
     "metadata": {
      "application/vnd.databricks.v1.subcommand+json": {
       "baseErrorDetails": null,
       "bindings": {},
       "collapsed": false,
       "command": "%sql WITH q AS (select\n*\nfrom (\n    select \n      con.content_title                                        as content_title\n    , dense_rank() over (order by sum(eng.shares) desc)        as shares_rank      \n    , sum(eng.shares)                                          as shares\n    from datawarehouse.dw__engagement     as eng\n    inner join datawarehouse.dw__content  as con on (eng.content_sk = con.content_sk)\n    inner join datawarehouse.dw__calendar as cal on (eng.date_sk = cal.date_sk)\n    where 1=1\n    and con.content_type = 'video'\n    and eng.reference_date >= add_months(trunc(current_date(), 'month'), -13) \n    group by\n      con.content_title\n\n) aux\nwhere 1=1\nand aux.shares_rank <=10\nand aux.shares_rank > 0\norder by\n  aux.shares_rank \nlimit 15) SELECT `content_title`,SUM(`shares`) `column_1dbdc407202` FROM q GROUP BY `content_title`",
       "commandTitle": "Videos + Compartilhamentos",
       "commandType": "auto",
       "commandVersion": 0,
       "commentThread": [],
       "commentsVisible": false,
       "contentSha256Hex": null,
       "customPlotOptions": {
        "redashChart": [
         {
          "key": "type",
          "value": "CHART"
         },
         {
          "key": "options",
          "value": {
           "alignYAxesAtZero": true,
           "coefficient": 1,
           "columnConfigurationMap": {
            "x": {
             "column": "content_title",
             "id": "column_1dbdc407206"
            },
            "y": [
             {
              "column": "shares",
              "id": "column_1dbdc407202",
              "transform": "SUM"
             }
            ]
           },
           "dateTimeFormat": "DD/MM/YYYY HH:mm",
           "direction": {
            "type": "counterclockwise"
           },
           "error_y": {
            "type": "data",
            "visible": true
           },
           "globalSeriesType": "combo",
           "hideYAxes": false,
           "isAggregationOn": true,
           "legend": {
            "traceorder": "normal"
           },
           "missingValuesAsZero": true,
           "numberFormat": "0,0.[00000]",
           "percentFormat": "0[.]00%",
           "series": {
            "error_y": {
             "type": "data",
             "visible": true
            },
            "stacking": null
           },
           "seriesOptions": {
            "column_1dbdc407202": {
             "color": "#356AFF",
             "name": "shares",
             "type": "line",
             "yAxis": 0
            },
            "column_1dbdc407208": {
             "type": "column",
             "yAxis": 0
            }
           },
           "showDataLabels": true,
           "sizemode": "diameter",
           "sortX": false,
           "sortY": true,
           "swappedAxes": true,
           "textFormat": "",
           "useAggregationsUi": true,
           "valuesOptions": {},
           "version": 2,
           "xAxis": {
            "labels": {
             "enabled": true
            },
            "title": {
             "text": " "
            },
            "type": "-"
           },
           "yAxis": [
            {
             "title": {
              "text": "Nº Compartilhamentos"
             },
             "type": "-"
            },
            {
             "opposite": true,
             "type": "-"
            }
           ]
          }
         }
        ]
       },
       "datasetPreviewNameToCmdIdMap": {},
       "diffDeletes": [],
       "diffInserts": [],
       "displayType": "redashChart",
       "error": null,
       "errorDetails": null,
       "errorSummary": null,
       "errorTraceType": null,
       "finishTime": 0,
       "globalVars": {},
       "guid": "",
       "height": "auto",
       "hideCommandCode": false,
       "hideCommandResult": false,
       "iPythonMetadata": null,
       "inputWidgets": {},
       "isLockedInExamMode": false,
       "latestUser": "a user",
       "latestUserId": null,
       "listResultMetadata": null,
       "metadata": {
        "byteLimit": 2048000,
        "implicitDf": true,
        "rowLimit": 10000
       },
       "nuid": "eed05d52-e3fe-4db8-9a75-2816b9208558",
       "origId": 0,
       "parentHierarchy": [],
       "pivotAggregation": null,
       "pivotColumns": null,
       "position": 5.95654296875,
       "resultDbfsErrorMessage": null,
       "resultDbfsStatus": "INLINED_IN_TREE",
       "results": null,
       "showCommandTitle": false,
       "startTime": 0,
       "state": "input",
       "streamStates": {},
       "subcommandOptions": {
        "queryPlan": {
         "groups": [
          {
           "column": "content_title",
           "type": "column"
          }
         ],
         "selects": [
          {
           "column": "content_title",
           "type": "column"
          },
          {
           "alias": "column_1dbdc407202",
           "args": [
            {
             "column": "shares",
             "type": "column"
            }
           ],
           "function": "SUM",
           "type": "function"
          }
         ]
        }
       },
       "submitTime": 0,
       "subtype": "tableResultSubCmd.visualization",
       "tableResultIndex": 0,
       "tableResultSettingsMap": {},
       "useConsistentColors": false,
       "version": "CommandV1",
       "width": "auto",
       "workflows": [],
       "xColumns": null,
       "yColumns": null
      }
     },
     "output_type": "display_data"
    }
   ],
   "source": [
    "%sql\n",
    "-- Top videos de longa duração que geraram mais compartilhamentos nos últimos 12 meses\n",
    "\n",
    "\n",
    "select\n",
    "*\n",
    "from (\n",
    "    select \n",
    "      con.content_title                                        as content_title\n",
    "    , dense_rank() over (order by sum(eng.shares) desc)        as shares_rank      \n",
    "    , sum(eng.shares)                                          as shares\n",
    "    from datawarehouse.dw__engagement     as eng\n",
    "    inner join datawarehouse.dw__content  as con on (eng.content_sk = con.content_sk)\n",
    "    inner join datawarehouse.dw__calendar as cal on (eng.date_sk = cal.date_sk)\n",
    "    where 1=1\n",
    "    and con.content_type = 'video'\n",
    "    and eng.reference_date >= add_months(trunc(current_date(), 'month'), -13) -- últimos 12 meses fechados\n",
    "    group by\n",
    "      con.content_title\n",
    "\n",
    ") aux\n",
    "where 1=1\n",
    "and aux.shares_rank <=10\n",
    "and aux.shares_rank > 0\n",
    "order by\n",
    "  aux.shares_rank \n",
    "limit 15  \n",
    ";"
   ]
  },
  {
   "cell_type": "code",
   "execution_count": 0,
   "metadata": {
    "application/vnd.databricks.v1+cell": {
     "cellMetadata": {
      "byteLimit": 2048000,
      "implicitDf": true,
      "rowLimit": 10000
     },
     "inputWidgets": {},
     "nuid": "f6203383-30ed-4b9d-8677-6fd1a2fa0b7a",
     "showTitle": false,
     "tableResultSettingsMap": {},
     "title": ""
    }
   },
   "outputs": [
    {
     "output_type": "display_data",
     "data": {
      "text/html": [
       "<style scoped>\n",
       "  .table-result-container {\n",
       "    max-height: 300px;\n",
       "    overflow: auto;\n",
       "  }\n",
       "  table, th, td {\n",
       "    border: 1px solid black;\n",
       "    border-collapse: collapse;\n",
       "  }\n",
       "  th, td {\n",
       "    padding: 5px;\n",
       "  }\n",
       "  th {\n",
       "    text-align: left;\n",
       "  }\n",
       "</style><div class='table-result-container'><table class='table-result'><thead style='background-color: white'><tr><th>content_title</th><th>shown_cards_rank</th><th>shown_cards</th></tr></thead><tbody><tr><td>O que fazer em Arraial do Cabo | Quadriciclo no CARIBE BRASILEIRO</td><td>1</td><td>204</td></tr><tr><td>ONDE comer em CUSCO | Melhores restaurantes na PLAZA DE ARMAS</td><td>2</td><td>131</td></tr><tr><td>QUECHUA HOTEL EM CUSCO NO PERU</td><td>3</td><td>107</td></tr><tr><td>Roteiro de 3 dias em MARAGOGI no ALAGOAS | Caribe Brasileiro</td><td>4</td><td>92</td></tr><tr><td>O que fazer em Milagres | O MELHOR da Rota Ecológica dos MILAGRES</td><td>5</td><td>80</td></tr><tr><td>O melhor da GASTRONOMIA CURITIBANA | Onde COMER e BEBER em Curitiba</td><td>6</td><td>72</td></tr><tr><td>VISITAMOS A MENOR PRAIA DE NUDISMO DO BRASIL 😱</td><td>7</td><td>71</td></tr><tr><td>Descubra PORTO de GALINHAS | O VILAREJO mais incrível de PERNAMBUCO</td><td>8</td><td>32</td></tr><tr><td>MORADA DOS DEUSES EM CUSCO NO PERU</td><td>9</td><td>28</td></tr><tr><td>O que fazer nas MONTANHAS CAPIXABAS | Roteiro de 2 dias em Pedra Azul</td><td>10</td><td>22</td></tr><tr><td>COMIDA DE RUA, SOUVENIR E SUPERMERCADOS EM CUSCO NO PERU</td><td>10</td><td>22</td></tr></tbody></table></div>"
      ]
     },
     "metadata": {
      "application/vnd.databricks.v1+output": {
       "addedWidgets": {},
       "aggData": [],
       "aggError": "",
       "aggOverflow": false,
       "aggSchema": [],
       "aggSeriesLimitReached": false,
       "aggType": "",
       "arguments": {},
       "columnCustomDisplayInfos": {},
       "data": [
        [
         "O que fazer em Arraial do Cabo | Quadriciclo no CARIBE BRASILEIRO",
         1,
         204
        ],
        [
         "ONDE comer em CUSCO | Melhores restaurantes na PLAZA DE ARMAS",
         2,
         131
        ],
        [
         "QUECHUA HOTEL EM CUSCO NO PERU",
         3,
         107
        ],
        [
         "Roteiro de 3 dias em MARAGOGI no ALAGOAS | Caribe Brasileiro",
         4,
         92
        ],
        [
         "O que fazer em Milagres | O MELHOR da Rota Ecológica dos MILAGRES",
         5,
         80
        ],
        [
         "O melhor da GASTRONOMIA CURITIBANA | Onde COMER e BEBER em Curitiba",
         6,
         72
        ],
        [
         "VISITAMOS A MENOR PRAIA DE NUDISMO DO BRASIL 😱",
         7,
         71
        ],
        [
         "Descubra PORTO de GALINHAS | O VILAREJO mais incrível de PERNAMBUCO",
         8,
         32
        ],
        [
         "MORADA DOS DEUSES EM CUSCO NO PERU",
         9,
         28
        ],
        [
         "O que fazer nas MONTANHAS CAPIXABAS | Roteiro de 2 dias em Pedra Azul",
         10,
         22
        ],
        [
         "COMIDA DE RUA, SOUVENIR E SUPERMERCADOS EM CUSCO NO PERU",
         10,
         22
        ]
       ],
       "datasetInfos": [],
       "dbfsResultPath": null,
       "isJsonSchema": true,
       "metadata": {},
       "overflow": false,
       "plotOptions": {
        "customPlotOptions": {},
        "displayType": "table",
        "pivotAggregation": null,
        "pivotColumns": null,
        "xColumns": null,
        "yColumns": null
       },
       "removedWidgets": [],
       "schema": [
        {
         "metadata": "{}",
         "name": "content_title",
         "type": "\"string\""
        },
        {
         "metadata": "{}",
         "name": "shown_cards_rank",
         "type": "\"integer\""
        },
        {
         "metadata": "{}",
         "name": "shown_cards",
         "type": "\"long\""
        }
       ],
       "type": "table"
      }
     },
     "output_type": "display_data"
    },
    {
     "output_type": "display_data",
     "data": {
      "text/plain": [
       "Databricks visualization. Run in Databricks to view."
      ]
     },
     "metadata": {
      "application/vnd.databricks.v1.subcommand+json": {
       "baseErrorDetails": null,
       "bindings": {},
       "collapsed": false,
       "command": "%sql WITH q AS (select\n*\nfrom (\n    select \n      con.content_title                                             as content_title\n    , dense_rank() over (order by sum(eng.shown_cards) desc)        as shown_cards_rank      \n    , sum(eng.shown_cards)                                          as shown_cards\n    from datawarehouse.dw__engagement     as eng\n    inner join datawarehouse.dw__content  as con on (eng.content_sk = con.content_sk)\n    inner join datawarehouse.dw__calendar as cal on (eng.date_sk = cal.date_sk)\n    where 1=1\n    and con.content_type = 'video'\n    and eng.reference_date >= add_months(trunc(current_date(), 'month'), -13) \n    group by\n      con.content_title\n\n) aux\nwhere 1=1\nand aux.shown_cards_rank <=10\nand aux.shown_cards_rank > 0\norder by\n  aux.shown_cards_rank \nlimit 15) SELECT `content_title`,SUM(`shown_cards`) `column_1dbdc407219` FROM q GROUP BY `content_title`",
       "commandTitle": "Videos + Cards Mostrados",
       "commandType": "auto",
       "commandVersion": 0,
       "commentThread": [],
       "commentsVisible": false,
       "contentSha256Hex": null,
       "customPlotOptions": {
        "redashChart": [
         {
          "key": "type",
          "value": "CHART"
         },
         {
          "key": "options",
          "value": {
           "alignYAxesAtZero": true,
           "coefficient": 1,
           "columnConfigurationMap": {
            "x": {
             "column": "content_title",
             "id": "column_1dbdc407223"
            },
            "y": [
             {
              "column": "shown_cards",
              "id": "column_1dbdc407219",
              "transform": "SUM"
             }
            ]
           },
           "dateTimeFormat": "DD/MM/YYYY HH:mm",
           "direction": {
            "type": "counterclockwise"
           },
           "error_y": {
            "type": "data",
            "visible": true
           },
           "globalSeriesType": "line",
           "hideYAxes": false,
           "isAggregationOn": true,
           "legend": {
            "traceorder": "normal"
           },
           "missingValuesAsZero": true,
           "numberFormat": "0,0.[00000]",
           "percentFormat": "0[.]00%",
           "series": {
            "error_y": {
             "type": "data",
             "visible": true
            },
            "stacking": null
           },
           "seriesOptions": {
            "column_1dbdc407219": {
             "color": "#FB8D3D",
             "name": "shown_cards",
             "type": "line",
             "yAxis": 0
            }
           },
           "showDataLabels": true,
           "sizemode": "diameter",
           "sortX": false,
           "sortY": true,
           "swappedAxes": true,
           "textFormat": "",
           "useAggregationsUi": true,
           "valuesOptions": {},
           "version": 2,
           "xAxis": {
            "labels": {
             "enabled": true
            },
            "title": {
             "text": " "
            },
            "type": "-"
           },
           "yAxis": [
            {
             "title": {
              "text": "Nº Cards Mostrados"
             },
             "type": "-"
            },
            {
             "opposite": true,
             "type": "-"
            }
           ]
          }
         }
        ]
       },
       "datasetPreviewNameToCmdIdMap": {},
       "diffDeletes": [],
       "diffInserts": [],
       "displayType": "redashChart",
       "error": null,
       "errorDetails": null,
       "errorSummary": null,
       "errorTraceType": null,
       "finishTime": 0,
       "globalVars": {},
       "guid": "",
       "height": "auto",
       "hideCommandCode": false,
       "hideCommandResult": false,
       "iPythonMetadata": null,
       "inputWidgets": {},
       "isLockedInExamMode": false,
       "latestUser": "a user",
       "latestUserId": null,
       "listResultMetadata": null,
       "metadata": {
        "byteLimit": 2048000,
        "implicitDf": true,
        "rowLimit": 10000
       },
       "nuid": "6f84a397-1c9b-4612-9062-7019ac3a40a6",
       "origId": 0,
       "parentHierarchy": [],
       "pivotAggregation": null,
       "pivotColumns": null,
       "position": 5.956787109375,
       "resultDbfsErrorMessage": null,
       "resultDbfsStatus": "INLINED_IN_TREE",
       "results": null,
       "showCommandTitle": false,
       "startTime": 0,
       "state": "input",
       "streamStates": {},
       "subcommandOptions": {
        "queryPlan": {
         "groups": [
          {
           "column": "content_title",
           "type": "column"
          }
         ],
         "selects": [
          {
           "column": "content_title",
           "type": "column"
          },
          {
           "alias": "column_1dbdc407219",
           "args": [
            {
             "column": "shown_cards",
             "type": "column"
            }
           ],
           "function": "SUM",
           "type": "function"
          }
         ]
        }
       },
       "submitTime": 0,
       "subtype": "tableResultSubCmd.visualization",
       "tableResultIndex": 0,
       "tableResultSettingsMap": {},
       "useConsistentColors": false,
       "version": "CommandV1",
       "width": "auto",
       "workflows": [],
       "xColumns": null,
       "yColumns": null
      }
     },
     "output_type": "display_data"
    }
   ],
   "source": [
    "%sql\n",
    "-- Top videos de longa duração que tiveram mais cards mostrados nos últimos 12 meses\n",
    "\n",
    "\n",
    "select\n",
    "*\n",
    "from (\n",
    "    select \n",
    "      con.content_title                                             as content_title\n",
    "    , dense_rank() over (order by sum(eng.shown_cards) desc)        as shown_cards_rank      \n",
    "    , sum(eng.shown_cards)                                          as shown_cards\n",
    "    from datawarehouse.dw__engagement     as eng\n",
    "    inner join datawarehouse.dw__content  as con on (eng.content_sk = con.content_sk)\n",
    "    inner join datawarehouse.dw__calendar as cal on (eng.date_sk = cal.date_sk)\n",
    "    where 1=1\n",
    "    and con.content_type = 'video'\n",
    "    and eng.reference_date >= add_months(trunc(current_date(), 'month'), -13) -- últimos 12 meses fechados\n",
    "    group by\n",
    "      con.content_title\n",
    "\n",
    ") aux\n",
    "where 1=1\n",
    "and aux.shown_cards_rank <=10\n",
    "and aux.shown_cards_rank > 0\n",
    "order by\n",
    "  aux.shown_cards_rank \n",
    "limit 15  \n",
    ";"
   ]
  },
  {
   "cell_type": "markdown",
   "metadata": {
    "application/vnd.databricks.v1+cell": {
     "cellMetadata": {},
     "inputWidgets": {},
     "nuid": "7ca2dfd7-d2f8-4a6b-8de1-4098ffa0ce58",
     "showTitle": false,
     "tableResultSettingsMap": {},
     "title": ""
    }
   },
   "source": [
    "### VISUALIZAÇÕES"
   ]
  },
  {
   "cell_type": "code",
   "execution_count": 0,
   "metadata": {
    "application/vnd.databricks.v1+cell": {
     "cellMetadata": {
      "byteLimit": 2048000,
      "implicitDf": true,
      "rowLimit": 10000
     },
     "inputWidgets": {},
     "nuid": "0a84cb8b-47b5-412b-8ec7-ed07a60871c1",
     "showTitle": false,
     "tableResultSettingsMap": {},
     "title": ""
    }
   },
   "outputs": [
    {
     "output_type": "display_data",
     "data": {
      "text/html": [
       "<style scoped>\n",
       "  .table-result-container {\n",
       "    max-height: 300px;\n",
       "    overflow: auto;\n",
       "  }\n",
       "  table, th, td {\n",
       "    border: 1px solid black;\n",
       "    border-collapse: collapse;\n",
       "  }\n",
       "  th, td {\n",
       "    padding: 5px;\n",
       "  }\n",
       "  th {\n",
       "    text-align: left;\n",
       "  }\n",
       "</style><div class='table-result-container'><table class='table-result'><thead style='background-color: white'><tr><th>short_year_and_month</th><th>year</th><th>month_number</th><th>impressions</th><th>views</th><th>view_rate_pct</th><th>total_watch_time</th><th>total_watch_time_hh_mm</th></tr></thead><tbody><tr><td>2024 Mar</td><td>2024</td><td>3</td><td>49676</td><td>7215</td><td>14.5</td><td>430.8761</td><td>430:52</td></tr><tr><td>2024 Apr</td><td>2024</td><td>4</td><td>49285</td><td>7779</td><td>15.8</td><td>481.6997</td><td>481:41</td></tr><tr><td>2024 May</td><td>2024</td><td>5</td><td>69026</td><td>10132</td><td>14.7</td><td>630.8988</td><td>630:53</td></tr><tr><td>2024 Jun</td><td>2024</td><td>6</td><td>59716</td><td>9739</td><td>16.3</td><td>626.0859</td><td>626:05</td></tr><tr><td>2024 Jul</td><td>2024</td><td>7</td><td>80960</td><td>13144</td><td>16.2</td><td>859.3309</td><td>859:19</td></tr><tr><td>2024 Aug</td><td>2024</td><td>8</td><td>77135</td><td>11552</td><td>15.0</td><td>745.8802</td><td>745:52</td></tr><tr><td>2024 Sep</td><td>2024</td><td>9</td><td>64167</td><td>9838</td><td>15.3</td><td>623.2113</td><td>623:12</td></tr><tr><td>2024 Oct</td><td>2024</td><td>10</td><td>50043</td><td>7951</td><td>15.9</td><td>522.8858</td><td>522:53</td></tr><tr><td>2024 Nov</td><td>2024</td><td>11</td><td>44960</td><td>6631</td><td>14.7</td><td>490.4154</td><td>490:24</td></tr><tr><td>2024 Dec</td><td>2024</td><td>12</td><td>45587</td><td>6675</td><td>14.6</td><td>547.0816</td><td>547:04</td></tr><tr><td>2025 Jan</td><td>2025</td><td>1</td><td>78375</td><td>10478</td><td>13.4</td><td>1087.6687</td><td>1087:40</td></tr><tr><td>2025 Feb</td><td>2025</td><td>2</td><td>417984</td><td>27868</td><td>6.7</td><td>4236.9102</td><td>4236:54</td></tr><tr><td>2025 Mar</td><td>2025</td><td>3</td><td>205496</td><td>15831</td><td>7.7</td><td>2136.7541</td><td>2136:45</td></tr><tr><td>2025 Apr</td><td>2025</td><td>4</td><td>14230</td><td>1355</td><td>9.5</td><td>161.6211</td><td>161:37</td></tr></tbody></table></div>"
      ]
     },
     "metadata": {
      "application/vnd.databricks.v1+output": {
       "addedWidgets": {},
       "aggData": [],
       "aggError": "",
       "aggOverflow": false,
       "aggSchema": [],
       "aggSeriesLimitReached": false,
       "aggType": "",
       "arguments": {},
       "columnCustomDisplayInfos": {},
       "data": [
        [
         "2024 Mar",
         2024,
         3,
         49676,
         7215,
         14.5,
         "430.8761",
         "430:52"
        ],
        [
         "2024 Apr",
         2024,
         4,
         49285,
         7779,
         15.8,
         "481.6997",
         "481:41"
        ],
        [
         "2024 May",
         2024,
         5,
         69026,
         10132,
         14.7,
         "630.8988",
         "630:53"
        ],
        [
         "2024 Jun",
         2024,
         6,
         59716,
         9739,
         16.3,
         "626.0859",
         "626:05"
        ],
        [
         "2024 Jul",
         2024,
         7,
         80960,
         13144,
         16.2,
         "859.3309",
         "859:19"
        ],
        [
         "2024 Aug",
         2024,
         8,
         77135,
         11552,
         15.0,
         "745.8802",
         "745:52"
        ],
        [
         "2024 Sep",
         2024,
         9,
         64167,
         9838,
         15.3,
         "623.2113",
         "623:12"
        ],
        [
         "2024 Oct",
         2024,
         10,
         50043,
         7951,
         15.9,
         "522.8858",
         "522:53"
        ],
        [
         "2024 Nov",
         2024,
         11,
         44960,
         6631,
         14.7,
         "490.4154",
         "490:24"
        ],
        [
         "2024 Dec",
         2024,
         12,
         45587,
         6675,
         14.6,
         "547.0816",
         "547:04"
        ],
        [
         "2025 Jan",
         2025,
         1,
         78375,
         10478,
         13.4,
         "1087.6687",
         "1087:40"
        ],
        [
         "2025 Feb",
         2025,
         2,
         417984,
         27868,
         6.7,
         "4236.9102",
         "4236:54"
        ],
        [
         "2025 Mar",
         2025,
         3,
         205496,
         15831,
         7.7,
         "2136.7541",
         "2136:45"
        ],
        [
         "2025 Apr",
         2025,
         4,
         14230,
         1355,
         9.5,
         "161.6211",
         "161:37"
        ]
       ],
       "datasetInfos": [],
       "dbfsResultPath": null,
       "isJsonSchema": true,
       "metadata": {},
       "overflow": false,
       "plotOptions": {
        "customPlotOptions": {},
        "displayType": "table",
        "pivotAggregation": null,
        "pivotColumns": null,
        "xColumns": null,
        "yColumns": null
       },
       "removedWidgets": [],
       "schema": [
        {
         "metadata": "{}",
         "name": "short_year_and_month",
         "type": "\"string\""
        },
        {
         "metadata": "{}",
         "name": "year",
         "type": "\"integer\""
        },
        {
         "metadata": "{}",
         "name": "month_number",
         "type": "\"integer\""
        },
        {
         "metadata": "{}",
         "name": "impressions",
         "type": "\"long\""
        },
        {
         "metadata": "{}",
         "name": "views",
         "type": "\"long\""
        },
        {
         "metadata": "{}",
         "name": "view_rate_pct",
         "type": "\"double\""
        },
        {
         "metadata": "{}",
         "name": "total_watch_time",
         "type": "\"decimal(20,4)\""
        },
        {
         "metadata": "{}",
         "name": "total_watch_time_hh_mm",
         "type": "\"string\""
        }
       ],
       "type": "table"
      }
     },
     "output_type": "display_data"
    },
    {
     "output_type": "display_data",
     "data": {
      "text/plain": [
       "Databricks visualization. Run in Databricks to view."
      ]
     },
     "metadata": {
      "application/vnd.databricks.v1.subcommand+json": {
       "baseErrorDetails": null,
       "bindings": {},
       "collapsed": false,
       "command": "%sql WITH q AS (select\n*\nfrom (\n    select \n      cal.short_year_and_month\n    , cal.year\n    , cal.month_number    \n    , sum(vie.impressions)                                  as impressions\n    , sum(vie.views)                                        as views\n    , sum(vie.total_watch_time)                             as total_watch_time\n    , floor(sum(vie.total_watch_time)) || ':' || \n      (lpad(floor((sum(vie.total_watch_time) - \n      floor(sum(vie.total_watch_time))) * 60), 2, '0'))    as total_watch_time_hh_mm\n    from datawarehouse.dw__views     as vie\n    inner join datawarehouse.dw__content  as con on (vie.content_sk = con.content_sk)\n    inner join datawarehouse.dw__calendar as cal on (vie.date_sk = cal.date_sk)\n    where 1=1\n    and con.content_type = 'video'\n    and vie.reference_date >= add_months(trunc(current_date(), 'month'), -13) \n    group by\n      cal.short_year_and_month\n    , cal.year\n    , cal.month_number \n\n) aux\norder by\n  aux.year\n, aux.month_number) SELECT `short_year_and_month`,SUM(`impressions`) `column_1dbdc407281` FROM q GROUP BY `short_year_and_month`",
       "commandTitle": "Impressões",
       "commandType": "auto",
       "commandVersion": 0,
       "commentThread": [],
       "commentsVisible": false,
       "contentSha256Hex": null,
       "customPlotOptions": {
        "redashChart": [
         {
          "key": "type",
          "value": "CHART"
         },
         {
          "key": "options",
          "value": {
           "alignYAxesAtZero": true,
           "coefficient": 1,
           "columnConfigurationMap": {
            "x": {
             "column": "short_year_and_month",
             "id": "column_1dbdc407279"
            },
            "y": [
             {
              "column": "impressions",
              "id": "column_1dbdc407281",
              "transform": "SUM"
             }
            ]
           },
           "dateTimeFormat": "DD/MM/YYYY HH:mm",
           "direction": {
            "type": "counterclockwise"
           },
           "error_y": {
            "type": "data",
            "visible": true
           },
           "globalSeriesType": "area",
           "hideYAxes": true,
           "isAggregationOn": true,
           "legend": {
            "traceorder": "normal"
           },
           "missingValuesAsZero": true,
           "numberFormat": "0,0.[00000]",
           "percentFormat": "0[.]00%",
           "series": {
            "error_y": {
             "type": "data",
             "visible": true
            },
            "stacking": null
           },
           "seriesOptions": {
            "column_1dbdc407281": {
             "color": "#8CFFB4",
             "type": "area",
             "yAxis": 0
            },
            "column_1dbdc407285": {
             "type": "area",
             "yAxis": 0
            }
           },
           "showDataLabels": true,
           "sizemode": "diameter",
           "sortX": false,
           "sortY": true,
           "swappedAxes": false,
           "textFormat": "",
           "useAggregationsUi": true,
           "valuesOptions": {},
           "version": 2,
           "xAxis": {
            "labels": {
             "enabled": true
            },
            "title": {
             "text": "Período"
            },
            "type": "-"
           },
           "yAxis": [
            {
             "title": {
              "text": "Nº Impressões"
             },
             "type": "-"
            },
            {
             "opposite": true,
             "type": "-"
            }
           ]
          }
         }
        ]
       },
       "datasetPreviewNameToCmdIdMap": {},
       "diffDeletes": [],
       "diffInserts": [],
       "displayType": "redashChart",
       "error": null,
       "errorDetails": null,
       "errorSummary": null,
       "errorTraceType": null,
       "finishTime": 0,
       "globalVars": {},
       "guid": "",
       "height": "auto",
       "hideCommandCode": false,
       "hideCommandResult": false,
       "iPythonMetadata": null,
       "inputWidgets": {},
       "isLockedInExamMode": false,
       "latestUser": "a user",
       "latestUserId": null,
       "listResultMetadata": null,
       "metadata": {},
       "nuid": "dbb4ff41-f5f0-4289-a15e-7090ed0cff12",
       "origId": 0,
       "parentHierarchy": [],
       "pivotAggregation": null,
       "pivotColumns": null,
       "position": 2.977783203125,
       "resultDbfsErrorMessage": null,
       "resultDbfsStatus": "INLINED_IN_TREE",
       "results": null,
       "showCommandTitle": false,
       "startTime": 0,
       "state": "input",
       "streamStates": {},
       "subcommandOptions": {
        "queryPlan": {
         "groups": [
          {
           "column": "short_year_and_month",
           "type": "column"
          }
         ],
         "selects": [
          {
           "column": "short_year_and_month",
           "type": "column"
          },
          {
           "alias": "column_1dbdc407281",
           "args": [
            {
             "column": "impressions",
             "type": "column"
            }
           ],
           "function": "SUM",
           "type": "function"
          }
         ]
        }
       },
       "submitTime": 0,
       "subtype": "tableResultSubCmd.visualization",
       "tableResultIndex": 0,
       "tableResultSettingsMap": {},
       "useConsistentColors": false,
       "version": "CommandV1",
       "width": "auto",
       "workflows": [],
       "xColumns": null,
       "yColumns": null
      }
     },
     "output_type": "display_data"
    },
    {
     "output_type": "display_data",
     "data": {
      "text/plain": [
       "Databricks visualization. Run in Databricks to view."
      ]
     },
     "metadata": {
      "application/vnd.databricks.v1.subcommand+json": {
       "baseErrorDetails": null,
       "bindings": {},
       "collapsed": false,
       "command": "%sql WITH q AS (select\n*\nfrom (\n    select \n      cal.short_year_and_month\n    , cal.year\n    , cal.month_number    \n    , sum(vie.impressions)                                  as impressions\n    , sum(vie.views)                                        as views\n    , sum(vie.total_watch_time)                             as total_watch_time\n    , floor(sum(vie.total_watch_time)) || ':' || \n      (lpad(floor((sum(vie.total_watch_time) - \n      floor(sum(vie.total_watch_time))) * 60), 2, '0'))    as total_watch_time_hh_mm\n    from datawarehouse.dw__views     as vie\n    inner join datawarehouse.dw__content  as con on (vie.content_sk = con.content_sk)\n    inner join datawarehouse.dw__calendar as cal on (vie.date_sk = cal.date_sk)\n    where 1=1\n    and con.content_type = 'video'\n    and vie.reference_date >= add_months(trunc(current_date(), 'month'), -13) \n    group by\n      cal.short_year_and_month\n    , cal.year\n    , cal.month_number \n\n) aux\norder by\n  aux.year\n, aux.month_number) SELECT `short_year_and_month`,SUM(`impressions`) `column_1dbdc407281` FROM q GROUP BY `short_year_and_month`",
       "commandTitle": "Visualizações",
       "commandType": "auto",
       "commandVersion": 0,
       "commentThread": [],
       "commentsVisible": false,
       "contentSha256Hex": null,
       "customPlotOptions": {
        "redashChart": [
         {
          "key": "type",
          "value": "CHART"
         },
         {
          "key": "options",
          "value": {
           "alignYAxesAtZero": true,
           "coefficient": 1,
           "columnConfigurationMap": {
            "x": {
             "column": "short_year_and_month",
             "id": "column_1dbdc407279"
            },
            "y": [
             {
              "column": "views",
              "id": "column_1dbdc407281",
              "transform": "SUM"
             }
            ]
           },
           "dateTimeFormat": "DD/MM/YYYY HH:mm",
           "direction": {
            "type": "counterclockwise"
           },
           "error_y": {
            "type": "data",
            "visible": true
           },
           "globalSeriesType": "area",
           "hideYAxes": true,
           "isAggregationOn": true,
           "legend": {
            "traceorder": "normal"
           },
           "missingValuesAsZero": true,
           "numberFormat": "0,0.[00000]",
           "percentFormat": "0[.]00%",
           "series": {
            "error_y": {
             "type": "data",
             "visible": true
            },
            "stacking": null
           },
           "seriesOptions": {
            "column_1dbdc407281": {
             "color": "#356AFF",
             "type": "area",
             "yAxis": 0
            },
            "column_1dbdc407285": {
             "type": "area",
             "yAxis": 0
            }
           },
           "showDataLabels": true,
           "sizemode": "diameter",
           "sortX": false,
           "sortY": true,
           "swappedAxes": false,
           "textFormat": "",
           "useAggregationsUi": true,
           "valuesOptions": {},
           "version": 2,
           "xAxis": {
            "labels": {
             "enabled": true
            },
            "title": {
             "text": "Período"
            },
            "type": "-"
           },
           "yAxis": [
            {
             "title": {
              "text": "Nº Visualizações"
             },
             "type": "-"
            },
            {
             "opposite": true,
             "type": "-"
            }
           ]
          }
         }
        ]
       },
       "datasetPreviewNameToCmdIdMap": {},
       "diffDeletes": [],
       "diffInserts": [],
       "displayType": "redashChart",
       "error": null,
       "errorDetails": null,
       "errorSummary": null,
       "errorTraceType": null,
       "finishTime": 0,
       "globalVars": {},
       "guid": "",
       "height": "auto",
       "hideCommandCode": false,
       "hideCommandResult": false,
       "iPythonMetadata": null,
       "inputWidgets": {},
       "isLockedInExamMode": false,
       "latestUser": "a user",
       "latestUserId": null,
       "listResultMetadata": null,
       "metadata": {},
       "nuid": "da0421cc-064f-4178-bd2c-4bcf5b5ef450",
       "origId": 0,
       "parentHierarchy": [],
       "pivotAggregation": null,
       "pivotColumns": null,
       "position": 4.4666748046875,
       "resultDbfsErrorMessage": null,
       "resultDbfsStatus": "INLINED_IN_TREE",
       "results": null,
       "showCommandTitle": false,
       "startTime": 0,
       "state": "input",
       "streamStates": {},
       "subcommandOptions": {
        "queryPlan": {
         "groups": [
          {
           "column": "short_year_and_month",
           "type": "column"
          }
         ],
         "selects": [
          {
           "column": "short_year_and_month",
           "type": "column"
          },
          {
           "alias": "column_1dbdc407281",
           "args": [
            {
             "column": "views",
             "type": "column"
            }
           ],
           "function": "SUM",
           "type": "function"
          }
         ]
        }
       },
       "submitTime": 0,
       "subtype": "tableResultSubCmd.visualization",
       "tableResultIndex": 0,
       "tableResultSettingsMap": {},
       "useConsistentColors": false,
       "version": "CommandV1",
       "width": "auto",
       "workflows": [],
       "xColumns": null,
       "yColumns": null
      }
     },
     "output_type": "display_data"
    },
    {
     "output_type": "display_data",
     "data": {
      "text/plain": [
       "Databricks visualization. Run in Databricks to view."
      ]
     },
     "metadata": {
      "application/vnd.databricks.v1.subcommand+json": {
       "baseErrorDetails": null,
       "bindings": {},
       "collapsed": false,
       "command": "%sql WITH q AS (select\n*\nfrom (\n    select \n      cal.short_year_and_month\n    , cal.year\n    , cal.month_number    \n    , sum(vie.impressions)                                  as impressions\n    , sum(vie.views)                                        as views\n    , sum(vie.total_watch_time)                             as total_watch_time\n    , floor(sum(vie.total_watch_time)) || ':' || \n      (lpad(floor((sum(vie.total_watch_time) - \n      floor(sum(vie.total_watch_time))) * 60), 2, '0'))    as total_watch_time_hh_mm\n    from datawarehouse.dw__views     as vie\n    inner join datawarehouse.dw__content  as con on (vie.content_sk = con.content_sk)\n    inner join datawarehouse.dw__calendar as cal on (vie.date_sk = cal.date_sk)\n    where 1=1\n    and con.content_type = 'video'\n    and vie.reference_date >= add_months(trunc(current_date(), 'month'), -13) \n    group by\n      cal.short_year_and_month\n    , cal.year\n    , cal.month_number \n\n) aux\norder by\n  aux.year\n, aux.month_number) SELECT `short_year_and_month`,SUM(`total_watch_time`) `column_1dbdc407229` FROM q GROUP BY `short_year_and_month`",
       "commandTitle": "Taxa Visualização (%)",
       "commandType": "auto",
       "commandVersion": 0,
       "commentThread": [],
       "commentsVisible": false,
       "contentSha256Hex": null,
       "customPlotOptions": {
        "redashChart": [
         {
          "key": "type",
          "value": "CHART"
         },
         {
          "key": "options",
          "value": {
           "alignYAxesAtZero": true,
           "coefficient": 1,
           "columnConfigurationMap": {
            "x": {
             "column": "short_year_and_month",
             "id": "column_1dbdc407227"
            },
            "y": [
             {
              "column": "view_rate_pct",
              "id": "column_1dbdc407229",
              "transform": "SUM"
             }
            ]
           },
           "dateTimeFormat": "DD/MM/YYYY HH:mm",
           "direction": {
            "type": "counterclockwise"
           },
           "error_y": {
            "type": "data",
            "visible": true
           },
           "globalSeriesType": "area",
           "hideYAxes": true,
           "isAggregationOn": true,
           "legend": {
            "traceorder": "normal"
           },
           "missingValuesAsZero": true,
           "numberFormat": "0,0.[0]",
           "percentFormat": "0[.]00%",
           "series": {
            "error_y": {
             "type": "data",
             "visible": true
            },
            "stacking": null
           },
           "seriesOptions": {
            "column_1dbdc407229": {
             "color": "#FB8D3D",
             "name": "Taxa Visualização (%)",
             "type": "area",
             "yAxis": 0
            },
            "column_1dbdc407232": {
             "type": "area",
             "yAxis": 0
            }
           },
           "showDataLabels": true,
           "sizemode": "diameter",
           "sortX": false,
           "sortY": true,
           "swappedAxes": false,
           "textFormat": "",
           "useAggregationsUi": true,
           "valuesOptions": {},
           "version": 2,
           "xAxis": {
            "labels": {
             "enabled": true
            },
            "title": {
             "text": "Período"
            },
            "type": "-"
           },
           "yAxis": [
            {
             "title": {
              "text": "Taxa Visualização (%)"
             },
             "type": "-"
            },
            {
             "opposite": true,
             "type": "-"
            }
           ]
          }
         }
        ]
       },
       "datasetPreviewNameToCmdIdMap": {},
       "diffDeletes": [],
       "diffInserts": [],
       "displayType": "redashChart",
       "error": null,
       "errorDetails": null,
       "errorSummary": null,
       "errorTraceType": null,
       "finishTime": 0,
       "globalVars": {},
       "guid": "",
       "height": "auto",
       "hideCommandCode": false,
       "hideCommandResult": false,
       "iPythonMetadata": null,
       "inputWidgets": {},
       "isLockedInExamMode": false,
       "latestUser": "a user",
       "latestUserId": null,
       "listResultMetadata": null,
       "metadata": {},
       "nuid": "5ef227b4-3525-40e7-8d30-a0c0be1a51e0",
       "origId": 0,
       "parentHierarchy": [],
       "pivotAggregation": null,
       "pivotColumns": null,
       "position": 5.21112060546875,
       "resultDbfsErrorMessage": null,
       "resultDbfsStatus": "INLINED_IN_TREE",
       "results": null,
       "showCommandTitle": false,
       "startTime": 0,
       "state": "input",
       "streamStates": {},
       "subcommandOptions": {
        "queryPlan": {
         "groups": [
          {
           "column": "short_year_and_month",
           "type": "column"
          }
         ],
         "selects": [
          {
           "column": "short_year_and_month",
           "type": "column"
          },
          {
           "alias": "column_1dbdc407229",
           "args": [
            {
             "column": "view_rate_pct",
             "type": "column"
            }
           ],
           "function": "SUM",
           "type": "function"
          }
         ]
        }
       },
       "submitTime": 0,
       "subtype": "tableResultSubCmd.visualization",
       "tableResultIndex": 0,
       "tableResultSettingsMap": {},
       "useConsistentColors": false,
       "version": "CommandV1",
       "width": "auto",
       "workflows": [],
       "xColumns": null,
       "yColumns": null
      }
     },
     "output_type": "display_data"
    },
    {
     "output_type": "display_data",
     "data": {
      "text/plain": [
       "Databricks visualization. Run in Databricks to view."
      ]
     },
     "metadata": {
      "application/vnd.databricks.v1.subcommand+json": {
       "baseErrorDetails": null,
       "bindings": {},
       "collapsed": false,
       "command": "%sql WITH q AS (select\n*\nfrom (\n    select \n      cal.short_year_and_month\n    , cal.year\n    , cal.month_number    \n    , sum(vie.impressions)                                  as impressions\n    , sum(vie.views)                                        as views\n    , sum(vie.total_watch_time)                             as total_watch_time\n    , floor(sum(vie.total_watch_time)) || ':' || \n      (lpad(floor((sum(vie.total_watch_time) - \n      floor(sum(vie.total_watch_time))) * 60), 2, '0'))    as total_watch_time_hh_mm\n    from datawarehouse.dw__views     as vie\n    inner join datawarehouse.dw__content  as con on (vie.content_sk = con.content_sk)\n    inner join datawarehouse.dw__calendar as cal on (vie.date_sk = cal.date_sk)\n    where 1=1\n    and con.content_type = 'video'\n    and vie.reference_date >= add_months(trunc(current_date(), 'month'), -13) \n    group by\n      cal.short_year_and_month\n    , cal.year\n    , cal.month_number \n\n) aux\norder by\n  aux.year\n, aux.month_number) SELECT `short_year_and_month`,SUM(`total_watch_time`) `column_1dbdc407229` FROM q GROUP BY `short_year_and_month`",
       "commandTitle": "Horas de Visualização",
       "commandType": "auto",
       "commandVersion": 0,
       "commentThread": [],
       "commentsVisible": false,
       "contentSha256Hex": null,
       "customPlotOptions": {
        "redashChart": [
         {
          "key": "type",
          "value": "CHART"
         },
         {
          "key": "options",
          "value": {
           "alignYAxesAtZero": true,
           "coefficient": 1,
           "columnConfigurationMap": {
            "x": {
             "column": "short_year_and_month",
             "id": "column_1dbdc407227"
            },
            "y": [
             {
              "column": "total_watch_time",
              "id": "column_1dbdc407229",
              "transform": "SUM"
             }
            ]
           },
           "dateTimeFormat": "DD/MM/YYYY HH:mm",
           "direction": {
            "type": "counterclockwise"
           },
           "error_y": {
            "type": "data",
            "visible": true
           },
           "globalSeriesType": "area",
           "hideYAxes": true,
           "isAggregationOn": true,
           "legend": {
            "traceorder": "normal"
           },
           "missingValuesAsZero": true,
           "numberFormat": "0,0.[]",
           "percentFormat": "0[.]00%",
           "series": {
            "error_y": {
             "type": "data",
             "visible": true
            },
            "stacking": null
           },
           "seriesOptions": {
            "column_1dbdc407229": {
             "color": "#B554FF",
             "name": "Nº Horas Visualização",
             "type": "area",
             "yAxis": 0
            },
            "column_1dbdc407232": {
             "type": "area",
             "yAxis": 0
            }
           },
           "showDataLabels": true,
           "sizemode": "diameter",
           "sortX": false,
           "sortY": true,
           "swappedAxes": false,
           "textFormat": "",
           "useAggregationsUi": true,
           "valuesOptions": {},
           "version": 2,
           "xAxis": {
            "labels": {
             "enabled": true
            },
            "title": {
             "text": "Período"
            },
            "type": "-"
           },
           "yAxis": [
            {
             "type": "-"
            },
            {
             "opposite": true,
             "type": "-"
            }
           ]
          }
         }
        ]
       },
       "datasetPreviewNameToCmdIdMap": {},
       "diffDeletes": [],
       "diffInserts": [],
       "displayType": "redashChart",
       "error": null,
       "errorDetails": null,
       "errorSummary": null,
       "errorTraceType": null,
       "finishTime": 0,
       "globalVars": {},
       "guid": "",
       "height": "auto",
       "hideCommandCode": false,
       "hideCommandResult": false,
       "iPythonMetadata": null,
       "inputWidgets": {},
       "isLockedInExamMode": false,
       "latestUser": "a user",
       "latestUserId": null,
       "listResultMetadata": null,
       "metadata": {
        "byteLimit": 2048000,
        "implicitDf": true,
        "rowLimit": 10000
       },
       "nuid": "fde514c0-2632-48d0-bd85-8cdc006d4d34",
       "origId": 0,
       "parentHierarchy": [],
       "pivotAggregation": null,
       "pivotColumns": null,
       "position": 5.95556640625,
       "resultDbfsErrorMessage": null,
       "resultDbfsStatus": "INLINED_IN_TREE",
       "results": null,
       "showCommandTitle": false,
       "startTime": 0,
       "state": "input",
       "streamStates": {},
       "subcommandOptions": {
        "queryPlan": {
         "groups": [
          {
           "column": "short_year_and_month",
           "type": "column"
          }
         ],
         "selects": [
          {
           "column": "short_year_and_month",
           "type": "column"
          },
          {
           "alias": "column_1dbdc407229",
           "args": [
            {
             "column": "total_watch_time",
             "type": "column"
            }
           ],
           "function": "SUM",
           "type": "function"
          }
         ]
        }
       },
       "submitTime": 0,
       "subtype": "tableResultSubCmd.visualization",
       "tableResultIndex": 0,
       "tableResultSettingsMap": {},
       "useConsistentColors": false,
       "version": "CommandV1",
       "width": "auto",
       "workflows": [],
       "xColumns": null,
       "yColumns": null
      }
     },
     "output_type": "display_data"
    }
   ],
   "source": [
    "%sql\n",
    "-- Impressões no período (últimos 12 meses)\n",
    "-- Visualizações no período (últimos 12 meses)\n",
    "-- Horas totais de visualização no período (últimos 12 meses)\n",
    "\n",
    "select\n",
    "*\n",
    "from (\n",
    "    select \n",
    "      cal.short_year_and_month\n",
    "    , cal.year\n",
    "    , cal.month_number    \n",
    "    , sum(vie.impressions)                                  as impressions\n",
    "    , sum(vie.views)                                        as views\n",
    "    , round(100*(sum(vie.views)/sum(vie.impressions)),1)    as view_rate_pct\n",
    "    , sum(vie.total_watch_time)                             as total_watch_time\n",
    "    , floor(sum(vie.total_watch_time)) || ':' || \n",
    "      (lpad(floor((sum(vie.total_watch_time) - \n",
    "      floor(sum(vie.total_watch_time))) * 60), 2, '0'))    as total_watch_time_hh_mm\n",
    "    from datawarehouse.dw__views     as vie\n",
    "    inner join datawarehouse.dw__content  as con on (vie.content_sk = con.content_sk)\n",
    "    inner join datawarehouse.dw__calendar as cal on (vie.date_sk = cal.date_sk)\n",
    "    where 1=1\n",
    "    and con.content_type = 'video'\n",
    "    and vie.reference_date >= add_months(trunc(current_date(), 'month'), -13) -- últimos 12 meses fechados\n",
    "    group by\n",
    "      cal.short_year_and_month\n",
    "    , cal.year\n",
    "    , cal.month_number \n",
    "\n",
    ") aux\n",
    "order by\n",
    "  aux.year\n",
    ", aux.month_number \n",
    ";    \n",
    "    "
   ]
  },
  {
   "cell_type": "code",
   "execution_count": 0,
   "metadata": {
    "application/vnd.databricks.v1+cell": {
     "cellMetadata": {
      "byteLimit": 2048000,
      "implicitDf": true,
      "rowLimit": 10000
     },
     "inputWidgets": {},
     "nuid": "34cc179f-0b20-4215-9592-0021922d6374",
     "showTitle": false,
     "tableResultSettingsMap": {},
     "title": ""
    }
   },
   "outputs": [
    {
     "output_type": "display_data",
     "data": {
      "text/html": [
       "<style scoped>\n",
       "  .table-result-container {\n",
       "    max-height: 300px;\n",
       "    overflow: auto;\n",
       "  }\n",
       "  table, th, td {\n",
       "    border: 1px solid black;\n",
       "    border-collapse: collapse;\n",
       "  }\n",
       "  th, td {\n",
       "    padding: 5px;\n",
       "  }\n",
       "  th {\n",
       "    text-align: left;\n",
       "  }\n",
       "</style><div class='table-result-container'><table class='table-result'><thead style='background-color: white'><tr><th>content_title</th><th>impressions_rank</th><th>impressions</th><th>views</th><th>total_watch_time</th><th>total_watch_time_hh_mm</th></tr></thead><tbody><tr><td>O melhor da GASTRONOMIA CURITIBANA | Onde COMER e BEBER em Curitiba</td><td>1</td><td>396484</td><td>23107</td><td>3947.2163</td><td>3947:12</td></tr><tr><td>VISITAMOS A MENOR PRAIA DE NUDISMO DO BRASIL 😱</td><td>2</td><td>116783</td><td>19849</td><td>723.0454</td><td>723:02</td></tr><tr><td>Roteiro de 3 dias em MARAGOGI no ALAGOAS | Caribe Brasileiro</td><td>3</td><td>74284</td><td>6233</td><td>1175.6223</td><td>1175:37</td></tr><tr><td>O MELHOR Parque de Trampolim de São Paulo | Impulso Park</td><td>4</td><td>49844</td><td>6171</td><td>221.1770</td><td>221:10</td></tr><tr><td>O que fazer nas MONTANHAS CAPIXABAS | Roteiro de 2 dias em Pedra Azul</td><td>5</td><td>47868</td><td>4513</td><td>529.9802</td><td>529:58</td></tr><tr><td>O que fazer em SANTA TERESA | O MELHOR do Circuito Caravaggio</td><td>6</td><td>45614</td><td>6776</td><td>531.3346</td><td>531:20</td></tr><tr><td>O que fazer em Milagres | O MELHOR da Rota Ecológica dos MILAGRES</td><td>7</td><td>43545</td><td>4016</td><td>639.0942</td><td>639:05</td></tr><tr><td>Conheça as MONTANHAS de GUARAPARI | O MELHOR da Rota da Ferradura</td><td>8</td><td>38455</td><td>10579</td><td>836.4252</td><td>836:25</td></tr><tr><td>O que fazer no Circuito Caravaggio | O MELHOR de Santa Teresa</td><td>9</td><td>36730</td><td>5001</td><td>393.6591</td><td>393:39</td></tr><tr><td>ONDE comer em CUSCO | Melhores restaurantes na PLAZA DE ARMAS</td><td>10</td><td>36396</td><td>3485</td><td>347.9438</td><td>347:56</td></tr></tbody></table></div>"
      ]
     },
     "metadata": {
      "application/vnd.databricks.v1+output": {
       "addedWidgets": {},
       "aggData": [],
       "aggError": "",
       "aggOverflow": false,
       "aggSchema": [],
       "aggSeriesLimitReached": false,
       "aggType": "",
       "arguments": {},
       "columnCustomDisplayInfos": {},
       "data": [
        [
         "O melhor da GASTRONOMIA CURITIBANA | Onde COMER e BEBER em Curitiba",
         1,
         396484,
         23107,
         "3947.2163",
         "3947:12"
        ],
        [
         "VISITAMOS A MENOR PRAIA DE NUDISMO DO BRASIL 😱",
         2,
         116783,
         19849,
         "723.0454",
         "723:02"
        ],
        [
         "Roteiro de 3 dias em MARAGOGI no ALAGOAS | Caribe Brasileiro",
         3,
         74284,
         6233,
         "1175.6223",
         "1175:37"
        ],
        [
         "O MELHOR Parque de Trampolim de São Paulo | Impulso Park",
         4,
         49844,
         6171,
         "221.1770",
         "221:10"
        ],
        [
         "O que fazer nas MONTANHAS CAPIXABAS | Roteiro de 2 dias em Pedra Azul",
         5,
         47868,
         4513,
         "529.9802",
         "529:58"
        ],
        [
         "O que fazer em SANTA TERESA | O MELHOR do Circuito Caravaggio",
         6,
         45614,
         6776,
         "531.3346",
         "531:20"
        ],
        [
         "O que fazer em Milagres | O MELHOR da Rota Ecológica dos MILAGRES",
         7,
         43545,
         4016,
         "639.0942",
         "639:05"
        ],
        [
         "Conheça as MONTANHAS de GUARAPARI | O MELHOR da Rota da Ferradura",
         8,
         38455,
         10579,
         "836.4252",
         "836:25"
        ],
        [
         "O que fazer no Circuito Caravaggio | O MELHOR de Santa Teresa",
         9,
         36730,
         5001,
         "393.6591",
         "393:39"
        ],
        [
         "ONDE comer em CUSCO | Melhores restaurantes na PLAZA DE ARMAS",
         10,
         36396,
         3485,
         "347.9438",
         "347:56"
        ]
       ],
       "datasetInfos": [],
       "dbfsResultPath": null,
       "isJsonSchema": true,
       "metadata": {},
       "overflow": false,
       "plotOptions": {
        "customPlotOptions": {},
        "displayType": "table",
        "pivotAggregation": null,
        "pivotColumns": null,
        "xColumns": null,
        "yColumns": null
       },
       "removedWidgets": [],
       "schema": [
        {
         "metadata": "{}",
         "name": "content_title",
         "type": "\"string\""
        },
        {
         "metadata": "{}",
         "name": "impressions_rank",
         "type": "\"integer\""
        },
        {
         "metadata": "{}",
         "name": "impressions",
         "type": "\"long\""
        },
        {
         "metadata": "{}",
         "name": "views",
         "type": "\"long\""
        },
        {
         "metadata": "{}",
         "name": "total_watch_time",
         "type": "\"decimal(20,4)\""
        },
        {
         "metadata": "{}",
         "name": "total_watch_time_hh_mm",
         "type": "\"string\""
        }
       ],
       "type": "table"
      }
     },
     "output_type": "display_data"
    },
    {
     "output_type": "display_data",
     "data": {
      "text/plain": [
       "Databricks visualization. Run in Databricks to view."
      ]
     },
     "metadata": {
      "application/vnd.databricks.v1.subcommand+json": {
       "baseErrorDetails": null,
       "bindings": {},
       "collapsed": false,
       "command": "%sql WITH q AS (select\n*\nfrom (\n    select \n      con.content_title                                                 as content_title\n    , dense_rank() over (order by sum(vie.total_watch_time) desc)       as total_watch_time_rank      \n    , sum(vie.impressions)                                              as impressions\n    , sum(vie.views)                                                    as views\n    , sum(vie.total_watch_time)                                         as total_watch_time\n    , floor(sum(vie.total_watch_time)) || ':' || \n      (lpad(floor((sum(vie.total_watch_time) - \n      floor(sum(vie.total_watch_time))) * 60), 2, '0'))                 as total_watch_time_hh_mm    \n    from datawarehouse.dw__views     as vie\n    inner join datawarehouse.dw__content  as con on (vie.content_sk = con.content_sk)\n    inner join datawarehouse.dw__calendar as cal on (vie.date_sk = cal.date_sk)\n    where 1=1\n    and con.content_type = 'video'\n    and vie.reference_date >= add_months(trunc(current_date(), 'month'), -13) \n    group by\n      con.content_title\n\n) aux\nwhere 1=1\nand aux.total_watch_time_rank <=10\nand aux.total_watch_time_rank > 0\norder by\n  aux.total_watch_time_rank \nlimit 15) SELECT `content_title`,SUM(`total_watch_time`) `column_1dbdc407257` FROM q GROUP BY `content_title`",
       "commandTitle": "Top Videos + Impressões",
       "commandType": "auto",
       "commandVersion": 0,
       "commentThread": [],
       "commentsVisible": false,
       "contentSha256Hex": null,
       "customPlotOptions": {
        "redashChart": [
         {
          "key": "type",
          "value": "CHART"
         },
         {
          "key": "options",
          "value": {
           "alignYAxesAtZero": true,
           "coefficient": 1,
           "columnConfigurationMap": {
            "x": {
             "column": "content_title",
             "id": "column_1dbdc407255"
            },
            "y": [
             {
              "column": "impressions",
              "id": "column_1dbdc407257",
              "transform": "SUM"
             }
            ]
           },
           "dateTimeFormat": "DD/MM/YYYY HH:mm",
           "direction": {
            "type": "counterclockwise"
           },
           "error_y": {
            "type": "data",
            "visible": true
           },
           "globalSeriesType": "line",
           "hideYAxes": false,
           "isAggregationOn": true,
           "legend": {
            "traceorder": "normal"
           },
           "missingValuesAsZero": true,
           "numberFormat": "0,0.[]",
           "percentFormat": "0[.]00%",
           "series": {
            "error_y": {
             "type": "data",
             "visible": true
            },
            "stacking": null
           },
           "seriesOptions": {
            "column_1dbdc407257": {
             "color": "#8CFFB4",
             "type": "line",
             "yAxis": 0,
             "zIndex": 0
            }
           },
           "showDataLabels": true,
           "sizemode": "diameter",
           "sortX": false,
           "sortY": true,
           "swappedAxes": true,
           "textFormat": "",
           "useAggregationsUi": true,
           "valuesOptions": {},
           "version": 2,
           "xAxis": {
            "labels": {
             "enabled": true
            },
            "title": {
             "text": " "
            },
            "type": "-"
           },
           "yAxis": [
            {
             "title": {
              "text": "Nº Horas Visualização"
             },
             "type": "-"
            },
            {
             "opposite": true,
             "type": "-"
            }
           ]
          }
         }
        ]
       },
       "datasetPreviewNameToCmdIdMap": {},
       "diffDeletes": [],
       "diffInserts": [],
       "displayType": "redashChart",
       "error": null,
       "errorDetails": null,
       "errorSummary": null,
       "errorTraceType": null,
       "finishTime": 0,
       "globalVars": {},
       "guid": "",
       "height": "auto",
       "hideCommandCode": false,
       "hideCommandResult": false,
       "iPythonMetadata": null,
       "inputWidgets": {},
       "isLockedInExamMode": false,
       "latestUser": "a user",
       "latestUserId": null,
       "listResultMetadata": null,
       "metadata": {},
       "nuid": "2dd81179-f20f-41c2-bd91-47b2885380f1",
       "origId": 0,
       "parentHierarchy": [],
       "pivotAggregation": null,
       "pivotColumns": null,
       "position": 5.9569091796875,
       "resultDbfsErrorMessage": null,
       "resultDbfsStatus": "INLINED_IN_TREE",
       "results": null,
       "showCommandTitle": false,
       "startTime": 0,
       "state": "input",
       "streamStates": {},
       "subcommandOptions": {
        "queryPlan": {
         "groups": [
          {
           "column": "content_title",
           "type": "column"
          }
         ],
         "selects": [
          {
           "column": "content_title",
           "type": "column"
          },
          {
           "alias": "column_1dbdc407257",
           "args": [
            {
             "column": "impressions",
             "type": "column"
            }
           ],
           "function": "SUM",
           "type": "function"
          }
         ]
        }
       },
       "submitTime": 0,
       "subtype": "tableResultSubCmd.visualization",
       "tableResultIndex": 0,
       "tableResultSettingsMap": {},
       "useConsistentColors": false,
       "version": "CommandV1",
       "width": "auto",
       "workflows": [],
       "xColumns": null,
       "yColumns": null
      }
     },
     "output_type": "display_data"
    }
   ],
   "source": [
    "%sql\n",
    "-- Top videos de longa duração que tiveram mais impressões nos últimos 12 meses\n",
    "\n",
    "select\n",
    "*\n",
    "from (\n",
    "    select \n",
    "      con.content_title                                                 as content_title\n",
    "    , dense_rank() over (order by sum(vie.impressions) desc)            as impressions_rank      \n",
    "    , sum(vie.impressions)                                              as impressions\n",
    "    , sum(vie.views)                                                    as views\n",
    "    , sum(vie.total_watch_time)                                         as total_watch_time\n",
    "    , floor(sum(vie.total_watch_time)) || ':' || \n",
    "      (lpad(floor((sum(vie.total_watch_time) - \n",
    "      floor(sum(vie.total_watch_time))) * 60), 2, '0'))                 as total_watch_time_hh_mm    \n",
    "    from datawarehouse.dw__views     as vie\n",
    "    inner join datawarehouse.dw__content  as con on (vie.content_sk = con.content_sk)\n",
    "    inner join datawarehouse.dw__calendar as cal on (vie.date_sk = cal.date_sk)\n",
    "    where 1=1\n",
    "    and con.content_type = 'video'\n",
    "    and vie.reference_date >= add_months(trunc(current_date(), 'month'), -13) -- últimos 12 meses fechados\n",
    "    group by\n",
    "      con.content_title\n",
    "\n",
    ") aux\n",
    "where 1=1\n",
    "and aux.impressions_rank <=10\n",
    "and aux.impressions_rank > 0\n",
    "order by\n",
    "  aux.impressions_rank \n",
    "limit 15  \n",
    ";"
   ]
  },
  {
   "cell_type": "code",
   "execution_count": 0,
   "metadata": {
    "application/vnd.databricks.v1+cell": {
     "cellMetadata": {
      "byteLimit": 2048000,
      "implicitDf": true,
      "rowLimit": 10000
     },
     "inputWidgets": {},
     "nuid": "1fd6d538-f866-4eba-aa1b-69e1d2355395",
     "showTitle": false,
     "tableResultSettingsMap": {},
     "title": ""
    }
   },
   "outputs": [
    {
     "output_type": "display_data",
     "data": {
      "text/html": [
       "<style scoped>\n",
       "  .table-result-container {\n",
       "    max-height: 300px;\n",
       "    overflow: auto;\n",
       "  }\n",
       "  table, th, td {\n",
       "    border: 1px solid black;\n",
       "    border-collapse: collapse;\n",
       "  }\n",
       "  th, td {\n",
       "    padding: 5px;\n",
       "  }\n",
       "  th {\n",
       "    text-align: left;\n",
       "  }\n",
       "</style><div class='table-result-container'><table class='table-result'><thead style='background-color: white'><tr><th>content_title</th><th>views_rank</th><th>impressions</th><th>views</th><th>total_watch_time</th><th>total_watch_time_hh_mm</th></tr></thead><tbody><tr><td>O melhor da GASTRONOMIA CURITIBANA | Onde COMER e BEBER em Curitiba</td><td>1</td><td>396484</td><td>23107</td><td>3947.2163</td><td>3947:12</td></tr><tr><td>VISITAMOS A MENOR PRAIA DE NUDISMO DO BRASIL 😱</td><td>2</td><td>116783</td><td>19849</td><td>723.0454</td><td>723:02</td></tr><tr><td>Conheça as MONTANHAS de GUARAPARI | O MELHOR da Rota da Ferradura</td><td>3</td><td>38455</td><td>10579</td><td>836.4252</td><td>836:25</td></tr><tr><td>O que fazer em SANTA TERESA | O MELHOR do Circuito Caravaggio</td><td>4</td><td>45614</td><td>6776</td><td>531.3346</td><td>531:20</td></tr><tr><td>Roteiro de 3 dias em MARAGOGI no ALAGOAS | Caribe Brasileiro</td><td>5</td><td>74284</td><td>6233</td><td>1175.6223</td><td>1175:37</td></tr><tr><td>O MELHOR Parque de Trampolim de São Paulo | Impulso Park</td><td>6</td><td>49844</td><td>6171</td><td>221.1770</td><td>221:10</td></tr><tr><td>O que fazer no Circuito Caravaggio | O MELHOR de Santa Teresa</td><td>7</td><td>36730</td><td>5001</td><td>393.6591</td><td>393:39</td></tr><tr><td>O que fazer nas MONTANHAS CAPIXABAS | Roteiro de 2 dias em Pedra Azul</td><td>8</td><td>47868</td><td>4513</td><td>529.9802</td><td>529:58</td></tr><tr><td>O que fazer em Arraial do Cabo | Quadriciclo no CARIBE BRASILEIRO</td><td>9</td><td>28820</td><td>4231</td><td>276.9015</td><td>276:54</td></tr><tr><td>O que fazer em VITÓRIA ES | Roteiro na Praia da Curva da Jurema</td><td>10</td><td>24775</td><td>4108</td><td>230.2844</td><td>230:17</td></tr></tbody></table></div>"
      ]
     },
     "metadata": {
      "application/vnd.databricks.v1+output": {
       "addedWidgets": {},
       "aggData": [],
       "aggError": "",
       "aggOverflow": false,
       "aggSchema": [],
       "aggSeriesLimitReached": false,
       "aggType": "",
       "arguments": {},
       "columnCustomDisplayInfos": {},
       "data": [
        [
         "O melhor da GASTRONOMIA CURITIBANA | Onde COMER e BEBER em Curitiba",
         1,
         396484,
         23107,
         "3947.2163",
         "3947:12"
        ],
        [
         "VISITAMOS A MENOR PRAIA DE NUDISMO DO BRASIL 😱",
         2,
         116783,
         19849,
         "723.0454",
         "723:02"
        ],
        [
         "Conheça as MONTANHAS de GUARAPARI | O MELHOR da Rota da Ferradura",
         3,
         38455,
         10579,
         "836.4252",
         "836:25"
        ],
        [
         "O que fazer em SANTA TERESA | O MELHOR do Circuito Caravaggio",
         4,
         45614,
         6776,
         "531.3346",
         "531:20"
        ],
        [
         "Roteiro de 3 dias em MARAGOGI no ALAGOAS | Caribe Brasileiro",
         5,
         74284,
         6233,
         "1175.6223",
         "1175:37"
        ],
        [
         "O MELHOR Parque de Trampolim de São Paulo | Impulso Park",
         6,
         49844,
         6171,
         "221.1770",
         "221:10"
        ],
        [
         "O que fazer no Circuito Caravaggio | O MELHOR de Santa Teresa",
         7,
         36730,
         5001,
         "393.6591",
         "393:39"
        ],
        [
         "O que fazer nas MONTANHAS CAPIXABAS | Roteiro de 2 dias em Pedra Azul",
         8,
         47868,
         4513,
         "529.9802",
         "529:58"
        ],
        [
         "O que fazer em Arraial do Cabo | Quadriciclo no CARIBE BRASILEIRO",
         9,
         28820,
         4231,
         "276.9015",
         "276:54"
        ],
        [
         "O que fazer em VITÓRIA ES | Roteiro na Praia da Curva da Jurema",
         10,
         24775,
         4108,
         "230.2844",
         "230:17"
        ]
       ],
       "datasetInfos": [],
       "dbfsResultPath": null,
       "isJsonSchema": true,
       "metadata": {},
       "overflow": false,
       "plotOptions": {
        "customPlotOptions": {},
        "displayType": "table",
        "pivotAggregation": null,
        "pivotColumns": null,
        "xColumns": null,
        "yColumns": null
       },
       "removedWidgets": [],
       "schema": [
        {
         "metadata": "{}",
         "name": "content_title",
         "type": "\"string\""
        },
        {
         "metadata": "{}",
         "name": "views_rank",
         "type": "\"integer\""
        },
        {
         "metadata": "{}",
         "name": "impressions",
         "type": "\"long\""
        },
        {
         "metadata": "{}",
         "name": "views",
         "type": "\"long\""
        },
        {
         "metadata": "{}",
         "name": "total_watch_time",
         "type": "\"decimal(20,4)\""
        },
        {
         "metadata": "{}",
         "name": "total_watch_time_hh_mm",
         "type": "\"string\""
        }
       ],
       "type": "table"
      }
     },
     "output_type": "display_data"
    },
    {
     "output_type": "display_data",
     "data": {
      "text/plain": [
       "Databricks visualization. Run in Databricks to view."
      ]
     },
     "metadata": {
      "application/vnd.databricks.v1.subcommand+json": {
       "baseErrorDetails": null,
       "bindings": {},
       "collapsed": false,
       "command": "%sql WITH q AS (select\n*\nfrom (\n    select \n      con.content_title                                                 as content_title\n    , dense_rank() over (order by sum(vie.views) desc)                  as views_rank      \n    , sum(vie.impressions)                                              as impressions\n    , sum(vie.views)                                                    as views\n    , sum(vie.total_watch_time)                                         as total_watch_time\n    , floor(sum(vie.total_watch_time)) || ':' || \n      (lpad(floor((sum(vie.total_watch_time) - \n      floor(sum(vie.total_watch_time))) * 60), 2, '0'))                 as total_watch_time_hh_mm    \n    from datawarehouse.dw__views     as vie\n    inner join datawarehouse.dw__content  as con on (vie.content_sk = con.content_sk)\n    inner join datawarehouse.dw__calendar as cal on (vie.date_sk = cal.date_sk)\n    where 1=1\n    and con.content_type = 'video'\n    and vie.reference_date >= add_months(trunc(current_date(), 'month'), -13) \n    group by\n      con.content_title\n\n) aux\nwhere 1=1\nand aux.views_rank <=10\nand aux.views_rank > 0\norder by\n  aux.views_rank \nlimit 15) SELECT `content_title`,SUM(`views`) `column_1dbdc407301` FROM q GROUP BY `content_title`",
       "commandTitle": "Top Videos + Visualizações",
       "commandType": "auto",
       "commandVersion": 0,
       "commentThread": [],
       "commentsVisible": false,
       "contentSha256Hex": null,
       "customPlotOptions": {
        "redashChart": [
         {
          "key": "type",
          "value": "CHART"
         },
         {
          "key": "options",
          "value": {
           "alignYAxesAtZero": true,
           "coefficient": 1,
           "columnConfigurationMap": {
            "x": {
             "column": "content_title",
             "id": "column_1dbdc407299"
            },
            "y": [
             {
              "column": "views",
              "id": "column_1dbdc407301",
              "transform": "SUM"
             }
            ]
           },
           "dateTimeFormat": "DD/MM/YYYY HH:mm",
           "direction": {
            "type": "counterclockwise"
           },
           "error_y": {
            "type": "data",
            "visible": true
           },
           "globalSeriesType": "line",
           "isAggregationOn": true,
           "legend": {
            "traceorder": "normal"
           },
           "missingValuesAsZero": true,
           "numberFormat": "0,0.[00000]",
           "percentFormat": "0[.]00%",
           "series": {
            "error_y": {
             "type": "data",
             "visible": true
            },
            "stacking": null
           },
           "seriesOptions": {
            "column_1dbdc407301": {
             "color": "#356AFF",
             "type": "line",
             "yAxis": 0
            }
           },
           "showDataLabels": true,
           "sizemode": "diameter",
           "sortX": false,
           "sortY": true,
           "swappedAxes": true,
           "textFormat": "",
           "useAggregationsUi": true,
           "valuesOptions": {},
           "version": 2,
           "xAxis": {
            "labels": {
             "enabled": true
            },
            "title": {
             "text": " "
            },
            "type": "-"
           },
           "yAxis": [
            {
             "title": {
              "text": "Nº Visualizações"
             },
             "type": "-"
            },
            {
             "opposite": true,
             "type": "-"
            }
           ]
          }
         }
        ]
       },
       "datasetPreviewNameToCmdIdMap": {},
       "diffDeletes": [],
       "diffInserts": [],
       "displayType": "redashChart",
       "error": null,
       "errorDetails": null,
       "errorSummary": null,
       "errorTraceType": null,
       "finishTime": 0,
       "globalVars": {},
       "guid": "",
       "height": "auto",
       "hideCommandCode": false,
       "hideCommandResult": false,
       "iPythonMetadata": null,
       "inputWidgets": {},
       "isLockedInExamMode": false,
       "latestUser": "a user",
       "latestUserId": null,
       "listResultMetadata": null,
       "metadata": {},
       "nuid": "e910c178-342e-4ed9-b04a-dc2a3a8c39bc",
       "origId": 0,
       "parentHierarchy": [],
       "pivotAggregation": null,
       "pivotColumns": null,
       "position": 5.956939697265625,
       "resultDbfsErrorMessage": null,
       "resultDbfsStatus": "INLINED_IN_TREE",
       "results": null,
       "showCommandTitle": false,
       "startTime": 0,
       "state": "input",
       "streamStates": {},
       "subcommandOptions": {
        "queryPlan": {
         "groups": [
          {
           "column": "content_title",
           "type": "column"
          }
         ],
         "selects": [
          {
           "column": "content_title",
           "type": "column"
          },
          {
           "alias": "column_1dbdc407301",
           "args": [
            {
             "column": "views",
             "type": "column"
            }
           ],
           "function": "SUM",
           "type": "function"
          }
         ]
        }
       },
       "submitTime": 0,
       "subtype": "tableResultSubCmd.visualization",
       "tableResultIndex": 0,
       "tableResultSettingsMap": {},
       "useConsistentColors": false,
       "version": "CommandV1",
       "width": "auto",
       "workflows": [],
       "xColumns": null,
       "yColumns": null
      }
     },
     "output_type": "display_data"
    }
   ],
   "source": [
    "%sql\n",
    "-- Top videos de longa duração que tiveram mais visualizações nos últimos 12 meses\n",
    "\n",
    "select\n",
    "*\n",
    "from (\n",
    "    select \n",
    "      con.content_title                                                 as content_title\n",
    "    , dense_rank() over (order by sum(vie.views) desc)                  as views_rank      \n",
    "    , sum(vie.impressions)                                              as impressions\n",
    "    , sum(vie.views)                                                    as views\n",
    "    , sum(vie.total_watch_time)                                         as total_watch_time\n",
    "    , floor(sum(vie.total_watch_time)) || ':' || \n",
    "      (lpad(floor((sum(vie.total_watch_time) - \n",
    "      floor(sum(vie.total_watch_time))) * 60), 2, '0'))                 as total_watch_time_hh_mm    \n",
    "    from datawarehouse.dw__views     as vie\n",
    "    inner join datawarehouse.dw__content  as con on (vie.content_sk = con.content_sk)\n",
    "    inner join datawarehouse.dw__calendar as cal on (vie.date_sk = cal.date_sk)\n",
    "    where 1=1\n",
    "    and con.content_type = 'video'\n",
    "    and vie.reference_date >= add_months(trunc(current_date(), 'month'), -13) -- últimos 12 meses fechados\n",
    "    group by\n",
    "      con.content_title\n",
    "\n",
    ") aux\n",
    "where 1=1\n",
    "and aux.views_rank <=10\n",
    "and aux.views_rank > 0\n",
    "order by\n",
    "  aux.views_rank \n",
    "limit 15  \n",
    ";"
   ]
  },
  {
   "cell_type": "code",
   "execution_count": 0,
   "metadata": {
    "application/vnd.databricks.v1+cell": {
     "cellMetadata": {
      "byteLimit": 2048000,
      "implicitDf": true,
      "rowLimit": 10000
     },
     "inputWidgets": {},
     "nuid": "03ca628c-8920-4894-aeaf-c1a2ec9d804f",
     "showTitle": false,
     "tableResultSettingsMap": {},
     "title": ""
    }
   },
   "outputs": [
    {
     "output_type": "display_data",
     "data": {
      "text/html": [
       "<style scoped>\n",
       "  .table-result-container {\n",
       "    max-height: 300px;\n",
       "    overflow: auto;\n",
       "  }\n",
       "  table, th, td {\n",
       "    border: 1px solid black;\n",
       "    border-collapse: collapse;\n",
       "  }\n",
       "  th, td {\n",
       "    padding: 5px;\n",
       "  }\n",
       "  th {\n",
       "    text-align: left;\n",
       "  }\n",
       "</style><div class='table-result-container'><table class='table-result'><thead style='background-color: white'><tr><th>content_title</th><th>rank</th><th>impressions</th><th>views</th><th>view_rate_pct</th><th>total_watch_time</th><th>total_watch_time_hh_mm</th></tr></thead><tbody><tr><td>AVENIDA PAULISTA NO DOMINGO (DOMINGO DO FERVOR)</td><td>1</td><td>1057</td><td>834</td><td>78.9</td><td>52.7989</td><td>52:47</td></tr><tr><td>MORRO DO MORENO EM VILA VELHA - ES</td><td>2</td><td>1795</td><td>965</td><td>53.8</td><td>41.2226</td><td>41:13</td></tr><tr><td>BISTRÔ SALDANHA EM VITÓRIA - ES</td><td>3</td><td>1617</td><td>505</td><td>31.2</td><td>21.6251</td><td>21:37</td></tr><tr><td>O que fazer na Praia de CAMBURI | O ponto turístico mais FAMOSO de VIX</td><td>4</td><td>4324</td><td>1318</td><td>30.5</td><td>92.6826</td><td>92:40</td></tr><tr><td>CALÇADÃO URBANÓIDE NA RUA AUGUSTA - SÃO PAULO</td><td>5</td><td>3268</td><td>906</td><td>27.7</td><td>29.8341</td><td>29:50</td></tr><tr><td>Conheça as MONTANHAS de GUARAPARI | O MELHOR da Rota da Ferradura</td><td>6</td><td>38455</td><td>10579</td><td>27.5</td><td>836.4252</td><td>836:25</td></tr><tr><td>HOSPEDAGEM EM CONTAINER - CHALÉ CONTAINER SANTA TERESA - ES</td><td>7</td><td>1027</td><td>277</td><td>27.0</td><td>8.7218</td><td>8:43</td></tr><tr><td>ATHENAS CAFÉ E RESTAURANTE - RUA AUGUSTA - SÃO PAULO</td><td>8</td><td>2669</td><td>669</td><td>25.1</td><td>22.8258</td><td>22:49</td></tr><tr><td>LAVANDÁRIO ROTA DA PEDRA EM PEDRA AZUL - ES</td><td>9</td><td>4644</td><td>1128</td><td>24.3</td><td>50.5483</td><td>50:32</td></tr><tr><td>BRILHO DE NATAL DE DOMINGOS MARTINS NO ESPIRITO SANTO</td><td>10</td><td>4107</td><td>989</td><td>24.1</td><td>28.3998</td><td>28:23</td></tr></tbody></table></div>"
      ]
     },
     "metadata": {
      "application/vnd.databricks.v1+output": {
       "addedWidgets": {},
       "aggData": [],
       "aggError": "",
       "aggOverflow": false,
       "aggSchema": [],
       "aggSeriesLimitReached": false,
       "aggType": "",
       "arguments": {},
       "columnCustomDisplayInfos": {},
       "data": [
        [
         "AVENIDA PAULISTA NO DOMINGO (DOMINGO DO FERVOR)",
         1,
         1057,
         834,
         78.9,
         "52.7989",
         "52:47"
        ],
        [
         "MORRO DO MORENO EM VILA VELHA - ES",
         2,
         1795,
         965,
         53.8,
         "41.2226",
         "41:13"
        ],
        [
         "BISTRÔ SALDANHA EM VITÓRIA - ES",
         3,
         1617,
         505,
         31.2,
         "21.6251",
         "21:37"
        ],
        [
         "O que fazer na Praia de CAMBURI | O ponto turístico mais FAMOSO de VIX",
         4,
         4324,
         1318,
         30.5,
         "92.6826",
         "92:40"
        ],
        [
         "CALÇADÃO URBANÓIDE NA RUA AUGUSTA - SÃO PAULO",
         5,
         3268,
         906,
         27.7,
         "29.8341",
         "29:50"
        ],
        [
         "Conheça as MONTANHAS de GUARAPARI | O MELHOR da Rota da Ferradura",
         6,
         38455,
         10579,
         27.5,
         "836.4252",
         "836:25"
        ],
        [
         "HOSPEDAGEM EM CONTAINER - CHALÉ CONTAINER SANTA TERESA - ES",
         7,
         1027,
         277,
         27.0,
         "8.7218",
         "8:43"
        ],
        [
         "ATHENAS CAFÉ E RESTAURANTE - RUA AUGUSTA - SÃO PAULO",
         8,
         2669,
         669,
         25.1,
         "22.8258",
         "22:49"
        ],
        [
         "LAVANDÁRIO ROTA DA PEDRA EM PEDRA AZUL - ES",
         9,
         4644,
         1128,
         24.3,
         "50.5483",
         "50:32"
        ],
        [
         "BRILHO DE NATAL DE DOMINGOS MARTINS NO ESPIRITO SANTO",
         10,
         4107,
         989,
         24.1,
         "28.3998",
         "28:23"
        ]
       ],
       "datasetInfos": [],
       "dbfsResultPath": null,
       "isJsonSchema": true,
       "metadata": {},
       "overflow": false,
       "plotOptions": {
        "customPlotOptions": {},
        "displayType": "table",
        "pivotAggregation": null,
        "pivotColumns": null,
        "xColumns": null,
        "yColumns": null
       },
       "removedWidgets": [],
       "schema": [
        {
         "metadata": "{}",
         "name": "content_title",
         "type": "\"string\""
        },
        {
         "metadata": "{}",
         "name": "rank",
         "type": "\"integer\""
        },
        {
         "metadata": "{}",
         "name": "impressions",
         "type": "\"long\""
        },
        {
         "metadata": "{}",
         "name": "views",
         "type": "\"long\""
        },
        {
         "metadata": "{}",
         "name": "view_rate_pct",
         "type": "\"double\""
        },
        {
         "metadata": "{}",
         "name": "total_watch_time",
         "type": "\"decimal(20,4)\""
        },
        {
         "metadata": "{}",
         "name": "total_watch_time_hh_mm",
         "type": "\"string\""
        }
       ],
       "type": "table"
      }
     },
     "output_type": "display_data"
    },
    {
     "output_type": "display_data",
     "data": {
      "text/plain": [
       "Databricks visualization. Run in Databricks to view."
      ]
     },
     "metadata": {
      "application/vnd.databricks.v1.subcommand+json": {
       "baseErrorDetails": null,
       "bindings": {},
       "collapsed": false,
       "command": "%sql WITH q AS (select\n*\nfrom (\n    select \n      con.content_title                                                                               as content_title\n    , dense_rank() over (order by (round(100*(sum(vie.views)/sum(vie.impressions)),1)) desc)          as rank      \n    , sum(vie.impressions)                                                                            as impressions\n    , sum(vie.views)                                                                                  as views\n    , round(100*(sum(vie.views)/sum(vie.impressions)),1)                                              as view_rate_pct    \n    , sum(vie.total_watch_time)                                                                       as total_watch_time\n    , floor(sum(vie.total_watch_time)) || ':' || \n      (lpad(floor((sum(vie.total_watch_time) - \n      floor(sum(vie.total_watch_time))) * 60), 2, '0'))                                               as total_watch_time_hh_mm    \n    from datawarehouse.dw__views     as vie\n    inner join datawarehouse.dw__content  as con on (vie.content_sk = con.content_sk)\n    inner join datawarehouse.dw__calendar as cal on (vie.date_sk = cal.date_sk)\n    where 1=1\n    and con.content_type = 'video'\n    and vie.reference_date >= add_months(trunc(current_date(), 'month'), -13) \n    group by\n      con.content_title\n\n) aux\nwhere 1=1\nand aux.rank <=10\norder by\n  aux.rank \nlimit 15) SELECT `content_title`,AVG(`view_rate_pct`) `column_1dbdc407372` FROM q GROUP BY `content_title`",
       "commandTitle": "Top Videos + Taxa Visualização",
       "commandType": "auto",
       "commandVersion": 0,
       "commentThread": [],
       "commentsVisible": false,
       "contentSha256Hex": null,
       "customPlotOptions": {
        "redashChart": [
         {
          "key": "type",
          "value": "CHART"
         },
         {
          "key": "options",
          "value": {
           "alignYAxesAtZero": true,
           "coefficient": 1,
           "columnConfigurationMap": {
            "x": {
             "column": "content_title",
             "id": "column_1dbdc407370"
            },
            "y": [
             {
              "column": "view_rate_pct",
              "id": "column_1dbdc407372",
              "transform": "AVG"
             }
            ]
           },
           "dateTimeFormat": "DD/MM/YYYY HH:mm",
           "direction": {
            "type": "counterclockwise"
           },
           "error_y": {
            "type": "data",
            "visible": true
           },
           "globalSeriesType": "line",
           "hideYAxes": true,
           "isAggregationOn": true,
           "legend": {
            "traceorder": "normal"
           },
           "missingValuesAsZero": true,
           "numberFormat": "0,0.[0]",
           "percentFormat": "0[.]00%",
           "series": {
            "error_y": {
             "type": "data",
             "visible": true
            },
            "stacking": null
           },
           "seriesOptions": {
            "column_1dbdc407372": {
             "color": "#FB8D3D",
             "name": "Taxa Visualização Média (%)",
             "type": "line",
             "yAxis": 0
            }
           },
           "showDataLabels": true,
           "sizemode": "diameter",
           "sortX": false,
           "sortY": true,
           "swappedAxes": true,
           "textFormat": "",
           "useAggregationsUi": true,
           "valuesOptions": {},
           "version": 2,
           "xAxis": {
            "labels": {
             "enabled": true
            },
            "title": {
             "text": " "
            },
            "type": "-"
           },
           "yAxis": [
            {
             "title": {
              "text": "Taxa Visualização Média (%)"
             },
             "type": "-"
            },
            {
             "opposite": true,
             "type": "-"
            }
           ]
          }
         }
        ]
       },
       "datasetPreviewNameToCmdIdMap": {},
       "diffDeletes": [],
       "diffInserts": [],
       "displayType": "redashChart",
       "error": null,
       "errorDetails": null,
       "errorSummary": null,
       "errorTraceType": null,
       "finishTime": 0,
       "globalVars": {},
       "guid": "",
       "height": "auto",
       "hideCommandCode": false,
       "hideCommandResult": false,
       "iPythonMetadata": null,
       "inputWidgets": {},
       "isLockedInExamMode": false,
       "latestUser": "a user",
       "latestUserId": null,
       "listResultMetadata": null,
       "metadata": {},
       "nuid": "f0ee13d5-33ad-4f10-93f7-1d92e3deec62",
       "origId": 0,
       "parentHierarchy": [],
       "pivotAggregation": null,
       "pivotColumns": null,
       "position": 5.956947326660156,
       "resultDbfsErrorMessage": null,
       "resultDbfsStatus": "INLINED_IN_TREE",
       "results": null,
       "showCommandTitle": false,
       "startTime": 0,
       "state": "input",
       "streamStates": {},
       "subcommandOptions": {
        "queryPlan": {
         "groups": [
          {
           "column": "content_title",
           "type": "column"
          }
         ],
         "selects": [
          {
           "column": "content_title",
           "type": "column"
          },
          {
           "alias": "column_1dbdc407372",
           "args": [
            {
             "column": "view_rate_pct",
             "type": "column"
            }
           ],
           "function": "AVG",
           "type": "function"
          }
         ]
        }
       },
       "submitTime": 0,
       "subtype": "tableResultSubCmd.visualization",
       "tableResultIndex": 0,
       "tableResultSettingsMap": {},
       "useConsistentColors": false,
       "version": "CommandV1",
       "width": "auto",
       "workflows": [],
       "xColumns": null,
       "yColumns": null
      }
     },
     "output_type": "display_data"
    }
   ],
   "source": [
    "%sql\n",
    "-- Top videos de longa duração que tiveram mais taxa de visualização nos últimos 12 meses\n",
    "\n",
    "select\n",
    "*\n",
    "from (\n",
    "    select \n",
    "      con.content_title                                                                               as content_title\n",
    "    , dense_rank() over (order by (round(100*(sum(vie.views)/sum(vie.impressions)),1)) desc)          as rank      \n",
    "    , sum(vie.impressions)                                                                            as impressions\n",
    "    , sum(vie.views)                                                                                  as views\n",
    "    , round(100*(sum(vie.views)/sum(vie.impressions)),1)                                              as view_rate_pct    \n",
    "    , sum(vie.total_watch_time)                                                                       as total_watch_time\n",
    "    , floor(sum(vie.total_watch_time)) || ':' || \n",
    "      (lpad(floor((sum(vie.total_watch_time) - \n",
    "      floor(sum(vie.total_watch_time))) * 60), 2, '0'))                                               as total_watch_time_hh_mm    \n",
    "    from datawarehouse.dw__views     as vie\n",
    "    inner join datawarehouse.dw__content  as con on (vie.content_sk = con.content_sk)\n",
    "    inner join datawarehouse.dw__calendar as cal on (vie.date_sk = cal.date_sk)\n",
    "    where 1=1\n",
    "    and con.content_type = 'video'\n",
    "    and vie.reference_date >= add_months(trunc(current_date(), 'month'), -13) -- últimos 12 meses fechados\n",
    "    group by\n",
    "      con.content_title\n",
    "\n",
    ") aux\n",
    "where 1=1\n",
    "and aux.rank <=10\n",
    "order by\n",
    "  aux.rank \n",
    "limit 15  \n",
    ";"
   ]
  },
  {
   "cell_type": "code",
   "execution_count": 0,
   "metadata": {
    "application/vnd.databricks.v1+cell": {
     "cellMetadata": {
      "byteLimit": 2048000,
      "implicitDf": true,
      "rowLimit": 10000
     },
     "inputWidgets": {},
     "nuid": "099260df-7106-41c8-8723-e2db9af82b82",
     "showTitle": false,
     "tableResultSettingsMap": {},
     "title": ""
    }
   },
   "outputs": [
    {
     "output_type": "display_data",
     "data": {
      "text/html": [
       "<style scoped>\n",
       "  .table-result-container {\n",
       "    max-height: 300px;\n",
       "    overflow: auto;\n",
       "  }\n",
       "  table, th, td {\n",
       "    border: 1px solid black;\n",
       "    border-collapse: collapse;\n",
       "  }\n",
       "  th, td {\n",
       "    padding: 5px;\n",
       "  }\n",
       "  th {\n",
       "    text-align: left;\n",
       "  }\n",
       "</style><div class='table-result-container'><table class='table-result'><thead style='background-color: white'><tr><th>content_title</th><th>total_watch_time_rank</th><th>impressions</th><th>views</th><th>total_watch_time</th><th>total_watch_time_hh_mm</th></tr></thead><tbody><tr><td>O melhor da GASTRONOMIA CURITIBANA | Onde COMER e BEBER em Curitiba</td><td>1</td><td>396484</td><td>23107</td><td>3947.2163</td><td>3947:12</td></tr><tr><td>Roteiro de 3 dias em MARAGOGI no ALAGOAS | Caribe Brasileiro</td><td>2</td><td>74284</td><td>6233</td><td>1175.6223</td><td>1175:37</td></tr><tr><td>Conheça as MONTANHAS de GUARAPARI | O MELHOR da Rota da Ferradura</td><td>3</td><td>38455</td><td>10579</td><td>836.4252</td><td>836:25</td></tr><tr><td>VISITAMOS A MENOR PRAIA DE NUDISMO DO BRASIL 😱</td><td>4</td><td>116783</td><td>19849</td><td>723.0454</td><td>723:02</td></tr><tr><td>O que fazer em Milagres | O MELHOR da Rota Ecológica dos MILAGRES</td><td>5</td><td>43545</td><td>4016</td><td>639.0942</td><td>639:05</td></tr><tr><td>O que fazer em SANTA TERESA | O MELHOR do Circuito Caravaggio</td><td>6</td><td>45614</td><td>6776</td><td>531.3346</td><td>531:20</td></tr><tr><td>O que fazer nas MONTANHAS CAPIXABAS | Roteiro de 2 dias em Pedra Azul</td><td>7</td><td>47868</td><td>4513</td><td>529.9802</td><td>529:58</td></tr><tr><td>O que fazer no Circuito Caravaggio | O MELHOR de Santa Teresa</td><td>8</td><td>36730</td><td>5001</td><td>393.6591</td><td>393:39</td></tr><tr><td>ONDE comer em CUSCO | Melhores restaurantes na PLAZA DE ARMAS</td><td>9</td><td>36396</td><td>3485</td><td>347.9438</td><td>347:56</td></tr><tr><td>O que fazer em Arraial do Cabo | Quadriciclo no CARIBE BRASILEIRO</td><td>10</td><td>28820</td><td>4231</td><td>276.9015</td><td>276:54</td></tr></tbody></table></div>"
      ]
     },
     "metadata": {
      "application/vnd.databricks.v1+output": {
       "addedWidgets": {},
       "aggData": [],
       "aggError": "",
       "aggOverflow": false,
       "aggSchema": [],
       "aggSeriesLimitReached": false,
       "aggType": "",
       "arguments": {},
       "columnCustomDisplayInfos": {},
       "data": [
        [
         "O melhor da GASTRONOMIA CURITIBANA | Onde COMER e BEBER em Curitiba",
         1,
         396484,
         23107,
         "3947.2163",
         "3947:12"
        ],
        [
         "Roteiro de 3 dias em MARAGOGI no ALAGOAS | Caribe Brasileiro",
         2,
         74284,
         6233,
         "1175.6223",
         "1175:37"
        ],
        [
         "Conheça as MONTANHAS de GUARAPARI | O MELHOR da Rota da Ferradura",
         3,
         38455,
         10579,
         "836.4252",
         "836:25"
        ],
        [
         "VISITAMOS A MENOR PRAIA DE NUDISMO DO BRASIL 😱",
         4,
         116783,
         19849,
         "723.0454",
         "723:02"
        ],
        [
         "O que fazer em Milagres | O MELHOR da Rota Ecológica dos MILAGRES",
         5,
         43545,
         4016,
         "639.0942",
         "639:05"
        ],
        [
         "O que fazer em SANTA TERESA | O MELHOR do Circuito Caravaggio",
         6,
         45614,
         6776,
         "531.3346",
         "531:20"
        ],
        [
         "O que fazer nas MONTANHAS CAPIXABAS | Roteiro de 2 dias em Pedra Azul",
         7,
         47868,
         4513,
         "529.9802",
         "529:58"
        ],
        [
         "O que fazer no Circuito Caravaggio | O MELHOR de Santa Teresa",
         8,
         36730,
         5001,
         "393.6591",
         "393:39"
        ],
        [
         "ONDE comer em CUSCO | Melhores restaurantes na PLAZA DE ARMAS",
         9,
         36396,
         3485,
         "347.9438",
         "347:56"
        ],
        [
         "O que fazer em Arraial do Cabo | Quadriciclo no CARIBE BRASILEIRO",
         10,
         28820,
         4231,
         "276.9015",
         "276:54"
        ]
       ],
       "datasetInfos": [],
       "dbfsResultPath": null,
       "isJsonSchema": true,
       "metadata": {},
       "overflow": false,
       "plotOptions": {
        "customPlotOptions": {},
        "displayType": "table",
        "pivotAggregation": null,
        "pivotColumns": null,
        "xColumns": null,
        "yColumns": null
       },
       "removedWidgets": [],
       "schema": [
        {
         "metadata": "{}",
         "name": "content_title",
         "type": "\"string\""
        },
        {
         "metadata": "{}",
         "name": "total_watch_time_rank",
         "type": "\"integer\""
        },
        {
         "metadata": "{}",
         "name": "impressions",
         "type": "\"long\""
        },
        {
         "metadata": "{}",
         "name": "views",
         "type": "\"long\""
        },
        {
         "metadata": "{}",
         "name": "total_watch_time",
         "type": "\"decimal(20,4)\""
        },
        {
         "metadata": "{}",
         "name": "total_watch_time_hh_mm",
         "type": "\"string\""
        }
       ],
       "type": "table"
      }
     },
     "output_type": "display_data"
    },
    {
     "output_type": "display_data",
     "data": {
      "text/plain": [
       "Databricks visualization. Run in Databricks to view."
      ]
     },
     "metadata": {
      "application/vnd.databricks.v1.subcommand+json": {
       "baseErrorDetails": null,
       "bindings": {},
       "collapsed": false,
       "command": "%sql WITH q AS (select\n*\nfrom (\n    select \n      con.content_title                                                 as content_title\n    , dense_rank() over (order by sum(vie.total_watch_time) desc)       as total_watch_time_rank      \n    , sum(vie.impressions)                                              as impressions\n    , sum(vie.views)                                                    as views\n    , sum(vie.total_watch_time)                                         as total_watch_time\n    , floor(sum(vie.total_watch_time)) || ':' || \n      (lpad(floor((sum(vie.total_watch_time) - \n      floor(sum(vie.total_watch_time))) * 60), 2, '0'))                 as total_watch_time_hh_mm    \n    from datawarehouse.dw__views     as vie\n    inner join datawarehouse.dw__content  as con on (vie.content_sk = con.content_sk)\n    inner join datawarehouse.dw__calendar as cal on (vie.date_sk = cal.date_sk)\n    where 1=1\n    and con.content_type = 'video'\n    and vie.reference_date >= add_months(trunc(current_date(), 'month'), -13) \n    group by\n      con.content_title\n\n) aux\nwhere 1=1\nand aux.total_watch_time_rank <=10\nand aux.total_watch_time_rank > 0\norder by\n  aux.total_watch_time_rank \nlimit 15) SELECT `content_title`,SUM(`total_watch_time`) `column_1dbdc407320` FROM q GROUP BY `content_title`",
       "commandTitle": "Top Videos + Horas Visualização",
       "commandType": "auto",
       "commandVersion": 0,
       "commentThread": [],
       "commentsVisible": false,
       "contentSha256Hex": null,
       "customPlotOptions": {
        "redashChart": [
         {
          "key": "type",
          "value": "CHART"
         },
         {
          "key": "options",
          "value": {
           "alignYAxesAtZero": true,
           "coefficient": 1,
           "columnConfigurationMap": {
            "x": {
             "column": "content_title",
             "id": "column_1dbdc407318"
            },
            "y": [
             {
              "column": "total_watch_time",
              "id": "column_1dbdc407320",
              "transform": "SUM"
             }
            ]
           },
           "dateTimeFormat": "DD/MM/YYYY HH:mm",
           "direction": {
            "type": "counterclockwise"
           },
           "error_y": {
            "type": "data",
            "visible": true
           },
           "globalSeriesType": "line",
           "isAggregationOn": true,
           "legend": {
            "traceorder": "normal"
           },
           "missingValuesAsZero": true,
           "numberFormat": "0,0.[]",
           "percentFormat": "0[.]00%",
           "series": {
            "error_y": {
             "type": "data",
             "visible": true
            },
            "stacking": null
           },
           "seriesOptions": {
            "column_1dbdc407320": {
             "color": "#B554FF",
             "type": "line",
             "yAxis": 0
            }
           },
           "showDataLabels": true,
           "sizemode": "diameter",
           "sortX": false,
           "sortY": true,
           "swappedAxes": true,
           "textFormat": "",
           "useAggregationsUi": true,
           "valuesOptions": {},
           "version": 2,
           "xAxis": {
            "labels": {
             "enabled": true
            },
            "type": "-"
           },
           "yAxis": [
            {
             "title": {
              "text": "Nº Horas Visualização"
             },
             "type": "-"
            },
            {
             "opposite": true,
             "type": "-"
            }
           ]
          }
         }
        ]
       },
       "datasetPreviewNameToCmdIdMap": {},
       "diffDeletes": [],
       "diffInserts": [],
       "displayType": "redashChart",
       "error": null,
       "errorDetails": null,
       "errorSummary": null,
       "errorTraceType": null,
       "finishTime": 0,
       "globalVars": {},
       "guid": "",
       "height": "auto",
       "hideCommandCode": false,
       "hideCommandResult": false,
       "iPythonMetadata": null,
       "inputWidgets": {},
       "isLockedInExamMode": false,
       "latestUser": "a user",
       "latestUserId": null,
       "listResultMetadata": null,
       "metadata": {},
       "nuid": "1d940de1-fbf3-4a5e-b19d-3eebf97095d9",
       "origId": 0,
       "parentHierarchy": [],
       "pivotAggregation": null,
       "pivotColumns": null,
       "position": 5.95697021484375,
       "resultDbfsErrorMessage": null,
       "resultDbfsStatus": "INLINED_IN_TREE",
       "results": null,
       "showCommandTitle": false,
       "startTime": 0,
       "state": "input",
       "streamStates": {},
       "subcommandOptions": {
        "queryPlan": {
         "groups": [
          {
           "column": "content_title",
           "type": "column"
          }
         ],
         "selects": [
          {
           "column": "content_title",
           "type": "column"
          },
          {
           "alias": "column_1dbdc407320",
           "args": [
            {
             "column": "total_watch_time",
             "type": "column"
            }
           ],
           "function": "SUM",
           "type": "function"
          }
         ]
        }
       },
       "submitTime": 0,
       "subtype": "tableResultSubCmd.visualization",
       "tableResultIndex": 0,
       "tableResultSettingsMap": {},
       "useConsistentColors": false,
       "version": "CommandV1",
       "width": "auto",
       "workflows": [],
       "xColumns": null,
       "yColumns": null
      }
     },
     "output_type": "display_data"
    }
   ],
   "source": [
    "%sql\n",
    "-- Top videos de longa duração que tiveram mais horas de visualização nos últimos 12 meses\n",
    "\n",
    "select\n",
    "*\n",
    "from (\n",
    "    select \n",
    "      con.content_title                                                 as content_title\n",
    "    , dense_rank() over (order by sum(vie.total_watch_time) desc)       as total_watch_time_rank      \n",
    "    , sum(vie.impressions)                                              as impressions\n",
    "    , sum(vie.views)                                                    as views\n",
    "    , sum(vie.total_watch_time)                                         as total_watch_time\n",
    "    , floor(sum(vie.total_watch_time)) || ':' || \n",
    "      (lpad(floor((sum(vie.total_watch_time) - \n",
    "      floor(sum(vie.total_watch_time))) * 60), 2, '0'))                 as total_watch_time_hh_mm    \n",
    "    from datawarehouse.dw__views     as vie\n",
    "    inner join datawarehouse.dw__content  as con on (vie.content_sk = con.content_sk)\n",
    "    inner join datawarehouse.dw__calendar as cal on (vie.date_sk = cal.date_sk)\n",
    "    where 1=1\n",
    "    and con.content_type = 'video'\n",
    "    and vie.reference_date >= add_months(trunc(current_date(), 'month'), -13) -- últimos 12 meses fechados\n",
    "    group by\n",
    "      con.content_title\n",
    "\n",
    ") aux\n",
    "where 1=1\n",
    "and aux.total_watch_time_rank <=10\n",
    "and aux.total_watch_time_rank > 0\n",
    "order by\n",
    "  aux.total_watch_time_rank \n",
    "limit 15  \n",
    ";"
   ]
  },
  {
   "cell_type": "markdown",
   "metadata": {
    "application/vnd.databricks.v1+cell": {
     "cellMetadata": {},
     "inputWidgets": {},
     "nuid": "874091b2-d4cb-4de3-9c51-a9e25f783e0a",
     "showTitle": false,
     "tableResultSettingsMap": {},
     "title": ""
    }
   },
   "source": [
    "### RECEITA"
   ]
  },
  {
   "cell_type": "code",
   "execution_count": 0,
   "metadata": {
    "application/vnd.databricks.v1+cell": {
     "cellMetadata": {
      "byteLimit": 2048000,
      "implicitDf": true,
      "rowLimit": 10000
     },
     "inputWidgets": {},
     "nuid": "7f5c0c38-9e67-4221-afea-697fda427cb9",
     "showTitle": false,
     "tableResultSettingsMap": {},
     "title": ""
    }
   },
   "outputs": [
    {
     "output_type": "display_data",
     "data": {
      "text/html": [
       "<style scoped>\n",
       "  .table-result-container {\n",
       "    max-height: 300px;\n",
       "    overflow: auto;\n",
       "  }\n",
       "  table, th, td {\n",
       "    border: 1px solid black;\n",
       "    border-collapse: collapse;\n",
       "  }\n",
       "  th, td {\n",
       "    padding: 5px;\n",
       "  }\n",
       "  th {\n",
       "    text-align: left;\n",
       "  }\n",
       "</style><div class='table-result-container'><table class='table-result'><thead style='background-color: white'><tr><th>short_year_and_month</th><th>year</th><th>month_number</th><th>estimated_monetized_playbacks</th><th>estimated_revenue</th><th>average_cpm</th><th>average_rpm</th></tr></thead><tbody><tr><td>2024 Mar</td><td>2024</td><td>3</td><td>6230</td><td>10.9140</td><td>2.39146296</td><td>1.63643636</td></tr><tr><td>2024 Apr</td><td>2024</td><td>4</td><td>6426</td><td>9.9540</td><td>2.09167925</td><td>1.51757407</td></tr><tr><td>2024 May</td><td>2024</td><td>5</td><td>8912</td><td>13.7460</td><td>2.35305455</td><td>1.65226316</td></tr><tr><td>2024 Jun</td><td>2024</td><td>6</td><td>8886</td><td>13.5660</td><td>1.84476271</td><td>1.49054237</td></tr><tr><td>2024 Jul</td><td>2024</td><td>7</td><td>12183</td><td>16.0830</td><td>1.53704918</td><td>1.23431148</td></tr><tr><td>2024 Aug</td><td>2024</td><td>8</td><td>10159</td><td>15.6000</td><td>2.00896825</td><td>1.62647619</td></tr><tr><td>2024 Sep</td><td>2024</td><td>9</td><td>8844</td><td>14.7640</td><td>1.99983607</td><td>1.64240984</td></tr><tr><td>2024 Oct</td><td>2024</td><td>10</td><td>7086</td><td>11.8060</td><td>1.82276190</td><td>1.53533333</td></tr><tr><td>2024 Nov</td><td>2024</td><td>11</td><td>6276</td><td>13.3640</td><td>2.19808065</td><td>2.02230645</td></tr><tr><td>2024 Dec</td><td>2024</td><td>12</td><td>5809</td><td>10.8260</td><td>1.73507813</td><td>5.33464063</td></tr><tr><td>2025 Jan</td><td>2025</td><td>1</td><td>8497</td><td>16.5920</td><td>2.32277273</td><td>1.84630769</td></tr><tr><td>2025 Feb</td><td>2025</td><td>2</td><td>14851</td><td>46.6820</td><td>1.60651515</td><td>5.99487879</td></tr><tr><td>2025 Mar</td><td>2025</td><td>3</td><td>11437</td><td>29.3000</td><td>2.19720833</td><td>1.80384507</td></tr><tr><td>2025 Apr</td><td>2025</td><td>4</td><td>1031</td><td>2.2900</td><td>1.52420000</td><td>1.15068966</td></tr></tbody></table></div>"
      ]
     },
     "metadata": {
      "application/vnd.databricks.v1+output": {
       "addedWidgets": {},
       "aggData": [],
       "aggError": "",
       "aggOverflow": false,
       "aggSchema": [],
       "aggSeriesLimitReached": false,
       "aggType": "",
       "arguments": {},
       "columnCustomDisplayInfos": {},
       "data": [
        [
         "2024 Mar",
         2024,
         3,
         6230,
         "10.9140",
         "2.39146296",
         "1.63643636"
        ],
        [
         "2024 Apr",
         2024,
         4,
         6426,
         "9.9540",
         "2.09167925",
         "1.51757407"
        ],
        [
         "2024 May",
         2024,
         5,
         8912,
         "13.7460",
         "2.35305455",
         "1.65226316"
        ],
        [
         "2024 Jun",
         2024,
         6,
         8886,
         "13.5660",
         "1.84476271",
         "1.49054237"
        ],
        [
         "2024 Jul",
         2024,
         7,
         12183,
         "16.0830",
         "1.53704918",
         "1.23431148"
        ],
        [
         "2024 Aug",
         2024,
         8,
         10159,
         "15.6000",
         "2.00896825",
         "1.62647619"
        ],
        [
         "2024 Sep",
         2024,
         9,
         8844,
         "14.7640",
         "1.99983607",
         "1.64240984"
        ],
        [
         "2024 Oct",
         2024,
         10,
         7086,
         "11.8060",
         "1.82276190",
         "1.53533333"
        ],
        [
         "2024 Nov",
         2024,
         11,
         6276,
         "13.3640",
         "2.19808065",
         "2.02230645"
        ],
        [
         "2024 Dec",
         2024,
         12,
         5809,
         "10.8260",
         "1.73507813",
         "5.33464063"
        ],
        [
         "2025 Jan",
         2025,
         1,
         8497,
         "16.5920",
         "2.32277273",
         "1.84630769"
        ],
        [
         "2025 Feb",
         2025,
         2,
         14851,
         "46.6820",
         "1.60651515",
         "5.99487879"
        ],
        [
         "2025 Mar",
         2025,
         3,
         11437,
         "29.3000",
         "2.19720833",
         "1.80384507"
        ],
        [
         "2025 Apr",
         2025,
         4,
         1031,
         "2.2900",
         "1.52420000",
         "1.15068966"
        ]
       ],
       "datasetInfos": [],
       "dbfsResultPath": null,
       "isJsonSchema": true,
       "metadata": {},
       "overflow": false,
       "plotOptions": {
        "customPlotOptions": {},
        "displayType": "table",
        "pivotAggregation": null,
        "pivotColumns": null,
        "xColumns": null,
        "yColumns": null
       },
       "removedWidgets": [],
       "schema": [
        {
         "metadata": "{}",
         "name": "short_year_and_month",
         "type": "\"string\""
        },
        {
         "metadata": "{}",
         "name": "year",
         "type": "\"integer\""
        },
        {
         "metadata": "{}",
         "name": "month_number",
         "type": "\"integer\""
        },
        {
         "metadata": "{}",
         "name": "estimated_monetized_playbacks",
         "type": "\"long\""
        },
        {
         "metadata": "{}",
         "name": "estimated_revenue",
         "type": "\"decimal(21,4)\""
        },
        {
         "metadata": "{}",
         "name": "average_cpm",
         "type": "\"decimal(15,8)\""
        },
        {
         "metadata": "{}",
         "name": "average_rpm",
         "type": "\"decimal(15,8)\""
        }
       ],
       "type": "table"
      }
     },
     "output_type": "display_data"
    },
    {
     "output_type": "display_data",
     "data": {
      "text/plain": [
       "Databricks visualization. Run in Databricks to view."
      ]
     },
     "metadata": {
      "application/vnd.databricks.v1.subcommand+json": {
       "baseErrorDetails": null,
       "bindings": {},
       "collapsed": false,
       "command": "%sql WITH q AS (select\n*\nfrom (\n    select \n      cal.short_year_and_month\n    , cal.year\n    , cal.month_number    \n    , sum(rev.estimated_monetized_playbacks)   as estimated_monetized_playbacks\n    , sum(rev.estimated_revenue)               as estimated_revenue\n    , avg(rev.cpm)                             as average_cpm\n    , avg(rev.rpm)                             as average_rpm\n    from datawarehouse.dw__revenue     as rev\n    inner join datawarehouse.dw__content  as con on (rev.content_sk = con.content_sk)\n    inner join datawarehouse.dw__calendar as cal on (rev.date_sk = cal.date_sk)\n    where 1=1\n    and con.content_type = 'video'\n    and rev.reference_date >= add_months(trunc(current_date(), 'month'), -13) \n    group by\n      cal.short_year_and_month\n    , cal.year\n    , cal.month_number \n\n) aux\norder by\n  aux.year\n, aux.month_number) SELECT `short_year_and_month`,SUM(`estimated_monetized_playbacks`) `column_1dbdc407327`,SUM(`estimated_revenue`) `column_1dbdc407330` FROM q GROUP BY `short_year_and_month`",
       "commandTitle": "Reproduções Monetizadas",
       "commandType": "auto",
       "commandVersion": 0,
       "commentThread": [],
       "commentsVisible": false,
       "contentSha256Hex": null,
       "customPlotOptions": {
        "redashChart": [
         {
          "key": "type",
          "value": "CHART"
         },
         {
          "key": "options",
          "value": {
           "alignYAxesAtZero": true,
           "coefficient": 1,
           "columnConfigurationMap": {
            "x": {
             "column": "short_year_and_month",
             "id": "column_1dbdc407325"
            },
            "y": [
             {
              "column": "estimated_monetized_playbacks",
              "id": "column_1dbdc407330",
              "transform": "SUM"
             }
            ]
           },
           "dateTimeFormat": "DD/MM/YYYY HH:mm",
           "direction": {
            "type": "counterclockwise"
           },
           "error_y": {
            "type": "data",
            "visible": true
           },
           "globalSeriesType": "area",
           "hideXAxis": false,
           "hideYAxes": true,
           "isAggregationOn": true,
           "legend": {
            "traceorder": "normal"
           },
           "missingValuesAsZero": true,
           "numberFormat": "0,0.[00000]",
           "percentFormat": "0[.]00%",
           "series": {
            "error_y": {
             "type": "data",
             "visible": true
            },
            "stacking": null
           },
           "seriesOptions": {
            "column_1dbdc407327": {
             "color": "#8CFFB4",
             "name": "Receita Estimada",
             "type": "area",
             "yAxis": 0,
             "zIndex": 1
            },
            "column_1dbdc407330": {
             "color": "#8CFFB4",
             "name": "Reproduções monetizadas",
             "type": "area",
             "yAxis": 0,
             "zIndex": 0
            }
           },
           "showDataLabels": true,
           "sizemode": "diameter",
           "sortX": false,
           "sortY": true,
           "swappedAxes": false,
           "textFormat": "",
           "useAggregationsUi": true,
           "valuesOptions": {},
           "version": 2,
           "xAxis": {
            "labels": {
             "enabled": true
            },
            "title": {
             "text": "Período"
            },
            "type": "-"
           },
           "yAxis": [
            {
             "title": {
              "text": "Nº Estimado Reproduções Monetizadas"
             },
             "type": "-"
            },
            {
             "opposite": true,
             "title": {
              "text": "Receita Estimada (R$)"
             },
             "type": "-"
            }
           ]
          }
         }
        ]
       },
       "datasetPreviewNameToCmdIdMap": {},
       "diffDeletes": [],
       "diffInserts": [],
       "displayType": "redashChart",
       "error": null,
       "errorDetails": null,
       "errorSummary": null,
       "errorTraceType": null,
       "finishTime": 0,
       "globalVars": {},
       "guid": "",
       "height": "auto",
       "hideCommandCode": false,
       "hideCommandResult": false,
       "iPythonMetadata": null,
       "inputWidgets": {},
       "isLockedInExamMode": false,
       "latestUser": "a user",
       "latestUserId": null,
       "listResultMetadata": null,
       "metadata": {},
       "nuid": "0acc7786-05dc-4e47-ba63-18ce2ef73c5f",
       "origId": 0,
       "parentHierarchy": [],
       "pivotAggregation": null,
       "pivotColumns": null,
       "position": 5.9570159912109375,
       "resultDbfsErrorMessage": null,
       "resultDbfsStatus": "INLINED_IN_TREE",
       "results": null,
       "showCommandTitle": false,
       "startTime": 0,
       "state": "input",
       "streamStates": {},
       "subcommandOptions": {
        "queryPlan": {
         "groups": [
          {
           "column": "short_year_and_month",
           "type": "column"
          }
         ],
         "selects": [
          {
           "column": "short_year_and_month",
           "type": "column"
          },
          {
           "alias": "column_1dbdc407330",
           "args": [
            {
             "column": "estimated_monetized_playbacks",
             "type": "column"
            }
           ],
           "function": "SUM",
           "type": "function"
          }
         ]
        }
       },
       "submitTime": 0,
       "subtype": "tableResultSubCmd.visualization",
       "tableResultIndex": 0,
       "tableResultSettingsMap": {},
       "useConsistentColors": false,
       "version": "CommandV1",
       "width": "auto",
       "workflows": [],
       "xColumns": null,
       "yColumns": null
      }
     },
     "output_type": "display_data"
    },
    {
     "output_type": "display_data",
     "data": {
      "text/plain": [
       "Databricks visualization. Run in Databricks to view."
      ]
     },
     "metadata": {
      "application/vnd.databricks.v1.subcommand+json": {
       "baseErrorDetails": null,
       "bindings": {},
       "collapsed": false,
       "command": "%sql WITH q AS (select\n*\nfrom (\n    select \n      cal.short_year_and_month\n    , cal.year\n    , cal.month_number    \n    , sum(rev.estimated_monetized_playbacks)   as estimated_monetized_playbacks\n    , sum(rev.estimated_revenue)               as estimated_revenue\n    , avg(rev.cpm)                             as average_cpm\n    , avg(rev.rpm)                             as average_rpm\n    from datawarehouse.dw__revenue     as rev\n    inner join datawarehouse.dw__content  as con on (rev.content_sk = con.content_sk)\n    inner join datawarehouse.dw__calendar as cal on (rev.date_sk = cal.date_sk)\n    where 1=1\n    and con.content_type = 'video'\n    and rev.reference_date >= add_months(trunc(current_date(), 'month'), -13) \n    group by\n      cal.short_year_and_month\n    , cal.year\n    , cal.month_number \n\n) aux\norder by\n  aux.year\n, aux.month_number) SELECT `short_year_and_month`,SUM(`estimated_monetized_playbacks`) `column_1dbdc407327`,SUM(`estimated_revenue`) `column_1dbdc407330` FROM q GROUP BY `short_year_and_month`",
       "commandTitle": "Receita Estimada",
       "commandType": "auto",
       "commandVersion": 0,
       "commentThread": [],
       "commentsVisible": false,
       "contentSha256Hex": null,
       "customPlotOptions": {
        "redashChart": [
         {
          "key": "type",
          "value": "CHART"
         },
         {
          "key": "options",
          "value": {
           "alignYAxesAtZero": true,
           "coefficient": 1,
           "columnConfigurationMap": {
            "x": {
             "column": "short_year_and_month",
             "id": "column_1dbdc407325"
            },
            "y": [
             {
              "column": "estimated_revenue",
              "id": "column_1dbdc407330",
              "transform": "SUM"
             }
            ]
           },
           "dateTimeFormat": "DD/MM/YYYY HH:mm",
           "direction": {
            "type": "counterclockwise"
           },
           "error_y": {
            "type": "data",
            "visible": true
           },
           "globalSeriesType": "area",
           "hideYAxes": true,
           "isAggregationOn": true,
           "legend": {
            "traceorder": "normal"
           },
           "missingValuesAsZero": true,
           "numberFormat": "0,0.[0]",
           "percentFormat": "0[.]00%",
           "series": {
            "error_y": {
             "type": "data",
             "visible": true
            },
            "stacking": null
           },
           "seriesOptions": {
            "column_1dbdc407327": {
             "color": "#8CFFB4",
             "name": "Receita Estimada",
             "type": "area",
             "yAxis": 0,
             "zIndex": 1
            },
            "column_1dbdc407330": {
             "color": "#356AFF",
             "name": "Reproduções monetizadas",
             "type": "area",
             "yAxis": 0,
             "zIndex": 0
            }
           },
           "showDataLabels": true,
           "sizemode": "diameter",
           "sortX": false,
           "sortY": true,
           "swappedAxes": false,
           "textFormat": "",
           "useAggregationsUi": true,
           "valuesOptions": {},
           "version": 2,
           "xAxis": {
            "labels": {
             "enabled": true
            },
            "title": {
             "text": "Período"
            },
            "type": "-"
           },
           "yAxis": [
            {
             "title": {
              "text": "Receitra Estimada"
             },
             "type": "-"
            },
            {
             "opposite": true,
             "title": {
              "text": "Receita Estimada (R$)"
             },
             "type": "-"
            }
           ]
          }
         }
        ]
       },
       "datasetPreviewNameToCmdIdMap": {},
       "diffDeletes": [],
       "diffInserts": [],
       "displayType": "redashChart",
       "error": null,
       "errorDetails": null,
       "errorSummary": null,
       "errorTraceType": null,
       "finishTime": 0,
       "globalVars": {},
       "guid": "",
       "height": "auto",
       "hideCommandCode": false,
       "hideCommandResult": false,
       "iPythonMetadata": null,
       "inputWidgets": {},
       "isLockedInExamMode": false,
       "latestUser": "a user",
       "latestUserId": null,
       "listResultMetadata": null,
       "metadata": {},
       "nuid": "b594351e-d8e4-4aa6-9f11-70400c805497",
       "origId": 0,
       "parentHierarchy": [],
       "pivotAggregation": null,
       "pivotColumns": null,
       "position": 6.9570159912109375,
       "resultDbfsErrorMessage": null,
       "resultDbfsStatus": "INLINED_IN_TREE",
       "results": null,
       "showCommandTitle": false,
       "startTime": 0,
       "state": "input",
       "streamStates": {},
       "subcommandOptions": {
        "queryPlan": {
         "groups": [
          {
           "column": "short_year_and_month",
           "type": "column"
          }
         ],
         "selects": [
          {
           "column": "short_year_and_month",
           "type": "column"
          },
          {
           "alias": "column_1dbdc407330",
           "args": [
            {
             "column": "estimated_revenue",
             "type": "column"
            }
           ],
           "function": "SUM",
           "type": "function"
          }
         ]
        }
       },
       "submitTime": 0,
       "subtype": "tableResultSubCmd.visualization",
       "tableResultIndex": 0,
       "tableResultSettingsMap": {},
       "useConsistentColors": false,
       "version": "CommandV1",
       "width": "auto",
       "workflows": [],
       "xColumns": null,
       "yColumns": null
      }
     },
     "output_type": "display_data"
    },
    {
     "output_type": "display_data",
     "data": {
      "text/plain": [
       "Databricks visualization. Run in Databricks to view."
      ]
     },
     "metadata": {
      "application/vnd.databricks.v1.subcommand+json": {
       "baseErrorDetails": null,
       "bindings": {},
       "collapsed": false,
       "command": "%sql WITH q AS (select\n*\nfrom (\n    select \n      cal.short_year_and_month\n    , cal.year\n    , cal.month_number    \n    , sum(rev.estimated_monetized_playbacks)   as estimated_monetized_playbacks\n    , sum(rev.estimated_revenue)               as estimated_revenue\n    , avg(rev.cpm)                             as average_cpm\n    , avg(rev.rpm)                             as average_rpm\n    from datawarehouse.dw__revenue     as rev\n    inner join datawarehouse.dw__content  as con on (rev.content_sk = con.content_sk)\n    inner join datawarehouse.dw__calendar as cal on (rev.date_sk = cal.date_sk)\n    where 1=1\n    and con.content_type = 'video'\n    and rev.reference_date >= add_months(trunc(current_date(), 'month'), -13) \n    group by\n      cal.short_year_and_month\n    , cal.year\n    , cal.month_number \n\n) aux\norder by\n  aux.year\n, aux.month_number) SELECT `short_year_and_month`,SUM(`estimated_monetized_playbacks`) `column_1dbdc407327`,SUM(`estimated_revenue`) `column_1dbdc407330` FROM q GROUP BY `short_year_and_month`",
       "commandTitle": "RMP Médio",
       "commandType": "auto",
       "commandVersion": 0,
       "commentThread": [],
       "commentsVisible": false,
       "contentSha256Hex": null,
       "customPlotOptions": {
        "redashChart": [
         {
          "key": "type",
          "value": "CHART"
         },
         {
          "key": "options",
          "value": {
           "alignYAxesAtZero": true,
           "coefficient": 1,
           "columnConfigurationMap": {
            "x": {
             "column": "short_year_and_month",
             "id": "column_1dbdc407325"
            },
            "y": [
             {
              "column": "average_rpm",
              "id": "column_1dbdc407330",
              "transform": "SUM"
             }
            ]
           },
           "dateTimeFormat": "DD/MM/YYYY HH:mm",
           "direction": {
            "type": "counterclockwise"
           },
           "error_y": {
            "type": "data",
            "visible": true
           },
           "globalSeriesType": "area",
           "hideYAxes": true,
           "isAggregationOn": true,
           "legend": {
            "traceorder": "normal"
           },
           "missingValuesAsZero": true,
           "numberFormat": "0,0.[0]",
           "percentFormat": "0[.]00%",
           "series": {
            "error_y": {
             "type": "data",
             "visible": true
            },
            "stacking": null
           },
           "seriesOptions": {
            "column_1dbdc407327": {
             "color": "#8CFFB4",
             "name": "Receita Estimada",
             "type": "area",
             "yAxis": 0,
             "zIndex": 1
            },
            "column_1dbdc407330": {
             "color": "#FB8D3D",
             "name": "RPM Médio",
             "type": "area",
             "yAxis": 0,
             "zIndex": 0
            }
           },
           "showDataLabels": true,
           "sizemode": "diameter",
           "sortX": false,
           "sortY": true,
           "swappedAxes": false,
           "textFormat": "",
           "useAggregationsUi": true,
           "valuesOptions": {},
           "version": 2,
           "xAxis": {
            "labels": {
             "enabled": true
            },
            "title": {
             "text": "Período"
            },
            "type": "-"
           },
           "yAxis": [
            {
             "title": {
              "text": "RPM Médio"
             },
             "type": "-"
            },
            {
             "opposite": true,
             "title": {
              "text": "Receita Estimada (R$)"
             },
             "type": "-"
            }
           ]
          }
         }
        ]
       },
       "datasetPreviewNameToCmdIdMap": {},
       "diffDeletes": [],
       "diffInserts": [],
       "displayType": "redashChart",
       "error": null,
       "errorDetails": null,
       "errorSummary": null,
       "errorTraceType": null,
       "finishTime": 0,
       "globalVars": {},
       "guid": "",
       "height": "auto",
       "hideCommandCode": false,
       "hideCommandResult": false,
       "iPythonMetadata": null,
       "inputWidgets": {},
       "isLockedInExamMode": false,
       "latestUser": "a user",
       "latestUserId": null,
       "listResultMetadata": null,
       "metadata": {},
       "nuid": "fb81eac8-4fe1-4037-acb3-194c0763c540",
       "origId": 0,
       "parentHierarchy": [],
       "pivotAggregation": null,
       "pivotColumns": null,
       "position": 7.9570159912109375,
       "resultDbfsErrorMessage": null,
       "resultDbfsStatus": "INLINED_IN_TREE",
       "results": null,
       "showCommandTitle": false,
       "startTime": 0,
       "state": "input",
       "streamStates": {},
       "subcommandOptions": {
        "queryPlan": {
         "groups": [
          {
           "column": "short_year_and_month",
           "type": "column"
          }
         ],
         "selects": [
          {
           "column": "short_year_and_month",
           "type": "column"
          },
          {
           "alias": "column_1dbdc407330",
           "args": [
            {
             "column": "average_rpm",
             "type": "column"
            }
           ],
           "function": "SUM",
           "type": "function"
          }
         ]
        }
       },
       "submitTime": 0,
       "subtype": "tableResultSubCmd.visualization",
       "tableResultIndex": 0,
       "tableResultSettingsMap": {},
       "useConsistentColors": false,
       "version": "CommandV1",
       "width": "auto",
       "workflows": [],
       "xColumns": null,
       "yColumns": null
      }
     },
     "output_type": "display_data"
    },
    {
     "output_type": "display_data",
     "data": {
      "text/plain": [
       "Databricks visualization. Run in Databricks to view."
      ]
     },
     "metadata": {
      "application/vnd.databricks.v1.subcommand+json": {
       "baseErrorDetails": null,
       "bindings": {},
       "collapsed": false,
       "command": "%sql WITH q AS (select\n*\nfrom (\n    select \n      cal.short_year_and_month\n    , cal.year\n    , cal.month_number    \n    , sum(rev.estimated_monetized_playbacks)   as estimated_monetized_playbacks\n    , sum(rev.estimated_revenue)               as estimated_revenue\n    , avg(rev.cpm)                             as average_cpm\n    , avg(rev.rpm)                             as average_rpm\n    from datawarehouse.dw__revenue     as rev\n    inner join datawarehouse.dw__content  as con on (rev.content_sk = con.content_sk)\n    inner join datawarehouse.dw__calendar as cal on (rev.date_sk = cal.date_sk)\n    where 1=1\n    and con.content_type = 'video'\n    and rev.reference_date >= add_months(trunc(current_date(), 'month'), -13) \n    group by\n      cal.short_year_and_month\n    , cal.year\n    , cal.month_number \n\n) aux\norder by\n  aux.year\n, aux.month_number) SELECT `short_year_and_month`,SUM(`estimated_monetized_playbacks`) `column_1dbdc407327`,SUM(`estimated_revenue`) `column_1dbdc407330` FROM q GROUP BY `short_year_and_month`",
       "commandTitle": "CPM Médio",
       "commandType": "auto",
       "commandVersion": 0,
       "commentThread": [],
       "commentsVisible": false,
       "contentSha256Hex": null,
       "customPlotOptions": {
        "redashChart": [
         {
          "key": "type",
          "value": "CHART"
         },
         {
          "key": "options",
          "value": {
           "alignYAxesAtZero": true,
           "coefficient": 1,
           "columnConfigurationMap": {
            "x": {
             "column": "short_year_and_month",
             "id": "column_1dbdc407325"
            },
            "y": [
             {
              "column": "average_cpm",
              "id": "column_1dbdc407330",
              "transform": "SUM"
             }
            ]
           },
           "dateTimeFormat": "DD/MM/YYYY HH:mm",
           "direction": {
            "type": "counterclockwise"
           },
           "error_y": {
            "type": "data",
            "visible": true
           },
           "globalSeriesType": "area",
           "hideYAxes": true,
           "isAggregationOn": true,
           "legend": {
            "traceorder": "normal"
           },
           "missingValuesAsZero": true,
           "numberFormat": "0,0.[0]",
           "percentFormat": "0[.]00%",
           "series": {
            "error_y": {
             "type": "data",
             "visible": true
            },
            "stacking": null
           },
           "seriesOptions": {
            "column_1dbdc407327": {
             "color": "#8CFFB4",
             "name": "Receita Estimada",
             "type": "area",
             "yAxis": 0,
             "zIndex": 1
            },
            "column_1dbdc407330": {
             "color": "#B554FF",
             "name": "CPM Médio",
             "type": "area",
             "yAxis": 0,
             "zIndex": 0
            }
           },
           "showDataLabels": true,
           "sizemode": "diameter",
           "sortX": false,
           "sortY": true,
           "swappedAxes": false,
           "textFormat": "",
           "useAggregationsUi": true,
           "valuesOptions": {},
           "version": 2,
           "xAxis": {
            "labels": {
             "enabled": true
            },
            "title": {
             "text": "Período"
            },
            "type": "-"
           },
           "yAxis": [
            {
             "title": {
              "text": "CPM Médio"
             },
             "type": "-"
            },
            {
             "opposite": true,
             "title": {
              "text": "Receita Estimada (R$)"
             },
             "type": "-"
            }
           ]
          }
         }
        ]
       },
       "datasetPreviewNameToCmdIdMap": {},
       "diffDeletes": [],
       "diffInserts": [],
       "displayType": "redashChart",
       "error": null,
       "errorDetails": null,
       "errorSummary": null,
       "errorTraceType": null,
       "finishTime": 0,
       "globalVars": {},
       "guid": "",
       "height": "auto",
       "hideCommandCode": false,
       "hideCommandResult": false,
       "iPythonMetadata": null,
       "inputWidgets": {},
       "isLockedInExamMode": false,
       "latestUser": "a user",
       "latestUserId": null,
       "listResultMetadata": null,
       "metadata": {},
       "nuid": "16cfc1c0-0cbd-4fd3-8e49-482aad12c777",
       "origId": 0,
       "parentHierarchy": [],
       "pivotAggregation": null,
       "pivotColumns": null,
       "position": 8.957015991210938,
       "resultDbfsErrorMessage": null,
       "resultDbfsStatus": "INLINED_IN_TREE",
       "results": null,
       "showCommandTitle": false,
       "startTime": 0,
       "state": "input",
       "streamStates": {},
       "subcommandOptions": {
        "queryPlan": {
         "groups": [
          {
           "column": "short_year_and_month",
           "type": "column"
          }
         ],
         "selects": [
          {
           "column": "short_year_and_month",
           "type": "column"
          },
          {
           "alias": "column_1dbdc407330",
           "args": [
            {
             "column": "average_cpm",
             "type": "column"
            }
           ],
           "function": "SUM",
           "type": "function"
          }
         ]
        }
       },
       "submitTime": 0,
       "subtype": "tableResultSubCmd.visualization",
       "tableResultIndex": 0,
       "tableResultSettingsMap": {},
       "useConsistentColors": false,
       "version": "CommandV1",
       "width": "auto",
       "workflows": [],
       "xColumns": null,
       "yColumns": null
      }
     },
     "output_type": "display_data"
    }
   ],
   "source": [
    "%sql\n",
    "\n",
    "\n",
    "select\n",
    "*\n",
    "from (\n",
    "    select \n",
    "      cal.short_year_and_month\n",
    "    , cal.year\n",
    "    , cal.month_number    \n",
    "    , sum(rev.estimated_monetized_playbacks)   as estimated_monetized_playbacks\n",
    "    , sum(rev.estimated_revenue)               as estimated_revenue\n",
    "    , avg(rev.cpm)                             as average_cpm\n",
    "    , avg(rev.rpm)                             as average_rpm\n",
    "    from datawarehouse.dw__revenue     as rev\n",
    "    inner join datawarehouse.dw__content  as con on (rev.content_sk = con.content_sk)\n",
    "    inner join datawarehouse.dw__calendar as cal on (rev.date_sk = cal.date_sk)\n",
    "    where 1=1\n",
    "    and con.content_type = 'video'\n",
    "    and rev.reference_date >= add_months(trunc(current_date(), 'month'), -13) -- últimos 12 meses fechados\n",
    "    group by\n",
    "      cal.short_year_and_month\n",
    "    , cal.year\n",
    "    , cal.month_number \n",
    "\n",
    ") aux\n",
    "order by\n",
    "  aux.year\n",
    ", aux.month_number \n",
    ";"
   ]
  },
  {
   "cell_type": "code",
   "execution_count": 0,
   "metadata": {
    "application/vnd.databricks.v1+cell": {
     "cellMetadata": {
      "byteLimit": 2048000,
      "implicitDf": true,
      "rowLimit": 10000
     },
     "inputWidgets": {},
     "nuid": "4bf0979b-e269-4afc-bacf-7593bea6aa40",
     "showTitle": false,
     "tableResultSettingsMap": {},
     "title": ""
    }
   },
   "outputs": [
    {
     "output_type": "display_data",
     "data": {
      "text/html": [
       "<style scoped>\n",
       "  .table-result-container {\n",
       "    max-height: 300px;\n",
       "    overflow: auto;\n",
       "  }\n",
       "  table, th, td {\n",
       "    border: 1px solid black;\n",
       "    border-collapse: collapse;\n",
       "  }\n",
       "  th, td {\n",
       "    padding: 5px;\n",
       "  }\n",
       "  th {\n",
       "    text-align: left;\n",
       "  }\n",
       "</style><div class='table-result-container'><table class='table-result'><thead style='background-color: white'><tr><th>content_title</th><th>estimated_monetized_playbacks_rank</th><th>estimated_monetized_playbacks</th><th>estimated_revenue</th><th>average_cpm</th><th>average_rpm</th></tr></thead><tbody><tr><td>VISITAMOS A MENOR PRAIA DE NUDISMO DO BRASIL 😱</td><td>1</td><td>18083</td><td>16.8010</td><td>1.00646154</td><td>55.70440000</td></tr><tr><td>Conheça as MONTANHAS de GUARAPARI | O MELHOR da Rota da Ferradura</td><td>2</td><td>10486</td><td>18.0110</td><td>2.00257143</td><td>1.78000000</td></tr><tr><td>O melhor da GASTRONOMIA CURITIBANA | Onde COMER e BEBER em Curitiba</td><td>3</td><td>10313</td><td>37.8540</td><td>1.43728571</td><td>1.94942857</td></tr><tr><td>O que fazer em SANTA TERESA | O MELHOR do Circuito Caravaggio</td><td>4</td><td>6288</td><td>9.9770</td><td>1.78821429</td><td>1.50307143</td></tr><tr><td>O MELHOR Parque de Trampolim de São Paulo | Impulso Park</td><td>5</td><td>5806</td><td>8.2310</td><td>1.78642857</td><td>1.25071429</td></tr><tr><td>Roteiro de 3 dias em MARAGOGI no ALAGOAS | Caribe Brasileiro</td><td>6</td><td>4541</td><td>13.2110</td><td>1.66900000</td><td>2.18475000</td></tr><tr><td>O que fazer no Circuito Caravaggio | O MELHOR de Santa Teresa</td><td>7</td><td>4414</td><td>6.4630</td><td>1.59721429</td><td>1.27035714</td></tr><tr><td>O que fazer em VITÓRIA ES | Roteiro na Praia da Curva da Jurema</td><td>8</td><td>4299</td><td>6.7540</td><td>1.85992857</td><td>1.64657143</td></tr><tr><td>O que fazer em Arraial do Cabo | Quadriciclo no CARIBE BRASILEIRO</td><td>9</td><td>3934</td><td>9.1090</td><td>2.17700000</td><td>2.09892857</td></tr><tr><td>O que fazer nas MONTANHAS CAPIXABAS | Roteiro de 2 dias em Pedra Azul</td><td>10</td><td>3660</td><td>8.0510</td><td>1.77571429</td><td>1.64021429</td></tr></tbody></table></div>"
      ]
     },
     "metadata": {
      "application/vnd.databricks.v1+output": {
       "addedWidgets": {},
       "aggData": [],
       "aggError": "",
       "aggOverflow": false,
       "aggSchema": [],
       "aggSeriesLimitReached": false,
       "aggType": "",
       "arguments": {},
       "columnCustomDisplayInfos": {},
       "data": [
        [
         "VISITAMOS A MENOR PRAIA DE NUDISMO DO BRASIL 😱",
         1,
         18083,
         "16.8010",
         "1.00646154",
         "55.70440000"
        ],
        [
         "Conheça as MONTANHAS de GUARAPARI | O MELHOR da Rota da Ferradura",
         2,
         10486,
         "18.0110",
         "2.00257143",
         "1.78000000"
        ],
        [
         "O melhor da GASTRONOMIA CURITIBANA | Onde COMER e BEBER em Curitiba",
         3,
         10313,
         "37.8540",
         "1.43728571",
         "1.94942857"
        ],
        [
         "O que fazer em SANTA TERESA | O MELHOR do Circuito Caravaggio",
         4,
         6288,
         "9.9770",
         "1.78821429",
         "1.50307143"
        ],
        [
         "O MELHOR Parque de Trampolim de São Paulo | Impulso Park",
         5,
         5806,
         "8.2310",
         "1.78642857",
         "1.25071429"
        ],
        [
         "Roteiro de 3 dias em MARAGOGI no ALAGOAS | Caribe Brasileiro",
         6,
         4541,
         "13.2110",
         "1.66900000",
         "2.18475000"
        ],
        [
         "O que fazer no Circuito Caravaggio | O MELHOR de Santa Teresa",
         7,
         4414,
         "6.4630",
         "1.59721429",
         "1.27035714"
        ],
        [
         "O que fazer em VITÓRIA ES | Roteiro na Praia da Curva da Jurema",
         8,
         4299,
         "6.7540",
         "1.85992857",
         "1.64657143"
        ],
        [
         "O que fazer em Arraial do Cabo | Quadriciclo no CARIBE BRASILEIRO",
         9,
         3934,
         "9.1090",
         "2.17700000",
         "2.09892857"
        ],
        [
         "O que fazer nas MONTANHAS CAPIXABAS | Roteiro de 2 dias em Pedra Azul",
         10,
         3660,
         "8.0510",
         "1.77571429",
         "1.64021429"
        ]
       ],
       "datasetInfos": [],
       "dbfsResultPath": null,
       "isJsonSchema": true,
       "metadata": {},
       "overflow": false,
       "plotOptions": {
        "customPlotOptions": {},
        "displayType": "table",
        "pivotAggregation": null,
        "pivotColumns": null,
        "xColumns": null,
        "yColumns": null
       },
       "removedWidgets": [],
       "schema": [
        {
         "metadata": "{}",
         "name": "content_title",
         "type": "\"string\""
        },
        {
         "metadata": "{}",
         "name": "estimated_monetized_playbacks_rank",
         "type": "\"integer\""
        },
        {
         "metadata": "{}",
         "name": "estimated_monetized_playbacks",
         "type": "\"long\""
        },
        {
         "metadata": "{}",
         "name": "estimated_revenue",
         "type": "\"decimal(21,4)\""
        },
        {
         "metadata": "{}",
         "name": "average_cpm",
         "type": "\"decimal(15,8)\""
        },
        {
         "metadata": "{}",
         "name": "average_rpm",
         "type": "\"decimal(15,8)\""
        }
       ],
       "type": "table"
      }
     },
     "output_type": "display_data"
    },
    {
     "output_type": "display_data",
     "data": {
      "text/plain": [
       "Databricks visualization. Run in Databricks to view."
      ]
     },
     "metadata": {
      "application/vnd.databricks.v1.subcommand+json": {
       "baseErrorDetails": null,
       "bindings": {},
       "collapsed": false,
       "command": "%sql WITH q AS (select\n*\nfrom (\n    select \n      con.content_title                                                                           as content_title\n    , dense_rank() over (order by round(100*(sum(vie.views)/sum(vie.impressions)),1) desc)        as view_rate_rank      \n    , sum(vie.impressions)                                                                        as impressions\n    , sum(vie.views)                                                                              as views\n    , round(100*(sum(vie.views)/sum(vie.impressions)),1)                                          as view_rate_pct\n    , sum(vie.total_watch_time)                                                                   as total_watch_time\n    , floor(sum(vie.total_watch_time)) || ':' || \n      (lpad(floor((sum(vie.total_watch_time) - \n      floor(sum(vie.total_watch_time))) * 60), 2, '0'))                 as total_watch_time_hh_mm    \n    from datawarehouse.dw__views     as vie\n    inner join datawarehouse.dw__content  as con on (vie.content_sk = con.content_sk)\n    inner join datawarehouse.dw__calendar as cal on (vie.date_sk = cal.date_sk)\n    where 1=1\n    and con.content_type = 'video'\n    and vie.reference_date >= add_months(trunc(current_date(), 'month'), -13) \n    group by\n      con.content_title\n\n) aux\nwhere 1=1\nand aux.view_rate_rank <=10\nand aux.view_rate_rank > 0\norder by\n  aux.view_rate_rank \nlimit 15) SELECT `content_title`,SUM(`view_rate_pct`) `column_1dbdc407306` FROM q GROUP BY `content_title`",
       "commandTitle": "Top Videos + Reproduções Monetizadas",
       "commandType": "auto",
       "commandVersion": 0,
       "commentThread": [],
       "commentsVisible": false,
       "contentSha256Hex": null,
       "customPlotOptions": {
        "redashChart": [
         {
          "key": "type",
          "value": "CHART"
         },
         {
          "key": "options",
          "value": {
           "alignYAxesAtZero": true,
           "coefficient": 1,
           "columnConfigurationMap": {
            "x": {
             "column": "content_title",
             "id": "column_1dbdc407304"
            },
            "y": [
             {
              "column": "estimated_monetized_playbacks",
              "id": "column_1dbdc407306",
              "transform": "AVG"
             }
            ]
           },
           "dateTimeFormat": "DD/MM/YYYY HH:mm",
           "direction": {
            "type": "counterclockwise"
           },
           "error_y": {
            "type": "data",
            "visible": true
           },
           "globalSeriesType": "line",
           "isAggregationOn": true,
           "legend": {
            "traceorder": "normal"
           },
           "missingValuesAsZero": true,
           "numberFormat": "0,0.[00000]",
           "percentFormat": "0[.]00%",
           "reverseX": false,
           "series": {
            "error_y": {
             "type": "data",
             "visible": true
            },
            "percentValues": false,
            "stacking": null
           },
           "seriesOptions": {
            "column_1dbdc407306": {
             "color": "#8CFFB4",
             "type": "line",
             "yAxis": 0
            }
           },
           "showDataLabels": true,
           "sizemode": "diameter",
           "sortX": false,
           "sortY": true,
           "swappedAxes": true,
           "textFormat": "",
           "useAggregationsUi": true,
           "valuesOptions": {},
           "version": 2,
           "xAxis": {
            "labels": {
             "enabled": true
            },
            "title": {
             "text": " "
            },
            "type": "-"
           },
           "yAxis": [
            {
             "title": {
              "text": "Nº Estimado Reproduções Monetizadas"
             },
             "type": "-"
            },
            {
             "opposite": true,
             "type": "-"
            }
           ]
          }
         }
        ]
       },
       "datasetPreviewNameToCmdIdMap": {},
       "diffDeletes": [],
       "diffInserts": [],
       "displayType": "redashChart",
       "error": null,
       "errorDetails": null,
       "errorSummary": null,
       "errorTraceType": null,
       "finishTime": 0,
       "globalVars": {},
       "guid": "",
       "height": "auto",
       "hideCommandCode": false,
       "hideCommandResult": false,
       "iPythonMetadata": null,
       "inputWidgets": {},
       "isLockedInExamMode": false,
       "latestUser": "a user",
       "latestUserId": null,
       "listResultMetadata": null,
       "metadata": {},
       "nuid": "4983513a-df3e-483b-8d54-fc1c04a7a479",
       "origId": 0,
       "parentHierarchy": [],
       "pivotAggregation": null,
       "pivotColumns": null,
       "position": 5.9569549560546875,
       "resultDbfsErrorMessage": null,
       "resultDbfsStatus": "INLINED_IN_TREE",
       "results": null,
       "showCommandTitle": false,
       "startTime": 0,
       "state": "input",
       "streamStates": {},
       "subcommandOptions": {
        "queryPlan": {
         "groups": [
          {
           "column": "content_title",
           "type": "column"
          }
         ],
         "selects": [
          {
           "column": "content_title",
           "type": "column"
          },
          {
           "alias": "column_1dbdc407306",
           "args": [
            {
             "column": "estimated_monetized_playbacks",
             "type": "column"
            }
           ],
           "function": "AVG",
           "type": "function"
          }
         ]
        }
       },
       "submitTime": 0,
       "subtype": "tableResultSubCmd.visualization",
       "tableResultIndex": 0,
       "tableResultSettingsMap": {},
       "useConsistentColors": false,
       "version": "CommandV1",
       "width": "auto",
       "workflows": [],
       "xColumns": null,
       "yColumns": null
      }
     },
     "output_type": "display_data"
    }
   ],
   "source": [
    "%sql\n",
    "-- Top videos com maior número estimado de reproduções monetizadas nos últimos 12 meses\n",
    "\n",
    "select\n",
    "*\n",
    "from (\n",
    "    select \n",
    "      con.content_title                                                                           as content_title\n",
    "    , dense_rank() over (order by sum(rev.estimated_monetized_playbacks) desc)                    as estimated_monetized_playbacks_rank      \n",
    "    , sum(rev.estimated_monetized_playbacks)                                                      as estimated_monetized_playbacks\n",
    "    , sum(rev.estimated_revenue)                                                                  as estimated_revenue\n",
    "    , avg(rev.cpm)                                                                                as average_cpm\n",
    "    , avg(rev.rpm)                                                                                as average_rpm \n",
    "    from datawarehouse.dw__revenue     as rev\n",
    "    inner join datawarehouse.dw__content  as con on (rev.content_sk = con.content_sk)\n",
    "    inner join datawarehouse.dw__calendar as cal on (rev.date_sk = cal.date_sk)\n",
    "    where 1=1\n",
    "    and con.content_type = 'video'\n",
    "    and rev.reference_date >= add_months(trunc(current_date(), 'month'), -13) -- últimos 12 meses fechados\n",
    "    group by\n",
    "      con.content_title\n",
    "\n",
    ") aux\n",
    "where 1=1\n",
    "and aux.estimated_monetized_playbacks_rank <=10\n",
    "order by\n",
    "  aux.estimated_monetized_playbacks_rank \n",
    "limit 15  \n",
    ";"
   ]
  },
  {
   "cell_type": "code",
   "execution_count": 0,
   "metadata": {
    "application/vnd.databricks.v1+cell": {
     "cellMetadata": {
      "byteLimit": 2048000,
      "implicitDf": true,
      "rowLimit": 10000
     },
     "inputWidgets": {},
     "nuid": "a7bb4898-31b3-41b3-ac3f-ed8e47110688",
     "showTitle": false,
     "tableResultSettingsMap": {},
     "title": ""
    }
   },
   "outputs": [
    {
     "output_type": "display_data",
     "data": {
      "text/html": [
       "<style scoped>\n",
       "  .table-result-container {\n",
       "    max-height: 300px;\n",
       "    overflow: auto;\n",
       "  }\n",
       "  table, th, td {\n",
       "    border: 1px solid black;\n",
       "    border-collapse: collapse;\n",
       "  }\n",
       "  th, td {\n",
       "    padding: 5px;\n",
       "  }\n",
       "  th {\n",
       "    text-align: left;\n",
       "  }\n",
       "</style><div class='table-result-container'><table class='table-result'><thead style='background-color: white'><tr><th>content_title</th><th>estimated_revenue_rank</th><th>estimated_monetized_playbacks</th><th>estimated_revenue</th><th>average_cpm</th><th>average_rpm</th></tr></thead><tbody><tr><td>O melhor da GASTRONOMIA CURITIBANA | Onde COMER e BEBER em Curitiba</td><td>1</td><td>10313</td><td>37.8540</td><td>1.43728571</td><td>1.94942857</td></tr><tr><td>Conheça as MONTANHAS de GUARAPARI | O MELHOR da Rota da Ferradura</td><td>2</td><td>10486</td><td>18.0110</td><td>2.00257143</td><td>1.78000000</td></tr><tr><td>VISITAMOS A MENOR PRAIA DE NUDISMO DO BRASIL 😱</td><td>3</td><td>18083</td><td>16.8010</td><td>1.00646154</td><td>55.70440000</td></tr><tr><td>Roteiro de 3 dias em MARAGOGI no ALAGOAS | Caribe Brasileiro</td><td>4</td><td>4541</td><td>13.2110</td><td>1.66900000</td><td>2.18475000</td></tr><tr><td>O que fazer em SANTA TERESA | O MELHOR do Circuito Caravaggio</td><td>5</td><td>6288</td><td>9.9770</td><td>1.78821429</td><td>1.50307143</td></tr><tr><td>O que fazer em Milagres | O MELHOR da Rota Ecológica dos MILAGRES</td><td>6</td><td>2966</td><td>9.1930</td><td>1.60700000</td><td>2.00580000</td></tr><tr><td>O que fazer em Arraial do Cabo | Quadriciclo no CARIBE BRASILEIRO</td><td>7</td><td>3934</td><td>9.1090</td><td>2.17700000</td><td>2.09892857</td></tr><tr><td>O MELHOR Parque de Trampolim de São Paulo | Impulso Park</td><td>8</td><td>5806</td><td>8.2310</td><td>1.78642857</td><td>1.25071429</td></tr><tr><td>O que fazer nas MONTANHAS CAPIXABAS | Roteiro de 2 dias em Pedra Azul</td><td>9</td><td>3660</td><td>8.0510</td><td>1.77571429</td><td>1.64021429</td></tr><tr><td>ONDE comer em CUSCO | Melhores restaurantes na PLAZA DE ARMAS</td><td>10</td><td>2787</td><td>7.5570</td><td>2.13072727</td><td>2.04490909</td></tr></tbody></table></div>"
      ]
     },
     "metadata": {
      "application/vnd.databricks.v1+output": {
       "addedWidgets": {},
       "aggData": [],
       "aggError": "",
       "aggOverflow": false,
       "aggSchema": [],
       "aggSeriesLimitReached": false,
       "aggType": "",
       "arguments": {},
       "columnCustomDisplayInfos": {},
       "data": [
        [
         "O melhor da GASTRONOMIA CURITIBANA | Onde COMER e BEBER em Curitiba",
         1,
         10313,
         "37.8540",
         "1.43728571",
         "1.94942857"
        ],
        [
         "Conheça as MONTANHAS de GUARAPARI | O MELHOR da Rota da Ferradura",
         2,
         10486,
         "18.0110",
         "2.00257143",
         "1.78000000"
        ],
        [
         "VISITAMOS A MENOR PRAIA DE NUDISMO DO BRASIL 😱",
         3,
         18083,
         "16.8010",
         "1.00646154",
         "55.70440000"
        ],
        [
         "Roteiro de 3 dias em MARAGOGI no ALAGOAS | Caribe Brasileiro",
         4,
         4541,
         "13.2110",
         "1.66900000",
         "2.18475000"
        ],
        [
         "O que fazer em SANTA TERESA | O MELHOR do Circuito Caravaggio",
         5,
         6288,
         "9.9770",
         "1.78821429",
         "1.50307143"
        ],
        [
         "O que fazer em Milagres | O MELHOR da Rota Ecológica dos MILAGRES",
         6,
         2966,
         "9.1930",
         "1.60700000",
         "2.00580000"
        ],
        [
         "O que fazer em Arraial do Cabo | Quadriciclo no CARIBE BRASILEIRO",
         7,
         3934,
         "9.1090",
         "2.17700000",
         "2.09892857"
        ],
        [
         "O MELHOR Parque de Trampolim de São Paulo | Impulso Park",
         8,
         5806,
         "8.2310",
         "1.78642857",
         "1.25071429"
        ],
        [
         "O que fazer nas MONTANHAS CAPIXABAS | Roteiro de 2 dias em Pedra Azul",
         9,
         3660,
         "8.0510",
         "1.77571429",
         "1.64021429"
        ],
        [
         "ONDE comer em CUSCO | Melhores restaurantes na PLAZA DE ARMAS",
         10,
         2787,
         "7.5570",
         "2.13072727",
         "2.04490909"
        ]
       ],
       "datasetInfos": [],
       "dbfsResultPath": null,
       "isJsonSchema": true,
       "metadata": {},
       "overflow": false,
       "plotOptions": {
        "customPlotOptions": {},
        "displayType": "table",
        "pivotAggregation": null,
        "pivotColumns": null,
        "xColumns": null,
        "yColumns": null
       },
       "removedWidgets": [],
       "schema": [
        {
         "metadata": "{}",
         "name": "content_title",
         "type": "\"string\""
        },
        {
         "metadata": "{}",
         "name": "estimated_revenue_rank",
         "type": "\"integer\""
        },
        {
         "metadata": "{}",
         "name": "estimated_monetized_playbacks",
         "type": "\"long\""
        },
        {
         "metadata": "{}",
         "name": "estimated_revenue",
         "type": "\"decimal(21,4)\""
        },
        {
         "metadata": "{}",
         "name": "average_cpm",
         "type": "\"decimal(15,8)\""
        },
        {
         "metadata": "{}",
         "name": "average_rpm",
         "type": "\"decimal(15,8)\""
        }
       ],
       "type": "table"
      }
     },
     "output_type": "display_data"
    },
    {
     "output_type": "display_data",
     "data": {
      "text/plain": [
       "Databricks visualization. Run in Databricks to view."
      ]
     },
     "metadata": {
      "application/vnd.databricks.v1.subcommand+json": {
       "baseErrorDetails": null,
       "bindings": {},
       "collapsed": false,
       "command": "%sql WITH q AS (select\n*\nfrom (\n    select \n      con.content_title                                                                           as content_title\n    , dense_rank() over (order by sum(rev.estimated_revenue) desc)                                as estimated_revenue_rank      \n    , sum(rev.estimated_monetized_playbacks)                                                      as estimated_monetized_playbacks\n    , sum(rev.estimated_revenue)                                                                  as estimated_revenue\n    , avg(rev.cpm)                                                                                as average_cpm\n    , avg(rev.rpm)                                                                                as average_rpm \n    from datawarehouse.dw__revenue     as rev\n    inner join datawarehouse.dw__content  as con on (rev.content_sk = con.content_sk)\n    inner join datawarehouse.dw__calendar as cal on (rev.date_sk = cal.date_sk)\n    where 1=1\n    and con.content_type = 'video'\n    and rev.reference_date >= add_months(trunc(current_date(), 'month'), -13) \n    group by\n      con.content_title\n\n) aux\nwhere 1=1\nand aux.estimated_revenue_rank <=10\norder by\n  aux.estimated_revenue_rank \nlimit 15) SELECT `content_title`,SUM(`estimated_revenue`) `column_1dbdc407355` FROM q GROUP BY `content_title`",
       "commandTitle": "Top Videos + Receita Estimada",
       "commandType": "auto",
       "commandVersion": 0,
       "commentThread": [],
       "commentsVisible": false,
       "contentSha256Hex": null,
       "customPlotOptions": {
        "redashChart": [
         {
          "key": "type",
          "value": "CHART"
         },
         {
          "key": "options",
          "value": {
           "alignYAxesAtZero": true,
           "coefficient": 1,
           "columnConfigurationMap": {
            "x": {
             "column": "content_title",
             "id": "column_1dbdc407353"
            },
            "y": [
             {
              "column": "estimated_revenue",
              "id": "column_1dbdc407355",
              "transform": "SUM"
             }
            ]
           },
           "dateTimeFormat": "DD/MM/YYYY HH:mm",
           "direction": {
            "type": "counterclockwise"
           },
           "error_y": {
            "type": "data",
            "visible": true
           },
           "globalSeriesType": "line",
           "hideYAxes": true,
           "isAggregationOn": true,
           "legend": {
            "traceorder": "normal"
           },
           "missingValuesAsZero": true,
           "numberFormat": "0,0.[0]",
           "percentFormat": "0[.]00%",
           "series": {
            "error_y": {
             "type": "data",
             "visible": true
            },
            "stacking": null
           },
           "seriesOptions": {
            "column_1dbdc407355": {
             "color": "#356AFF",
             "name": "Receita Estimada (R$)",
             "type": "line",
             "yAxis": 0
            }
           },
           "showDataLabels": true,
           "sizemode": "diameter",
           "sortX": false,
           "sortY": true,
           "swappedAxes": true,
           "textFormat": "",
           "useAggregationsUi": true,
           "valuesOptions": {},
           "version": 2,
           "xAxis": {
            "labels": {
             "enabled": true
            },
            "title": {
             "text": " "
            },
            "type": "-"
           },
           "yAxis": [
            {
             "title": {
              "text": "Receita Estimada"
             },
             "type": "-"
            },
            {
             "opposite": true,
             "type": "-"
            }
           ]
          }
         }
        ]
       },
       "datasetPreviewNameToCmdIdMap": {},
       "diffDeletes": [],
       "diffInserts": [],
       "displayType": "redashChart",
       "error": null,
       "errorDetails": null,
       "errorSummary": null,
       "errorTraceType": null,
       "finishTime": 0,
       "globalVars": {},
       "guid": "",
       "height": "auto",
       "hideCommandCode": false,
       "hideCommandResult": false,
       "iPythonMetadata": null,
       "inputWidgets": {},
       "isLockedInExamMode": false,
       "latestUser": "a user",
       "latestUserId": null,
       "listResultMetadata": null,
       "metadata": {},
       "nuid": "33a8139d-cf78-4d97-8cb7-94e711204944",
       "origId": 0,
       "parentHierarchy": [],
       "pivotAggregation": null,
       "pivotColumns": null,
       "position": 5.957027435302734,
       "resultDbfsErrorMessage": null,
       "resultDbfsStatus": "INLINED_IN_TREE",
       "results": null,
       "showCommandTitle": false,
       "startTime": 0,
       "state": "input",
       "streamStates": {},
       "subcommandOptions": {
        "queryPlan": {
         "groups": [
          {
           "column": "content_title",
           "type": "column"
          }
         ],
         "selects": [
          {
           "column": "content_title",
           "type": "column"
          },
          {
           "alias": "column_1dbdc407355",
           "args": [
            {
             "column": "estimated_revenue",
             "type": "column"
            }
           ],
           "function": "SUM",
           "type": "function"
          }
         ]
        }
       },
       "submitTime": 0,
       "subtype": "tableResultSubCmd.visualization",
       "tableResultIndex": 0,
       "tableResultSettingsMap": {},
       "useConsistentColors": false,
       "version": "CommandV1",
       "width": "auto",
       "workflows": [],
       "xColumns": null,
       "yColumns": null
      }
     },
     "output_type": "display_data"
    }
   ],
   "source": [
    "%sql\n",
    "-- Top videos com maior receita estimada nos últimos 12 meses\n",
    "\n",
    "select\n",
    "*\n",
    "from (\n",
    "    select \n",
    "      con.content_title                                                                           as content_title\n",
    "    , dense_rank() over (order by sum(rev.estimated_revenue) desc)                                as estimated_revenue_rank      \n",
    "    , sum(rev.estimated_monetized_playbacks)                                                      as estimated_monetized_playbacks\n",
    "    , sum(rev.estimated_revenue)                                                                  as estimated_revenue\n",
    "    , avg(rev.cpm)                                                                                as average_cpm\n",
    "    , avg(rev.rpm)                                                                                as average_rpm \n",
    "    from datawarehouse.dw__revenue     as rev\n",
    "    inner join datawarehouse.dw__content  as con on (rev.content_sk = con.content_sk)\n",
    "    inner join datawarehouse.dw__calendar as cal on (rev.date_sk = cal.date_sk)\n",
    "    where 1=1\n",
    "    and con.content_type = 'video'\n",
    "    and rev.reference_date >= add_months(trunc(current_date(), 'month'), -13) -- últimos 12 meses fechados\n",
    "    group by\n",
    "      con.content_title\n",
    "\n",
    ") aux\n",
    "where 1=1\n",
    "and aux.estimated_revenue_rank <=10\n",
    "order by\n",
    "  aux.estimated_revenue_rank \n",
    "limit 15  \n",
    ";"
   ]
  },
  {
   "cell_type": "code",
   "execution_count": 0,
   "metadata": {
    "application/vnd.databricks.v1+cell": {
     "cellMetadata": {
      "byteLimit": 2048000,
      "implicitDf": true,
      "rowLimit": 10000
     },
     "inputWidgets": {},
     "nuid": "bf29c94e-7ddc-4621-b299-35faa618d333",
     "showTitle": false,
     "tableResultSettingsMap": {},
     "title": ""
    }
   },
   "outputs": [
    {
     "output_type": "display_data",
     "data": {
      "text/html": [
       "<style scoped>\n",
       "  .table-result-container {\n",
       "    max-height: 300px;\n",
       "    overflow: auto;\n",
       "  }\n",
       "  table, th, td {\n",
       "    border: 1px solid black;\n",
       "    border-collapse: collapse;\n",
       "  }\n",
       "  th, td {\n",
       "    padding: 5px;\n",
       "  }\n",
       "  th {\n",
       "    text-align: left;\n",
       "  }\n",
       "</style><div class='table-result-container'><table class='table-result'><thead style='background-color: white'><tr><th>content_title</th><th>rank</th><th>estimated_monetized_playbacks</th><th>estimated_revenue</th><th>average_cpm</th><th>average_rpm</th></tr></thead><tbody><tr><td>VISITAMOS A MENOR PRAIA DE NUDISMO DO BRASIL 😱</td><td>1</td><td>18083</td><td>16.8010</td><td>1.00646154</td><td>55.70440000</td></tr><tr><td>Descubra MARECHAL FLORIANO | Um pedacinho da EUROPA no Espírito Santo</td><td>2</td><td>415</td><td>2.1140</td><td>1.96750000</td><td>3.10300000</td></tr><tr><td>PRAIA DO FORNO EM ARRAIAL DO CABO - RJ</td><td>3</td><td>53</td><td>0.1740</td><td>5.35733333</td><td>3.03107692</td></tr><tr><td>Como são os FAST FOODS peruanos | Mc Donald's e KFC em Cusco Peru</td><td>4</td><td>119</td><td>0.4750</td><td>3.34321429</td><td>2.87742857</td></tr><tr><td>FINAL DE SEMANA nas Montanhas Capixabas | Roteiro de 2 dias em Pedra Azul</td><td>5</td><td>566</td><td>1.0830</td><td>3.50018182</td><td>2.85727273</td></tr><tr><td>Onde se HOSPEDAR na ORLA BARDOT | Roteiros de Charme em Búzios</td><td>6</td><td>838</td><td>3.3610</td><td>3.81028571</td><td>2.78550000</td></tr><tr><td>GRECO HOTEL EM BÚZIOS - RJ</td><td>7</td><td>638</td><td>2.1950</td><td>3.64785714</td><td>2.72892308</td></tr><tr><td>CONDOMÍNIO VISTA AZUL + HOSPEDAGEM EM PEDRA AZUL - ES</td><td>8</td><td>1046</td><td>2.8060</td><td>2.55964286</td><td>2.47035714</td></tr><tr><td>COMIDA DE RUA, SOUVENIR E SUPERMERCADOS EM CUSCO NO PERU</td><td>9</td><td>1714</td><td>4.9530</td><td>2.39663636</td><td>2.46818182</td></tr><tr><td>Não viaje para o PERU sem saber disso!</td><td>10</td><td>200</td><td>0.5210</td><td>3.55000000</td><td>2.34653846</td></tr></tbody></table></div>"
      ]
     },
     "metadata": {
      "application/vnd.databricks.v1+output": {
       "addedWidgets": {},
       "aggData": [],
       "aggError": "",
       "aggOverflow": false,
       "aggSchema": [],
       "aggSeriesLimitReached": false,
       "aggType": "",
       "arguments": {},
       "columnCustomDisplayInfos": {},
       "data": [
        [
         "VISITAMOS A MENOR PRAIA DE NUDISMO DO BRASIL 😱",
         1,
         18083,
         "16.8010",
         "1.00646154",
         "55.70440000"
        ],
        [
         "Descubra MARECHAL FLORIANO | Um pedacinho da EUROPA no Espírito Santo",
         2,
         415,
         "2.1140",
         "1.96750000",
         "3.10300000"
        ],
        [
         "PRAIA DO FORNO EM ARRAIAL DO CABO - RJ",
         3,
         53,
         "0.1740",
         "5.35733333",
         "3.03107692"
        ],
        [
         "Como são os FAST FOODS peruanos | Mc Donald's e KFC em Cusco Peru",
         4,
         119,
         "0.4750",
         "3.34321429",
         "2.87742857"
        ],
        [
         "FINAL DE SEMANA nas Montanhas Capixabas | Roteiro de 2 dias em Pedra Azul",
         5,
         566,
         "1.0830",
         "3.50018182",
         "2.85727273"
        ],
        [
         "Onde se HOSPEDAR na ORLA BARDOT | Roteiros de Charme em Búzios",
         6,
         838,
         "3.3610",
         "3.81028571",
         "2.78550000"
        ],
        [
         "GRECO HOTEL EM BÚZIOS - RJ",
         7,
         638,
         "2.1950",
         "3.64785714",
         "2.72892308"
        ],
        [
         "CONDOMÍNIO VISTA AZUL + HOSPEDAGEM EM PEDRA AZUL - ES",
         8,
         1046,
         "2.8060",
         "2.55964286",
         "2.47035714"
        ],
        [
         "COMIDA DE RUA, SOUVENIR E SUPERMERCADOS EM CUSCO NO PERU",
         9,
         1714,
         "4.9530",
         "2.39663636",
         "2.46818182"
        ],
        [
         "Não viaje para o PERU sem saber disso!",
         10,
         200,
         "0.5210",
         "3.55000000",
         "2.34653846"
        ]
       ],
       "datasetInfos": [],
       "dbfsResultPath": null,
       "isJsonSchema": true,
       "metadata": {},
       "overflow": false,
       "plotOptions": {
        "customPlotOptions": {},
        "displayType": "table",
        "pivotAggregation": null,
        "pivotColumns": null,
        "xColumns": null,
        "yColumns": null
       },
       "removedWidgets": [],
       "schema": [
        {
         "metadata": "{}",
         "name": "content_title",
         "type": "\"string\""
        },
        {
         "metadata": "{}",
         "name": "rank",
         "type": "\"integer\""
        },
        {
         "metadata": "{}",
         "name": "estimated_monetized_playbacks",
         "type": "\"long\""
        },
        {
         "metadata": "{}",
         "name": "estimated_revenue",
         "type": "\"decimal(21,4)\""
        },
        {
         "metadata": "{}",
         "name": "average_cpm",
         "type": "\"decimal(15,8)\""
        },
        {
         "metadata": "{}",
         "name": "average_rpm",
         "type": "\"decimal(15,8)\""
        }
       ],
       "type": "table"
      }
     },
     "output_type": "display_data"
    },
    {
     "output_type": "display_data",
     "data": {
      "text/plain": [
       "Databricks visualization. Run in Databricks to view."
      ]
     },
     "metadata": {
      "application/vnd.databricks.v1.subcommand+json": {
       "baseErrorDetails": null,
       "bindings": {},
       "collapsed": false,
       "command": "%sql WITH q AS (select\n*\nfrom (\n    select \n      con.content_title                                                                           as content_title\n    , dense_rank() over (order by avg(rev.rpm)  desc)                                             as rank      \n    , sum(rev.estimated_monetized_playbacks)                                                      as estimated_monetized_playbacks\n    , sum(rev.estimated_revenue)                                                                  as estimated_revenue\n    , avg(rev.cpm)                                                                                as average_cpm\n    , avg(rev.rpm)                                                                                as average_rpm \n    from datawarehouse.dw__revenue     as rev\n    inner join datawarehouse.dw__content  as con on (rev.content_sk = con.content_sk)\n    inner join datawarehouse.dw__calendar as cal on (rev.date_sk = cal.date_sk)\n    where 1=1\n    and con.content_type = 'video'\n    and rev.reference_date >= add_months(trunc(current_date(), 'month'), -13) \n    group by\n      con.content_title\n\n) aux\nwhere 1=1\nand aux.rank <=10\norder by\n  aux.rank \nlimit 15) SELECT `content_title`,SUM(`average_rpm`) `column_1dbdc407363` FROM q GROUP BY `content_title`",
       "commandTitle": "Top Videos + RPM Médio",
       "commandType": "auto",
       "commandVersion": 0,
       "commentThread": [],
       "commentsVisible": false,
       "contentSha256Hex": null,
       "customPlotOptions": {
        "redashChart": [
         {
          "key": "type",
          "value": "CHART"
         },
         {
          "key": "options",
          "value": {
           "alignYAxesAtZero": true,
           "coefficient": 1,
           "columnConfigurationMap": {
            "x": {
             "column": "content_title",
             "id": "column_1dbdc407361"
            },
            "y": [
             {
              "column": "average_rpm",
              "id": "column_1dbdc407363",
              "transform": "SUM"
             }
            ]
           },
           "dateTimeFormat": "DD/MM/YYYY HH:mm",
           "direction": {
            "type": "counterclockwise"
           },
           "error_y": {
            "type": "data",
            "visible": true
           },
           "globalSeriesType": "line",
           "hideYAxes": true,
           "isAggregationOn": true,
           "legend": {
            "traceorder": "normal"
           },
           "missingValuesAsZero": true,
           "numberFormat": "0,0.[0]",
           "percentFormat": "0[.]00%",
           "series": {
            "error_y": {
             "type": "data",
             "visible": true
            },
            "stacking": null
           },
           "seriesOptions": {
            "column_1dbdc407363": {
             "color": "#FB8D3D",
             "name": "RPM Médio",
             "type": "line",
             "yAxis": 0
            }
           },
           "showDataLabels": true,
           "sizemode": "diameter",
           "sortX": false,
           "sortY": true,
           "swappedAxes": true,
           "textFormat": "",
           "useAggregationsUi": true,
           "valuesOptions": {},
           "version": 2,
           "xAxis": {
            "labels": {
             "enabled": true
            },
            "title": {
             "text": " "
            },
            "type": "-"
           },
           "yAxis": [
            {
             "title": {
              "text": "RPM Médio"
             },
             "type": "-"
            },
            {
             "opposite": true,
             "type": "-"
            }
           ]
          }
         }
        ]
       },
       "datasetPreviewNameToCmdIdMap": {},
       "diffDeletes": [],
       "diffInserts": [],
       "displayType": "redashChart",
       "error": null,
       "errorDetails": null,
       "errorSummary": null,
       "errorTraceType": null,
       "finishTime": 0,
       "globalVars": {},
       "guid": "",
       "height": "auto",
       "hideCommandCode": false,
       "hideCommandResult": false,
       "iPythonMetadata": null,
       "inputWidgets": {},
       "isLockedInExamMode": false,
       "latestUser": "a user",
       "latestUserId": null,
       "listResultMetadata": null,
       "metadata": {},
       "nuid": "58869c8e-58c1-4604-bcda-d29064e0c837",
       "origId": 0,
       "parentHierarchy": [],
       "pivotAggregation": null,
       "pivotColumns": null,
       "position": 5.957029342651367,
       "resultDbfsErrorMessage": null,
       "resultDbfsStatus": "INLINED_IN_TREE",
       "results": null,
       "showCommandTitle": false,
       "startTime": 0,
       "state": "input",
       "streamStates": {},
       "subcommandOptions": {
        "queryPlan": {
         "groups": [
          {
           "column": "content_title",
           "type": "column"
          }
         ],
         "selects": [
          {
           "column": "content_title",
           "type": "column"
          },
          {
           "alias": "column_1dbdc407363",
           "args": [
            {
             "column": "average_rpm",
             "type": "column"
            }
           ],
           "function": "SUM",
           "type": "function"
          }
         ]
        }
       },
       "submitTime": 0,
       "subtype": "tableResultSubCmd.visualization",
       "tableResultIndex": 0,
       "tableResultSettingsMap": {},
       "useConsistentColors": false,
       "version": "CommandV1",
       "width": "auto",
       "workflows": [],
       "xColumns": null,
       "yColumns": null
      }
     },
     "output_type": "display_data"
    }
   ],
   "source": [
    "%sql\n",
    "-- Top videos com maior RPM médio nos últimos 12 meses\n",
    "\n",
    "select\n",
    "*\n",
    "from (\n",
    "    select \n",
    "      con.content_title                                                                           as content_title\n",
    "    , dense_rank() over (order by avg(rev.rpm)  desc)                                             as rank      \n",
    "    , sum(rev.estimated_monetized_playbacks)                                                      as estimated_monetized_playbacks\n",
    "    , sum(rev.estimated_revenue)                                                                  as estimated_revenue\n",
    "    , avg(rev.cpm)                                                                                as average_cpm\n",
    "    , avg(rev.rpm)                                                                                as average_rpm \n",
    "    from datawarehouse.dw__revenue     as rev\n",
    "    inner join datawarehouse.dw__content  as con on (rev.content_sk = con.content_sk)\n",
    "    inner join datawarehouse.dw__calendar as cal on (rev.date_sk = cal.date_sk)\n",
    "    where 1=1\n",
    "    and con.content_type = 'video'\n",
    "    and rev.reference_date >= add_months(trunc(current_date(), 'month'), -13) -- últimos 12 meses fechados\n",
    "    group by\n",
    "      con.content_title\n",
    "\n",
    ") aux\n",
    "where 1=1\n",
    "and aux.rank <=10\n",
    "order by\n",
    "  aux.rank \n",
    "limit 15  \n",
    ";"
   ]
  },
  {
   "cell_type": "code",
   "execution_count": 0,
   "metadata": {
    "application/vnd.databricks.v1+cell": {
     "cellMetadata": {
      "byteLimit": 2048000,
      "implicitDf": true,
      "rowLimit": 10000
     },
     "inputWidgets": {},
     "nuid": "79d94117-7e6e-4131-8279-11af45e9f59c",
     "showTitle": false,
     "tableResultSettingsMap": {},
     "title": ""
    }
   },
   "outputs": [
    {
     "output_type": "display_data",
     "data": {
      "text/html": [
       "<style scoped>\n",
       "  .table-result-container {\n",
       "    max-height: 300px;\n",
       "    overflow: auto;\n",
       "  }\n",
       "  table, th, td {\n",
       "    border: 1px solid black;\n",
       "    border-collapse: collapse;\n",
       "  }\n",
       "  th, td {\n",
       "    padding: 5px;\n",
       "  }\n",
       "  th {\n",
       "    text-align: left;\n",
       "  }\n",
       "</style><div class='table-result-container'><table class='table-result'><thead style='background-color: white'><tr><th>content_title</th><th>rank</th><th>estimated_monetized_playbacks</th><th>estimated_revenue</th><th>average_cpm</th><th>average_rpm</th></tr></thead><tbody><tr><td>PRAIA DO FORNO EM ARRAIAL DO CABO - RJ</td><td>1</td><td>53</td><td>0.1740</td><td>5.35733333</td><td>3.03107692</td></tr><tr><td>Onde se HOSPEDAR na ORLA BARDOT | Roteiros de Charme em Búzios</td><td>2</td><td>838</td><td>3.3610</td><td>3.81028571</td><td>2.78550000</td></tr><tr><td>GRECO HOTEL EM BÚZIOS - RJ</td><td>3</td><td>638</td><td>2.1950</td><td>3.64785714</td><td>2.72892308</td></tr><tr><td>Não viaje para o PERU sem saber disso!</td><td>4</td><td>200</td><td>0.5210</td><td>3.55000000</td><td>2.34653846</td></tr><tr><td>FINAL DE SEMANA nas Montanhas Capixabas | Roteiro de 2 dias em Pedra Azul</td><td>5</td><td>566</td><td>1.0830</td><td>3.50018182</td><td>2.85727273</td></tr><tr><td>Como são os FAST FOODS peruanos | Mc Donald's e KFC em Cusco Peru</td><td>6</td><td>119</td><td>0.4750</td><td>3.34321429</td><td>2.87742857</td></tr><tr><td>QUECHUA HOTEL EM CUSCO NO PERU</td><td>7</td><td>331</td><td>0.9950</td><td>2.76744444</td><td>2.07100000</td></tr><tr><td>HOSPEDAGEM EM CONTAINER - CHALÉ CONTAINER SANTA TERESA - ES</td><td>8</td><td>237</td><td>0.3840</td><td>2.69416667</td><td>1.37750000</td></tr><tr><td>MORADA DOS DEUSES EM CUSCO NO PERU</td><td>9</td><td>163</td><td>0.3730</td><td>2.67244444</td><td>2.12040000</td></tr><tr><td>POUSADA SENTINELAS DO MAR EM ARRAIAL DO CABO - RJ</td><td>10</td><td>940</td><td>2.6980</td><td>2.66007143</td><td>2.28492857</td></tr></tbody></table></div>"
      ]
     },
     "metadata": {
      "application/vnd.databricks.v1+output": {
       "addedWidgets": {},
       "aggData": [],
       "aggError": "",
       "aggOverflow": false,
       "aggSchema": [],
       "aggSeriesLimitReached": false,
       "aggType": "",
       "arguments": {},
       "columnCustomDisplayInfos": {},
       "data": [
        [
         "PRAIA DO FORNO EM ARRAIAL DO CABO - RJ",
         1,
         53,
         "0.1740",
         "5.35733333",
         "3.03107692"
        ],
        [
         "Onde se HOSPEDAR na ORLA BARDOT | Roteiros de Charme em Búzios",
         2,
         838,
         "3.3610",
         "3.81028571",
         "2.78550000"
        ],
        [
         "GRECO HOTEL EM BÚZIOS - RJ",
         3,
         638,
         "2.1950",
         "3.64785714",
         "2.72892308"
        ],
        [
         "Não viaje para o PERU sem saber disso!",
         4,
         200,
         "0.5210",
         "3.55000000",
         "2.34653846"
        ],
        [
         "FINAL DE SEMANA nas Montanhas Capixabas | Roteiro de 2 dias em Pedra Azul",
         5,
         566,
         "1.0830",
         "3.50018182",
         "2.85727273"
        ],
        [
         "Como são os FAST FOODS peruanos | Mc Donald's e KFC em Cusco Peru",
         6,
         119,
         "0.4750",
         "3.34321429",
         "2.87742857"
        ],
        [
         "QUECHUA HOTEL EM CUSCO NO PERU",
         7,
         331,
         "0.9950",
         "2.76744444",
         "2.07100000"
        ],
        [
         "HOSPEDAGEM EM CONTAINER - CHALÉ CONTAINER SANTA TERESA - ES",
         8,
         237,
         "0.3840",
         "2.69416667",
         "1.37750000"
        ],
        [
         "MORADA DOS DEUSES EM CUSCO NO PERU",
         9,
         163,
         "0.3730",
         "2.67244444",
         "2.12040000"
        ],
        [
         "POUSADA SENTINELAS DO MAR EM ARRAIAL DO CABO - RJ",
         10,
         940,
         "2.6980",
         "2.66007143",
         "2.28492857"
        ]
       ],
       "datasetInfos": [],
       "dbfsResultPath": null,
       "isJsonSchema": true,
       "metadata": {},
       "overflow": false,
       "plotOptions": {
        "customPlotOptions": {},
        "displayType": "table",
        "pivotAggregation": null,
        "pivotColumns": null,
        "xColumns": null,
        "yColumns": null
       },
       "removedWidgets": [],
       "schema": [
        {
         "metadata": "{}",
         "name": "content_title",
         "type": "\"string\""
        },
        {
         "metadata": "{}",
         "name": "rank",
         "type": "\"integer\""
        },
        {
         "metadata": "{}",
         "name": "estimated_monetized_playbacks",
         "type": "\"long\""
        },
        {
         "metadata": "{}",
         "name": "estimated_revenue",
         "type": "\"decimal(21,4)\""
        },
        {
         "metadata": "{}",
         "name": "average_cpm",
         "type": "\"decimal(15,8)\""
        },
        {
         "metadata": "{}",
         "name": "average_rpm",
         "type": "\"decimal(15,8)\""
        }
       ],
       "type": "table"
      }
     },
     "output_type": "display_data"
    },
    {
     "output_type": "display_data",
     "data": {
      "text/plain": [
       "Databricks visualization. Run in Databricks to view."
      ]
     },
     "metadata": {
      "application/vnd.databricks.v1.subcommand+json": {
       "baseErrorDetails": null,
       "bindings": {},
       "collapsed": false,
       "command": "%sql WITH q AS (select\n*\nfrom (\n    select \n      con.content_title                                                                           as content_title\n    , dense_rank() over (order by avg(rev.cpm)  desc)                                             as rank      \n    , sum(rev.estimated_monetized_playbacks)                                                      as estimated_monetized_playbacks\n    , sum(rev.estimated_revenue)                                                                  as estimated_revenue\n    , avg(rev.cpm)                                                                                as average_cpm\n    , avg(rev.rpm)                                                                                as average_rpm \n    from datawarehouse.dw__revenue     as rev\n    inner join datawarehouse.dw__content  as con on (rev.content_sk = con.content_sk)\n    inner join datawarehouse.dw__calendar as cal on (rev.date_sk = cal.date_sk)\n    where 1=1\n    and con.content_type = 'video'\n    and rev.reference_date >= add_months(trunc(current_date(), 'month'), -13) \n    group by\n      con.content_title\n\n) aux\nwhere 1=1\nand aux.rank <=10\norder by\n  aux.rank \nlimit 15) SELECT `content_title`,SUM(`average_cpm`) `column_1dbdc407367` FROM q GROUP BY `content_title`",
       "commandTitle": "Top Videos + CPM Médio",
       "commandType": "auto",
       "commandVersion": 0,
       "commentThread": [],
       "commentsVisible": false,
       "contentSha256Hex": null,
       "customPlotOptions": {
        "redashChart": [
         {
          "key": "type",
          "value": "CHART"
         },
         {
          "key": "options",
          "value": {
           "alignYAxesAtZero": true,
           "coefficient": 1,
           "columnConfigurationMap": {
            "x": {
             "column": "content_title",
             "id": "column_1dbdc407365"
            },
            "y": [
             {
              "column": "average_cpm",
              "id": "column_1dbdc407367",
              "transform": "SUM"
             }
            ]
           },
           "dateTimeFormat": "DD/MM/YYYY HH:mm",
           "direction": {
            "type": "counterclockwise"
           },
           "error_y": {
            "type": "data",
            "visible": true
           },
           "globalSeriesType": "line",
           "hideYAxes": true,
           "isAggregationOn": true,
           "legend": {
            "traceorder": "normal"
           },
           "missingValuesAsZero": true,
           "numberFormat": "0,0.[0]",
           "percentFormat": "0[.]00%",
           "series": {
            "error_y": {
             "type": "data",
             "visible": true
            },
            "stacking": null
           },
           "seriesOptions": {
            "column_1dbdc407367": {
             "color": "#B554FF",
             "name": "CPM Médio",
             "type": "line",
             "yAxis": 0
            }
           },
           "showDataLabels": true,
           "sizemode": "diameter",
           "sortX": false,
           "sortY": true,
           "swappedAxes": true,
           "textFormat": "",
           "useAggregationsUi": true,
           "valuesOptions": {},
           "version": 2,
           "xAxis": {
            "labels": {
             "enabled": true
            },
            "title": {
             "text": " "
            },
            "type": "-"
           },
           "yAxis": [
            {
             "title": {
              "text": "CPM Médio"
             },
             "type": "-"
            },
            {
             "opposite": true,
             "type": "-"
            }
           ]
          }
         }
        ]
       },
       "datasetPreviewNameToCmdIdMap": {},
       "diffDeletes": [],
       "diffInserts": [],
       "displayType": "redashChart",
       "error": null,
       "errorDetails": null,
       "errorSummary": null,
       "errorTraceType": null,
       "finishTime": 0,
       "globalVars": {},
       "guid": "",
       "height": "auto",
       "hideCommandCode": false,
       "hideCommandResult": false,
       "iPythonMetadata": null,
       "inputWidgets": {},
       "isLockedInExamMode": false,
       "latestUser": "a user",
       "latestUserId": null,
       "listResultMetadata": null,
       "metadata": {},
       "nuid": "930194ab-69a3-4682-a507-1a715a833ca5",
       "origId": 0,
       "parentHierarchy": [],
       "pivotAggregation": null,
       "pivotColumns": null,
       "position": 5.957030296325684,
       "resultDbfsErrorMessage": null,
       "resultDbfsStatus": "INLINED_IN_TREE",
       "results": null,
       "showCommandTitle": false,
       "startTime": 0,
       "state": "input",
       "streamStates": {},
       "subcommandOptions": {
        "queryPlan": {
         "groups": [
          {
           "column": "content_title",
           "type": "column"
          }
         ],
         "selects": [
          {
           "column": "content_title",
           "type": "column"
          },
          {
           "alias": "column_1dbdc407367",
           "args": [
            {
             "column": "average_cpm",
             "type": "column"
            }
           ],
           "function": "SUM",
           "type": "function"
          }
         ]
        }
       },
       "submitTime": 0,
       "subtype": "tableResultSubCmd.visualization",
       "tableResultIndex": 0,
       "tableResultSettingsMap": {},
       "useConsistentColors": false,
       "version": "CommandV1",
       "width": "auto",
       "workflows": [],
       "xColumns": null,
       "yColumns": null
      }
     },
     "output_type": "display_data"
    }
   ],
   "source": [
    "%sql\n",
    "-- Top videos com maior CPM médio nos últimos 12 meses\n",
    "\n",
    "select\n",
    "*\n",
    "from (\n",
    "    select \n",
    "      con.content_title                                                                           as content_title\n",
    "    , dense_rank() over (order by avg(rev.cpm)  desc)                                             as rank      \n",
    "    , sum(rev.estimated_monetized_playbacks)                                                      as estimated_monetized_playbacks\n",
    "    , sum(rev.estimated_revenue)                                                                  as estimated_revenue\n",
    "    , avg(rev.cpm)                                                                                as average_cpm\n",
    "    , avg(rev.rpm)                                                                                as average_rpm \n",
    "    from datawarehouse.dw__revenue     as rev\n",
    "    inner join datawarehouse.dw__content  as con on (rev.content_sk = con.content_sk)\n",
    "    inner join datawarehouse.dw__calendar as cal on (rev.date_sk = cal.date_sk)\n",
    "    where 1=1\n",
    "    and con.content_type = 'video'\n",
    "    and rev.reference_date >= add_months(trunc(current_date(), 'month'), -13) -- últimos 12 meses fechados\n",
    "    group by\n",
    "      con.content_title\n",
    "\n",
    ") aux\n",
    "where 1=1\n",
    "and aux.rank <=10\n",
    "order by\n",
    "  aux.rank \n",
    "limit 15  \n",
    ";"
   ]
  },
  {
   "cell_type": "markdown",
   "metadata": {
    "application/vnd.databricks.v1+cell": {
     "cellMetadata": {
      "byteLimit": 2048000,
      "rowLimit": 10000
     },
     "inputWidgets": {},
     "nuid": "499b2228-8d4c-42a5-9e20-29fb318041ba",
     "showTitle": false,
     "tableResultSettingsMap": {},
     "title": ""
    }
   },
   "source": [
    "## 5.2 Shorts"
   ]
  },
  {
   "cell_type": "code",
   "execution_count": 0,
   "metadata": {
    "application/vnd.databricks.v1+cell": {
     "cellMetadata": {
      "byteLimit": 2048000,
      "implicitDf": true,
      "rowLimit": 10000
     },
     "inputWidgets": {},
     "nuid": "635431e0-1c57-41ee-a72b-e5ba354a1982",
     "showTitle": false,
     "tableResultSettingsMap": {},
     "title": ""
    }
   },
   "outputs": [
    {
     "output_type": "display_data",
     "data": {
      "text/html": [
       "<style scoped>\n",
       "  .ansiout {\n",
       "    display: block;\n",
       "    unicode-bidi: embed;\n",
       "    white-space: pre-wrap;\n",
       "    word-wrap: break-word;\n",
       "    word-break: break-all;\n",
       "    font-family: \"Menlo\", \"Monaco\", \"Consolas\", \"Ubuntu Mono\", \"Source Code Pro\", monospace;\n",
       "    font-size: 13px;\n",
       "    color: #555;\n",
       "    margin-left: 4px;\n",
       "    line-height: 19px;\n",
       "  }\n",
       "</style>"
      ]
     },
     "metadata": {
      "application/vnd.databricks.v1+output": {
       "arguments": {},
       "data": "",
       "errorSummary": "Command skipped",
       "errorTraceType": "html",
       "metadata": {},
       "type": "ipynbError"
      }
     },
     "output_type": "display_data"
    }
   ],
   "source": [
    "%sql\n",
    "-- Quantos inscritos foram ganhados a partir dos conteúdos de curta duração nos últimos 12 meses?\n",
    "-- Quantos inscritos foram perdidos a partir dos conteúdos de curta duração nos últimos 12 meses?\n",
    "-- Quantos compartilhamentos foram gerados a partir dos curta de longa duração nos últimos 12 meses?\n",
    "-- Quantos cards foram mostrados a partir dos conteúdos de curta duração nos últimos 12 meses?\n",
    "-- Quantos elementos em tela final foram exibidos a partir dos conteúdos de curta duração nos últimos 12 meses?\n",
    "select\n",
    "*\n",
    "from (\n",
    "    select \n",
    "      cal.short_year_and_month\n",
    "    , cal.year\n",
    "    , cal.month_number    \n",
    "    , sum(eng.gained_subscribers)           as gained_subscribers\n",
    "    , sum(eng.lost_subscribers)             as lost_subscribers\n",
    "    , sum(eng.shares)                       as shares\n",
    "    , sum(eng.shown_cards)                  as shown_cards\n",
    "    , sum(eng.end_screen_elements_shown)    as end_screen_elements_shown\n",
    "    , count(distinct eng.content_sk)        as content_count\n",
    "    from datawarehouse.dw__engagement     as eng\n",
    "    inner join datawarehouse.dw__content  as con on (eng.content_sk = con.content_sk)\n",
    "    inner join datawarehouse.dw__calendar as cal on (eng.date_sk = cal.date_sk)\n",
    "    where 1=1\n",
    "    and con.content_type = 'short'\n",
    "    and eng.reference_date >= add_months(trunc(current_date(), 'month'), -13) -- últimos 3 meses fechados\n",
    "    group by\n",
    "      cal.short_year_and_month\n",
    "    , cal.year\n",
    "    , cal.month_number \n",
    "\n",
    ") aux\n",
    "order by\n",
    "  aux.year\n",
    ", aux.month_number \n",
    ";"
   ]
  },
  {
   "cell_type": "code",
   "execution_count": 0,
   "metadata": {
    "application/vnd.databricks.v1+cell": {
     "cellMetadata": {
      "byteLimit": 2048000,
      "implicitDf": true,
      "rowLimit": 10000
     },
     "inputWidgets": {},
     "nuid": "ba82b87b-3720-4063-a92d-0127ebf75629",
     "showTitle": false,
     "tableResultSettingsMap": {},
     "title": ""
    }
   },
   "outputs": [
    {
     "output_type": "display_data",
     "data": {
      "text/html": [
       "<style scoped>\n",
       "  .ansiout {\n",
       "    display: block;\n",
       "    unicode-bidi: embed;\n",
       "    white-space: pre-wrap;\n",
       "    word-wrap: break-word;\n",
       "    word-break: break-all;\n",
       "    font-family: \"Menlo\", \"Monaco\", \"Consolas\", \"Ubuntu Mono\", \"Source Code Pro\", monospace;\n",
       "    font-size: 13px;\n",
       "    color: #555;\n",
       "    margin-left: 4px;\n",
       "    line-height: 19px;\n",
       "  }\n",
       "</style>"
      ]
     },
     "metadata": {
      "application/vnd.databricks.v1+output": {
       "arguments": {},
       "data": "",
       "errorSummary": "Command skipped",
       "errorTraceType": "html",
       "metadata": {},
       "type": "ipynbError"
      }
     },
     "output_type": "display_data"
    }
   ],
   "source": [
    "%sql\n",
    "-- Top videos de longa duração que geraram mais incritos nos últimos 12 meses\n",
    "\n",
    "\n",
    "select\n",
    "*\n",
    "from (\n",
    "    select \n",
    "      con.content_title                                                   as content_title\n",
    "    , dense_rank() over (order by sum(eng.gained_subscribers) desc)       as gained_subscribers_rank      \n",
    "    , sum(eng.gained_subscribers)                                         as gained_subscribers\n",
    "    , sum(eng.lost_subscribers)                                           as lost_subscribers\n",
    "    , sum(eng.shares)                                                     as shares\n",
    "    , sum(eng.shown_cards)                                                as shown_cards\n",
    "    , sum(eng.end_screen_elements_shown)                                  as end_screen_elements_shown\n",
    "    , count(distinct eng.content_sk)                                      as content_count\n",
    "    from datawarehouse.dw__engagement     as eng\n",
    "    inner join datawarehouse.dw__content  as con on (eng.content_sk = con.content_sk)\n",
    "    inner join datawarehouse.dw__calendar as cal on (eng.date_sk = cal.date_sk)\n",
    "    where 1=1\n",
    "    and con.content_type = 'short'\n",
    "    and eng.reference_date >= add_months(trunc(current_date(), 'month'), -13) -- últimos 3 meses fechados\n",
    "    group by\n",
    "      con.content_title\n",
    "\n",
    ") aux\n",
    "where 1=1\n",
    "and aux.gained_subscribers_rank <=10\n",
    "and aux.gained_subscribers > 0\n",
    "order by\n",
    "  aux.gained_subscribers_rank \n",
    "limit 15  \n",
    ";"
   ]
  },
  {
   "cell_type": "markdown",
   "metadata": {
    "application/vnd.databricks.v1+cell": {
     "cellMetadata": {
      "byteLimit": 2048000,
      "rowLimit": 10000
     },
     "inputWidgets": {},
     "nuid": "abb698ba-4fb6-4c53-859c-77a1df282a4a",
     "showTitle": false,
     "tableResultSettingsMap": {},
     "title": ""
    }
   },
   "source": [
    "## 5.2 Bidimensional\n"
   ]
  },
  {
   "cell_type": "code",
   "execution_count": 0,
   "metadata": {
    "application/vnd.databricks.v1+cell": {
     "cellMetadata": {
      "byteLimit": 2048000,
      "implicitDf": true,
      "rowLimit": 10000
     },
     "inputWidgets": {},
     "nuid": "c2be5525-415f-4e60-9302-7c5b56eb181b",
     "showTitle": false,
     "tableResultSettingsMap": {},
     "title": ""
    }
   },
   "outputs": [
    {
     "output_type": "display_data",
     "data": {
      "text/html": [
       "<style scoped>\n",
       "  .ansiout {\n",
       "    display: block;\n",
       "    unicode-bidi: embed;\n",
       "    white-space: pre-wrap;\n",
       "    word-wrap: break-word;\n",
       "    word-break: break-all;\n",
       "    font-family: \"Menlo\", \"Monaco\", \"Consolas\", \"Ubuntu Mono\", \"Source Code Pro\", monospace;\n",
       "    font-size: 13px;\n",
       "    color: #555;\n",
       "    margin-left: 4px;\n",
       "    line-height: 19px;\n",
       "  }\n",
       "</style>"
      ]
     },
     "metadata": {
      "application/vnd.databricks.v1+output": {
       "arguments": {},
       "data": "",
       "errorSummary": "Command skipped",
       "errorTraceType": "html",
       "metadata": {},
       "type": "ipynbError"
      }
     },
     "output_type": "display_data"
    }
   ],
   "source": [
    "%sql\n",
    "\n",
    "-- Quantos vídeos por tipo o canal Gastronomades possui atualmente?\n",
    "\n",
    "select \n",
    "  con.content_type\n",
    ", count(*) as content_count\n",
    "from datawarehouse.dw__content as con\n",
    "group by\n",
    "  con.content_type\n",
    "order by\n",
    "  con.content_type;\n",
    "\n"
   ]
  },
  {
   "cell_type": "code",
   "execution_count": 0,
   "metadata": {
    "application/vnd.databricks.v1+cell": {
     "cellMetadata": {
      "byteLimit": 2048000,
      "implicitDf": true,
      "rowLimit": 10000
     },
     "inputWidgets": {},
     "nuid": "3b7ec107-3626-4052-a786-fb045f6b8f58",
     "showTitle": false,
     "tableResultSettingsMap": {},
     "title": ""
    }
   },
   "outputs": [
    {
     "output_type": "display_data",
     "data": {
      "text/html": [
       "<style scoped>\n",
       "  .ansiout {\n",
       "    display: block;\n",
       "    unicode-bidi: embed;\n",
       "    white-space: pre-wrap;\n",
       "    word-wrap: break-word;\n",
       "    word-break: break-all;\n",
       "    font-family: \"Menlo\", \"Monaco\", \"Consolas\", \"Ubuntu Mono\", \"Source Code Pro\", monospace;\n",
       "    font-size: 13px;\n",
       "    color: #555;\n",
       "    margin-left: 4px;\n",
       "    line-height: 19px;\n",
       "  }\n",
       "</style>"
      ]
     },
     "metadata": {
      "application/vnd.databricks.v1+output": {
       "arguments": {},
       "data": "",
       "errorSummary": "Command skipped",
       "errorTraceType": "html",
       "metadata": {},
       "type": "ipynbError"
      }
     },
     "output_type": "display_data"
    }
   ],
   "source": [
    "%sql\n",
    "\n",
    "-- Quantos vídeos de longa duração foram publicados nos últimos 3 meses fechados + mês atual?\n",
    "\n",
    "\n",
    "select \n",
    "  aux.short_year_and_month\n",
    ", aux.content_count\n",
    "from (\n",
    "\n",
    "    select \n",
    "      cal.short_year_and_month\n",
    "    , cal.year\n",
    "    , cal.month_number    \n",
    "    , count(*) as content_count\n",
    "    from datawarehouse.dw__content as con\n",
    "    left join datawarehouse.dw__calendar as cal on (hash(con.content_publish_date) = cal.date_sk)\n",
    "    where 1=1\n",
    "    and con.content_type = 'video'\n",
    "    and con.content_publish_date >= add_months(trunc(current_date(), 'month'), -13) -- últimos 3 meses fechados\n",
    "    --and con.content_publish_date >= date_sub(current_date(), 90) -- últimos 90 dias \n",
    "    group by\n",
    "      cal.short_year_and_month\n",
    "    , cal.year\n",
    "    , cal.month_number    \n",
    "    order by\n",
    "      cal.year\n",
    "    , cal.month_number   \n",
    "\n",
    ") aux\n",
    "order by \n",
    "  aux.year\n",
    ", aux.month_number    \n",
    ";"
   ]
  },
  {
   "cell_type": "markdown",
   "metadata": {
    "application/vnd.databricks.v1+cell": {
     "cellMetadata": {
      "byteLimit": 2048000,
      "rowLimit": 10000
     },
     "inputWidgets": {},
     "nuid": "0f1397bd-fef3-43af-9074-c2d9e448f937",
     "showTitle": false,
     "tableResultSettingsMap": {},
     "title": ""
    }
   },
   "source": []
  },
  {
   "cell_type": "code",
   "execution_count": 0,
   "metadata": {
    "application/vnd.databricks.v1+cell": {
     "cellMetadata": {
      "byteLimit": 2048000,
      "implicitDf": true,
      "rowLimit": 10000
     },
     "inputWidgets": {},
     "nuid": "1fac654b-e933-4a98-a463-f07f5d9bddec",
     "showTitle": false,
     "tableResultSettingsMap": {},
     "title": ""
    }
   },
   "outputs": [
    {
     "output_type": "display_data",
     "data": {
      "text/html": [
       "<style scoped>\n",
       "  .ansiout {\n",
       "    display: block;\n",
       "    unicode-bidi: embed;\n",
       "    white-space: pre-wrap;\n",
       "    word-wrap: break-word;\n",
       "    word-break: break-all;\n",
       "    font-family: \"Menlo\", \"Monaco\", \"Consolas\", \"Ubuntu Mono\", \"Source Code Pro\", monospace;\n",
       "    font-size: 13px;\n",
       "    color: #555;\n",
       "    margin-left: 4px;\n",
       "    line-height: 19px;\n",
       "  }\n",
       "</style>"
      ]
     },
     "metadata": {
      "application/vnd.databricks.v1+output": {
       "arguments": {},
       "data": "",
       "errorSummary": "Command skipped",
       "errorTraceType": "html",
       "metadata": {},
       "type": "ipynbError"
      }
     },
     "output_type": "display_data"
    }
   ],
   "source": [
    "%sql\n",
    "\n",
    "-- Quantos vídeos por tipo foram publicados anualmente no canal?\n",
    "\n",
    "select \n",
    "  cal.year\n",
    ", con.content_type\n",
    ", count(*) as content_count\n",
    "from datawarehouse.dw__content as con\n",
    "left join datawarehouse.dw__calendar as cal on (hash(con.content_publish_date) = cal.date_sk)\n",
    "group by\n",
    "  cal.year\n",
    ", con.content_type\n",
    "order by\n",
    "  cal.year\n",
    ", con.content_type;\n"
   ]
  },
  {
   "cell_type": "markdown",
   "metadata": {
    "application/vnd.databricks.v1+cell": {
     "cellMetadata": {},
     "inputWidgets": {},
     "nuid": "1026c76e-d010-4693-9c19-b4e8f6bc865c",
     "showTitle": false,
     "tableResultSettingsMap": {},
     "title": ""
    }
   },
   "source": [
    "##### "
   ]
  },
  {
   "cell_type": "markdown",
   "metadata": {
    "application/vnd.databricks.v1+cell": {
     "cellMetadata": {
      "byteLimit": 2048000,
      "rowLimit": 10000
     },
     "inputWidgets": {},
     "nuid": "415fb709-1fc9-4aec-bf6d-0e8d4f6fcda6",
     "showTitle": false,
     "tableResultSettingsMap": {},
     "title": ""
    }
   },
   "source": [
    "# 6. Considerações finais\n",
    "\n",
    "Como mencionado inicialmente, o propósito deste MVP era realizar uma análise histórica dos dados do **Gastronomades**, um dos meus canais do YouTube, a fim de validar a efetividade de um conjunto de ações de melhoria que foram tomadas nos últimos meses, incluindo a exclusão do vídeo \"VISITAMOS A MENOR PRAIA DE NUDISMO DO BRASIL 😲\" ao final do mês de setembro de 2025.\n",
    "\n",
    "A análise histórica foi realizada segmentando os indicadores e métricas em três partes: \n",
    "\n",
    "- Engajamento\n",
    "- Alcance e visualização\n",
    "- Monetização e receita\n",
    "\n",
    "Constatou-se um crescimento espressivo em ambas as métricas no primeiro trimestre de 2025 quando comparado com os dados de 2024, ainda que eles apresentem flutuações naturais. Entendemos que tais flutuações são normais e esperadas para o contexto, uma vez que a procura por determinados assuntos no YouTube está diretamente associada a questão temporal, ou seja, alguns temas são mais procurados que outros em determinadas épocas do ano. \n",
    "\n",
    "Quando analisamos o comportamento individual dos vídeos de longa duração nos últimos 12 meses fechados no que diz respeito a métricas de **Engajamento**, destacam-se:\n",
    "\n",
    "- O melhor da GASTRONOMIA CURITIBANA | Onde COMER e BEBER em Curitiba (+)\n",
    "- VISITAMOS A MENOR PRAIA DE NUDISMO DO BRASIL 😲\n",
    "- Conheça as MONTANHAS de GUARAPARI | O MELHOR da Rota da Ferradura (+)\n",
    "- O que fazer em SANTA TERESA | O MELHOR do Circuito Caravaggio\n",
    "- O que fazer em Arraial do Cabo | Quadriciclo no CARIBE BRASILEIRO\n",
    "- ONDE comer em Cusco | Melhores restaurantes na PLAZA DE ARMAS\n",
    "- QUECCHUA HOTEL EM CUSCO NO PERU\n",
    "\n",
    "Ao olhar para as métricas de **Alcance e Visualização**, destacam-se:\n",
    "\n",
    "- O melhor da GASTRONOMIA CURITIBANA | Onde COMER e BEBER em Curitiba (++)\n",
    "- VISITAMOS A MENOR PRAIA DE NUDISMO DO BRASIL 😲 (++)\n",
    "- Roteiro de 3 dias em MARAGOGI no ALAGOAS | Caribe Brasileiro (+)\n",
    "- Conheça as MONTANHAS de GUARAPARI | O MELHOR da Rota da Ferradura \n",
    "\n",
    "Por fim, ao olhar para as métricas de **Monetização e Receita**, destacam-se:\n",
    "\n",
    "- VISITAMOS A MENOR PRAIA DE NUDISMO DO BRASIL 😲 (++)\n",
    "- Conheça as MONTANHAS de GUARAPARI | O MELHOR da Rota da Ferradura (+)\n",
    "- O melhor da GASTRONOMIA CURITIBANA | Onde COMER e BEBER em Curitiba (+)\n",
    "- Descubra MARECHAL FLORIANO | Um pedacinho da Europa no Espírito Santo\n",
    "- PRAIA DO FORNO EM ARRAIAL DO CABO - RJ\n",
    "\n",
    "\n",
    "Esses foram os vídeos que apareceram no TOP 3 de cada uma das métricas, com destaque para os vídeos com (+), que indicam que o vídeo apareceu duas vezes e (++), que indica que o vídeo apareceu no topo por três vezes. Se formos um pouco menos extremistas e analisarmos o TOP 5 vídeos ao invés do TOP 3, outros vídeos se destacam:\n",
    "\n",
    "- O que fazer em Milagres | O MELHOR da Rota Ecológica dos MILAGRES\n",
    "- O que fazer no Circuito Caravaggio | O MELHOR de Santa Teresa\n",
    "- O MELHOR de Parque de Trampolim de São Paulo | Impulso Park\n",
    "- O que fazer nas MONTANHAS CAPIXABAS | Roteiro de 2 dias em Pedra Azul\n",
    "- Como são os FAST FOODS peruanos | Mc Donald's e KFC em Cusco Peru\n",
    "\n",
    "\n",
    "Em resumo, este MVP nos mostrou que mesmo após quase 7 meses desde a retirada do vídeo \"VISITAMOS A MENOR PRAIA DE NUDISMO DO BRASIL 😲\", o canal ainda evidencia a presença do mesmo para as estatísticas, principalmente quando olhamos para Alcance e Monetização. No entanto, esta análise também nos mostrou que 4 dos 9 vídeos postados no canal a partir de Outubro/2024 também se destacaram positivamente nas estatísticas, que são: \n",
    "\n",
    "- O melhor da GASTRONOMIA CURITIBANA | Onde COMER e BEBER em Curitiba,\n",
    "- Roteiro de 3 dias em MARAGOGI no ALAGOAS | Caribe Brasileiro,\n",
    "- O que fazer em Milagres | O MELHOR da Rota Ecológica dos MILAGRES,\n",
    "- Descubra MARECHAL FLORIANO | Um pedacinho da Europa no Espírito Santo,\n",
    "\n",
    "com destaque para \"O melhor da GASTRONOMIA CURITIBANA | Onde COMER e BEBER em Curitiba\" que foi o vídeo que mais se destacou em praticamente todos os indicadores. Esta análise evidenciou que as ações de melhoria que estão sendo tomadas nos últimos meses estão tendo impacto positivo no canal Gastronomades.\n",
    "\n",
    "Montei um simples [dashboard](https://databricks-prod-cloudfront.cloud.databricks.com/public/4027ec902e239c93eaaa8714f173bcfc/3001044570059160/2364554997492555/8075076918395346/latest.html) para que seja possível analisar visualmente os principais indicadores contidos na análise estatística dos dados. Para acessá-lo, basta clicar no link."
   ]
  },
  {
   "cell_type": "markdown",
   "metadata": {
    "application/vnd.databricks.v1+cell": {
     "cellMetadata": {},
     "inputWidgets": {},
     "nuid": "80a8140f-4957-46f1-9b9d-39d64d91fada",
     "showTitle": false,
     "tableResultSettingsMap": {},
     "title": ""
    }
   },
   "source": [
    "## 6.1 Próximos passos\n",
    "\n",
    "Como próximos passos, além da ideia inicial que consumir os dados diretamente da API do YouTube, fica também a sugestão de continuar analisando os dados dos próximos meses de 2025, a fim de validar se o vídeo \"VISITAMOS A MENOR PRAIA DE NUDISMO DO BRASIL 😲\" vai continuar caindo do TOP VIDEOS de longa duração que mais se destacam no canal. \n",
    "\n",
    "Outra ação interessante é analisar individualmente os vídeos mais antigos do canal que também se destacaram para que possamos inferir sobre eventuais estratégias que foram aplicadas que ainda fazem com que estes vídeos se mantenham no topo mesmo depois de tanto tempo e com tão pouca produção quando comparados com os vídeos mais novos do canal."
   ]
  }
 ],
 "metadata": {
  "application/vnd.databricks.v1+notebook": {
   "computePreferences": null,
   "dashboards": [
    {
     "elements": [
      {
       "dashboardResultIndex": null,
       "elementNUID": "47d21d5a-531b-445d-9fb7-70b5d85fcdc9",
       "elementType": "command",
       "guid": "3a7c1c5d-d5b3-4b22-ade2-bf37a6201380",
       "options": {
        "autoScaleImg": false,
        "scale": 0,
        "showRunButton": true,
        "showTitle": true,
        "title": "Conteúdos de longa duração publicados nos últimos 12 meses",
        "titleAlign": "center"
       },
       "position": {
        "height": 8,
        "width": 24,
        "x": 0,
        "y": 7,
        "z": null
       },
       "resultIndex": null
      },
      {
       "dashboardResultIndex": null,
       "elementNUID": "f9ed3871-278f-4bbf-abc6-4750596ace00",
       "elementType": "command",
       "guid": "98cf7ecb-6aa0-47a1-b2e5-f44241b08705",
       "options": {
        "autoScaleImg": false,
        "scale": 0,
        "showTitle": true,
        "title": "Conteúdos por tipo",
        "titleAlign": "center"
       },
       "position": {
        "height": 7,
        "width": 12,
        "x": 12,
        "y": 0,
        "z": null
       },
       "resultIndex": null
      },
      {
       "dashboardResultIndex": null,
       "elementNUID": "25c41125-544a-4b8a-90e8-34f0d4ed7897",
       "elementType": "command",
       "guid": "aee80e74-3c4e-4126-bd47-f2946ad3024d",
       "options": {
        "autoScaleImg": false,
        "scale": 0,
        "showTitle": true,
        "title": "Histórico de conteúdos publicados",
        "titleAlign": "center"
       },
       "position": {
        "height": 7,
        "width": 12,
        "x": 0,
        "y": 0,
        "z": null
       },
       "resultIndex": null
      }
     ],
     "globalVars": {},
     "guid": "",
     "layoutOption": {
      "grid": true,
      "stack": true
     },
     "nuid": "b58bdd13-fd71-4112-a23a-0ddef69143b2",
     "origId": 1907790346361707,
     "title": "Dashboard MVP",
     "version": "DashboardViewV1",
     "width": 1024
    },
    {
     "elements": [
      {
       "dashboardResultIndex": null,
       "elementNUID": "33a8139d-cf78-4d97-8cb7-94e711204944",
       "elementType": "command",
       "guid": "01df0c92-a017-4f7b-b26f-828aa67be8b4",
       "options": {
        "autoScaleImg": false,
        "scale": 0,
        "showTitle": true,
        "title": "Top Videos + Receita Estimada (USD)",
        "titleAlign": "center"
       },
       "position": {
        "height": 6,
        "width": 12,
        "x": 12,
        "y": 55,
        "z": null
       },
       "resultIndex": null
      },
      {
       "dashboardResultIndex": null,
       "elementNUID": "e910c178-342e-4ed9-b04a-dc2a3a8c39bc",
       "elementType": "command",
       "guid": "02d3516a-cfc9-46b5-9624-a4bd43880968",
       "options": {
        "autoScaleImg": false,
        "scale": 0,
        "showTitle": true,
        "title": "Top Videos + Visualizações",
        "titleAlign": "center"
       },
       "position": {
        "height": 6,
        "width": 12,
        "x": 12,
        "y": 29,
        "z": null
       },
       "resultIndex": null
      },
      {
       "dashboardResultIndex": null,
       "elementNUID": "0acc7786-05dc-4e47-ba63-18ce2ef73c5f",
       "elementType": "command",
       "guid": "141aa377-80de-4f59-9c87-4b6c712fdf6c",
       "options": {
        "autoScaleImg": false,
        "scale": 0,
        "showTitle": true,
        "title": "Reproduções Monetizadas",
        "titleAlign": "center"
       },
       "position": {
        "height": 6,
        "width": 12,
        "x": 0,
        "y": 49,
        "z": null
       },
       "resultIndex": null
      },
      {
       "dashboardResultIndex": null,
       "elementNUID": "dbb4ff41-f5f0-4289-a15e-7090ed0cff12",
       "elementType": "command",
       "guid": "1de70fb8-0ec9-4837-a3cb-ccd2353dfef0",
       "options": {
        "autoScaleImg": false,
        "scale": 0,
        "showTitle": true,
        "title": "Impressões",
        "titleAlign": "center"
       },
       "position": {
        "height": 6,
        "width": 12,
        "x": 0,
        "y": 23,
        "z": null
       },
       "resultIndex": null
      },
      {
       "dashboardResultIndex": null,
       "elementNUID": "1d940de1-fbf3-4a5e-b19d-3eebf97095d9",
       "elementType": "command",
       "guid": "25d9ad15-5e83-45e0-9f2e-89e3d3e764db",
       "options": {
        "autoScaleImg": false,
        "scale": 0,
        "showTitle": true,
        "title": "Top Videos + Horas Visualização",
        "titleAlign": "center"
       },
       "position": {
        "height": 6,
        "width": 12,
        "x": 12,
        "y": 41,
        "z": null
       },
       "resultIndex": null
      },
      {
       "dashboardResultIndex": null,
       "elementNUID": "4115bbc0-c3d6-4864-9c71-36436bc499a2",
       "elementType": "command",
       "guid": "3780d3dc-db9f-42dc-a9cb-496f1cde02e0",
       "options": {
        "autoScaleImg": false,
        "scale": 0,
        "showTitle": true,
        "title": "Compartilhamentos",
        "titleAlign": "center"
       },
       "position": {
        "height": 6,
        "width": 12,
        "x": 0,
        "y": 9,
        "z": null
       },
       "resultIndex": null
      },
      {
       "dashboardResultIndex": null,
       "elementNUID": "a6e405bf-cd01-4362-98d5-1b6e533b2f34",
       "elementType": "command",
       "guid": "437af1bc-a669-479c-873d-1c155d0375e1",
       "options": {
        "autoScaleImg": false,
        "scale": 0,
        "showTitle": true,
        "title": "Cards mostrados",
        "titleAlign": "center"
       },
       "position": {
        "height": 6,
        "width": 12,
        "x": 0,
        "y": 15,
        "z": null
       },
       "resultIndex": null
      },
      {
       "dashboardResultIndex": null,
       "elementNUID": "6f84a397-1c9b-4612-9062-7019ac3a40a6",
       "elementType": "command",
       "guid": "4a52e7f7-5ffd-4fa2-9b63-04187ee24130",
       "options": {
        "autoScaleImg": false,
        "scale": 0,
        "showTitle": true,
        "title": "Top Videos + Cards mostrados",
        "titleAlign": "center"
       },
       "position": {
        "height": 6,
        "width": 12,
        "x": 12,
        "y": 15,
        "z": null
       },
       "resultIndex": null
      },
      {
       "dashboardResultIndex": null,
       "elementNUID": "fde514c0-2632-48d0-bd85-8cdc006d4d34",
       "elementType": "command",
       "guid": "4ca6d082-2376-4ac7-84bb-73bca9fa8983",
       "options": {
        "autoScaleImg": false,
        "scale": 0,
        "showTitle": true,
        "title": "Horas Visualização",
        "titleAlign": "center"
       },
       "position": {
        "height": 6,
        "width": 12,
        "x": 0,
        "y": 41,
        "z": null
       },
       "resultIndex": null
      },
      {
       "dashboardResultIndex": null,
       "elementNUID": "7ca2dfd7-d2f8-4a6b-8de1-4098ffa0ce58",
       "elementType": "command",
       "guid": "505303e5-b36a-4abc-a3cd-8db4b666d5cc",
       "options": null,
       "position": {
        "height": 2,
        "width": 24,
        "x": 0,
        "y": 21,
        "z": null
       },
       "resultIndex": null
      },
      {
       "dashboardResultIndex": null,
       "elementNUID": "eed05d52-e3fe-4db8-9a75-2816b9208558",
       "elementType": "command",
       "guid": "5167f9e4-e513-4c49-894b-04124370603e",
       "options": {
        "autoScaleImg": false,
        "scale": 0,
        "showTitle": true,
        "title": "Top Videos + Compartilhamentos",
        "titleAlign": "center"
       },
       "position": {
        "height": 6,
        "width": 12,
        "x": 12,
        "y": 9,
        "z": null
       },
       "resultIndex": null
      },
      {
       "dashboardResultIndex": null,
       "elementNUID": "f5cc09e4-7093-4434-a485-d9fa0d5abc15",
       "elementType": "command",
       "guid": "5ead68a2-004c-44fc-afd7-002219432c31",
       "options": {
        "autoScaleImg": false,
        "scale": -1,
        "showTitle": false,
        "titleAlign": "center"
       },
       "position": {
        "height": 2,
        "width": 24,
        "x": 0,
        "y": 0,
        "z": null
       },
       "resultIndex": null
      },
      {
       "dashboardResultIndex": null,
       "elementNUID": "da0421cc-064f-4178-bd2c-4bcf5b5ef450",
       "elementType": "command",
       "guid": "62e555e7-83ab-4158-89e0-f29ea7fad3af",
       "options": {
        "autoScaleImg": false,
        "scale": 0,
        "showTitle": true,
        "title": "Visualizações",
        "titleAlign": "center"
       },
       "position": {
        "height": 6,
        "width": 12,
        "x": 0,
        "y": 29,
        "z": null
       },
       "resultIndex": null
      },
      {
       "dashboardResultIndex": null,
       "elementNUID": "b594351e-d8e4-4aa6-9f11-70400c805497",
       "elementType": "command",
       "guid": "6a9966ed-a957-4534-bb2a-02205e1166d1",
       "options": {
        "autoScaleImg": false,
        "scale": 0,
        "showTitle": true,
        "title": "Receita Estimada (USD)",
        "titleAlign": "center"
       },
       "position": {
        "height": 6,
        "width": 12,
        "x": 0,
        "y": 55,
        "z": null
       },
       "resultIndex": null
      },
      {
       "dashboardResultIndex": null,
       "elementNUID": "930194ab-69a3-4682-a507-1a715a833ca5",
       "elementType": "command",
       "guid": "6abcd7d1-359d-4c57-8b47-4ec0fcdc032f",
       "options": {
        "autoScaleImg": false,
        "scale": 0,
        "showTitle": true,
        "title": "Top Videos + CPM Médio (USD)",
        "titleAlign": "center"
       },
       "position": {
        "height": 6,
        "width": 12,
        "x": 12,
        "y": 67,
        "z": null
       },
       "resultIndex": null
      },
      {
       "dashboardResultIndex": null,
       "elementNUID": "5ef227b4-3525-40e7-8d30-a0c0be1a51e0",
       "elementType": "command",
       "guid": "6e98906e-63a3-46f1-9a98-ed7bae508021",
       "options": {
        "autoScaleImg": false,
        "scale": 0,
        "showTitle": true,
        "title": "Taxa Visualização (%)",
        "titleAlign": "center"
       },
       "position": {
        "height": 6,
        "width": 12,
        "x": 0,
        "y": 35,
        "z": null
       },
       "resultIndex": null
      },
      {
       "dashboardResultIndex": null,
       "elementNUID": "f5714129-560b-4207-99f8-da045a0bebca",
       "elementType": "command",
       "guid": "709a20b6-7009-4967-8ce1-b3d6a690e022",
       "options": {
        "autoScaleImg": false,
        "scale": 0,
        "showTitle": true,
        "title": "Top Videos + Saldo Inscritos",
        "titleAlign": "center"
       },
       "position": {
        "height": 7,
        "width": 12,
        "x": 12,
        "y": 2,
        "z": null
       },
       "resultIndex": null
      },
      {
       "dashboardResultIndex": null,
       "elementNUID": "df074447-853b-419d-b2f9-b99594a3eb38",
       "elementType": "command",
       "guid": "89474d84-c890-49e3-9bda-e0c2a2c945be",
       "options": {
        "autoScaleImg": false,
        "scale": 0,
        "showTitle": true,
        "title": "Inscritos",
        "titleAlign": "center"
       },
       "position": {
        "height": 7,
        "width": 12,
        "x": 0,
        "y": 2,
        "z": null
       },
       "resultIndex": null
      },
      {
       "dashboardResultIndex": null,
       "elementNUID": "2dd81179-f20f-41c2-bd91-47b2885380f1",
       "elementType": "command",
       "guid": "8a64d511-d9e7-4130-9fb1-62f4b84d612a",
       "options": {
        "autoScaleImg": false,
        "scale": 0,
        "showTitle": true,
        "title": "Top Videos + Impressões",
        "titleAlign": "center"
       },
       "position": {
        "height": 6,
        "width": 12,
        "x": 12,
        "y": 23,
        "z": null
       },
       "resultIndex": null
      },
      {
       "dashboardResultIndex": null,
       "elementNUID": "fb81eac8-4fe1-4037-acb3-194c0763c540",
       "elementType": "command",
       "guid": "8bd44a35-8e2c-4627-b01e-371c3dcc8260",
       "options": {
        "autoScaleImg": false,
        "scale": 0,
        "showTitle": true,
        "title": "RPM Médio (USD)",
        "titleAlign": "center"
       },
       "position": {
        "height": 6,
        "width": 12,
        "x": 0,
        "y": 61,
        "z": null
       },
       "resultIndex": null
      },
      {
       "dashboardResultIndex": null,
       "elementNUID": "58869c8e-58c1-4604-bcda-d29064e0c837",
       "elementType": "command",
       "guid": "9367b4eb-ae8c-44ed-af9f-35a4cab453de",
       "options": {
        "autoScaleImg": false,
        "scale": 0,
        "showTitle": true,
        "title": "Top Videos + RPM Médio (USD)",
        "titleAlign": "center"
       },
       "position": {
        "height": 6,
        "width": 12,
        "x": 12,
        "y": 61,
        "z": null
       },
       "resultIndex": null
      },
      {
       "dashboardResultIndex": null,
       "elementNUID": "f0ee13d5-33ad-4f10-93f7-1d92e3deec62",
       "elementType": "command",
       "guid": "cdd36be6-67b7-4c94-8d16-64c0e0e0ef69",
       "options": {
        "autoScaleImg": false,
        "scale": 0,
        "showTitle": true,
        "title": "Top Videos + Taxa Visualização (%)",
        "titleAlign": "center"
       },
       "position": {
        "height": 6,
        "width": 12,
        "x": 12,
        "y": 35,
        "z": null
       },
       "resultIndex": null
      },
      {
       "dashboardResultIndex": null,
       "elementNUID": "874091b2-d4cb-4de3-9c51-a9e25f783e0a",
       "elementType": "command",
       "guid": "e19beeb7-e348-477f-b0b0-60337ae7a20f",
       "options": null,
       "position": {
        "height": 2,
        "width": 24,
        "x": 0,
        "y": 47,
        "z": null
       },
       "resultIndex": null
      },
      {
       "dashboardResultIndex": null,
       "elementNUID": "16cfc1c0-0cbd-4fd3-8e49-482aad12c777",
       "elementType": "command",
       "guid": "eaf7627d-750a-4cbb-bf95-a66818f5705e",
       "options": {
        "autoScaleImg": false,
        "scale": 0,
        "showTitle": true,
        "title": "CPM Médio (USD)",
        "titleAlign": "center"
       },
       "position": {
        "height": 6,
        "width": 12,
        "x": 0,
        "y": 67,
        "z": null
       },
       "resultIndex": null
      },
      {
       "dashboardResultIndex": null,
       "elementNUID": "4983513a-df3e-483b-8d54-fc1c04a7a479",
       "elementType": "command",
       "guid": "f94b8d3a-c470-4b46-80c9-bc706f05a73e",
       "options": {
        "autoScaleImg": false,
        "scale": 0,
        "showTitle": true,
        "title": "Top Videos + Reproduções Monetizadas",
        "titleAlign": "center"
       },
       "position": {
        "height": 6,
        "width": 12,
        "x": 12,
        "y": 49,
        "z": null
       },
       "resultIndex": null
      }
     ],
     "globalVars": {},
     "guid": "",
     "layoutOption": {
      "grid": true,
      "stack": true
     },
     "nuid": "fd6914b5-c8c9-4cc1-a0af-325008c9711d",
     "origId": 1907790346361736,
     "title": "Gastronomades | Main Videos",
     "version": "DashboardViewV1",
     "width": 1600
    }
   ],
   "environmentMetadata": {
    "base_environment": "",
    "environment_version": "1"
   },
   "inputWidgetPreferences": null,
   "language": "python",
   "notebookMetadata": {
    "mostRecentlyExecutedCommandWithImplicitDF": {
     "commandId": 1907790346361782,
     "dataframes": [
      "_sqldf"
     ]
    },
    "pythonIndentUnit": 4
   },
   "notebookName": "MVP PUC Rio | Sprint Engenharia de Dados",
   "widgets": {}
  }
 },
 "nbformat": 4,
 "nbformat_minor": 0
}